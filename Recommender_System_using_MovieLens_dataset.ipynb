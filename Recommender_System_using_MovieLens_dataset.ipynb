{
  "nbformat": 4,
  "nbformat_minor": 0,
  "metadata": {
    "colab": {
      "provenance": [],
      "include_colab_link": true
    },
    "kernelspec": {
      "name": "python3",
      "display_name": "Python 3"
    },
    "language_info": {
      "name": "python"
    },
    "accelerator": "GPU",
    "gpuClass": "standard"
  },
  "cells": [
    {
      "cell_type": "markdown",
      "metadata": {
        "id": "view-in-github",
        "colab_type": "text"
      },
      "source": [
        "<a href=\"https://colab.research.google.com/github/edofreeg/recommendation_systems/blob/main/Recommender_System_using_MovieLens_dataset.ipynb\" target=\"_parent\"><img src=\"https://colab.research.google.com/assets/colab-badge.svg\" alt=\"Open In Colab\"/></a>"
      ]
    },
    {
      "cell_type": "markdown",
      "source": [
        "# Import packages and dataset"
      ],
      "metadata": {
        "id": "tvf0Zvaw4OmE"
      }
    },
    {
      "cell_type": "code",
      "source": [
        "%%capture\n",
        "import torch\n",
        "\n",
        "def format_pytorch_version(version):\n",
        "  return version.split('+')[0]\n",
        "\n",
        "TORCH_version = torch.__version__\n",
        "TORCH = format_pytorch_version(TORCH_version)\n",
        "\n",
        "def format_cuda_version(version):\n",
        "  return 'cu' + version.replace('.', '')\n",
        "\n",
        "CUDA_version = torch.version.cuda\n",
        "CUDA = format_cuda_version(CUDA_version)\n",
        "\n",
        "!pip install torch-scatter     -f https://pytorch-geometric.com/whl/torch-{TORCH}+{CUDA}.html\n",
        "!pip install torch-sparse      -f https://pytorch-geometric.com/whl/torch-{TORCH}+{CUDA}.html\n",
        "!pip install torch-geometric \n",
        "!pip install sentence-transformers"
      ],
      "metadata": {
        "id": "ZQVJqFi3v-66"
      },
      "execution_count": null,
      "outputs": []
    },
    {
      "cell_type": "code",
      "source": [
        "import numpy as np\n",
        "import pylab as pl\n",
        "import matplotlib.pyplot as plt\n",
        "import pandas as pd\n",
        "from collections import Counter\n",
        "from operator import itemgetter\n",
        "from sklearn import metrics,preprocessing\n",
        "import operator\n",
        "\n",
        "import sentence_transformers\n",
        "from sentence_transformers import SentenceTransformer\n",
        "\n",
        "import torch_geometric\n",
        "import torch_geometric.data as dt\n",
        "from torch_geometric.data import HeteroData, download_url, extract_zip\n",
        "from torch_geometric.utils.convert import to_networkx\n",
        "import torch_geometric.utils as U\n",
        "import torch_geometric.transforms as T\n",
        "from torch_geometric.nn import SAGEConv, to_hetero, GATConv\n",
        "\n",
        "import torch.nn.functional as F\n",
        "\n",
        "device = torch.device('cuda' if torch.cuda.is_available() else 'cpu')"
      ],
      "metadata": {
        "id": "FZeR_8quvvD7"
      },
      "execution_count": null,
      "outputs": []
    },
    {
      "cell_type": "code",
      "source": [
        "%%capture\n",
        "# download the dataset from MovieLens database\n",
        "url = 'https://files.grouplens.org/datasets/movielens/ml-latest-small.zip'\n",
        "extract_zip(download_url(url, '.'), '.')\n",
        "\n",
        "movie_path = './ml-latest-small/movies.csv'\n",
        "rating_path = './ml-latest-small/ratings.csv'\n",
        "user_path = './ml-latest-small/users.csv'"
      ],
      "metadata": {
        "id": "v8qQmV3VBAUo"
      },
      "execution_count": null,
      "outputs": []
    },
    {
      "cell_type": "code",
      "source": [
        "# creating the two dataset \n",
        "ratings = pd.read_csv(rating_path)\n",
        "movies= pd.read_csv(movie_path)"
      ],
      "metadata": {
        "id": "i82hOC6S4fmO"
      },
      "execution_count": null,
      "outputs": []
    },
    {
      "cell_type": "markdown",
      "source": [
        "# Cleaning and processing data"
      ],
      "metadata": {
        "id": "XpCCdDGQ4WM3"
      }
    },
    {
      "cell_type": "code",
      "source": [
        "ratings=pd.merge(ratings,movies,on='movieId')\n",
        "ratings.drop('timestamp', axis=1, inplace=True)\n",
        "\n",
        "# filter the dataset setting the minimum rating and minimum number of rating per movie\n",
        "ratings = ratings[ratings['rating']>= 0.5]\n",
        "ratings = ratings[ratings.groupby(\"movieId\")['rating'].transform('size') > 20]\n",
        "ratings.rating=ratings.rating*2"
      ],
      "metadata": {
        "id": "qjx8rHWI5jhF"
      },
      "execution_count": null,
      "outputs": []
    },
    {
      "cell_type": "code",
      "source": [
        "# apply the filter through the movie dataframe\n",
        "movies=movies[movies.movieId.isin(ratings.movieId)]"
      ],
      "metadata": {
        "id": "e4kmmJBKm-Ac"
      },
      "execution_count": null,
      "outputs": []
    },
    {
      "cell_type": "code",
      "source": [
        "# encoding userId and movieId\n",
        "movie_mapping = {idx: i for i, idx in enumerate(movies['movieId'].unique())} \n",
        "user_mapping = {idx: i for i, idx in enumerate(ratings['userId'].unique())}\n",
        "ratings.replace({'userId': user_mapping},inplace=True)\n",
        "ratings.replace({'movieId': movie_mapping},inplace=True)\n",
        "movies.replace({'movieId': movie_mapping},inplace=True)\n",
        "movies.reset_index( inplace=True)\n",
        "movies.drop('index', axis=1, inplace=True)\n",
        "ratings.drop('genres', axis=1, inplace=True)"
      ],
      "metadata": {
        "id": "Pg9nMp3h4fo1"
      },
      "execution_count": null,
      "outputs": []
    },
    {
      "cell_type": "code",
      "source": [
        "ratings.head()"
      ],
      "metadata": {
        "colab": {
          "base_uri": "https://localhost:8080/",
          "height": 206
        },
        "id": "9eMA-BUbH0dS",
        "outputId": "88616780-3d79-4637-b963-ae2cd76ce79d"
      },
      "execution_count": null,
      "outputs": [
        {
          "output_type": "execute_result",
          "data": {
            "text/plain": [
              "   userId  movieId  rating             title\n",
              "0       0        0     8.0  Toy Story (1995)\n",
              "1       1        0     8.0  Toy Story (1995)\n",
              "2       2        0     9.0  Toy Story (1995)\n",
              "3       3        0     5.0  Toy Story (1995)\n",
              "4       4        0     9.0  Toy Story (1995)"
            ],
            "text/html": [
              "\n",
              "  <div id=\"df-1ea0e5bd-80f0-4270-844c-659ea57372d2\">\n",
              "    <div class=\"colab-df-container\">\n",
              "      <div>\n",
              "<style scoped>\n",
              "    .dataframe tbody tr th:only-of-type {\n",
              "        vertical-align: middle;\n",
              "    }\n",
              "\n",
              "    .dataframe tbody tr th {\n",
              "        vertical-align: top;\n",
              "    }\n",
              "\n",
              "    .dataframe thead th {\n",
              "        text-align: right;\n",
              "    }\n",
              "</style>\n",
              "<table border=\"1\" class=\"dataframe\">\n",
              "  <thead>\n",
              "    <tr style=\"text-align: right;\">\n",
              "      <th></th>\n",
              "      <th>userId</th>\n",
              "      <th>movieId</th>\n",
              "      <th>rating</th>\n",
              "      <th>title</th>\n",
              "    </tr>\n",
              "  </thead>\n",
              "  <tbody>\n",
              "    <tr>\n",
              "      <th>0</th>\n",
              "      <td>0</td>\n",
              "      <td>0</td>\n",
              "      <td>8.0</td>\n",
              "      <td>Toy Story (1995)</td>\n",
              "    </tr>\n",
              "    <tr>\n",
              "      <th>1</th>\n",
              "      <td>1</td>\n",
              "      <td>0</td>\n",
              "      <td>8.0</td>\n",
              "      <td>Toy Story (1995)</td>\n",
              "    </tr>\n",
              "    <tr>\n",
              "      <th>2</th>\n",
              "      <td>2</td>\n",
              "      <td>0</td>\n",
              "      <td>9.0</td>\n",
              "      <td>Toy Story (1995)</td>\n",
              "    </tr>\n",
              "    <tr>\n",
              "      <th>3</th>\n",
              "      <td>3</td>\n",
              "      <td>0</td>\n",
              "      <td>5.0</td>\n",
              "      <td>Toy Story (1995)</td>\n",
              "    </tr>\n",
              "    <tr>\n",
              "      <th>4</th>\n",
              "      <td>4</td>\n",
              "      <td>0</td>\n",
              "      <td>9.0</td>\n",
              "      <td>Toy Story (1995)</td>\n",
              "    </tr>\n",
              "  </tbody>\n",
              "</table>\n",
              "</div>\n",
              "      <button class=\"colab-df-convert\" onclick=\"convertToInteractive('df-1ea0e5bd-80f0-4270-844c-659ea57372d2')\"\n",
              "              title=\"Convert this dataframe to an interactive table.\"\n",
              "              style=\"display:none;\">\n",
              "        \n",
              "  <svg xmlns=\"http://www.w3.org/2000/svg\" height=\"24px\"viewBox=\"0 0 24 24\"\n",
              "       width=\"24px\">\n",
              "    <path d=\"M0 0h24v24H0V0z\" fill=\"none\"/>\n",
              "    <path d=\"M18.56 5.44l.94 2.06.94-2.06 2.06-.94-2.06-.94-.94-2.06-.94 2.06-2.06.94zm-11 1L8.5 8.5l.94-2.06 2.06-.94-2.06-.94L8.5 2.5l-.94 2.06-2.06.94zm10 10l.94 2.06.94-2.06 2.06-.94-2.06-.94-.94-2.06-.94 2.06-2.06.94z\"/><path d=\"M17.41 7.96l-1.37-1.37c-.4-.4-.92-.59-1.43-.59-.52 0-1.04.2-1.43.59L10.3 9.45l-7.72 7.72c-.78.78-.78 2.05 0 2.83L4 21.41c.39.39.9.59 1.41.59.51 0 1.02-.2 1.41-.59l7.78-7.78 2.81-2.81c.8-.78.8-2.07 0-2.86zM5.41 20L4 18.59l7.72-7.72 1.47 1.35L5.41 20z\"/>\n",
              "  </svg>\n",
              "      </button>\n",
              "      \n",
              "  <style>\n",
              "    .colab-df-container {\n",
              "      display:flex;\n",
              "      flex-wrap:wrap;\n",
              "      gap: 12px;\n",
              "    }\n",
              "\n",
              "    .colab-df-convert {\n",
              "      background-color: #E8F0FE;\n",
              "      border: none;\n",
              "      border-radius: 50%;\n",
              "      cursor: pointer;\n",
              "      display: none;\n",
              "      fill: #1967D2;\n",
              "      height: 32px;\n",
              "      padding: 0 0 0 0;\n",
              "      width: 32px;\n",
              "    }\n",
              "\n",
              "    .colab-df-convert:hover {\n",
              "      background-color: #E2EBFA;\n",
              "      box-shadow: 0px 1px 2px rgba(60, 64, 67, 0.3), 0px 1px 3px 1px rgba(60, 64, 67, 0.15);\n",
              "      fill: #174EA6;\n",
              "    }\n",
              "\n",
              "    [theme=dark] .colab-df-convert {\n",
              "      background-color: #3B4455;\n",
              "      fill: #D2E3FC;\n",
              "    }\n",
              "\n",
              "    [theme=dark] .colab-df-convert:hover {\n",
              "      background-color: #434B5C;\n",
              "      box-shadow: 0px 1px 3px 1px rgba(0, 0, 0, 0.15);\n",
              "      filter: drop-shadow(0px 1px 2px rgba(0, 0, 0, 0.3));\n",
              "      fill: #FFFFFF;\n",
              "    }\n",
              "  </style>\n",
              "\n",
              "      <script>\n",
              "        const buttonEl =\n",
              "          document.querySelector('#df-1ea0e5bd-80f0-4270-844c-659ea57372d2 button.colab-df-convert');\n",
              "        buttonEl.style.display =\n",
              "          google.colab.kernel.accessAllowed ? 'block' : 'none';\n",
              "\n",
              "        async function convertToInteractive(key) {\n",
              "          const element = document.querySelector('#df-1ea0e5bd-80f0-4270-844c-659ea57372d2');\n",
              "          const dataTable =\n",
              "            await google.colab.kernel.invokeFunction('convertToInteractive',\n",
              "                                                     [key], {});\n",
              "          if (!dataTable) return;\n",
              "\n",
              "          const docLinkHtml = 'Like what you see? Visit the ' +\n",
              "            '<a target=\"_blank\" href=https://colab.research.google.com/notebooks/data_table.ipynb>data table notebook</a>'\n",
              "            + ' to learn more about interactive tables.';\n",
              "          element.innerHTML = '';\n",
              "          dataTable['output_type'] = 'display_data';\n",
              "          await google.colab.output.renderOutput(dataTable, element);\n",
              "          const docLink = document.createElement('div');\n",
              "          docLink.innerHTML = docLinkHtml;\n",
              "          element.appendChild(docLink);\n",
              "        }\n",
              "      </script>\n",
              "    </div>\n",
              "  </div>\n",
              "  "
            ]
          },
          "metadata": {},
          "execution_count": 8
        }
      ]
    },
    {
      "cell_type": "code",
      "source": [
        "movies.head()"
      ],
      "metadata": {
        "colab": {
          "base_uri": "https://localhost:8080/",
          "height": 206
        },
        "id": "Cqp9vOe1IEsx",
        "outputId": "c87f3c26-a0c2-440e-fad3-958f63d3cd67"
      },
      "execution_count": null,
      "outputs": [
        {
          "output_type": "execute_result",
          "data": {
            "text/plain": [
              "   movieId                               title  \\\n",
              "0        0                    Toy Story (1995)   \n",
              "1        1                      Jumanji (1995)   \n",
              "2        2             Grumpier Old Men (1995)   \n",
              "3        3  Father of the Bride Part II (1995)   \n",
              "4        4                         Heat (1995)   \n",
              "\n",
              "                                        genres  \n",
              "0  Adventure|Animation|Children|Comedy|Fantasy  \n",
              "1                   Adventure|Children|Fantasy  \n",
              "2                               Comedy|Romance  \n",
              "3                                       Comedy  \n",
              "4                        Action|Crime|Thriller  "
            ],
            "text/html": [
              "\n",
              "  <div id=\"df-3827d34d-8523-44ba-875b-dec9f524a222\">\n",
              "    <div class=\"colab-df-container\">\n",
              "      <div>\n",
              "<style scoped>\n",
              "    .dataframe tbody tr th:only-of-type {\n",
              "        vertical-align: middle;\n",
              "    }\n",
              "\n",
              "    .dataframe tbody tr th {\n",
              "        vertical-align: top;\n",
              "    }\n",
              "\n",
              "    .dataframe thead th {\n",
              "        text-align: right;\n",
              "    }\n",
              "</style>\n",
              "<table border=\"1\" class=\"dataframe\">\n",
              "  <thead>\n",
              "    <tr style=\"text-align: right;\">\n",
              "      <th></th>\n",
              "      <th>movieId</th>\n",
              "      <th>title</th>\n",
              "      <th>genres</th>\n",
              "    </tr>\n",
              "  </thead>\n",
              "  <tbody>\n",
              "    <tr>\n",
              "      <th>0</th>\n",
              "      <td>0</td>\n",
              "      <td>Toy Story (1995)</td>\n",
              "      <td>Adventure|Animation|Children|Comedy|Fantasy</td>\n",
              "    </tr>\n",
              "    <tr>\n",
              "      <th>1</th>\n",
              "      <td>1</td>\n",
              "      <td>Jumanji (1995)</td>\n",
              "      <td>Adventure|Children|Fantasy</td>\n",
              "    </tr>\n",
              "    <tr>\n",
              "      <th>2</th>\n",
              "      <td>2</td>\n",
              "      <td>Grumpier Old Men (1995)</td>\n",
              "      <td>Comedy|Romance</td>\n",
              "    </tr>\n",
              "    <tr>\n",
              "      <th>3</th>\n",
              "      <td>3</td>\n",
              "      <td>Father of the Bride Part II (1995)</td>\n",
              "      <td>Comedy</td>\n",
              "    </tr>\n",
              "    <tr>\n",
              "      <th>4</th>\n",
              "      <td>4</td>\n",
              "      <td>Heat (1995)</td>\n",
              "      <td>Action|Crime|Thriller</td>\n",
              "    </tr>\n",
              "  </tbody>\n",
              "</table>\n",
              "</div>\n",
              "      <button class=\"colab-df-convert\" onclick=\"convertToInteractive('df-3827d34d-8523-44ba-875b-dec9f524a222')\"\n",
              "              title=\"Convert this dataframe to an interactive table.\"\n",
              "              style=\"display:none;\">\n",
              "        \n",
              "  <svg xmlns=\"http://www.w3.org/2000/svg\" height=\"24px\"viewBox=\"0 0 24 24\"\n",
              "       width=\"24px\">\n",
              "    <path d=\"M0 0h24v24H0V0z\" fill=\"none\"/>\n",
              "    <path d=\"M18.56 5.44l.94 2.06.94-2.06 2.06-.94-2.06-.94-.94-2.06-.94 2.06-2.06.94zm-11 1L8.5 8.5l.94-2.06 2.06-.94-2.06-.94L8.5 2.5l-.94 2.06-2.06.94zm10 10l.94 2.06.94-2.06 2.06-.94-2.06-.94-.94-2.06-.94 2.06-2.06.94z\"/><path d=\"M17.41 7.96l-1.37-1.37c-.4-.4-.92-.59-1.43-.59-.52 0-1.04.2-1.43.59L10.3 9.45l-7.72 7.72c-.78.78-.78 2.05 0 2.83L4 21.41c.39.39.9.59 1.41.59.51 0 1.02-.2 1.41-.59l7.78-7.78 2.81-2.81c.8-.78.8-2.07 0-2.86zM5.41 20L4 18.59l7.72-7.72 1.47 1.35L5.41 20z\"/>\n",
              "  </svg>\n",
              "      </button>\n",
              "      \n",
              "  <style>\n",
              "    .colab-df-container {\n",
              "      display:flex;\n",
              "      flex-wrap:wrap;\n",
              "      gap: 12px;\n",
              "    }\n",
              "\n",
              "    .colab-df-convert {\n",
              "      background-color: #E8F0FE;\n",
              "      border: none;\n",
              "      border-radius: 50%;\n",
              "      cursor: pointer;\n",
              "      display: none;\n",
              "      fill: #1967D2;\n",
              "      height: 32px;\n",
              "      padding: 0 0 0 0;\n",
              "      width: 32px;\n",
              "    }\n",
              "\n",
              "    .colab-df-convert:hover {\n",
              "      background-color: #E2EBFA;\n",
              "      box-shadow: 0px 1px 2px rgba(60, 64, 67, 0.3), 0px 1px 3px 1px rgba(60, 64, 67, 0.15);\n",
              "      fill: #174EA6;\n",
              "    }\n",
              "\n",
              "    [theme=dark] .colab-df-convert {\n",
              "      background-color: #3B4455;\n",
              "      fill: #D2E3FC;\n",
              "    }\n",
              "\n",
              "    [theme=dark] .colab-df-convert:hover {\n",
              "      background-color: #434B5C;\n",
              "      box-shadow: 0px 1px 3px 1px rgba(0, 0, 0, 0.15);\n",
              "      filter: drop-shadow(0px 1px 2px rgba(0, 0, 0, 0.3));\n",
              "      fill: #FFFFFF;\n",
              "    }\n",
              "  </style>\n",
              "\n",
              "      <script>\n",
              "        const buttonEl =\n",
              "          document.querySelector('#df-3827d34d-8523-44ba-875b-dec9f524a222 button.colab-df-convert');\n",
              "        buttonEl.style.display =\n",
              "          google.colab.kernel.accessAllowed ? 'block' : 'none';\n",
              "\n",
              "        async function convertToInteractive(key) {\n",
              "          const element = document.querySelector('#df-3827d34d-8523-44ba-875b-dec9f524a222');\n",
              "          const dataTable =\n",
              "            await google.colab.kernel.invokeFunction('convertToInteractive',\n",
              "                                                     [key], {});\n",
              "          if (!dataTable) return;\n",
              "\n",
              "          const docLinkHtml = 'Like what you see? Visit the ' +\n",
              "            '<a target=\"_blank\" href=https://colab.research.google.com/notebooks/data_table.ipynb>data table notebook</a>'\n",
              "            + ' to learn more about interactive tables.';\n",
              "          element.innerHTML = '';\n",
              "          dataTable['output_type'] = 'display_data';\n",
              "          await google.colab.output.renderOutput(dataTable, element);\n",
              "          const docLink = document.createElement('div');\n",
              "          docLink.innerHTML = docLinkHtml;\n",
              "          element.appendChild(docLink);\n",
              "        }\n",
              "      </script>\n",
              "    </div>\n",
              "  </div>\n",
              "  "
            ]
          },
          "metadata": {},
          "execution_count": 9
        }
      ]
    },
    {
      "cell_type": "markdown",
      "source": [
        "# Exploratory Data Analysis"
      ],
      "metadata": {
        "id": "wZKdHjje4go-"
      }
    },
    {
      "cell_type": "code",
      "source": [
        "# create the utility matrix \n",
        "interaction_matrix = ratings.pivot_table(index='userId',columns='title',values='rating',fill_value=0)"
      ],
      "metadata": {
        "id": "UJm7KaB7ZPUt"
      },
      "execution_count": null,
      "outputs": []
    },
    {
      "cell_type": "code",
      "source": [
        "# spacity of interaction matrix\n",
        "sparcity = 1-(len(ratings.rating)/(np.shape(interaction_matrix)[0]*np.shape(interaction_matrix)[1]))\n",
        "print(f'The spacity of interaction matrix is {round(sparcity*100,2)}%')"
      ],
      "metadata": {
        "colab": {
          "base_uri": "https://localhost:8080/"
        },
        "id": "9WM8sedNvSVn",
        "outputId": "6b37abcf-bb98-49a6-febe-ecc5986c56ce"
      },
      "execution_count": null,
      "outputs": [
        {
          "output_type": "stream",
          "name": "stdout",
          "text": [
            "The spacity of interaction matrix is 91.15%\n"
          ]
        }
      ]
    },
    {
      "cell_type": "code",
      "source": [
        "# Number of users\n",
        "print('The ratings dataset has', ratings['userId'].nunique(), 'unique users')\n",
        "# Number of movies\n",
        "print('The ratings dataset has', ratings['movieId'].nunique(), 'unique movies')\n",
        "# Number of ratings\n",
        "print('The ratings dataset has', ratings['rating'].nunique(), 'unique ratings')\n",
        "# List of unique ratings\n",
        "print('The unique ratings are', sorted(ratings['rating'].unique()))\n"
      ],
      "metadata": {
        "id": "0nc1Xmd8MZKV",
        "colab": {
          "base_uri": "https://localhost:8080/"
        },
        "outputId": "15cb0cf9-9dec-4f85-bc6d-1f9fdbc76207"
      },
      "execution_count": null,
      "outputs": [
        {
          "output_type": "stream",
          "name": "stdout",
          "text": [
            "The ratings dataset has 610 unique users\n",
            "The ratings dataset has 1235 unique movies\n",
            "The ratings dataset has 10 unique ratings\n",
            "The unique ratings are [1.0, 2.0, 3.0, 4.0, 5.0, 6.0, 7.0, 8.0, 9.0, 10.0]\n"
          ]
        }
      ]
    },
    {
      "cell_type": "markdown",
      "source": [
        "## Movies's statistic"
      ],
      "metadata": {
        "id": "u4drZRSh_cvn"
      }
    },
    {
      "cell_type": "code",
      "source": [
        "# Aggregate mean rating and number of reviews by movie\n",
        "agg_movie_ratings = ratings.groupby('title').agg(mean_rating = ('rating', 'mean'), number_of_ratings = ('rating', 'count')).reset_index()                                              "
      ],
      "metadata": {
        "id": "qrDimMfF4qAv"
      },
      "execution_count": null,
      "outputs": []
    },
    {
      "cell_type": "code",
      "source": [
        "# Top movies by average rating\n",
        "agg_movie_ratings.sort_values(by='mean_rating', ascending=False).head(10)"
      ],
      "metadata": {
        "colab": {
          "base_uri": "https://localhost:8080/",
          "height": 363
        },
        "id": "-Ktk-jguxI8v",
        "outputId": "2665934f-760e-49ee-8b15-7fc7209599bc"
      },
      "execution_count": null,
      "outputs": [
        {
          "output_type": "execute_result",
          "data": {
            "text/plain": [
              "                                              title  mean_rating  \\\n",
              "961                Shawshank Redemption, The (1994)     8.858044   \n",
              "1051  Sunset Blvd. (a.k.a. Sunset Boulevard) (1950)     8.666667   \n",
              "821                  Philadelphia Story, The (1940)     8.620690   \n",
              "624                       Lawrence of Arabia (1962)     8.600000   \n",
              "548                In the Name of the Father (1993)     8.600000   \n",
              "520                              Hoop Dreams (1994)     8.586207   \n",
              "447                           Godfather, The (1972)     8.578125   \n",
              "488                         Harold and Maude (1971)     8.576923   \n",
              "654                                    Logan (2017)     8.560000   \n",
              "389                               Fight Club (1999)     8.545872   \n",
              "\n",
              "      number_of_ratings  \n",
              "961                 317  \n",
              "1051                 27  \n",
              "821                  29  \n",
              "624                  45  \n",
              "548                  25  \n",
              "520                  29  \n",
              "447                 192  \n",
              "488                  26  \n",
              "654                  25  \n",
              "389                 218  "
            ],
            "text/html": [
              "\n",
              "  <div id=\"df-d665555f-a6c7-468b-a85a-c11bc300a41f\">\n",
              "    <div class=\"colab-df-container\">\n",
              "      <div>\n",
              "<style scoped>\n",
              "    .dataframe tbody tr th:only-of-type {\n",
              "        vertical-align: middle;\n",
              "    }\n",
              "\n",
              "    .dataframe tbody tr th {\n",
              "        vertical-align: top;\n",
              "    }\n",
              "\n",
              "    .dataframe thead th {\n",
              "        text-align: right;\n",
              "    }\n",
              "</style>\n",
              "<table border=\"1\" class=\"dataframe\">\n",
              "  <thead>\n",
              "    <tr style=\"text-align: right;\">\n",
              "      <th></th>\n",
              "      <th>title</th>\n",
              "      <th>mean_rating</th>\n",
              "      <th>number_of_ratings</th>\n",
              "    </tr>\n",
              "  </thead>\n",
              "  <tbody>\n",
              "    <tr>\n",
              "      <th>961</th>\n",
              "      <td>Shawshank Redemption, The (1994)</td>\n",
              "      <td>8.858044</td>\n",
              "      <td>317</td>\n",
              "    </tr>\n",
              "    <tr>\n",
              "      <th>1051</th>\n",
              "      <td>Sunset Blvd. (a.k.a. Sunset Boulevard) (1950)</td>\n",
              "      <td>8.666667</td>\n",
              "      <td>27</td>\n",
              "    </tr>\n",
              "    <tr>\n",
              "      <th>821</th>\n",
              "      <td>Philadelphia Story, The (1940)</td>\n",
              "      <td>8.620690</td>\n",
              "      <td>29</td>\n",
              "    </tr>\n",
              "    <tr>\n",
              "      <th>624</th>\n",
              "      <td>Lawrence of Arabia (1962)</td>\n",
              "      <td>8.600000</td>\n",
              "      <td>45</td>\n",
              "    </tr>\n",
              "    <tr>\n",
              "      <th>548</th>\n",
              "      <td>In the Name of the Father (1993)</td>\n",
              "      <td>8.600000</td>\n",
              "      <td>25</td>\n",
              "    </tr>\n",
              "    <tr>\n",
              "      <th>520</th>\n",
              "      <td>Hoop Dreams (1994)</td>\n",
              "      <td>8.586207</td>\n",
              "      <td>29</td>\n",
              "    </tr>\n",
              "    <tr>\n",
              "      <th>447</th>\n",
              "      <td>Godfather, The (1972)</td>\n",
              "      <td>8.578125</td>\n",
              "      <td>192</td>\n",
              "    </tr>\n",
              "    <tr>\n",
              "      <th>488</th>\n",
              "      <td>Harold and Maude (1971)</td>\n",
              "      <td>8.576923</td>\n",
              "      <td>26</td>\n",
              "    </tr>\n",
              "    <tr>\n",
              "      <th>654</th>\n",
              "      <td>Logan (2017)</td>\n",
              "      <td>8.560000</td>\n",
              "      <td>25</td>\n",
              "    </tr>\n",
              "    <tr>\n",
              "      <th>389</th>\n",
              "      <td>Fight Club (1999)</td>\n",
              "      <td>8.545872</td>\n",
              "      <td>218</td>\n",
              "    </tr>\n",
              "  </tbody>\n",
              "</table>\n",
              "</div>\n",
              "      <button class=\"colab-df-convert\" onclick=\"convertToInteractive('df-d665555f-a6c7-468b-a85a-c11bc300a41f')\"\n",
              "              title=\"Convert this dataframe to an interactive table.\"\n",
              "              style=\"display:none;\">\n",
              "        \n",
              "  <svg xmlns=\"http://www.w3.org/2000/svg\" height=\"24px\"viewBox=\"0 0 24 24\"\n",
              "       width=\"24px\">\n",
              "    <path d=\"M0 0h24v24H0V0z\" fill=\"none\"/>\n",
              "    <path d=\"M18.56 5.44l.94 2.06.94-2.06 2.06-.94-2.06-.94-.94-2.06-.94 2.06-2.06.94zm-11 1L8.5 8.5l.94-2.06 2.06-.94-2.06-.94L8.5 2.5l-.94 2.06-2.06.94zm10 10l.94 2.06.94-2.06 2.06-.94-2.06-.94-.94-2.06-.94 2.06-2.06.94z\"/><path d=\"M17.41 7.96l-1.37-1.37c-.4-.4-.92-.59-1.43-.59-.52 0-1.04.2-1.43.59L10.3 9.45l-7.72 7.72c-.78.78-.78 2.05 0 2.83L4 21.41c.39.39.9.59 1.41.59.51 0 1.02-.2 1.41-.59l7.78-7.78 2.81-2.81c.8-.78.8-2.07 0-2.86zM5.41 20L4 18.59l7.72-7.72 1.47 1.35L5.41 20z\"/>\n",
              "  </svg>\n",
              "      </button>\n",
              "      \n",
              "  <style>\n",
              "    .colab-df-container {\n",
              "      display:flex;\n",
              "      flex-wrap:wrap;\n",
              "      gap: 12px;\n",
              "    }\n",
              "\n",
              "    .colab-df-convert {\n",
              "      background-color: #E8F0FE;\n",
              "      border: none;\n",
              "      border-radius: 50%;\n",
              "      cursor: pointer;\n",
              "      display: none;\n",
              "      fill: #1967D2;\n",
              "      height: 32px;\n",
              "      padding: 0 0 0 0;\n",
              "      width: 32px;\n",
              "    }\n",
              "\n",
              "    .colab-df-convert:hover {\n",
              "      background-color: #E2EBFA;\n",
              "      box-shadow: 0px 1px 2px rgba(60, 64, 67, 0.3), 0px 1px 3px 1px rgba(60, 64, 67, 0.15);\n",
              "      fill: #174EA6;\n",
              "    }\n",
              "\n",
              "    [theme=dark] .colab-df-convert {\n",
              "      background-color: #3B4455;\n",
              "      fill: #D2E3FC;\n",
              "    }\n",
              "\n",
              "    [theme=dark] .colab-df-convert:hover {\n",
              "      background-color: #434B5C;\n",
              "      box-shadow: 0px 1px 3px 1px rgba(0, 0, 0, 0.15);\n",
              "      filter: drop-shadow(0px 1px 2px rgba(0, 0, 0, 0.3));\n",
              "      fill: #FFFFFF;\n",
              "    }\n",
              "  </style>\n",
              "\n",
              "      <script>\n",
              "        const buttonEl =\n",
              "          document.querySelector('#df-d665555f-a6c7-468b-a85a-c11bc300a41f button.colab-df-convert');\n",
              "        buttonEl.style.display =\n",
              "          google.colab.kernel.accessAllowed ? 'block' : 'none';\n",
              "\n",
              "        async function convertToInteractive(key) {\n",
              "          const element = document.querySelector('#df-d665555f-a6c7-468b-a85a-c11bc300a41f');\n",
              "          const dataTable =\n",
              "            await google.colab.kernel.invokeFunction('convertToInteractive',\n",
              "                                                     [key], {});\n",
              "          if (!dataTable) return;\n",
              "\n",
              "          const docLinkHtml = 'Like what you see? Visit the ' +\n",
              "            '<a target=\"_blank\" href=https://colab.research.google.com/notebooks/data_table.ipynb>data table notebook</a>'\n",
              "            + ' to learn more about interactive tables.';\n",
              "          element.innerHTML = '';\n",
              "          dataTable['output_type'] = 'display_data';\n",
              "          await google.colab.output.renderOutput(dataTable, element);\n",
              "          const docLink = document.createElement('div');\n",
              "          docLink.innerHTML = docLinkHtml;\n",
              "          element.appendChild(docLink);\n",
              "        }\n",
              "      </script>\n",
              "    </div>\n",
              "  </div>\n",
              "  "
            ]
          },
          "metadata": {},
          "execution_count": 14
        }
      ]
    },
    {
      "cell_type": "code",
      "source": [
        "# Distribution of the mean of the ratings of the movies\n",
        "agg_movie_ratings.hist(column='mean_rating',grid=False)\n",
        "pl.title(\"Distribution of the average rating  of the movies \")\n",
        "print('The mean rating is',round(np.mean(agg_movie_ratings.mean_rating),2))\n",
        "print('The median rating is',round(np.median(agg_movie_ratings.mean_rating),2))"
      ],
      "metadata": {
        "colab": {
          "base_uri": "https://localhost:8080/",
          "height": 316
        },
        "id": "yYDo-jKURD8v",
        "outputId": "2eb05822-d1b1-4f6c-e666-c46384b173f7"
      },
      "execution_count": null,
      "outputs": [
        {
          "output_type": "stream",
          "name": "stdout",
          "text": [
            "The mean rating is 7.05\n",
            "The median rating is 7.13\n"
          ]
        },
        {
          "output_type": "display_data",
          "data": {
            "text/plain": [
              "<Figure size 432x288 with 1 Axes>"
            ],
            "image/png": "[encoded data removed]"
          },
          "metadata": {
            "needs_background": "light"
          }
        }
      ]
    },
    {
      "cell_type": "code",
      "source": [
        "# Top movies by number of reviews\n",
        "agg_movie_ratings.sort_values(by='number_of_ratings', ascending=False).head(10)"
      ],
      "metadata": {
        "colab": {
          "base_uri": "https://localhost:8080/",
          "height": 363
        },
        "id": "xoVRhnarxJE1",
        "outputId": "74f104bc-b826-4dcc-d383-02aa2645a93e"
      },
      "execution_count": null,
      "outputs": [
        {
          "output_type": "execute_result",
          "data": {
            "text/plain": [
              "                                          title  mean_rating  \\\n",
              "412                         Forrest Gump (1994)     8.328267   \n",
              "961            Shawshank Redemption, The (1994)     8.858044   \n",
              "862                         Pulp Fiction (1994)     8.394137   \n",
              "975            Silence of the Lambs, The (1991)     8.322581   \n",
              "694                          Matrix, The (1999)     8.384892   \n",
              "1034  Star Wars: Episode IV - A New Hope (1977)     8.462151   \n",
              "593                        Jurassic Park (1993)     7.500000   \n",
              "172                           Braveheart (1995)     8.063291   \n",
              "1077          Terminator 2: Judgment Day (1991)     7.941964   \n",
              "939                     Schindler's List (1993)     8.450000   \n",
              "\n",
              "      number_of_ratings  \n",
              "412                 329  \n",
              "961                 317  \n",
              "862                 307  \n",
              "975                 279  \n",
              "694                 278  \n",
              "1034                251  \n",
              "593                 238  \n",
              "172                 237  \n",
              "1077                224  \n",
              "939                 220  "
            ],
            "text/html": [
              "\n",
              "  <div id=\"df-cdc9bf70-5b2c-41b0-a46a-b23c979a9d8f\">\n",
              "    <div class=\"colab-df-container\">\n",
              "      <div>\n",
              "<style scoped>\n",
              "    .dataframe tbody tr th:only-of-type {\n",
              "        vertical-align: middle;\n",
              "    }\n",
              "\n",
              "    .dataframe tbody tr th {\n",
              "        vertical-align: top;\n",
              "    }\n",
              "\n",
              "    .dataframe thead th {\n",
              "        text-align: right;\n",
              "    }\n",
              "</style>\n",
              "<table border=\"1\" class=\"dataframe\">\n",
              "  <thead>\n",
              "    <tr style=\"text-align: right;\">\n",
              "      <th></th>\n",
              "      <th>title</th>\n",
              "      <th>mean_rating</th>\n",
              "      <th>number_of_ratings</th>\n",
              "    </tr>\n",
              "  </thead>\n",
              "  <tbody>\n",
              "    <tr>\n",
              "      <th>412</th>\n",
              "      <td>Forrest Gump (1994)</td>\n",
              "      <td>8.328267</td>\n",
              "      <td>329</td>\n",
              "    </tr>\n",
              "    <tr>\n",
              "      <th>961</th>\n",
              "      <td>Shawshank Redemption, The (1994)</td>\n",
              "      <td>8.858044</td>\n",
              "      <td>317</td>\n",
              "    </tr>\n",
              "    <tr>\n",
              "      <th>862</th>\n",
              "      <td>Pulp Fiction (1994)</td>\n",
              "      <td>8.394137</td>\n",
              "      <td>307</td>\n",
              "    </tr>\n",
              "    <tr>\n",
              "      <th>975</th>\n",
              "      <td>Silence of the Lambs, The (1991)</td>\n",
              "      <td>8.322581</td>\n",
              "      <td>279</td>\n",
              "    </tr>\n",
              "    <tr>\n",
              "      <th>694</th>\n",
              "      <td>Matrix, The (1999)</td>\n",
              "      <td>8.384892</td>\n",
              "      <td>278</td>\n",
              "    </tr>\n",
              "    <tr>\n",
              "      <th>1034</th>\n",
              "      <td>Star Wars: Episode IV - A New Hope (1977)</td>\n",
              "      <td>8.462151</td>\n",
              "      <td>251</td>\n",
              "    </tr>\n",
              "    <tr>\n",
              "      <th>593</th>\n",
              "      <td>Jurassic Park (1993)</td>\n",
              "      <td>7.500000</td>\n",
              "      <td>238</td>\n",
              "    </tr>\n",
              "    <tr>\n",
              "      <th>172</th>\n",
              "      <td>Braveheart (1995)</td>\n",
              "      <td>8.063291</td>\n",
              "      <td>237</td>\n",
              "    </tr>\n",
              "    <tr>\n",
              "      <th>1077</th>\n",
              "      <td>Terminator 2: Judgment Day (1991)</td>\n",
              "      <td>7.941964</td>\n",
              "      <td>224</td>\n",
              "    </tr>\n",
              "    <tr>\n",
              "      <th>939</th>\n",
              "      <td>Schindler's List (1993)</td>\n",
              "      <td>8.450000</td>\n",
              "      <td>220</td>\n",
              "    </tr>\n",
              "  </tbody>\n",
              "</table>\n",
              "</div>\n",
              "      <button class=\"colab-df-convert\" onclick=\"convertToInteractive('df-cdc9bf70-5b2c-41b0-a46a-b23c979a9d8f')\"\n",
              "              title=\"Convert this dataframe to an interactive table.\"\n",
              "              style=\"display:none;\">\n",
              "        \n",
              "  <svg xmlns=\"http://www.w3.org/2000/svg\" height=\"24px\"viewBox=\"0 0 24 24\"\n",
              "       width=\"24px\">\n",
              "    <path d=\"M0 0h24v24H0V0z\" fill=\"none\"/>\n",
              "    <path d=\"M18.56 5.44l.94 2.06.94-2.06 2.06-.94-2.06-.94-.94-2.06-.94 2.06-2.06.94zm-11 1L8.5 8.5l.94-2.06 2.06-.94-2.06-.94L8.5 2.5l-.94 2.06-2.06.94zm10 10l.94 2.06.94-2.06 2.06-.94-2.06-.94-.94-2.06-.94 2.06-2.06.94z\"/><path d=\"M17.41 7.96l-1.37-1.37c-.4-.4-.92-.59-1.43-.59-.52 0-1.04.2-1.43.59L10.3 9.45l-7.72 7.72c-.78.78-.78 2.05 0 2.83L4 21.41c.39.39.9.59 1.41.59.51 0 1.02-.2 1.41-.59l7.78-7.78 2.81-2.81c.8-.78.8-2.07 0-2.86zM5.41 20L4 18.59l7.72-7.72 1.47 1.35L5.41 20z\"/>\n",
              "  </svg>\n",
              "      </button>\n",
              "      \n",
              "  <style>\n",
              "    .colab-df-container {\n",
              "      display:flex;\n",
              "      flex-wrap:wrap;\n",
              "      gap: 12px;\n",
              "    }\n",
              "\n",
              "    .colab-df-convert {\n",
              "      background-color: #E8F0FE;\n",
              "      border: none;\n",
              "      border-radius: 50%;\n",
              "      cursor: pointer;\n",
              "      display: none;\n",
              "      fill: #1967D2;\n",
              "      height: 32px;\n",
              "      padding: 0 0 0 0;\n",
              "      width: 32px;\n",
              "    }\n",
              "\n",
              "    .colab-df-convert:hover {\n",
              "      background-color: #E2EBFA;\n",
              "      box-shadow: 0px 1px 2px rgba(60, 64, 67, 0.3), 0px 1px 3px 1px rgba(60, 64, 67, 0.15);\n",
              "      fill: #174EA6;\n",
              "    }\n",
              "\n",
              "    [theme=dark] .colab-df-convert {\n",
              "      background-color: #3B4455;\n",
              "      fill: #D2E3FC;\n",
              "    }\n",
              "\n",
              "    [theme=dark] .colab-df-convert:hover {\n",
              "      background-color: #434B5C;\n",
              "      box-shadow: 0px 1px 3px 1px rgba(0, 0, 0, 0.15);\n",
              "      filter: drop-shadow(0px 1px 2px rgba(0, 0, 0, 0.3));\n",
              "      fill: #FFFFFF;\n",
              "    }\n",
              "  </style>\n",
              "\n",
              "      <script>\n",
              "        const buttonEl =\n",
              "          document.querySelector('#df-cdc9bf70-5b2c-41b0-a46a-b23c979a9d8f button.colab-df-convert');\n",
              "        buttonEl.style.display =\n",
              "          google.colab.kernel.accessAllowed ? 'block' : 'none';\n",
              "\n",
              "        async function convertToInteractive(key) {\n",
              "          const element = document.querySelector('#df-cdc9bf70-5b2c-41b0-a46a-b23c979a9d8f');\n",
              "          const dataTable =\n",
              "            await google.colab.kernel.invokeFunction('convertToInteractive',\n",
              "                                                     [key], {});\n",
              "          if (!dataTable) return;\n",
              "\n",
              "          const docLinkHtml = 'Like what you see? Visit the ' +\n",
              "            '<a target=\"_blank\" href=https://colab.research.google.com/notebooks/data_table.ipynb>data table notebook</a>'\n",
              "            + ' to learn more about interactive tables.';\n",
              "          element.innerHTML = '';\n",
              "          dataTable['output_type'] = 'display_data';\n",
              "          await google.colab.output.renderOutput(dataTable, element);\n",
              "          const docLink = document.createElement('div');\n",
              "          docLink.innerHTML = docLinkHtml;\n",
              "          element.appendChild(docLink);\n",
              "        }\n",
              "      </script>\n",
              "    </div>\n",
              "  </div>\n",
              "  "
            ]
          },
          "metadata": {},
          "execution_count": 16
        }
      ]
    },
    {
      "cell_type": "code",
      "source": [
        "# Distribution of the number of rating per movie\n",
        "agg_movie_ratings.hist(column='number_of_ratings',grid=False)\n",
        "pl.title(\"Number of rating per movie \")\n",
        "print('The mean number of ratings per movie is',round(np.mean(agg_movie_ratings.number_of_ratings),0))\n",
        "print('The median number of ratings per movie is',round(np.median(agg_movie_ratings.number_of_ratings),0))"
      ],
      "metadata": {
        "colab": {
          "base_uri": "https://localhost:8080/",
          "height": 316
        },
        "id": "82YljPo-RCKo",
        "outputId": "a18cda3b-bdb3-433d-e926-14e1f583fee7"
      },
      "execution_count": null,
      "outputs": [
        {
          "output_type": "stream",
          "name": "stdout",
          "text": [
            "The mean number of ratings per movie is 54.0\n",
            "The median number of ratings per movie is 40.0\n"
          ]
        },
        {
          "output_type": "display_data",
          "data": {
            "text/plain": [
              "<Figure size 432x288 with 1 Axes>"
            ],
            "image/png": "[encoded data removed]"
          },
          "metadata": {
            "needs_background": "light"
          }
        }
      ]
    },
    {
      "cell_type": "code",
      "source": [
        "# function for single movie rating distribution\n",
        "\n",
        "def movie_x_hist(movieid):\n",
        "  if movieid <= (len(movie_mapping)+1):\n",
        "    a=ratings[ratings.movieId==movieid].hist(column='rating', grid=False)\n",
        "    pl.title(f\"Ratings' distribution for {movies[movies.movieId==movieid]['title'].values[0]} \")\n",
        "    return a"
      ],
      "metadata": {
        "id": "ch66JgxaSkW-"
      },
      "execution_count": null,
      "outputs": []
    },
    {
      "cell_type": "code",
      "source": [
        "movie_x_hist(0)"
      ],
      "metadata": {
        "id": "ARfmxdytSpXP",
        "colab": {
          "base_uri": "https://localhost:8080/",
          "height": 318
        },
        "outputId": "b8f4cff9-1f5d-4286-cba9-b017ee857c88"
      },
      "execution_count": null,
      "outputs": [
        {
          "output_type": "execute_result",
          "data": {
            "text/plain": [
              "array([[<matplotlib.axes._subplots.AxesSubplot object at 0x7f87627377c0>]],\n",
              "      dtype=object)"
            ]
          },
          "metadata": {},
          "execution_count": 19
        },
        {
          "output_type": "display_data",
          "data": {
            "text/plain": [
              "<Figure size 432x288 with 1 Axes>"
            ],
            "image/png": "[encoded data removed]"
          },
          "metadata": {
            "needs_background": "light"
          }
        }
      ]
    },
    {
      "cell_type": "code",
      "source": [
        "# Proportion of movie's genres in the dataset\n",
        "\n",
        "# matrix of movies genres\n",
        "genres = movies['genres'].str.get_dummies('|').values\n",
        "genres = torch.from_numpy(genres).to(torch.float)\n",
        "\n",
        "# Normalized the genre of the movies\n",
        "norm_fact=torch.sum(genres, dim=1)\n",
        "norm_fact=norm_fact.reshape(1,-1).t()\n",
        "norm_genres = genres / norm_fact\n",
        "\n",
        "genres_count=torch.sum(norm_genres, dim=0)\n",
        "norm_genres_count=genres_count/sum(genres_count)\n",
        "label_genres = movies['genres'].str.get_dummies('|').columns"
      ],
      "metadata": {
        "id": "m0E9N0KADwqA"
      },
      "execution_count": null,
      "outputs": []
    },
    {
      "cell_type": "code",
      "source": [
        "# Number of genres\n",
        "print(f'The dataset contains {len(label_genres)} genres ') "
      ],
      "metadata": {
        "colab": {
          "base_uri": "https://localhost:8080/"
        },
        "id": "xdj_LA1zhvGb",
        "outputId": "029987a5-ee87-4297-9228-357b527058c8"
      },
      "execution_count": null,
      "outputs": [
        {
          "output_type": "stream",
          "name": "stdout",
          "text": [
            "The dataset contains 19 genres \n"
          ]
        }
      ]
    },
    {
      "cell_type": "code",
      "source": [
        "# Bar plot of the movies' genres\n",
        "plt.rcdefaults()\n",
        "fig, ax = plt.subplots()\n",
        "\n",
        "ax.barh(label_genres,norm_genres_count)\n",
        "\n",
        "ax.invert_yaxis()  # labels read top-to-bottom\n",
        "ax.set_xlabel(\"Frequency\")\n",
        "ax.set_title(\"Genres' frequencies\")\n",
        "\n",
        "plt.show()"
      ],
      "metadata": {
        "colab": {
          "base_uri": "https://localhost:8080/",
          "height": 472
        },
        "id": "xRvMh5SxHAa7",
        "outputId": "8bfbfc78-a7d1-4e62-8492-3797110728ad"
      },
      "execution_count": null,
      "outputs": [
        {
          "output_type": "display_data",
          "data": {
            "text/plain": [
              "<Figure size 640x480 with 1 Axes>"
            ],
            "image/png": "[encoded data removed]"
          },
          "metadata": {}
        }
      ]
    },
    {
      "cell_type": "code",
      "source": [
        "norm_genres_count"
      ],
      "metadata": {
        "colab": {
          "base_uri": "https://localhost:8080/"
        },
        "id": "Er6j2PEjR0c8",
        "outputId": "6caf71cc-5582-49fa-b04e-a21319a5398e"
      },
      "execution_count": null,
      "outputs": [
        {
          "output_type": "execute_result",
          "data": {
            "text/plain": [
              "tensor([0.1000, 0.0752, 0.0178, 0.0254, 0.1905, 0.0536, 0.0035, 0.1825, 0.0348,\n",
              "        0.0026, 0.0239, 0.0111, 0.0113, 0.0232, 0.0689, 0.0620, 0.0900, 0.0147,\n",
              "        0.0091])"
            ]
          },
          "metadata": {},
          "execution_count": 23
        }
      ]
    },
    {
      "cell_type": "code",
      "source": [
        "# Movies mean rating vs Movies number of rating\n",
        "x = agg_movie_ratings.mean_rating.values\n",
        "y = agg_movie_ratings.number_of_ratings.values\n",
        "\n",
        "def scatter_hist(x, y, ax, ax_histx, ax_histy):\n",
        "    # no labels\n",
        "    ax_histx.tick_params(axis=\"x\", labelbottom=False)\n",
        "    ax_histy.tick_params(axis=\"y\", labelleft=False)\n",
        "\n",
        "    # the scatter plot:\n",
        "    ax.scatter(x, y)\n",
        "    ax.set_xlabel(\"Movies' mean rating\")\n",
        "    ax.set_ylabel(\"Movies' number of rating\")\n",
        "\n",
        "    ax_histx.hist(x )\n",
        "    ax_histy.hist(y, orientation='horizontal')\n",
        "\n",
        "\n",
        "fig = plt.figure(figsize=(6, 6))\n",
        "\n",
        "gs = fig.add_gridspec(2, 2,  width_ratios=(4, 1), height_ratios=(1, 4),\n",
        "                      left=0.1, right=0.9, bottom=0.1, top=0.9,\n",
        "                      wspace=0.05, hspace=0.05)\n",
        "\n",
        "# Create the Axes.\n",
        "ax = fig.add_subplot(gs[1, 0])\n",
        "ax_histx = fig.add_subplot(gs[0, 0], sharex=ax)\n",
        "ax_histy = fig.add_subplot(gs[1, 1], sharey=ax)\n",
        "# Draw the scatter plot and marginals.\n",
        "scatter_hist(x, y, ax, ax_histx, ax_histy)"
      ],
      "metadata": {
        "colab": {
          "base_uri": "https://localhost:8080/",
          "height": 560
        },
        "id": "B6L2Fd9HkdUv",
        "outputId": "8b8de559-2196-4cea-f72c-8eee5934582a"
      },
      "execution_count": null,
      "outputs": [
        {
          "output_type": "display_data",
          "data": {
            "text/plain": [
              "<Figure size 600x600 with 3 Axes>"
            ],
            "image/png": "[encoded data removed]"
          },
          "metadata": {}
        }
      ]
    },
    {
      "cell_type": "markdown",
      "source": [
        "## Users' statistic"
      ],
      "metadata": {
        "id": "tBz___Sl_Qpj"
      }
    },
    {
      "cell_type": "code",
      "source": [
        "# user review \n",
        "agg_user_ratings = ratings.groupby('userId').agg(mean_rating = ('rating', 'mean'), number_of_ratings = ('rating', 'count')).reset_index()"
      ],
      "metadata": {
        "id": "W8_aqruDCxij"
      },
      "execution_count": null,
      "outputs": []
    },
    {
      "cell_type": "code",
      "source": [
        "# Top 10 user with highest rating mean\n",
        "agg_user_ratings.sort_values(by='mean_rating', ascending=False).head(10)"
      ],
      "metadata": {
        "colab": {
          "base_uri": "https://localhost:8080/",
          "height": 363
        },
        "id": "ti5ywYHOP52C",
        "outputId": "bfbea896-e28b-4809-df7b-c5feff3c5a9c"
      },
      "execution_count": null,
      "outputs": [
        {
          "output_type": "execute_result",
          "data": {
            "text/plain": [
              "     userId  mean_rating  number_of_ratings\n",
              "560     560    10.000000                 14\n",
              "386     386     9.950000                 20\n",
              "463     463     9.736842                 19\n",
              "305     305     9.714286                 21\n",
              "517     517     9.615385                 26\n",
              "373     373     9.523810                 42\n",
              "400     400     9.454545                 33\n",
              "528     528     9.362069                 58\n",
              "61       61     9.218750                 64\n",
              "286     286     9.206897                232"
            ],
            "text/html": [
              "\n",
              "  <div id=\"df-73fbe042-7e98-42d9-9c96-0a0d25a4fe80\">\n",
              "    <div class=\"colab-df-container\">\n",
              "      <div>\n",
              "<style scoped>\n",
              "    .dataframe tbody tr th:only-of-type {\n",
              "        vertical-align: middle;\n",
              "    }\n",
              "\n",
              "    .dataframe tbody tr th {\n",
              "        vertical-align: top;\n",
              "    }\n",
              "\n",
              "    .dataframe thead th {\n",
              "        text-align: right;\n",
              "    }\n",
              "</style>\n",
              "<table border=\"1\" class=\"dataframe\">\n",
              "  <thead>\n",
              "    <tr style=\"text-align: right;\">\n",
              "      <th></th>\n",
              "      <th>userId</th>\n",
              "      <th>mean_rating</th>\n",
              "      <th>number_of_ratings</th>\n",
              "    </tr>\n",
              "  </thead>\n",
              "  <tbody>\n",
              "    <tr>\n",
              "      <th>560</th>\n",
              "      <td>560</td>\n",
              "      <td>10.000000</td>\n",
              "      <td>14</td>\n",
              "    </tr>\n",
              "    <tr>\n",
              "      <th>386</th>\n",
              "      <td>386</td>\n",
              "      <td>9.950000</td>\n",
              "      <td>20</td>\n",
              "    </tr>\n",
              "    <tr>\n",
              "      <th>463</th>\n",
              "      <td>463</td>\n",
              "      <td>9.736842</td>\n",
              "      <td>19</td>\n",
              "    </tr>\n",
              "    <tr>\n",
              "      <th>305</th>\n",
              "      <td>305</td>\n",
              "      <td>9.714286</td>\n",
              "      <td>21</td>\n",
              "    </tr>\n",
              "    <tr>\n",
              "      <th>517</th>\n",
              "      <td>517</td>\n",
              "      <td>9.615385</td>\n",
              "      <td>26</td>\n",
              "    </tr>\n",
              "    <tr>\n",
              "      <th>373</th>\n",
              "      <td>373</td>\n",
              "      <td>9.523810</td>\n",
              "      <td>42</td>\n",
              "    </tr>\n",
              "    <tr>\n",
              "      <th>400</th>\n",
              "      <td>400</td>\n",
              "      <td>9.454545</td>\n",
              "      <td>33</td>\n",
              "    </tr>\n",
              "    <tr>\n",
              "      <th>528</th>\n",
              "      <td>528</td>\n",
              "      <td>9.362069</td>\n",
              "      <td>58</td>\n",
              "    </tr>\n",
              "    <tr>\n",
              "      <th>61</th>\n",
              "      <td>61</td>\n",
              "      <td>9.218750</td>\n",
              "      <td>64</td>\n",
              "    </tr>\n",
              "    <tr>\n",
              "      <th>286</th>\n",
              "      <td>286</td>\n",
              "      <td>9.206897</td>\n",
              "      <td>232</td>\n",
              "    </tr>\n",
              "  </tbody>\n",
              "</table>\n",
              "</div>\n",
              "      <button class=\"colab-df-convert\" onclick=\"convertToInteractive('df-73fbe042-7e98-42d9-9c96-0a0d25a4fe80')\"\n",
              "              title=\"Convert this dataframe to an interactive table.\"\n",
              "              style=\"display:none;\">\n",
              "        \n",
              "  <svg xmlns=\"http://www.w3.org/2000/svg\" height=\"24px\"viewBox=\"0 0 24 24\"\n",
              "       width=\"24px\">\n",
              "    <path d=\"M0 0h24v24H0V0z\" fill=\"none\"/>\n",
              "    <path d=\"M18.56 5.44l.94 2.06.94-2.06 2.06-.94-2.06-.94-.94-2.06-.94 2.06-2.06.94zm-11 1L8.5 8.5l.94-2.06 2.06-.94-2.06-.94L8.5 2.5l-.94 2.06-2.06.94zm10 10l.94 2.06.94-2.06 2.06-.94-2.06-.94-.94-2.06-.94 2.06-2.06.94z\"/><path d=\"M17.41 7.96l-1.37-1.37c-.4-.4-.92-.59-1.43-.59-.52 0-1.04.2-1.43.59L10.3 9.45l-7.72 7.72c-.78.78-.78 2.05 0 2.83L4 21.41c.39.39.9.59 1.41.59.51 0 1.02-.2 1.41-.59l7.78-7.78 2.81-2.81c.8-.78.8-2.07 0-2.86zM5.41 20L4 18.59l7.72-7.72 1.47 1.35L5.41 20z\"/>\n",
              "  </svg>\n",
              "      </button>\n",
              "      \n",
              "  <style>\n",
              "    .colab-df-container {\n",
              "      display:flex;\n",
              "      flex-wrap:wrap;\n",
              "      gap: 12px;\n",
              "    }\n",
              "\n",
              "    .colab-df-convert {\n",
              "      background-color: #E8F0FE;\n",
              "      border: none;\n",
              "      border-radius: 50%;\n",
              "      cursor: pointer;\n",
              "      display: none;\n",
              "      fill: #1967D2;\n",
              "      height: 32px;\n",
              "      padding: 0 0 0 0;\n",
              "      width: 32px;\n",
              "    }\n",
              "\n",
              "    .colab-df-convert:hover {\n",
              "      background-color: #E2EBFA;\n",
              "      box-shadow: 0px 1px 2px rgba(60, 64, 67, 0.3), 0px 1px 3px 1px rgba(60, 64, 67, 0.15);\n",
              "      fill: #174EA6;\n",
              "    }\n",
              "\n",
              "    [theme=dark] .colab-df-convert {\n",
              "      background-color: #3B4455;\n",
              "      fill: #D2E3FC;\n",
              "    }\n",
              "\n",
              "    [theme=dark] .colab-df-convert:hover {\n",
              "      background-color: #434B5C;\n",
              "      box-shadow: 0px 1px 3px 1px rgba(0, 0, 0, 0.15);\n",
              "      filter: drop-shadow(0px 1px 2px rgba(0, 0, 0, 0.3));\n",
              "      fill: #FFFFFF;\n",
              "    }\n",
              "  </style>\n",
              "\n",
              "      <script>\n",
              "        const buttonEl =\n",
              "          document.querySelector('#df-73fbe042-7e98-42d9-9c96-0a0d25a4fe80 button.colab-df-convert');\n",
              "        buttonEl.style.display =\n",
              "          google.colab.kernel.accessAllowed ? 'block' : 'none';\n",
              "\n",
              "        async function convertToInteractive(key) {\n",
              "          const element = document.querySelector('#df-73fbe042-7e98-42d9-9c96-0a0d25a4fe80');\n",
              "          const dataTable =\n",
              "            await google.colab.kernel.invokeFunction('convertToInteractive',\n",
              "                                                     [key], {});\n",
              "          if (!dataTable) return;\n",
              "\n",
              "          const docLinkHtml = 'Like what you see? Visit the ' +\n",
              "            '<a target=\"_blank\" href=https://colab.research.google.com/notebooks/data_table.ipynb>data table notebook</a>'\n",
              "            + ' to learn more about interactive tables.';\n",
              "          element.innerHTML = '';\n",
              "          dataTable['output_type'] = 'display_data';\n",
              "          await google.colab.output.renderOutput(dataTable, element);\n",
              "          const docLink = document.createElement('div');\n",
              "          docLink.innerHTML = docLinkHtml;\n",
              "          element.appendChild(docLink);\n",
              "        }\n",
              "      </script>\n",
              "    </div>\n",
              "  </div>\n",
              "  "
            ]
          },
          "metadata": {},
          "execution_count": 22
        }
      ]
    },
    {
      "cell_type": "code",
      "source": [
        "# Distribution of the user's mean rating  \n",
        "agg_user_ratings.hist(column='mean_rating',grid=False)\n",
        "pl.title(f\"Distribution of the user's mean rating \")\n",
        "print(\"The average of the user's mean rating is\",round(np.mean(agg_user_ratings.mean_rating),2))\n",
        "print(\"The average of the user's median rating is\",round(np.median(agg_user_ratings.mean_rating),2))"
      ],
      "metadata": {
        "colab": {
          "base_uri": "https://localhost:8080/",
          "height": 316
        },
        "id": "NRUAUcBZP_Ah",
        "outputId": "8f68a0ca-6e76-46b5-e844-9f3d047cca9c"
      },
      "execution_count": null,
      "outputs": [
        {
          "output_type": "stream",
          "name": "stdout",
          "text": [
            "The average of the user's mean rating is 7.42\n",
            "The average of the user's median rating is 7.48\n"
          ]
        },
        {
          "output_type": "display_data",
          "data": {
            "text/plain": [
              "<Figure size 432x288 with 1 Axes>"
            ],
            "image/png": "[encoded data removed]"
          },
          "metadata": {
            "needs_background": "light"
          }
        }
      ]
    },
    {
      "cell_type": "code",
      "source": [
        "# Top 10 user with highest number of reviews\n",
        "agg_user_ratings.sort_values(by='number_of_ratings', ascending=False).head(10)"
      ],
      "metadata": {
        "colab": {
          "base_uri": "https://localhost:8080/",
          "height": 363
        },
        "id": "P4RDC4rMQKIW",
        "outputId": "b2bcb288-e427-4406-a020-cdcdcbbad90a"
      },
      "execution_count": null,
      "outputs": [
        {
          "output_type": "execute_result",
          "data": {
            "text/plain": [
              "     userId  mean_rating  number_of_ratings\n",
              "146     146     7.424299               1070\n",
              "204     204     5.952484                926\n",
              "23       23     6.515258                852\n",
              "164     164     7.069061                724\n",
              "98       98     6.804286                700\n",
              "154     154     6.735931                693\n",
              "135     135     7.930081                615\n",
              "167     167     6.800000                590\n",
              "106     106     6.785714                588\n",
              "212     212     6.543890                581"
            ],
            "text/html": [
              "\n",
              "  <div id=\"df-ed3a7ffe-abf1-4912-8425-cd8a9bc1c9bf\">\n",
              "    <div class=\"colab-df-container\">\n",
              "      <div>\n",
              "<style scoped>\n",
              "    .dataframe tbody tr th:only-of-type {\n",
              "        vertical-align: middle;\n",
              "    }\n",
              "\n",
              "    .dataframe tbody tr th {\n",
              "        vertical-align: top;\n",
              "    }\n",
              "\n",
              "    .dataframe thead th {\n",
              "        text-align: right;\n",
              "    }\n",
              "</style>\n",
              "<table border=\"1\" class=\"dataframe\">\n",
              "  <thead>\n",
              "    <tr style=\"text-align: right;\">\n",
              "      <th></th>\n",
              "      <th>userId</th>\n",
              "      <th>mean_rating</th>\n",
              "      <th>number_of_ratings</th>\n",
              "    </tr>\n",
              "  </thead>\n",
              "  <tbody>\n",
              "    <tr>\n",
              "      <th>146</th>\n",
              "      <td>146</td>\n",
              "      <td>7.424299</td>\n",
              "      <td>1070</td>\n",
              "    </tr>\n",
              "    <tr>\n",
              "      <th>204</th>\n",
              "      <td>204</td>\n",
              "      <td>5.952484</td>\n",
              "      <td>926</td>\n",
              "    </tr>\n",
              "    <tr>\n",
              "      <th>23</th>\n",
              "      <td>23</td>\n",
              "      <td>6.515258</td>\n",
              "      <td>852</td>\n",
              "    </tr>\n",
              "    <tr>\n",
              "      <th>164</th>\n",
              "      <td>164</td>\n",
              "      <td>7.069061</td>\n",
              "      <td>724</td>\n",
              "    </tr>\n",
              "    <tr>\n",
              "      <th>98</th>\n",
              "      <td>98</td>\n",
              "      <td>6.804286</td>\n",
              "      <td>700</td>\n",
              "    </tr>\n",
              "    <tr>\n",
              "      <th>154</th>\n",
              "      <td>154</td>\n",
              "      <td>6.735931</td>\n",
              "      <td>693</td>\n",
              "    </tr>\n",
              "    <tr>\n",
              "      <th>135</th>\n",
              "      <td>135</td>\n",
              "      <td>7.930081</td>\n",
              "      <td>615</td>\n",
              "    </tr>\n",
              "    <tr>\n",
              "      <th>167</th>\n",
              "      <td>167</td>\n",
              "      <td>6.800000</td>\n",
              "      <td>590</td>\n",
              "    </tr>\n",
              "    <tr>\n",
              "      <th>106</th>\n",
              "      <td>106</td>\n",
              "      <td>6.785714</td>\n",
              "      <td>588</td>\n",
              "    </tr>\n",
              "    <tr>\n",
              "      <th>212</th>\n",
              "      <td>212</td>\n",
              "      <td>6.543890</td>\n",
              "      <td>581</td>\n",
              "    </tr>\n",
              "  </tbody>\n",
              "</table>\n",
              "</div>\n",
              "      <button class=\"colab-df-convert\" onclick=\"convertToInteractive('df-ed3a7ffe-abf1-4912-8425-cd8a9bc1c9bf')\"\n",
              "              title=\"Convert this dataframe to an interactive table.\"\n",
              "              style=\"display:none;\">\n",
              "        \n",
              "  <svg xmlns=\"http://www.w3.org/2000/svg\" height=\"24px\"viewBox=\"0 0 24 24\"\n",
              "       width=\"24px\">\n",
              "    <path d=\"M0 0h24v24H0V0z\" fill=\"none\"/>\n",
              "    <path d=\"M18.56 5.44l.94 2.06.94-2.06 2.06-.94-2.06-.94-.94-2.06-.94 2.06-2.06.94zm-11 1L8.5 8.5l.94-2.06 2.06-.94-2.06-.94L8.5 2.5l-.94 2.06-2.06.94zm10 10l.94 2.06.94-2.06 2.06-.94-2.06-.94-.94-2.06-.94 2.06-2.06.94z\"/><path d=\"M17.41 7.96l-1.37-1.37c-.4-.4-.92-.59-1.43-.59-.52 0-1.04.2-1.43.59L10.3 9.45l-7.72 7.72c-.78.78-.78 2.05 0 2.83L4 21.41c.39.39.9.59 1.41.59.51 0 1.02-.2 1.41-.59l7.78-7.78 2.81-2.81c.8-.78.8-2.07 0-2.86zM5.41 20L4 18.59l7.72-7.72 1.47 1.35L5.41 20z\"/>\n",
              "  </svg>\n",
              "      </button>\n",
              "      \n",
              "  <style>\n",
              "    .colab-df-container {\n",
              "      display:flex;\n",
              "      flex-wrap:wrap;\n",
              "      gap: 12px;\n",
              "    }\n",
              "\n",
              "    .colab-df-convert {\n",
              "      background-color: #E8F0FE;\n",
              "      border: none;\n",
              "      border-radius: 50%;\n",
              "      cursor: pointer;\n",
              "      display: none;\n",
              "      fill: #1967D2;\n",
              "      height: 32px;\n",
              "      padding: 0 0 0 0;\n",
              "      width: 32px;\n",
              "    }\n",
              "\n",
              "    .colab-df-convert:hover {\n",
              "      background-color: #E2EBFA;\n",
              "      box-shadow: 0px 1px 2px rgba(60, 64, 67, 0.3), 0px 1px 3px 1px rgba(60, 64, 67, 0.15);\n",
              "      fill: #174EA6;\n",
              "    }\n",
              "\n",
              "    [theme=dark] .colab-df-convert {\n",
              "      background-color: #3B4455;\n",
              "      fill: #D2E3FC;\n",
              "    }\n",
              "\n",
              "    [theme=dark] .colab-df-convert:hover {\n",
              "      background-color: #434B5C;\n",
              "      box-shadow: 0px 1px 3px 1px rgba(0, 0, 0, 0.15);\n",
              "      filter: drop-shadow(0px 1px 2px rgba(0, 0, 0, 0.3));\n",
              "      fill: #FFFFFF;\n",
              "    }\n",
              "  </style>\n",
              "\n",
              "      <script>\n",
              "        const buttonEl =\n",
              "          document.querySelector('#df-ed3a7ffe-abf1-4912-8425-cd8a9bc1c9bf button.colab-df-convert');\n",
              "        buttonEl.style.display =\n",
              "          google.colab.kernel.accessAllowed ? 'block' : 'none';\n",
              "\n",
              "        async function convertToInteractive(key) {\n",
              "          const element = document.querySelector('#df-ed3a7ffe-abf1-4912-8425-cd8a9bc1c9bf');\n",
              "          const dataTable =\n",
              "            await google.colab.kernel.invokeFunction('convertToInteractive',\n",
              "                                                     [key], {});\n",
              "          if (!dataTable) return;\n",
              "\n",
              "          const docLinkHtml = 'Like what you see? Visit the ' +\n",
              "            '<a target=\"_blank\" href=https://colab.research.google.com/notebooks/data_table.ipynb>data table notebook</a>'\n",
              "            + ' to learn more about interactive tables.';\n",
              "          element.innerHTML = '';\n",
              "          dataTable['output_type'] = 'display_data';\n",
              "          await google.colab.output.renderOutput(dataTable, element);\n",
              "          const docLink = document.createElement('div');\n",
              "          docLink.innerHTML = docLinkHtml;\n",
              "          element.appendChild(docLink);\n",
              "        }\n",
              "      </script>\n",
              "    </div>\n",
              "  </div>\n",
              "  "
            ]
          },
          "metadata": {},
          "execution_count": 28
        }
      ]
    },
    {
      "cell_type": "code",
      "source": [
        "# Distribution of the number of ratings per user\n",
        "agg_user_ratings.hist(column='number_of_ratings',grid=False)\n",
        "pl.title(f\"Distribution of the number of ratings per user \")\n",
        "print(\"The average of the user's number of ratings is \",round(np.mean(agg_user_ratings.number_of_ratings),0))\n",
        "print(\"The median of the user's number of ratings is \",round(np.median(agg_user_ratings.number_of_ratings),0))"
      ],
      "metadata": {
        "colab": {
          "base_uri": "https://localhost:8080/",
          "height": 316
        },
        "id": "A-2NOBfgP54W",
        "outputId": "da84b30d-1a92-4726-8522-da1dcffe81d3"
      },
      "execution_count": null,
      "outputs": [
        {
          "output_type": "stream",
          "name": "stdout",
          "text": [
            "The average of the user's number of ratings is  109.0\n",
            "The median of the user's number of ratings is  56.0\n"
          ]
        },
        {
          "output_type": "display_data",
          "data": {
            "text/plain": [
              "<Figure size 432x288 with 1 Axes>"
            ],
            "image/png": "[encoded data removed]"
          },
          "metadata": {
            "needs_background": "light"
          }
        }
      ]
    },
    {
      "cell_type": "code",
      "source": [
        "# function for single user rating distribution\n",
        "def user_x_hist(userid):\n",
        "  if userid <= (len(user_mapping)-1):\n",
        "     ratings_freq= Counter( ratings.rating[ratings.userId==userid])\n",
        "     freq = list(ratings_freq.keys())\n",
        "     frequencies = np.array(list(ratings_freq.values()))/len(ratings.rating[ratings.userId==userid])\n",
        "     values = list(ratings_freq.values())\n",
        "     fig, ax1 = plt.subplots()\n",
        "     ax2 = ax1.twinx()\n",
        "\n",
        "     ax1.bar(freq, values, color =\"#348abd\", width = 0.4)\n",
        "\n",
        "     ax2.bar(freq, frequencies, color ='#348abd', width = 0.4)\n",
        "\n",
        "\n",
        "     ax1.set_xlabel('Rating')\n",
        "     ax1.set_ylabel('Count', color='Black')\n",
        "     ax2.set_ylabel('Frequencies', color='b')\n",
        "     plt.title(f\"Movie's rating distribution for user {userid} with {len(ratings[ratings.userId==userid])} ratings\")\n",
        "     plt.xticks(freq)\n",
        "     plt.show()\n",
        "    \n"
      ],
      "metadata": {
        "id": "-ld_CIqaP56z"
      },
      "execution_count": null,
      "outputs": []
    },
    {
      "cell_type": "code",
      "source": [
        "user_x_hist(userid=0)"
      ],
      "metadata": {
        "colab": {
          "base_uri": "https://localhost:8080/",
          "height": 295
        },
        "id": "rA5n46il-Cbv",
        "outputId": "09787e93-88e1-49dc-94f0-20396a9189ec"
      },
      "execution_count": null,
      "outputs": [
        {
          "output_type": "display_data",
          "data": {
            "text/plain": [
              "<Figure size 432x288 with 2 Axes>"
            ],
            "image/png": "[encoded data removed]"
          },
          "metadata": {
            "needs_background": "light"
          }
        }
      ]
    },
    {
      "cell_type": "code",
      "source": [
        "# user 0 mean rating\n",
        "np.mean(ratings.rating[ratings.userId==0])"
      ],
      "metadata": {
        "colab": {
          "base_uri": "https://localhost:8080/"
        },
        "id": "Ux_ejlg88pOp",
        "outputId": "589e8a48-ab13-4a48-d361-6abd13c2c3dc"
      },
      "execution_count": null,
      "outputs": [
        {
          "output_type": "execute_result",
          "data": {
            "text/plain": [
              "8.844444444444445"
            ]
          },
          "metadata": {},
          "execution_count": 24
        }
      ]
    },
    {
      "cell_type": "code",
      "source": [
        "# user 0 median rating\n",
        "np.median(ratings.rating[ratings.userId==0])"
      ],
      "metadata": {
        "colab": {
          "base_uri": "https://localhost:8080/"
        },
        "id": "p11s9ZwH1aoB",
        "outputId": "371797de-0b09-4a57-fabb-546b6ec57226"
      },
      "execution_count": null,
      "outputs": [
        {
          "output_type": "execute_result",
          "data": {
            "text/plain": [
              "10.0"
            ]
          },
          "metadata": {},
          "execution_count": 25
        }
      ]
    },
    {
      "cell_type": "code",
      "source": [
        "# Users mean rating vs Users number of rating\n",
        "x = agg_user_ratings.mean_rating.values\n",
        "y = agg_user_ratings.number_of_ratings.values\n",
        "\n",
        "def scatter_hist(x, y, ax, ax_histx, ax_histy):\n",
        "    # no labels\n",
        "    ax_histx.tick_params(axis=\"x\", labelbottom=False)\n",
        "    ax_histy.tick_params(axis=\"y\", labelleft=False)\n",
        "\n",
        "    # the scatter plot:\n",
        "    ax.scatter(x, y)\n",
        "    ax.set_xlabel(\"Users' mean rating\")\n",
        "    ax.set_ylabel(\"Users' number of ratings\")\n",
        "    \n",
        "    # now determine nice limits by hand:\n",
        "    #binwidth = 0.25\n",
        "    #xymax = max(np.max(np.abs(x)), np.max(np.abs(y)))\n",
        "    #lim = (int(xymax/binwidth) + 1) * binwidth\n",
        "\n",
        "    #bins = np.arange(0, lim + binwidth, binwidth)\n",
        "    ax_histx.hist(x )\n",
        "    ax_histy.hist(y,  orientation='horizontal')\n",
        "\n",
        "fig = plt.figure(figsize=(6, 6))\n",
        "gs = fig.add_gridspec(2, 2,  width_ratios=(4, 1), height_ratios=(1, 4),\n",
        "                      left=0.1, right=0.9, bottom=0.1, top=0.9,\n",
        "                      wspace=0.05, hspace=0.05)\n",
        "# Create the Axes.\n",
        "ax = fig.add_subplot(gs[1, 0])\n",
        "ax_histx = fig.add_subplot(gs[0, 0], sharex=ax)\n",
        "ax_histy = fig.add_subplot(gs[1, 1], sharey=ax)\n",
        "# Draw the scatter plot and marginals.\n",
        "scatter_hist(x, y, ax, ax_histx, ax_histy)\n",
        "\n",
        "\n",
        "\n",
        "\n"
      ],
      "metadata": {
        "id": "novxbc9ir5Yg",
        "colab": {
          "base_uri": "https://localhost:8080/",
          "height": 560
        },
        "outputId": "9858a95f-a493-430f-f761-e866267cef38"
      },
      "execution_count": null,
      "outputs": [
        {
          "output_type": "display_data",
          "data": {
            "text/plain": [
              "<Figure size 600x600 with 3 Axes>"
            ],
            "image/png": "[encoded data removed]"
          },
          "metadata": {}
        }
      ]
    },
    {
      "cell_type": "markdown",
      "source": [
        "## Ratings' statistic"
      ],
      "metadata": {
        "id": "urQ8qq87_YHP"
      }
    },
    {
      "cell_type": "code",
      "source": [
        "# Bar plot of the rating distribution\n",
        "ratings_freq= Counter(ratings.rating)\n",
        "freq = list(ratings_freq.keys())\n",
        "frequencies = np.array(list(ratings_freq.values()))/len(ratings.rating)\n",
        "values = list(ratings_freq.values())\n",
        "\n",
        "fig, ax1 = plt.subplots()\n",
        "ax2 = ax1.twinx()\n",
        "\n",
        "ax1.bar(freq, values, color =\"#348abd\", width = 0.4)\n",
        "\n",
        "ax2.bar(freq, frequencies, color ='#348abd', width = 0.4)\n",
        "\n",
        "\n",
        "ax1.set_xlabel('Rating')\n",
        "ax1.set_ylabel('Count', color='Black')\n",
        "ax2.set_ylabel('Frequencies', color='b')\n",
        "plt.title(\"Movie's rating distribution\")\n",
        "plt.xticks(freq)\n",
        "plt.show()"
      ],
      "metadata": {
        "colab": {
          "base_uri": "https://localhost:8080/",
          "height": 295
        },
        "id": "fssrHxNS70kl",
        "outputId": "19281b26-0275-4263-83b5-6697c35bbe46"
      },
      "execution_count": null,
      "outputs": [
        {
          "output_type": "display_data",
          "data": {
            "text/plain": [
              "<Figure size 432x288 with 2 Axes>"
            ],
            "image/png": "[encoded data removed]"
          },
          "metadata": {
            "needs_background": "light"
          }
        }
      ]
    },
    {
      "cell_type": "markdown",
      "source": [
        "# Recommender system"
      ],
      "metadata": {
        "id": "VkPoRF7K4qjv"
      }
    },
    {
      "cell_type": "markdown",
      "source": [
        "## Content based recommander system"
      ],
      "metadata": {
        "id": "sr_lUB6-4qoR"
      }
    },
    {
      "cell_type": "code",
      "source": [
        "# Proportion of movie's genres in the dataset\n",
        "\n",
        "# matrix of movies genres\n",
        "genres = movies['genres'].str.get_dummies('|').values\n",
        "genres = torch.from_numpy(genres).to(torch.float)\n"
      ],
      "metadata": {
        "id": "Ich8V2c7ikjn"
      },
      "execution_count": null,
      "outputs": []
    },
    {
      "cell_type": "code",
      "source": [
        "# Content based model\n",
        "\n",
        "'''\n",
        "The model's paramerts are: userid -> the User id of the user in the rating dataset\n",
        "                           k -> number of movies to correlate\n",
        "The output of the function is: the k recommend movies   \n",
        "                               the profile score of the user userid                       \n",
        "'''\n",
        "\n",
        "def user_x_rating(userid,k=10):\n",
        "  if userid <= (len(user_mapping)-1) and userid >= 0:\n",
        "    # rating of the movies saw\n",
        "    rating_array=np.array(ratings.rating[ratings.userId==userid]).reshape(-1, 1)\n",
        "\n",
        "    # rating of the movies saw\n",
        "    view_movie_matrix=genres[np.array(ratings.movieId[ratings.userId==userid])] \n",
        "\n",
        "    # index of unseen movie\n",
        "    indices_of_non_seen_movie=np.array(list(set(movies['movieId'].values) - set(ratings.movieId[ratings.userId==userid].values)))\n",
        "\n",
        "    # matrix of the feature of NON reviewed movies\n",
        "    non_view_movie_matrix=genres[indices_of_non_seen_movie] \n",
        "\n",
        "    # score of the user's preference\n",
        "    user_score =torch.sum(torch.tensor(rating_array) * view_movie_matrix,dim=0)/sum(torch.sum(torch.tensor(rating_array) * view_movie_matrix,dim=0))\n",
        "\n",
        "    # estimated score of the unseen movie\n",
        "    score_non_rew_movie= torch.sum(user_score*non_view_movie_matrix,dim=1).numpy()\n",
        "    \n",
        "    # take the indices in the vector of unseen movie\n",
        "    ind = np.argsort(score_non_rew_movie)[::-1][:k]\n",
        "\n",
        "    # the indices is reverse in the list of unseen movie\n",
        "    movie_not_seen=indices_of_non_seen_movie[ind] \n",
        "    \n",
        "    # dataframe contains the score of the user\n",
        "    data_dict={'genre':movies['genres'].str.get_dummies('|').columns, 'score':np.around(user_score.numpy(),4)}\n",
        "    ret_data= pd.DataFrame(data=[movies.title.loc[movie_not_seen].values.T,score_non_rew_movie[ind].T]).T\n",
        "    ret_data.columns = ['movie_title','score']\n",
        "    \n",
        "    return  ret_data , pd.DataFrame(data=data_dict) # the index  unseen movie is match in the list of whole movies in order to get the title\n",
        "  else:\n",
        "    raise IndexError(f\"The userId doens't exist. the userId range is from 0 to  {max(ratings.userId)} \")\n",
        "\n",
        "\n"
      ],
      "metadata": {
        "id": "wqQYHY39449m"
      },
      "execution_count": null,
      "outputs": []
    },
    {
      "cell_type": "code",
      "source": [
        "recsys, profile_score =user_x_rating(0,k=10)"
      ],
      "metadata": {
        "id": "23u-IEZaXasF"
      },
      "execution_count": null,
      "outputs": []
    },
    {
      "cell_type": "code",
      "source": [
        "recsys"
      ],
      "metadata": {
        "colab": {
          "base_uri": "https://localhost:8080/",
          "height": 363
        },
        "id": "wvxG-WXPtWoV",
        "outputId": "ea6a4f16-fdd3-4d8d-a19f-453248a1e99a"
      },
      "execution_count": null,
      "outputs": [
        {
          "output_type": "execute_result",
          "data": {
            "text/plain": [
              "                                 movie_title     score\n",
              "0                   Super Mario Bros. (1993)  0.569102\n",
              "1  Sherlock Holmes: A Game of Shadows (2011)  0.567432\n",
              "2     Charlie's Angels: Full Throttle (2003)  0.539875\n",
              "3                      The Lego Movie (2014)   0.53737\n",
              "4                       Blood Diamond (2006)  0.536952\n",
              "5                             Hancock (2008)  0.519415\n",
              "6                         Three Kings (1999)  0.513987\n",
              "7                     Children of Men (2006)  0.510647\n",
              "8                      Jurassic World (2015)  0.510647\n",
              "9             Day After Tomorrow, The (2004)  0.510647"
            ],
            "text/html": [
              "\n",
              "  <div id=\"df-530cd446-6b71-4c71-b9f4-18af2c47ef2f\">\n",
              "    <div class=\"colab-df-container\">\n",
              "      <div>\n",
              "<style scoped>\n",
              "    .dataframe tbody tr th:only-of-type {\n",
              "        vertical-align: middle;\n",
              "    }\n",
              "\n",
              "    .dataframe tbody tr th {\n",
              "        vertical-align: top;\n",
              "    }\n",
              "\n",
              "    .dataframe thead th {\n",
              "        text-align: right;\n",
              "    }\n",
              "</style>\n",
              "<table border=\"1\" class=\"dataframe\">\n",
              "  <thead>\n",
              "    <tr style=\"text-align: right;\">\n",
              "      <th></th>\n",
              "      <th>movie_title</th>\n",
              "      <th>score</th>\n",
              "    </tr>\n",
              "  </thead>\n",
              "  <tbody>\n",
              "    <tr>\n",
              "      <th>0</th>\n",
              "      <td>Super Mario Bros. (1993)</td>\n",
              "      <td>0.569102</td>\n",
              "    </tr>\n",
              "    <tr>\n",
              "      <th>1</th>\n",
              "      <td>Sherlock Holmes: A Game of Shadows (2011)</td>\n",
              "      <td>0.567432</td>\n",
              "    </tr>\n",
              "    <tr>\n",
              "      <th>2</th>\n",
              "      <td>Charlie's Angels: Full Throttle (2003)</td>\n",
              "      <td>0.539875</td>\n",
              "    </tr>\n",
              "    <tr>\n",
              "      <th>3</th>\n",
              "      <td>The Lego Movie (2014)</td>\n",
              "      <td>0.53737</td>\n",
              "    </tr>\n",
              "    <tr>\n",
              "      <th>4</th>\n",
              "      <td>Blood Diamond (2006)</td>\n",
              "      <td>0.536952</td>\n",
              "    </tr>\n",
              "    <tr>\n",
              "      <th>5</th>\n",
              "      <td>Hancock (2008)</td>\n",
              "      <td>0.519415</td>\n",
              "    </tr>\n",
              "    <tr>\n",
              "      <th>6</th>\n",
              "      <td>Three Kings (1999)</td>\n",
              "      <td>0.513987</td>\n",
              "    </tr>\n",
              "    <tr>\n",
              "      <th>7</th>\n",
              "      <td>Children of Men (2006)</td>\n",
              "      <td>0.510647</td>\n",
              "    </tr>\n",
              "    <tr>\n",
              "      <th>8</th>\n",
              "      <td>Jurassic World (2015)</td>\n",
              "      <td>0.510647</td>\n",
              "    </tr>\n",
              "    <tr>\n",
              "      <th>9</th>\n",
              "      <td>Day After Tomorrow, The (2004)</td>\n",
              "      <td>0.510647</td>\n",
              "    </tr>\n",
              "  </tbody>\n",
              "</table>\n",
              "</div>\n",
              "      <button class=\"colab-df-convert\" onclick=\"convertToInteractive('df-530cd446-6b71-4c71-b9f4-18af2c47ef2f')\"\n",
              "              title=\"Convert this dataframe to an interactive table.\"\n",
              "              style=\"display:none;\">\n",
              "        \n",
              "  <svg xmlns=\"http://www.w3.org/2000/svg\" height=\"24px\"viewBox=\"0 0 24 24\"\n",
              "       width=\"24px\">\n",
              "    <path d=\"M0 0h24v24H0V0z\" fill=\"none\"/>\n",
              "    <path d=\"M18.56 5.44l.94 2.06.94-2.06 2.06-.94-2.06-.94-.94-2.06-.94 2.06-2.06.94zm-11 1L8.5 8.5l.94-2.06 2.06-.94-2.06-.94L8.5 2.5l-.94 2.06-2.06.94zm10 10l.94 2.06.94-2.06 2.06-.94-2.06-.94-.94-2.06-.94 2.06-2.06.94z\"/><path d=\"M17.41 7.96l-1.37-1.37c-.4-.4-.92-.59-1.43-.59-.52 0-1.04.2-1.43.59L10.3 9.45l-7.72 7.72c-.78.78-.78 2.05 0 2.83L4 21.41c.39.39.9.59 1.41.59.51 0 1.02-.2 1.41-.59l7.78-7.78 2.81-2.81c.8-.78.8-2.07 0-2.86zM5.41 20L4 18.59l7.72-7.72 1.47 1.35L5.41 20z\"/>\n",
              "  </svg>\n",
              "      </button>\n",
              "      \n",
              "  <style>\n",
              "    .colab-df-container {\n",
              "      display:flex;\n",
              "      flex-wrap:wrap;\n",
              "      gap: 12px;\n",
              "    }\n",
              "\n",
              "    .colab-df-convert {\n",
              "      background-color: #E8F0FE;\n",
              "      border: none;\n",
              "      border-radius: 50%;\n",
              "      cursor: pointer;\n",
              "      display: none;\n",
              "      fill: #1967D2;\n",
              "      height: 32px;\n",
              "      padding: 0 0 0 0;\n",
              "      width: 32px;\n",
              "    }\n",
              "\n",
              "    .colab-df-convert:hover {\n",
              "      background-color: #E2EBFA;\n",
              "      box-shadow: 0px 1px 2px rgba(60, 64, 67, 0.3), 0px 1px 3px 1px rgba(60, 64, 67, 0.15);\n",
              "      fill: #174EA6;\n",
              "    }\n",
              "\n",
              "    [theme=dark] .colab-df-convert {\n",
              "      background-color: #3B4455;\n",
              "      fill: #D2E3FC;\n",
              "    }\n",
              "\n",
              "    [theme=dark] .colab-df-convert:hover {\n",
              "      background-color: #434B5C;\n",
              "      box-shadow: 0px 1px 3px 1px rgba(0, 0, 0, 0.15);\n",
              "      filter: drop-shadow(0px 1px 2px rgba(0, 0, 0, 0.3));\n",
              "      fill: #FFFFFF;\n",
              "    }\n",
              "  </style>\n",
              "\n",
              "      <script>\n",
              "        const buttonEl =\n",
              "          document.querySelector('#df-530cd446-6b71-4c71-b9f4-18af2c47ef2f button.colab-df-convert');\n",
              "        buttonEl.style.display =\n",
              "          google.colab.kernel.accessAllowed ? 'block' : 'none';\n",
              "\n",
              "        async function convertToInteractive(key) {\n",
              "          const element = document.querySelector('#df-530cd446-6b71-4c71-b9f4-18af2c47ef2f');\n",
              "          const dataTable =\n",
              "            await google.colab.kernel.invokeFunction('convertToInteractive',\n",
              "                                                     [key], {});\n",
              "          if (!dataTable) return;\n",
              "\n",
              "          const docLinkHtml = 'Like what you see? Visit the ' +\n",
              "            '<a target=\"_blank\" href=https://colab.research.google.com/notebooks/data_table.ipynb>data table notebook</a>'\n",
              "            + ' to learn more about interactive tables.';\n",
              "          element.innerHTML = '';\n",
              "          dataTable['output_type'] = 'display_data';\n",
              "          await google.colab.output.renderOutput(dataTable, element);\n",
              "          const docLink = document.createElement('div');\n",
              "          docLink.innerHTML = docLinkHtml;\n",
              "          element.appendChild(docLink);\n",
              "        }\n",
              "      </script>\n",
              "    </div>\n",
              "  </div>\n",
              "  "
            ]
          },
          "metadata": {},
          "execution_count": 14
        }
      ]
    },
    {
      "cell_type": "code",
      "source": [
        "profile_score"
      ],
      "metadata": {
        "colab": {
          "base_uri": "https://localhost:8080/",
          "height": 645
        },
        "id": "L977mH47tYDs",
        "outputId": "0bcab2fd-7f02-49e1-a954-e489cc83f2f7"
      },
      "execution_count": null,
      "outputs": [
        {
          "output_type": "execute_result",
          "data": {
            "text/plain": [
              "          genre   score\n",
              "0        Action  0.1374\n",
              "1     Adventure  0.1265\n",
              "2     Animation  0.0338\n",
              "3      Children  0.0497\n",
              "4        Comedy  0.1265\n",
              "5         Crime  0.0656\n",
              "6   Documentary  0.0000\n",
              "7         Drama  0.0973\n",
              "8       Fantasy  0.0635\n",
              "9     Film-Noir  0.0021\n",
              "10       Horror  0.0138\n",
              "11         IMAX  0.0000\n",
              "12      Musical  0.0359\n",
              "13      Mystery  0.0276\n",
              "14      Romance  0.0322\n",
              "15       Sci-Fi  0.0656\n",
              "16     Thriller  0.0839\n",
              "17          War  0.0263\n",
              "18      Western  0.0125"
            ],
            "text/html": [
              "\n",
              "  <div id=\"df-2f674672-66c7-457b-88b1-0da9ecc61162\">\n",
              "    <div class=\"colab-df-container\">\n",
              "      <div>\n",
              "<style scoped>\n",
              "    .dataframe tbody tr th:only-of-type {\n",
              "        vertical-align: middle;\n",
              "    }\n",
              "\n",
              "    .dataframe tbody tr th {\n",
              "        vertical-align: top;\n",
              "    }\n",
              "\n",
              "    .dataframe thead th {\n",
              "        text-align: right;\n",
              "    }\n",
              "</style>\n",
              "<table border=\"1\" class=\"dataframe\">\n",
              "  <thead>\n",
              "    <tr style=\"text-align: right;\">\n",
              "      <th></th>\n",
              "      <th>genre</th>\n",
              "      <th>score</th>\n",
              "    </tr>\n",
              "  </thead>\n",
              "  <tbody>\n",
              "    <tr>\n",
              "      <th>0</th>\n",
              "      <td>Action</td>\n",
              "      <td>0.1374</td>\n",
              "    </tr>\n",
              "    <tr>\n",
              "      <th>1</th>\n",
              "      <td>Adventure</td>\n",
              "      <td>0.1265</td>\n",
              "    </tr>\n",
              "    <tr>\n",
              "      <th>2</th>\n",
              "      <td>Animation</td>\n",
              "      <td>0.0338</td>\n",
              "    </tr>\n",
              "    <tr>\n",
              "      <th>3</th>\n",
              "      <td>Children</td>\n",
              "      <td>0.0497</td>\n",
              "    </tr>\n",
              "    <tr>\n",
              "      <th>4</th>\n",
              "      <td>Comedy</td>\n",
              "      <td>0.1265</td>\n",
              "    </tr>\n",
              "    <tr>\n",
              "      <th>5</th>\n",
              "      <td>Crime</td>\n",
              "      <td>0.0656</td>\n",
              "    </tr>\n",
              "    <tr>\n",
              "      <th>6</th>\n",
              "      <td>Documentary</td>\n",
              "      <td>0.0000</td>\n",
              "    </tr>\n",
              "    <tr>\n",
              "      <th>7</th>\n",
              "      <td>Drama</td>\n",
              "      <td>0.0973</td>\n",
              "    </tr>\n",
              "    <tr>\n",
              "      <th>8</th>\n",
              "      <td>Fantasy</td>\n",
              "      <td>0.0635</td>\n",
              "    </tr>\n",
              "    <tr>\n",
              "      <th>9</th>\n",
              "      <td>Film-Noir</td>\n",
              "      <td>0.0021</td>\n",
              "    </tr>\n",
              "    <tr>\n",
              "      <th>10</th>\n",
              "      <td>Horror</td>\n",
              "      <td>0.0138</td>\n",
              "    </tr>\n",
              "    <tr>\n",
              "      <th>11</th>\n",
              "      <td>IMAX</td>\n",
              "      <td>0.0000</td>\n",
              "    </tr>\n",
              "    <tr>\n",
              "      <th>12</th>\n",
              "      <td>Musical</td>\n",
              "      <td>0.0359</td>\n",
              "    </tr>\n",
              "    <tr>\n",
              "      <th>13</th>\n",
              "      <td>Mystery</td>\n",
              "      <td>0.0276</td>\n",
              "    </tr>\n",
              "    <tr>\n",
              "      <th>14</th>\n",
              "      <td>Romance</td>\n",
              "      <td>0.0322</td>\n",
              "    </tr>\n",
              "    <tr>\n",
              "      <th>15</th>\n",
              "      <td>Sci-Fi</td>\n",
              "      <td>0.0656</td>\n",
              "    </tr>\n",
              "    <tr>\n",
              "      <th>16</th>\n",
              "      <td>Thriller</td>\n",
              "      <td>0.0839</td>\n",
              "    </tr>\n",
              "    <tr>\n",
              "      <th>17</th>\n",
              "      <td>War</td>\n",
              "      <td>0.0263</td>\n",
              "    </tr>\n",
              "    <tr>\n",
              "      <th>18</th>\n",
              "      <td>Western</td>\n",
              "      <td>0.0125</td>\n",
              "    </tr>\n",
              "  </tbody>\n",
              "</table>\n",
              "</div>\n",
              "      <button class=\"colab-df-convert\" onclick=\"convertToInteractive('df-2f674672-66c7-457b-88b1-0da9ecc61162')\"\n",
              "              title=\"Convert this dataframe to an interactive table.\"\n",
              "              style=\"display:none;\">\n",
              "        \n",
              "  <svg xmlns=\"http://www.w3.org/2000/svg\" height=\"24px\"viewBox=\"0 0 24 24\"\n",
              "       width=\"24px\">\n",
              "    <path d=\"M0 0h24v24H0V0z\" fill=\"none\"/>\n",
              "    <path d=\"M18.56 5.44l.94 2.06.94-2.06 2.06-.94-2.06-.94-.94-2.06-.94 2.06-2.06.94zm-11 1L8.5 8.5l.94-2.06 2.06-.94-2.06-.94L8.5 2.5l-.94 2.06-2.06.94zm10 10l.94 2.06.94-2.06 2.06-.94-2.06-.94-.94-2.06-.94 2.06-2.06.94z\"/><path d=\"M17.41 7.96l-1.37-1.37c-.4-.4-.92-.59-1.43-.59-.52 0-1.04.2-1.43.59L10.3 9.45l-7.72 7.72c-.78.78-.78 2.05 0 2.83L4 21.41c.39.39.9.59 1.41.59.51 0 1.02-.2 1.41-.59l7.78-7.78 2.81-2.81c.8-.78.8-2.07 0-2.86zM5.41 20L4 18.59l7.72-7.72 1.47 1.35L5.41 20z\"/>\n",
              "  </svg>\n",
              "      </button>\n",
              "      \n",
              "  <style>\n",
              "    .colab-df-container {\n",
              "      display:flex;\n",
              "      flex-wrap:wrap;\n",
              "      gap: 12px;\n",
              "    }\n",
              "\n",
              "    .colab-df-convert {\n",
              "      background-color: #E8F0FE;\n",
              "      border: none;\n",
              "      border-radius: 50%;\n",
              "      cursor: pointer;\n",
              "      display: none;\n",
              "      fill: #1967D2;\n",
              "      height: 32px;\n",
              "      padding: 0 0 0 0;\n",
              "      width: 32px;\n",
              "    }\n",
              "\n",
              "    .colab-df-convert:hover {\n",
              "      background-color: #E2EBFA;\n",
              "      box-shadow: 0px 1px 2px rgba(60, 64, 67, 0.3), 0px 1px 3px 1px rgba(60, 64, 67, 0.15);\n",
              "      fill: #174EA6;\n",
              "    }\n",
              "\n",
              "    [theme=dark] .colab-df-convert {\n",
              "      background-color: #3B4455;\n",
              "      fill: #D2E3FC;\n",
              "    }\n",
              "\n",
              "    [theme=dark] .colab-df-convert:hover {\n",
              "      background-color: #434B5C;\n",
              "      box-shadow: 0px 1px 3px 1px rgba(0, 0, 0, 0.15);\n",
              "      filter: drop-shadow(0px 1px 2px rgba(0, 0, 0, 0.3));\n",
              "      fill: #FFFFFF;\n",
              "    }\n",
              "  </style>\n",
              "\n",
              "      <script>\n",
              "        const buttonEl =\n",
              "          document.querySelector('#df-2f674672-66c7-457b-88b1-0da9ecc61162 button.colab-df-convert');\n",
              "        buttonEl.style.display =\n",
              "          google.colab.kernel.accessAllowed ? 'block' : 'none';\n",
              "\n",
              "        async function convertToInteractive(key) {\n",
              "          const element = document.querySelector('#df-2f674672-66c7-457b-88b1-0da9ecc61162');\n",
              "          const dataTable =\n",
              "            await google.colab.kernel.invokeFunction('convertToInteractive',\n",
              "                                                     [key], {});\n",
              "          if (!dataTable) return;\n",
              "\n",
              "          const docLinkHtml = 'Like what you see? Visit the ' +\n",
              "            '<a target=\"_blank\" href=https://colab.research.google.com/notebooks/data_table.ipynb>data table notebook</a>'\n",
              "            + ' to learn more about interactive tables.';\n",
              "          element.innerHTML = '';\n",
              "          dataTable['output_type'] = 'display_data';\n",
              "          await google.colab.output.renderOutput(dataTable, element);\n",
              "          const docLink = document.createElement('div');\n",
              "          docLink.innerHTML = docLinkHtml;\n",
              "          element.appendChild(docLink);\n",
              "        }\n",
              "      </script>\n",
              "    </div>\n",
              "  </div>\n",
              "  "
            ]
          },
          "metadata": {},
          "execution_count": 15
        }
      ]
    },
    {
      "cell_type": "markdown",
      "source": [
        "## Collaboratory filtering "
      ],
      "metadata": {
        "id": "N1f7eOlp46b1"
      }
    },
    {
      "cell_type": "markdown",
      "source": [
        "### item-item collaborative filtering"
      ],
      "metadata": {
        "id": "Bpv0oHBX5JKo"
      }
    },
    {
      "cell_type": "code",
      "source": [
        "# Recommendation model that is based on the ratings similarity of the movies"
      ],
      "metadata": {
        "id": "OzR1BbkU5PeI"
      },
      "execution_count": null,
      "outputs": []
    },
    {
      "cell_type": "code",
      "source": [
        "# creating the interaction (utility) matrix R\n",
        "interaction_matrix= pd.pivot_table( data=ratings,index='title', columns='userId', values='rating' ) "
      ],
      "metadata": {
        "id": "jfbMkdjmwoMW"
      },
      "execution_count": null,
      "outputs": []
    },
    {
      "cell_type": "code",
      "source": [
        "# Item similarity matrix using Pearson correlation\n",
        "item_similarity = interaction_matrix.T.corr()"
      ],
      "metadata": {
        "id": "crKiSF6zzQuF"
      },
      "execution_count": null,
      "outputs": []
    },
    {
      "cell_type": "code",
      "source": [
        "# Item-based recommendation function\n",
        "def item_based_rec(picked_userid, number_of_similar_items=5, number_of_recommendations =10):\n",
        "  # Movies that the target user has not watched\n",
        "  picked_userid_unwatched = pd.DataFrame(interaction_matrix[picked_userid].isna()).reset_index()\n",
        "  picked_userid_unwatched = picked_userid_unwatched[picked_userid_unwatched[picked_userid]==True]['title'].values.tolist()\n",
        "  # Movies that the target user has watched\n",
        "  picked_userid_watched = pd.DataFrame(interaction_matrix[picked_userid].dropna(axis=0, how='all')\\\n",
        "                            .sort_values(ascending=False))\\\n",
        "                            .reset_index()\\\n",
        "                            .rename(columns={picked_userid:'rating'})\n",
        "  \n",
        "  # Dictionary to save the unwatched movie and predicted rating pair\n",
        "  rating_prediction ={}  \n",
        "  # Loop through unwatched movies          \n",
        "  for picked_movie in picked_userid_unwatched: \n",
        "    # Calculate the similarity score of the picked movie with other movies\n",
        "    picked_movie_similarity_score = item_similarity[[picked_movie]].reset_index().rename(columns={picked_movie:'similarity_score'})\n",
        "    # Rank the similarities between the picked user watched movie and the picked unwatched movie.\n",
        "    picked_userid_watched_similarity = pd.merge(left=picked_userid_watched, \n",
        "                                                right=picked_movie_similarity_score, \n",
        "                                                on='title', \n",
        "                                                how='inner')\\\n",
        "                                        .sort_values('similarity_score', ascending=False)[:number_of_similar_items]\n",
        "    # Calculate the predicted rating using weighted average of similarity scores and the ratings from user 1\n",
        "    predicted_rating = round(np.average(picked_userid_watched_similarity['rating'], \n",
        "                                        weights=picked_userid_watched_similarity['similarity_score']), 2)\n",
        "    # Save the predicted rating in the dictionary\n",
        "    rating_prediction[picked_movie] = predicted_rating\n",
        "    # Return the top recommended movies\n",
        "  return sorted(rating_prediction.items(), key=operator.itemgetter(1), reverse=True)[:number_of_recommendations]"
      ],
      "metadata": {
        "id": "dzsJo7dyzpve"
      },
      "execution_count": null,
      "outputs": []
    },
    {
      "cell_type": "code",
      "source": [
        "item_based_rec(picked_userid=0,number_of_similar_items=11, number_of_recommendations =10)"
      ],
      "metadata": {
        "colab": {
          "base_uri": "https://localhost:8080/"
        },
        "id": "0zz6v_9VPwAC",
        "outputId": "2e08159b-866a-47ec-f618-8320387fef5d"
      },
      "execution_count": null,
      "outputs": [
        {
          "output_type": "execute_result",
          "data": {
            "text/plain": [
              "[('Lethal Weapon 4 (1998)', 10.0),\n",
              " ('Untouchables, The (1987)', 10.0),\n",
              " ('Babel (2006)', 9.84),\n",
              " ('Ghost in the Shell (Kôkaku kidôtai) (1995)', 9.84),\n",
              " ('Pianist, The (2002)', 9.84),\n",
              " ('Waiting for Guffman (1996)', 9.84),\n",
              " ('Fistful of Dollars, A (Per un pugno di dollari) (1964)', 9.83),\n",
              " ('Godfather: Part III, The (1990)', 9.83),\n",
              " ('Maverick (1994)', 9.83),\n",
              " ('Vanilla Sky (2001)', 9.83)]"
            ]
          },
          "metadata": {},
          "execution_count": 40
        }
      ]
    },
    {
      "cell_type": "markdown",
      "source": [
        "### user-user collaborative filtering"
      ],
      "metadata": {
        "id": "HGGCZvfu7k8u"
      }
    },
    {
      "cell_type": "code",
      "source": [
        "# Recommendation model that is based on the ratings  of the most similar users to the selected one"
      ],
      "metadata": {
        "id": "v7C3A4ecihq6"
      },
      "execution_count": null,
      "outputs": []
    },
    {
      "cell_type": "code",
      "source": [
        "# create the interaction matrix\n",
        "interaction_matrix = ratings.pivot_table(index='userId',columns='title',values='rating',fill_value=0)"
      ],
      "metadata": {
        "id": "cRSqn59m-tdY"
      },
      "execution_count": null,
      "outputs": []
    },
    {
      "cell_type": "code",
      "source": [
        "# create matrix of users similarity\n",
        "similarity_dataframe=interaction_matrix.T.corr()"
      ],
      "metadata": {
        "id": "pVmg-f_B-tdZ"
      },
      "execution_count": null,
      "outputs": []
    },
    {
      "cell_type": "code",
      "source": [
        "# User-user collaborative filtering\n",
        "\n",
        "'''\n",
        "The parameters of the model are: userid -> the user Id for wich we want the recommendation \n",
        "                                 min_cor -> the minimum correlation of user id with other user\n",
        "                                 num_movie -> number of movie to be correlated\n",
        "The output of the function is a dataframe with the moives' title column and the expected rating column\n",
        "'''\n",
        "\n",
        "\n",
        "def user_user_model(userid,min_cor=0.1,num_movie=10):\n",
        "  if userid <= (len(user_mapping)-1) and userid >= 0:\n",
        "\n",
        "    # create the array of userid with the correlattion with the other user\n",
        "    neighbor_x= np.array([similarity_dataframe[userid].index[i] for i, v in enumerate(similarity_dataframe[userid]) if v>=min_cor])\n",
        "    # remove the userid from the correlated users\n",
        "    neighbor_x= list(neighbor_x)\n",
        "    neighbor_x.remove(userid)\n",
        "\n",
        "    if len(neighbor_x) < 1:\n",
        "      return print(f' There is no users correlated at {min_cor*100}% level ')\n",
        "\n",
        "\n",
        "    # find the non reviwed movies of the user\n",
        "    recomendation_columns= np.where(interaction_matrix.iloc[userid] == 0)[0]\n",
        "\n",
        "    # find the neighbors rating for the movies non rated by the userid\n",
        "    neighbor_rating =interaction_matrix.iloc[neighbor_x, recomendation_columns ] \n",
        "\n",
        "    # find the correlation values of the neighbors with userid\n",
        "    neighbor_similarity= similarity_dataframe[userid].loc[neighbor_x]\n",
        "    \n",
        "    # estimate the user rating non rated bat userid \n",
        "    score = np.dot(neighbor_similarity, neighbor_rating)/sum(neighbor_similarity) \n",
        "\n",
        "    # creating the output dataframe \n",
        "    datumm = score\n",
        "    columns = neighbor_rating.columns\n",
        "    item_score_df=pd.DataFrame(data=[columns,datumm.T]).T\n",
        "    item_score_df.columns = ['movie_title','score']\n",
        "    item_score_df.sort_values(by='score',  axis=0, ascending=False, inplace=True)\n",
        "\n",
        "    return item_score_df.head(num_movie)  \n",
        "\n",
        "  else:\n",
        "    raise IndexError(f\"The userId doens't exist. The userId range is from 0 to  {max(ratings.userId)} \")"
      ],
      "metadata": {
        "id": "Bhlb56b1zb5s"
      },
      "execution_count": null,
      "outputs": []
    },
    {
      "cell_type": "code",
      "source": [
        "user_user_model(userid=0,min_cor=0.2 ,num_movie=10)"
      ],
      "metadata": {
        "colab": {
          "base_uri": "https://localhost:8080/",
          "height": 363
        },
        "id": "wf6uWSvBIcP8",
        "outputId": "700c107a-6741-404b-8346-0e0e10a2a2a5"
      },
      "execution_count": null,
      "outputs": [
        {
          "output_type": "execute_result",
          "data": {
            "text/plain": [
              "                                   movie_title     score\n",
              "382                      Godfather, The (1972)  7.014163\n",
              "920          Terminator 2: Judgment Day (1991)  6.982508\n",
              "40                               Aliens (1986)  6.956132\n",
              "269                            Die Hard (1988)   6.06848\n",
              "494                                Jaws (1975)  5.548417\n",
              "843                    Sixth Sense, The (1999)   5.52623\n",
              "383             Godfather: Part II, The (1974)  5.395539\n",
              "978  Twelve Monkeys (a.k.a. 12 Monkeys) (1995)  5.187547\n",
              "873                         Stand by Me (1986)  5.083041\n",
              "824           Shawshank Redemption, The (1994)  5.082163"
            ],
            "text/html": [
              "\n",
              "  <div id=\"df-a3797fb7-3f48-469f-a0fe-d2dfd189f806\">\n",
              "    <div class=\"colab-df-container\">\n",
              "      <div>\n",
              "<style scoped>\n",
              "    .dataframe tbody tr th:only-of-type {\n",
              "        vertical-align: middle;\n",
              "    }\n",
              "\n",
              "    .dataframe tbody tr th {\n",
              "        vertical-align: top;\n",
              "    }\n",
              "\n",
              "    .dataframe thead th {\n",
              "        text-align: right;\n",
              "    }\n",
              "</style>\n",
              "<table border=\"1\" class=\"dataframe\">\n",
              "  <thead>\n",
              "    <tr style=\"text-align: right;\">\n",
              "      <th></th>\n",
              "      <th>movie_title</th>\n",
              "      <th>score</th>\n",
              "    </tr>\n",
              "  </thead>\n",
              "  <tbody>\n",
              "    <tr>\n",
              "      <th>382</th>\n",
              "      <td>Godfather, The (1972)</td>\n",
              "      <td>7.014163</td>\n",
              "    </tr>\n",
              "    <tr>\n",
              "      <th>920</th>\n",
              "      <td>Terminator 2: Judgment Day (1991)</td>\n",
              "      <td>6.982508</td>\n",
              "    </tr>\n",
              "    <tr>\n",
              "      <th>40</th>\n",
              "      <td>Aliens (1986)</td>\n",
              "      <td>6.956132</td>\n",
              "    </tr>\n",
              "    <tr>\n",
              "      <th>269</th>\n",
              "      <td>Die Hard (1988)</td>\n",
              "      <td>6.06848</td>\n",
              "    </tr>\n",
              "    <tr>\n",
              "      <th>494</th>\n",
              "      <td>Jaws (1975)</td>\n",
              "      <td>5.548417</td>\n",
              "    </tr>\n",
              "    <tr>\n",
              "      <th>843</th>\n",
              "      <td>Sixth Sense, The (1999)</td>\n",
              "      <td>5.52623</td>\n",
              "    </tr>\n",
              "    <tr>\n",
              "      <th>383</th>\n",
              "      <td>Godfather: Part II, The (1974)</td>\n",
              "      <td>5.395539</td>\n",
              "    </tr>\n",
              "    <tr>\n",
              "      <th>978</th>\n",
              "      <td>Twelve Monkeys (a.k.a. 12 Monkeys) (1995)</td>\n",
              "      <td>5.187547</td>\n",
              "    </tr>\n",
              "    <tr>\n",
              "      <th>873</th>\n",
              "      <td>Stand by Me (1986)</td>\n",
              "      <td>5.083041</td>\n",
              "    </tr>\n",
              "    <tr>\n",
              "      <th>824</th>\n",
              "      <td>Shawshank Redemption, The (1994)</td>\n",
              "      <td>5.082163</td>\n",
              "    </tr>\n",
              "  </tbody>\n",
              "</table>\n",
              "</div>\n",
              "      <button class=\"colab-df-convert\" onclick=\"convertToInteractive('df-a3797fb7-3f48-469f-a0fe-d2dfd189f806')\"\n",
              "              title=\"Convert this dataframe to an interactive table.\"\n",
              "              style=\"display:none;\">\n",
              "        \n",
              "  <svg xmlns=\"http://www.w3.org/2000/svg\" height=\"24px\"viewBox=\"0 0 24 24\"\n",
              "       width=\"24px\">\n",
              "    <path d=\"M0 0h24v24H0V0z\" fill=\"none\"/>\n",
              "    <path d=\"M18.56 5.44l.94 2.06.94-2.06 2.06-.94-2.06-.94-.94-2.06-.94 2.06-2.06.94zm-11 1L8.5 8.5l.94-2.06 2.06-.94-2.06-.94L8.5 2.5l-.94 2.06-2.06.94zm10 10l.94 2.06.94-2.06 2.06-.94-2.06-.94-.94-2.06-.94 2.06-2.06.94z\"/><path d=\"M17.41 7.96l-1.37-1.37c-.4-.4-.92-.59-1.43-.59-.52 0-1.04.2-1.43.59L10.3 9.45l-7.72 7.72c-.78.78-.78 2.05 0 2.83L4 21.41c.39.39.9.59 1.41.59.51 0 1.02-.2 1.41-.59l7.78-7.78 2.81-2.81c.8-.78.8-2.07 0-2.86zM5.41 20L4 18.59l7.72-7.72 1.47 1.35L5.41 20z\"/>\n",
              "  </svg>\n",
              "      </button>\n",
              "      \n",
              "  <style>\n",
              "    .colab-df-container {\n",
              "      display:flex;\n",
              "      flex-wrap:wrap;\n",
              "      gap: 12px;\n",
              "    }\n",
              "\n",
              "    .colab-df-convert {\n",
              "      background-color: #E8F0FE;\n",
              "      border: none;\n",
              "      border-radius: 50%;\n",
              "      cursor: pointer;\n",
              "      display: none;\n",
              "      fill: #1967D2;\n",
              "      height: 32px;\n",
              "      padding: 0 0 0 0;\n",
              "      width: 32px;\n",
              "    }\n",
              "\n",
              "    .colab-df-convert:hover {\n",
              "      background-color: #E2EBFA;\n",
              "      box-shadow: 0px 1px 2px rgba(60, 64, 67, 0.3), 0px 1px 3px 1px rgba(60, 64, 67, 0.15);\n",
              "      fill: #174EA6;\n",
              "    }\n",
              "\n",
              "    [theme=dark] .colab-df-convert {\n",
              "      background-color: #3B4455;\n",
              "      fill: #D2E3FC;\n",
              "    }\n",
              "\n",
              "    [theme=dark] .colab-df-convert:hover {\n",
              "      background-color: #434B5C;\n",
              "      box-shadow: 0px 1px 3px 1px rgba(0, 0, 0, 0.15);\n",
              "      filter: drop-shadow(0px 1px 2px rgba(0, 0, 0, 0.3));\n",
              "      fill: #FFFFFF;\n",
              "    }\n",
              "  </style>\n",
              "\n",
              "      <script>\n",
              "        const buttonEl =\n",
              "          document.querySelector('#df-a3797fb7-3f48-469f-a0fe-d2dfd189f806 button.colab-df-convert');\n",
              "        buttonEl.style.display =\n",
              "          google.colab.kernel.accessAllowed ? 'block' : 'none';\n",
              "\n",
              "        async function convertToInteractive(key) {\n",
              "          const element = document.querySelector('#df-a3797fb7-3f48-469f-a0fe-d2dfd189f806');\n",
              "          const dataTable =\n",
              "            await google.colab.kernel.invokeFunction('convertToInteractive',\n",
              "                                                     [key], {});\n",
              "          if (!dataTable) return;\n",
              "\n",
              "          const docLinkHtml = 'Like what you see? Visit the ' +\n",
              "            '<a target=\"_blank\" href=https://colab.research.google.com/notebooks/data_table.ipynb>data table notebook</a>'\n",
              "            + ' to learn more about interactive tables.';\n",
              "          element.innerHTML = '';\n",
              "          dataTable['output_type'] = 'display_data';\n",
              "          await google.colab.output.renderOutput(dataTable, element);\n",
              "          const docLink = document.createElement('div');\n",
              "          docLink.innerHTML = docLinkHtml;\n",
              "          element.appendChild(docLink);\n",
              "        }\n",
              "      </script>\n",
              "    </div>\n",
              "  </div>\n",
              "  "
            ]
          },
          "metadata": {},
          "execution_count": 18
        }
      ]
    },
    {
      "cell_type": "markdown",
      "source": [
        "## Latent based recommender system"
      ],
      "metadata": {
        "id": "bwyoFiGX6xjD"
      }
    },
    {
      "cell_type": "markdown",
      "source": [
        "### Create the bipartite graph"
      ],
      "metadata": {
        "id": "U-JcEPbwiDPR"
      }
    },
    {
      "cell_type": "code",
      "source": [
        "%%capture\n",
        "torch_geometric.seed_everything(5007662)\n",
        "# embedding of movie's title\n",
        "model = SentenceTransformer(\"all-MiniLM-L6-v2\")\n",
        "with torch.no_grad():\n",
        "  emb = model.encode(movies['title'].values, show_progress_bar=True,convert_to_tensor=True).cpu()\n",
        "  \n",
        "# encoding movie's genre\n",
        "genres = movies['genres'].str.get_dummies('|').values\n",
        "genres = torch.from_numpy(genres).to(torch.float)"
      ],
      "metadata": {
        "id": "gtgK-1xgiMH1"
      },
      "execution_count": null,
      "outputs": []
    },
    {
      "cell_type": "code",
      "source": [
        "# creating heterogeneus graph\n",
        "\n",
        "data = HeteroData()\n",
        "\n",
        "data['movie'].num_nodes = len(movie_mapping)\n",
        "data['user'].num_nodes = len(user_mapping)\n",
        "\n",
        "data['movie'].x = torch.cat([emb,genres], dim=-1)\n",
        "data['user'].x = torch.eye(data['user'].num_nodes) # no infomatio a priori about the  users\n",
        "\n",
        "src = ratings['userId'].values\n",
        "dst = ratings['movieId'].values\n",
        "\n",
        "edge=[]\n",
        "for i in list(range(0,len(src))):\n",
        "  edge.append( [src[i],dst[i]])\n",
        "\n",
        "edge_index= torch.tensor(edge)\n",
        "edge_index=edge_index.t().contiguous()\n",
        "\n",
        "rating = torch.from_numpy(ratings['rating'].values).to(torch.long)\n",
        "data['user', 'rates', 'movie'].edge_label = rating\n",
        "\n",
        "data['user', 'rates', 'movie'].edge_index = edge_index\n",
        "\n",
        "# Add a reverse ('movie', 'rev_rates', 'user') relation for message passing:\n",
        "data = T.ToUndirected()(data)\n",
        "\n",
        "# Remove \"reverse\" label.\n",
        "del data['movie', 'rev_rates', 'user'].edge_label  "
      ],
      "metadata": {
        "id": "Pei9fSm2iMH1"
      },
      "execution_count": null,
      "outputs": []
    },
    {
      "cell_type": "code",
      "source": [
        "torch_geometric.seed_everything(seed=5007662) # set seed\n",
        "# Perform a link-level split into training (80%) and test (20%) edges:\n",
        "train_data, val_data, test_data = T.RandomLinkSplit(\n",
        "    num_val=0.0,\n",
        "    num_test=0.2,\n",
        "    neg_sampling_ratio=0.0,\n",
        "    edge_types=[('user', 'rates', 'movie')],\n",
        "    rev_edge_types=[('movie', 'rev_rates', 'user')]\n",
        ")(data)"
      ],
      "metadata": {
        "id": "D1UhvZkPiMH2"
      },
      "execution_count": null,
      "outputs": []
    },
    {
      "cell_type": "markdown",
      "source": [
        "### Randomly initialize matrix factorization"
      ],
      "metadata": {
        "id": "L09EKtIk709J"
      }
    },
    {
      "cell_type": "code",
      "source": [
        "interaction_matrix = pd.pivot_table( data=ratings,index=['userId'], columns=['movieId'],values= 'rating',fill_value=0 ) "
      ],
      "metadata": {
        "id": "sKgjDRDNoNl3"
      },
      "execution_count": null,
      "outputs": []
    },
    {
      "cell_type": "code",
      "source": [
        "# Sort our data usa gli edges del grafo\n",
        "\n",
        "train_rows=train_data['user', 'rates', 'movie'].edge_label_index[0].numpy()\n",
        "train_cols=train_data['user', 'rates', 'movie'].edge_label_index[1].numpy()\n",
        "\n",
        "test_rows=test_data['user', 'rates', 'movie'].edge_label_index[0].numpy()\n",
        "test_cols=test_data['user', 'rates', 'movie'].edge_label_index[1].numpy()\n"
      ],
      "metadata": {
        "id": "XpB_WEcmiO6N"
      },
      "execution_count": null,
      "outputs": []
    },
    {
      "cell_type": "code",
      "source": [
        "# setting hyperparameter\n",
        "latent_vectors = 16 # dimension of the embedding\n",
        "num_users =  max(ratings.userId)+1\n",
        "num_movies= max(ratings.movieId)+1"
      ],
      "metadata": {
        "id": "5pPKoTcHofDK"
      },
      "execution_count": null,
      "outputs": []
    },
    {
      "cell_type": "code",
      "source": [
        "#randomly initialized moedel\n",
        "class LR_Matrix_Factorization(torch.nn.Module):\n",
        "    def __init__(self,user_features, movie_features):\n",
        "        super().__init__()\n",
        "        self.u_features=user_features\n",
        "        self.v_features=movie_features\n",
        "\n",
        "    def forward(self, rows,cols):\n",
        "        z=torch.matmul( self.u_features, self.v_features.t()).relu()\n",
        "        z= z[rows, cols]\n",
        "        \n",
        "        return z, self.u_features[rows], self.v_features[cols]"
      ],
      "metadata": {
        "id": "kBX6mxTbqE5F"
      },
      "execution_count": null,
      "outputs": []
    },
    {
      "cell_type": "code",
      "source": [
        "# inizialization of the embedding randomly\n",
        "user_features = torch.randn(num_users, latent_vectors, requires_grad=True, device=device)\n",
        "movie_features = torch.randn(num_movies, latent_vectors, requires_grad=True, device=device)\n",
        "\n",
        "\n",
        "# model initialization\n",
        "model = LR_Matrix_Factorization(user_features=user_features,movie_features= movie_features) \n",
        "optimizer = torch.optim.Adam([user_features, movie_features], lr=0.01)\n"
      ],
      "metadata": {
        "id": "ha2YPDkxs9Mm"
      },
      "execution_count": null,
      "outputs": []
    },
    {
      "cell_type": "code",
      "source": [
        "# definig the loss function \n",
        "def weighted_mse_loss(pred, target,u_features, v_features, lam_u=0.3,lam_v=0.3):\n",
        "  ssr= (torch.sum(torch.square(pred - target)))\n",
        "  u_regularization = lam_u * torch.sum(torch.pow(u_features.norm(dim=1), 2))\n",
        "  v_regularization = lam_v * torch.sum(torch.pow(v_features.norm(dim=1), 2))\n",
        "\n",
        "  return (ssr+u_regularization+v_regularization)/2"
      ],
      "metadata": {
        "id": "stcKZ3JMqfmT"
      },
      "execution_count": null,
      "outputs": []
    },
    {
      "cell_type": "code",
      "source": [
        "# defining the train function\n",
        "def train():\n",
        "    model.train()\n",
        "    optimizer.zero_grad()\n",
        "    pred,user_features,movie_features = model(rows=train_rows,cols=train_cols)\n",
        "    target =  torch.from_numpy(interaction_matrix.values[train_rows,train_cols]).to(device)\n",
        "    loss = weighted_mse_loss(pred, target,u_features=user_features, v_features=movie_features)\n",
        "    loss.backward()\n",
        "    optimizer.step()\n",
        "    return float(loss)\n"
      ],
      "metadata": {
        "id": "fr4pirenqfmT"
      },
      "execution_count": null,
      "outputs": []
    },
    {
      "cell_type": "code",
      "source": [
        "# defining the test function to evaluate the mean square error\n",
        "@torch.no_grad()\n",
        "def test(rows,cols):\n",
        "    model.eval()\n",
        "    pred,user_features,movie_features = model(rows=rows,cols=cols)\n",
        "    pred = pred.clamp(min=1, max=10)\n",
        "    target =  torch.from_numpy(interaction_matrix.values[rows,cols]).to(device)\n",
        "    rmse = F.mse_loss(pred, target).sqrt()\n",
        "    return float(rmse)"
      ],
      "metadata": {
        "id": "_QWLLm0EqfmT"
      },
      "execution_count": null,
      "outputs": []
    },
    {
      "cell_type": "code",
      "source": [
        "ran_loss_time_series=[]\n",
        "ran_train_rmse_time_series=[]\n",
        "ran_test_rmse_time_series=[]"
      ],
      "metadata": {
        "id": "h7dU9qayTDpu"
      },
      "execution_count": null,
      "outputs": []
    },
    {
      "cell_type": "code",
      "source": [
        "# run the model \n",
        "for epoch in range(1,1000):\n",
        "    loss = train()\n",
        "    train_rmse = test(train_rows,train_cols)\n",
        "    test_rmse = test(test_rows,test_cols)\n",
        "\n",
        "    ran_loss_time_series.append(loss)\n",
        "    ran_train_rmse_time_series.append(train_rmse)\n",
        "    ran_test_rmse_time_series.append(test_rmse)\n",
        "\n",
        "    print(f'Epoch: {epoch:03d}, Loss: {loss:.4f}, Train RMSE: {train_rmse:.4f},Test RMSE: {test_rmse:.4f}') \n"
      ],
      "metadata": {
        "id": "op2jqxCaqfmT",
        "colab": {
          "base_uri": "https://localhost:8080/"
        },
        "outputId": "2fc198ba-499b-4f38-cad4-1836725628a1"
      },
      "execution_count": null,
      "outputs": [
        {
          "output_type": "stream",
          "name": "stdout",
          "text": [
            "Epoch: 001, Loss: 1370941.5000, Train RMSE: 5.8399,Test RMSE: 5.8611\n",
            "Epoch: 002, Loss: 1364563.7500, Train RMSE: 5.8289,Test RMSE: 5.8613\n",
            "Epoch: 003, Loss: 1358315.5000, Train RMSE: 5.8176,Test RMSE: 5.8613\n",
            "Epoch: 004, Loss: 1352185.1250, Train RMSE: 5.8060,Test RMSE: 5.8613\n",
            "Epoch: 005, Loss: 1346176.8750, Train RMSE: 5.7941,Test RMSE: 5.8612\n",
            "Epoch: 006, Loss: 1340281.6250, Train RMSE: 5.7818,Test RMSE: 5.8609\n",
            "Epoch: 007, Loss: 1334496.5000, Train RMSE: 5.7693,Test RMSE: 5.8605\n",
            "Epoch: 008, Loss: 1328822.7500, Train RMSE: 5.7566,Test RMSE: 5.8600\n",
            "Epoch: 009, Loss: 1323241.5000, Train RMSE: 5.7437,Test RMSE: 5.8592\n",
            "Epoch: 010, Loss: 1317733.6250, Train RMSE: 5.7306,Test RMSE: 5.8583\n",
            "Epoch: 011, Loss: 1312302.5000, Train RMSE: 5.7174,Test RMSE: 5.8572\n",
            "Epoch: 012, Loss: 1306947.7500, Train RMSE: 5.7040,Test RMSE: 5.8560\n",
            "Epoch: 013, Loss: 1301661.1250, Train RMSE: 5.6905,Test RMSE: 5.8545\n",
            "Epoch: 014, Loss: 1296442.6250, Train RMSE: 5.6769,Test RMSE: 5.8528\n",
            "Epoch: 015, Loss: 1291281.5000, Train RMSE: 5.6633,Test RMSE: 5.8510\n",
            "Epoch: 016, Loss: 1286160.5000, Train RMSE: 5.6495,Test RMSE: 5.8489\n",
            "Epoch: 017, Loss: 1281081.6250, Train RMSE: 5.6356,Test RMSE: 5.8467\n",
            "Epoch: 018, Loss: 1276038.6250, Train RMSE: 5.6216,Test RMSE: 5.8442\n",
            "Epoch: 019, Loss: 1271024.0000, Train RMSE: 5.6075,Test RMSE: 5.8416\n",
            "Epoch: 020, Loss: 1266035.1250, Train RMSE: 5.5932,Test RMSE: 5.8388\n",
            "Epoch: 021, Loss: 1261060.5000, Train RMSE: 5.5789,Test RMSE: 5.8357\n",
            "Epoch: 022, Loss: 1256100.6250, Train RMSE: 5.5644,Test RMSE: 5.8323\n",
            "Epoch: 023, Loss: 1251157.8750, Train RMSE: 5.5498,Test RMSE: 5.8287\n",
            "Epoch: 024, Loss: 1246223.6250, Train RMSE: 5.5350,Test RMSE: 5.8247\n",
            "Epoch: 025, Loss: 1241294.6250, Train RMSE: 5.5201,Test RMSE: 5.8203\n",
            "Epoch: 026, Loss: 1236365.1250, Train RMSE: 5.5049,Test RMSE: 5.8156\n",
            "Epoch: 027, Loss: 1231429.0000, Train RMSE: 5.4895,Test RMSE: 5.8106\n",
            "Epoch: 028, Loss: 1226477.3750, Train RMSE: 5.4739,Test RMSE: 5.8052\n",
            "Epoch: 029, Loss: 1221504.5000, Train RMSE: 5.4582,Test RMSE: 5.7995\n",
            "Epoch: 030, Loss: 1216506.8750, Train RMSE: 5.4422,Test RMSE: 5.7935\n",
            "Epoch: 031, Loss: 1211467.3750, Train RMSE: 5.4261,Test RMSE: 5.7871\n",
            "Epoch: 032, Loss: 1206376.1250, Train RMSE: 5.4098,Test RMSE: 5.7802\n",
            "Epoch: 033, Loss: 1201231.8750, Train RMSE: 5.3932,Test RMSE: 5.7729\n",
            "Epoch: 034, Loss: 1196033.0000, Train RMSE: 5.3764,Test RMSE: 5.7652\n",
            "Epoch: 035, Loss: 1190771.5000, Train RMSE: 5.3594,Test RMSE: 5.7571\n",
            "Epoch: 036, Loss: 1185439.1250, Train RMSE: 5.3422,Test RMSE: 5.7486\n",
            "Epoch: 037, Loss: 1180038.0000, Train RMSE: 5.3246,Test RMSE: 5.7395\n",
            "Epoch: 038, Loss: 1174562.6250, Train RMSE: 5.3067,Test RMSE: 5.7299\n",
            "Epoch: 039, Loss: 1169008.7500, Train RMSE: 5.2885,Test RMSE: 5.7198\n",
            "Epoch: 040, Loss: 1163369.0000, Train RMSE: 5.2699,Test RMSE: 5.7092\n",
            "Epoch: 041, Loss: 1157620.3750, Train RMSE: 5.2510,Test RMSE: 5.6981\n",
            "Epoch: 042, Loss: 1151761.7500, Train RMSE: 5.2316,Test RMSE: 5.6864\n",
            "Epoch: 043, Loss: 1145777.0000, Train RMSE: 5.2119,Test RMSE: 5.6740\n",
            "Epoch: 044, Loss: 1139658.0000, Train RMSE: 5.1918,Test RMSE: 5.6610\n",
            "Epoch: 045, Loss: 1133403.8750, Train RMSE: 5.1713,Test RMSE: 5.6473\n",
            "Epoch: 046, Loss: 1126996.2500, Train RMSE: 5.1505,Test RMSE: 5.6331\n",
            "Epoch: 047, Loss: 1120441.5000, Train RMSE: 5.1291,Test RMSE: 5.6182\n",
            "Epoch: 048, Loss: 1113717.6250, Train RMSE: 5.1072,Test RMSE: 5.6026\n",
            "Epoch: 049, Loss: 1106835.5000, Train RMSE: 5.0848,Test RMSE: 5.5864\n",
            "Epoch: 050, Loss: 1099775.2500, Train RMSE: 5.0618,Test RMSE: 5.5694\n",
            "Epoch: 051, Loss: 1092517.1250, Train RMSE: 5.0382,Test RMSE: 5.5517\n",
            "Epoch: 052, Loss: 1085055.1250, Train RMSE: 5.0140,Test RMSE: 5.5332\n",
            "Epoch: 053, Loss: 1077408.3750, Train RMSE: 4.9892,Test RMSE: 5.5140\n",
            "Epoch: 054, Loss: 1069590.3750, Train RMSE: 4.9639,Test RMSE: 5.4939\n",
            "Epoch: 055, Loss: 1061550.5000, Train RMSE: 4.9379,Test RMSE: 5.4730\n",
            "Epoch: 056, Loss: 1053277.3750, Train RMSE: 4.9113,Test RMSE: 5.4511\n",
            "Epoch: 057, Loss: 1044785.1250, Train RMSE: 4.8839,Test RMSE: 5.4282\n",
            "Epoch: 058, Loss: 1036051.0000, Train RMSE: 4.8560,Test RMSE: 5.4043\n",
            "Epoch: 059, Loss: 1027099.3750, Train RMSE: 4.8272,Test RMSE: 5.3794\n",
            "Epoch: 060, Loss: 1017916.3750, Train RMSE: 4.7978,Test RMSE: 5.3533\n",
            "Epoch: 061, Loss: 1008511.0000, Train RMSE: 4.7675,Test RMSE: 5.3263\n",
            "Epoch: 062, Loss: 998872.3750, Train RMSE: 4.7364,Test RMSE: 5.2982\n",
            "Epoch: 063, Loss: 988974.0000, Train RMSE: 4.7044,Test RMSE: 5.2690\n",
            "Epoch: 064, Loss: 978831.5000, Train RMSE: 4.6715,Test RMSE: 5.2386\n",
            "Epoch: 065, Loss: 968433.5000, Train RMSE: 4.6379,Test RMSE: 5.2070\n",
            "Epoch: 066, Loss: 957754.3125, Train RMSE: 4.6034,Test RMSE: 5.1741\n",
            "Epoch: 067, Loss: 946817.6875, Train RMSE: 4.5681,Test RMSE: 5.1401\n",
            "Epoch: 068, Loss: 935640.2500, Train RMSE: 4.5318,Test RMSE: 5.1050\n",
            "Epoch: 069, Loss: 924194.5000, Train RMSE: 4.4944,Test RMSE: 5.0686\n",
            "Epoch: 070, Loss: 912522.8125, Train RMSE: 4.4560,Test RMSE: 5.0309\n",
            "Epoch: 071, Loss: 900605.8125, Train RMSE: 4.4167,Test RMSE: 4.9921\n",
            "Epoch: 072, Loss: 888452.0625, Train RMSE: 4.3764,Test RMSE: 4.9521\n",
            "Epoch: 073, Loss: 876116.5000, Train RMSE: 4.3350,Test RMSE: 4.9108\n",
            "Epoch: 074, Loss: 863627.1250, Train RMSE: 4.2928,Test RMSE: 4.8681\n",
            "Epoch: 075, Loss: 850952.3125, Train RMSE: 4.2497,Test RMSE: 4.8243\n",
            "Epoch: 076, Loss: 838064.2500, Train RMSE: 4.2058,Test RMSE: 4.7790\n",
            "Epoch: 077, Loss: 824986.3125, Train RMSE: 4.1610,Test RMSE: 4.7326\n",
            "Epoch: 078, Loss: 811767.1250, Train RMSE: 4.1153,Test RMSE: 4.6852\n",
            "Epoch: 079, Loss: 798396.3750, Train RMSE: 4.0689,Test RMSE: 4.6366\n",
            "Epoch: 080, Loss: 784871.5625, Train RMSE: 4.0216,Test RMSE: 4.5872\n",
            "Epoch: 081, Loss: 771279.3750, Train RMSE: 3.9735,Test RMSE: 4.5370\n",
            "Epoch: 082, Loss: 757571.3125, Train RMSE: 3.9247,Test RMSE: 4.4858\n",
            "Epoch: 083, Loss: 743812.0000, Train RMSE: 3.8752,Test RMSE: 4.4338\n",
            "Epoch: 084, Loss: 730003.8750, Train RMSE: 3.8248,Test RMSE: 4.3809\n",
            "Epoch: 085, Loss: 716133.7500, Train RMSE: 3.7739,Test RMSE: 4.3273\n",
            "Epoch: 086, Loss: 702204.6250, Train RMSE: 3.7225,Test RMSE: 4.2731\n",
            "Epoch: 087, Loss: 688265.7500, Train RMSE: 3.6705,Test RMSE: 4.2185\n",
            "Epoch: 088, Loss: 674348.3750, Train RMSE: 3.6181,Test RMSE: 4.1638\n",
            "Epoch: 089, Loss: 660462.3750, Train RMSE: 3.5651,Test RMSE: 4.1087\n",
            "Epoch: 090, Loss: 646664.5625, Train RMSE: 3.5116,Test RMSE: 4.0536\n",
            "Epoch: 091, Loss: 632988.3750, Train RMSE: 3.4579,Test RMSE: 3.9983\n",
            "Epoch: 092, Loss: 619494.1250, Train RMSE: 3.4040,Test RMSE: 3.9427\n",
            "Epoch: 093, Loss: 606163.6250, Train RMSE: 3.3501,Test RMSE: 3.8869\n",
            "Epoch: 094, Loss: 593004.9375, Train RMSE: 3.2963,Test RMSE: 3.8309\n",
            "Epoch: 095, Loss: 580061.6250, Train RMSE: 3.2429,Test RMSE: 3.7752\n",
            "Epoch: 096, Loss: 567298.4375, Train RMSE: 3.1898,Test RMSE: 3.7196\n",
            "Epoch: 097, Loss: 554786.5000, Train RMSE: 3.1370,Test RMSE: 3.6646\n",
            "Epoch: 098, Loss: 542563.1875, Train RMSE: 3.0847,Test RMSE: 3.6104\n",
            "Epoch: 099, Loss: 530635.0625, Train RMSE: 3.0330,Test RMSE: 3.5570\n",
            "Epoch: 100, Loss: 519005.0000, Train RMSE: 2.9820,Test RMSE: 3.5045\n",
            "Epoch: 101, Loss: 507708.3750, Train RMSE: 2.9318,Test RMSE: 3.4532\n",
            "Epoch: 102, Loss: 496730.9062, Train RMSE: 2.8826,Test RMSE: 3.4029\n",
            "Epoch: 103, Loss: 486083.9062, Train RMSE: 2.8345,Test RMSE: 3.3536\n",
            "Epoch: 104, Loss: 475754.0625, Train RMSE: 2.7875,Test RMSE: 3.3052\n",
            "Epoch: 105, Loss: 465738.6875, Train RMSE: 2.7418,Test RMSE: 3.2577\n",
            "Epoch: 106, Loss: 456032.7812, Train RMSE: 2.6971,Test RMSE: 3.2113\n",
            "Epoch: 107, Loss: 446647.6250, Train RMSE: 2.6536,Test RMSE: 3.1662\n",
            "Epoch: 108, Loss: 437589.0000, Train RMSE: 2.6111,Test RMSE: 3.1225\n",
            "Epoch: 109, Loss: 428856.8750, Train RMSE: 2.5699,Test RMSE: 3.0799\n",
            "Epoch: 110, Loss: 420448.6250, Train RMSE: 2.5297,Test RMSE: 3.0385\n",
            "Epoch: 111, Loss: 412347.3125, Train RMSE: 2.4909,Test RMSE: 2.9983\n",
            "Epoch: 112, Loss: 404543.3438, Train RMSE: 2.4534,Test RMSE: 2.9591\n",
            "Epoch: 113, Loss: 397017.1250, Train RMSE: 2.4171,Test RMSE: 2.9209\n",
            "Epoch: 114, Loss: 389780.8438, Train RMSE: 2.3821,Test RMSE: 2.8839\n",
            "Epoch: 115, Loss: 382838.8438, Train RMSE: 2.3481,Test RMSE: 2.8481\n",
            "Epoch: 116, Loss: 376174.4688, Train RMSE: 2.3153,Test RMSE: 2.8133\n",
            "Epoch: 117, Loss: 369767.1875, Train RMSE: 2.2836,Test RMSE: 2.7797\n",
            "Epoch: 118, Loss: 363618.4375, Train RMSE: 2.2530,Test RMSE: 2.7472\n",
            "Epoch: 119, Loss: 357717.6250, Train RMSE: 2.2236,Test RMSE: 2.7158\n",
            "Epoch: 120, Loss: 352039.0000, Train RMSE: 2.1952,Test RMSE: 2.6855\n",
            "Epoch: 121, Loss: 346572.8125, Train RMSE: 2.1679,Test RMSE: 2.6563\n",
            "Epoch: 122, Loss: 341328.4375, Train RMSE: 2.1416,Test RMSE: 2.6279\n",
            "Epoch: 123, Loss: 336290.1250, Train RMSE: 2.1161,Test RMSE: 2.6003\n",
            "Epoch: 124, Loss: 331460.5000, Train RMSE: 2.0916,Test RMSE: 2.5738\n",
            "Epoch: 125, Loss: 326831.1250, Train RMSE: 2.0678,Test RMSE: 2.5483\n",
            "Epoch: 126, Loss: 322402.6875, Train RMSE: 2.0449,Test RMSE: 2.5237\n",
            "Epoch: 127, Loss: 318154.6562, Train RMSE: 2.0230,Test RMSE: 2.5000\n",
            "Epoch: 128, Loss: 314081.7500, Train RMSE: 2.0019,Test RMSE: 2.4771\n",
            "Epoch: 129, Loss: 310174.1562, Train RMSE: 1.9817,Test RMSE: 2.4550\n",
            "Epoch: 130, Loss: 306423.9688, Train RMSE: 1.9624,Test RMSE: 2.4337\n",
            "Epoch: 131, Loss: 302824.4688, Train RMSE: 1.9439,Test RMSE: 2.4132\n",
            "Epoch: 132, Loss: 299368.3438, Train RMSE: 1.9261,Test RMSE: 2.3934\n",
            "Epoch: 133, Loss: 296046.4375, Train RMSE: 1.9090,Test RMSE: 2.3742\n",
            "Epoch: 134, Loss: 292857.1250, Train RMSE: 1.8927,Test RMSE: 2.3557\n",
            "Epoch: 135, Loss: 289798.2812, Train RMSE: 1.8770,Test RMSE: 2.3378\n",
            "Epoch: 136, Loss: 286861.6562, Train RMSE: 1.8619,Test RMSE: 2.3206\n",
            "Epoch: 137, Loss: 284042.3125, Train RMSE: 1.8474,Test RMSE: 2.3039\n",
            "Epoch: 138, Loss: 281336.0625, Train RMSE: 1.8335,Test RMSE: 2.2880\n",
            "Epoch: 139, Loss: 278733.0312, Train RMSE: 1.8201,Test RMSE: 2.2726\n",
            "Epoch: 140, Loss: 276233.4375, Train RMSE: 1.8074,Test RMSE: 2.2579\n",
            "Epoch: 141, Loss: 273833.7812, Train RMSE: 1.7953,Test RMSE: 2.2438\n",
            "Epoch: 142, Loss: 271525.9375, Train RMSE: 1.7836,Test RMSE: 2.2301\n",
            "Epoch: 143, Loss: 269306.4062, Train RMSE: 1.7724,Test RMSE: 2.2170\n",
            "Epoch: 144, Loss: 267168.8438, Train RMSE: 1.7616,Test RMSE: 2.2044\n",
            "Epoch: 145, Loss: 265114.1250, Train RMSE: 1.7514,Test RMSE: 2.1923\n",
            "Epoch: 146, Loss: 263137.8125, Train RMSE: 1.7416,Test RMSE: 2.1806\n",
            "Epoch: 147, Loss: 261238.2031, Train RMSE: 1.7321,Test RMSE: 2.1693\n",
            "Epoch: 148, Loss: 259409.5781, Train RMSE: 1.7230,Test RMSE: 2.1584\n",
            "Epoch: 149, Loss: 257651.4375, Train RMSE: 1.7143,Test RMSE: 2.1479\n",
            "Epoch: 150, Loss: 255960.2031, Train RMSE: 1.7060,Test RMSE: 2.1377\n",
            "Epoch: 151, Loss: 254332.0469, Train RMSE: 1.6981,Test RMSE: 2.1279\n",
            "Epoch: 152, Loss: 252763.7812, Train RMSE: 1.6905,Test RMSE: 2.1184\n",
            "Epoch: 153, Loss: 251251.4062, Train RMSE: 1.6833,Test RMSE: 2.1092\n",
            "Epoch: 154, Loss: 249791.9375, Train RMSE: 1.6763,Test RMSE: 2.1003\n",
            "Epoch: 155, Loss: 248382.8594, Train RMSE: 1.6697,Test RMSE: 2.0917\n",
            "Epoch: 156, Loss: 247021.0000, Train RMSE: 1.6634,Test RMSE: 2.0834\n",
            "Epoch: 157, Loss: 245705.4688, Train RMSE: 1.6573,Test RMSE: 2.0753\n",
            "Epoch: 158, Loss: 244433.8438, Train RMSE: 1.6514,Test RMSE: 2.0674\n",
            "Epoch: 159, Loss: 243203.9062, Train RMSE: 1.6458,Test RMSE: 2.0598\n",
            "Epoch: 160, Loss: 242013.3125, Train RMSE: 1.6404,Test RMSE: 2.0524\n",
            "Epoch: 161, Loss: 240860.7500, Train RMSE: 1.6352,Test RMSE: 2.0453\n",
            "Epoch: 162, Loss: 239743.8906, Train RMSE: 1.6302,Test RMSE: 2.0383\n",
            "Epoch: 163, Loss: 238661.1875, Train RMSE: 1.6254,Test RMSE: 2.0316\n",
            "Epoch: 164, Loss: 237611.8906, Train RMSE: 1.6207,Test RMSE: 2.0250\n",
            "Epoch: 165, Loss: 236594.5938, Train RMSE: 1.6163,Test RMSE: 2.0186\n",
            "Epoch: 166, Loss: 235607.9688, Train RMSE: 1.6120,Test RMSE: 2.0123\n",
            "Epoch: 167, Loss: 234650.7344, Train RMSE: 1.6078,Test RMSE: 2.0063\n",
            "Epoch: 168, Loss: 233721.7344, Train RMSE: 1.6039,Test RMSE: 2.0004\n",
            "Epoch: 169, Loss: 232819.7500, Train RMSE: 1.6000,Test RMSE: 1.9947\n",
            "Epoch: 170, Loss: 231943.6875, Train RMSE: 1.5963,Test RMSE: 1.9891\n",
            "Epoch: 171, Loss: 231092.4688, Train RMSE: 1.5928,Test RMSE: 1.9837\n",
            "Epoch: 172, Loss: 230264.4531, Train RMSE: 1.5894,Test RMSE: 1.9784\n",
            "Epoch: 173, Loss: 229459.0312, Train RMSE: 1.5861,Test RMSE: 1.9733\n",
            "Epoch: 174, Loss: 228675.3438, Train RMSE: 1.5830,Test RMSE: 1.9683\n",
            "Epoch: 175, Loss: 227912.6094, Train RMSE: 1.5799,Test RMSE: 1.9634\n",
            "Epoch: 176, Loss: 227169.9375, Train RMSE: 1.5770,Test RMSE: 1.9586\n",
            "Epoch: 177, Loss: 226446.6250, Train RMSE: 1.5742,Test RMSE: 1.9540\n",
            "Epoch: 178, Loss: 225741.8281, Train RMSE: 1.5714,Test RMSE: 1.9494\n",
            "Epoch: 179, Loss: 225054.8438, Train RMSE: 1.5688,Test RMSE: 1.9450\n",
            "Epoch: 180, Loss: 224385.0312, Train RMSE: 1.5662,Test RMSE: 1.9407\n",
            "Epoch: 181, Loss: 223731.6875, Train RMSE: 1.5638,Test RMSE: 1.9365\n",
            "Epoch: 182, Loss: 223094.2188, Train RMSE: 1.5614,Test RMSE: 1.9324\n",
            "Epoch: 183, Loss: 222472.0000, Train RMSE: 1.5591,Test RMSE: 1.9284\n",
            "Epoch: 184, Loss: 221864.4688, Train RMSE: 1.5569,Test RMSE: 1.9245\n",
            "Epoch: 185, Loss: 221271.0938, Train RMSE: 1.5547,Test RMSE: 1.9207\n",
            "Epoch: 186, Loss: 220691.3438, Train RMSE: 1.5526,Test RMSE: 1.9169\n",
            "Epoch: 187, Loss: 220124.7188, Train RMSE: 1.5506,Test RMSE: 1.9133\n",
            "Epoch: 188, Loss: 219570.7344, Train RMSE: 1.5486,Test RMSE: 1.9097\n",
            "Epoch: 189, Loss: 219028.9688, Train RMSE: 1.5467,Test RMSE: 1.9062\n",
            "Epoch: 190, Loss: 218498.9844, Train RMSE: 1.5449,Test RMSE: 1.9028\n",
            "Epoch: 191, Loss: 217980.3750, Train RMSE: 1.5431,Test RMSE: 1.8995\n",
            "Epoch: 192, Loss: 217472.7188, Train RMSE: 1.5414,Test RMSE: 1.8962\n",
            "Epoch: 193, Loss: 216975.7031, Train RMSE: 1.5397,Test RMSE: 1.8930\n",
            "Epoch: 194, Loss: 216488.9219, Train RMSE: 1.5381,Test RMSE: 1.8899\n",
            "Epoch: 195, Loss: 216012.0312, Train RMSE: 1.5365,Test RMSE: 1.8869\n",
            "Epoch: 196, Loss: 215544.7188, Train RMSE: 1.5350,Test RMSE: 1.8839\n",
            "Epoch: 197, Loss: 215086.7344, Train RMSE: 1.5335,Test RMSE: 1.8809\n",
            "Epoch: 198, Loss: 214637.7188, Train RMSE: 1.5321,Test RMSE: 1.8780\n",
            "Epoch: 199, Loss: 214197.4375, Train RMSE: 1.5307,Test RMSE: 1.8752\n",
            "Epoch: 200, Loss: 213765.6562, Train RMSE: 1.5293,Test RMSE: 1.8725\n",
            "Epoch: 201, Loss: 213342.0625, Train RMSE: 1.5280,Test RMSE: 1.8698\n",
            "Epoch: 202, Loss: 212926.4688, Train RMSE: 1.5267,Test RMSE: 1.8671\n",
            "Epoch: 203, Loss: 212518.6094, Train RMSE: 1.5255,Test RMSE: 1.8645\n",
            "Epoch: 204, Loss: 212118.2812, Train RMSE: 1.5243,Test RMSE: 1.8620\n",
            "Epoch: 205, Loss: 211725.2812, Train RMSE: 1.5231,Test RMSE: 1.8595\n",
            "Epoch: 206, Loss: 211339.3438, Train RMSE: 1.5219,Test RMSE: 1.8570\n",
            "Epoch: 207, Loss: 210960.3750, Train RMSE: 1.5208,Test RMSE: 1.8546\n",
            "Epoch: 208, Loss: 210588.0938, Train RMSE: 1.5198,Test RMSE: 1.8522\n",
            "Epoch: 209, Loss: 210222.3750, Train RMSE: 1.5187,Test RMSE: 1.8499\n",
            "Epoch: 210, Loss: 209863.0312, Train RMSE: 1.5177,Test RMSE: 1.8477\n",
            "Epoch: 211, Loss: 209509.9062, Train RMSE: 1.5167,Test RMSE: 1.8454\n",
            "Epoch: 212, Loss: 209162.7969, Train RMSE: 1.5157,Test RMSE: 1.8432\n",
            "Epoch: 213, Loss: 208821.5938, Train RMSE: 1.5147,Test RMSE: 1.8411\n",
            "Epoch: 214, Loss: 208486.1250, Train RMSE: 1.5138,Test RMSE: 1.8390\n",
            "Epoch: 215, Loss: 208156.2500, Train RMSE: 1.5129,Test RMSE: 1.8369\n",
            "Epoch: 216, Loss: 207831.8438, Train RMSE: 1.5120,Test RMSE: 1.8348\n",
            "Epoch: 217, Loss: 207512.7500, Train RMSE: 1.5112,Test RMSE: 1.8328\n",
            "Epoch: 218, Loss: 207198.8438, Train RMSE: 1.5103,Test RMSE: 1.8309\n",
            "Epoch: 219, Loss: 206890.0156, Train RMSE: 1.5095,Test RMSE: 1.8289\n",
            "Epoch: 220, Loss: 206586.1250, Train RMSE: 1.5087,Test RMSE: 1.8270\n",
            "Epoch: 221, Loss: 206287.0781, Train RMSE: 1.5079,Test RMSE: 1.8251\n",
            "Epoch: 222, Loss: 205992.7188, Train RMSE: 1.5072,Test RMSE: 1.8233\n",
            "Epoch: 223, Loss: 205703.0000, Train RMSE: 1.5064,Test RMSE: 1.8215\n",
            "Epoch: 224, Loss: 205417.7812, Train RMSE: 1.5057,Test RMSE: 1.8197\n",
            "Epoch: 225, Loss: 205136.9375, Train RMSE: 1.5050,Test RMSE: 1.8179\n",
            "Epoch: 226, Loss: 204860.4375, Train RMSE: 1.5043,Test RMSE: 1.8162\n",
            "Epoch: 227, Loss: 204588.1094, Train RMSE: 1.5036,Test RMSE: 1.8145\n",
            "Epoch: 228, Loss: 204319.9062, Train RMSE: 1.5029,Test RMSE: 1.8128\n",
            "Epoch: 229, Loss: 204055.7344, Train RMSE: 1.5023,Test RMSE: 1.8112\n",
            "Epoch: 230, Loss: 203795.5000, Train RMSE: 1.5016,Test RMSE: 1.8096\n",
            "Epoch: 231, Loss: 203539.0938, Train RMSE: 1.5010,Test RMSE: 1.8080\n",
            "Epoch: 232, Loss: 203286.5000, Train RMSE: 1.5004,Test RMSE: 1.8064\n",
            "Epoch: 233, Loss: 203037.5938, Train RMSE: 1.4998,Test RMSE: 1.8049\n",
            "Epoch: 234, Loss: 202792.2969, Train RMSE: 1.4992,Test RMSE: 1.8033\n",
            "Epoch: 235, Loss: 202550.5312, Train RMSE: 1.4986,Test RMSE: 1.8019\n",
            "Epoch: 236, Loss: 202312.2500, Train RMSE: 1.4980,Test RMSE: 1.8004\n",
            "Epoch: 237, Loss: 202077.3750, Train RMSE: 1.4975,Test RMSE: 1.7989\n",
            "Epoch: 238, Loss: 201845.8125, Train RMSE: 1.4969,Test RMSE: 1.7975\n",
            "Epoch: 239, Loss: 201617.5312, Train RMSE: 1.4964,Test RMSE: 1.7961\n",
            "Epoch: 240, Loss: 201392.4688, Train RMSE: 1.4959,Test RMSE: 1.7947\n",
            "Epoch: 241, Loss: 201170.5156, Train RMSE: 1.4954,Test RMSE: 1.7934\n",
            "Epoch: 242, Loss: 200951.6406, Train RMSE: 1.4949,Test RMSE: 1.7920\n",
            "Epoch: 243, Loss: 200735.7812, Train RMSE: 1.4944,Test RMSE: 1.7907\n",
            "Epoch: 244, Loss: 200522.9062, Train RMSE: 1.4939,Test RMSE: 1.7894\n",
            "Epoch: 245, Loss: 200312.9062, Train RMSE: 1.4934,Test RMSE: 1.7881\n",
            "Epoch: 246, Loss: 200105.7812, Train RMSE: 1.4929,Test RMSE: 1.7868\n",
            "Epoch: 247, Loss: 199901.4531, Train RMSE: 1.4925,Test RMSE: 1.7856\n",
            "Epoch: 248, Loss: 199699.8438, Train RMSE: 1.4920,Test RMSE: 1.7844\n",
            "Epoch: 249, Loss: 199500.9375, Train RMSE: 1.4916,Test RMSE: 1.7831\n",
            "Epoch: 250, Loss: 199304.6875, Train RMSE: 1.4911,Test RMSE: 1.7819\n",
            "Epoch: 251, Loss: 199111.0312, Train RMSE: 1.4907,Test RMSE: 1.7808\n",
            "Epoch: 252, Loss: 198919.9062, Train RMSE: 1.4903,Test RMSE: 1.7796\n",
            "Epoch: 253, Loss: 198731.3125, Train RMSE: 1.4898,Test RMSE: 1.7785\n",
            "Epoch: 254, Loss: 198545.1562, Train RMSE: 1.4894,Test RMSE: 1.7773\n",
            "Epoch: 255, Loss: 198361.4062, Train RMSE: 1.4890,Test RMSE: 1.7762\n",
            "Epoch: 256, Loss: 198180.0469, Train RMSE: 1.4886,Test RMSE: 1.7751\n",
            "Epoch: 257, Loss: 198001.0156, Train RMSE: 1.4882,Test RMSE: 1.7740\n",
            "Epoch: 258, Loss: 197824.2500, Train RMSE: 1.4878,Test RMSE: 1.7730\n",
            "Epoch: 259, Loss: 197649.7812, Train RMSE: 1.4874,Test RMSE: 1.7719\n",
            "Epoch: 260, Loss: 197477.4844, Train RMSE: 1.4871,Test RMSE: 1.7709\n",
            "Epoch: 261, Loss: 197307.3750, Train RMSE: 1.4867,Test RMSE: 1.7698\n",
            "Epoch: 262, Loss: 197139.4062, Train RMSE: 1.4863,Test RMSE: 1.7688\n",
            "Epoch: 263, Loss: 196973.5312, Train RMSE: 1.4859,Test RMSE: 1.7678\n",
            "Epoch: 264, Loss: 196809.7500, Train RMSE: 1.4856,Test RMSE: 1.7668\n",
            "Epoch: 265, Loss: 196647.9688, Train RMSE: 1.4852,Test RMSE: 1.7658\n",
            "Epoch: 266, Loss: 196488.1875, Train RMSE: 1.4849,Test RMSE: 1.7649\n",
            "Epoch: 267, Loss: 196330.3750, Train RMSE: 1.4845,Test RMSE: 1.7639\n",
            "Epoch: 268, Loss: 196174.5156, Train RMSE: 1.4842,Test RMSE: 1.7630\n",
            "Epoch: 269, Loss: 196020.5469, Train RMSE: 1.4838,Test RMSE: 1.7620\n",
            "Epoch: 270, Loss: 195868.4375, Train RMSE: 1.4835,Test RMSE: 1.7611\n",
            "Epoch: 271, Loss: 195718.1875, Train RMSE: 1.4832,Test RMSE: 1.7602\n",
            "Epoch: 272, Loss: 195569.7344, Train RMSE: 1.4828,Test RMSE: 1.7593\n",
            "Epoch: 273, Loss: 195423.0625, Train RMSE: 1.4825,Test RMSE: 1.7584\n",
            "Epoch: 274, Loss: 195278.1562, Train RMSE: 1.4822,Test RMSE: 1.7575\n",
            "Epoch: 275, Loss: 195134.9844, Train RMSE: 1.4818,Test RMSE: 1.7567\n",
            "Epoch: 276, Loss: 194993.5000, Train RMSE: 1.4815,Test RMSE: 1.7558\n",
            "Epoch: 277, Loss: 194853.6719, Train RMSE: 1.4812,Test RMSE: 1.7550\n",
            "Epoch: 278, Loss: 194715.5000, Train RMSE: 1.4809,Test RMSE: 1.7541\n",
            "Epoch: 279, Loss: 194578.9531, Train RMSE: 1.4806,Test RMSE: 1.7533\n",
            "Epoch: 280, Loss: 194444.0000, Train RMSE: 1.4803,Test RMSE: 1.7525\n",
            "Epoch: 281, Loss: 194310.6250, Train RMSE: 1.4800,Test RMSE: 1.7517\n",
            "Epoch: 282, Loss: 194178.7812, Train RMSE: 1.4797,Test RMSE: 1.7509\n",
            "Epoch: 283, Loss: 194048.4844, Train RMSE: 1.4794,Test RMSE: 1.7501\n",
            "Epoch: 284, Loss: 193919.6875, Train RMSE: 1.4791,Test RMSE: 1.7493\n",
            "Epoch: 285, Loss: 193792.3594, Train RMSE: 1.4788,Test RMSE: 1.7486\n",
            "Epoch: 286, Loss: 193666.5000, Train RMSE: 1.4785,Test RMSE: 1.7478\n",
            "Epoch: 287, Loss: 193542.0781, Train RMSE: 1.4782,Test RMSE: 1.7471\n",
            "Epoch: 288, Loss: 193419.0781, Train RMSE: 1.4779,Test RMSE: 1.7463\n",
            "Epoch: 289, Loss: 193297.4688, Train RMSE: 1.4776,Test RMSE: 1.7456\n",
            "Epoch: 290, Loss: 193177.2500, Train RMSE: 1.4773,Test RMSE: 1.7448\n",
            "Epoch: 291, Loss: 193058.3594, Train RMSE: 1.4770,Test RMSE: 1.7441\n",
            "Epoch: 292, Loss: 192940.8438, Train RMSE: 1.4767,Test RMSE: 1.7434\n",
            "Epoch: 293, Loss: 192824.6094, Train RMSE: 1.4765,Test RMSE: 1.7427\n",
            "Epoch: 294, Loss: 192709.6875, Train RMSE: 1.4762,Test RMSE: 1.7420\n",
            "Epoch: 295, Loss: 192596.0469, Train RMSE: 1.4759,Test RMSE: 1.7413\n",
            "Epoch: 296, Loss: 192483.6719, Train RMSE: 1.4756,Test RMSE: 1.7406\n",
            "Epoch: 297, Loss: 192372.5625, Train RMSE: 1.4754,Test RMSE: 1.7399\n",
            "Epoch: 298, Loss: 192262.6562, Train RMSE: 1.4751,Test RMSE: 1.7393\n",
            "Epoch: 299, Loss: 192153.9531, Train RMSE: 1.4748,Test RMSE: 1.7386\n",
            "Epoch: 300, Loss: 192046.4531, Train RMSE: 1.4745,Test RMSE: 1.7380\n",
            "Epoch: 301, Loss: 191940.1250, Train RMSE: 1.4743,Test RMSE: 1.7373\n",
            "Epoch: 302, Loss: 191835.0000, Train RMSE: 1.4740,Test RMSE: 1.7367\n",
            "Epoch: 303, Loss: 191730.9688, Train RMSE: 1.4737,Test RMSE: 1.7360\n",
            "Epoch: 304, Loss: 191628.0938, Train RMSE: 1.4735,Test RMSE: 1.7354\n",
            "Epoch: 305, Loss: 191526.3438, Train RMSE: 1.4732,Test RMSE: 1.7348\n",
            "Epoch: 306, Loss: 191425.6562, Train RMSE: 1.4729,Test RMSE: 1.7342\n",
            "Epoch: 307, Loss: 191326.0938, Train RMSE: 1.4727,Test RMSE: 1.7335\n",
            "Epoch: 308, Loss: 191227.5781, Train RMSE: 1.4724,Test RMSE: 1.7329\n",
            "Epoch: 309, Loss: 191130.1250, Train RMSE: 1.4721,Test RMSE: 1.7323\n",
            "Epoch: 310, Loss: 191033.7188, Train RMSE: 1.4719,Test RMSE: 1.7317\n",
            "Epoch: 311, Loss: 190938.3594, Train RMSE: 1.4716,Test RMSE: 1.7312\n",
            "Epoch: 312, Loss: 190844.0000, Train RMSE: 1.4714,Test RMSE: 1.7306\n",
            "Epoch: 313, Loss: 190750.6250, Train RMSE: 1.4711,Test RMSE: 1.7300\n",
            "Epoch: 314, Loss: 190658.2812, Train RMSE: 1.4708,Test RMSE: 1.7294\n",
            "Epoch: 315, Loss: 190566.8906, Train RMSE: 1.4706,Test RMSE: 1.7289\n",
            "Epoch: 316, Loss: 190476.4688, Train RMSE: 1.4703,Test RMSE: 1.7283\n",
            "Epoch: 317, Loss: 190387.0000, Train RMSE: 1.4701,Test RMSE: 1.7277\n",
            "Epoch: 318, Loss: 190298.4688, Train RMSE: 1.4698,Test RMSE: 1.7272\n",
            "Epoch: 319, Loss: 190210.8750, Train RMSE: 1.4696,Test RMSE: 1.7267\n",
            "Epoch: 320, Loss: 190124.1875, Train RMSE: 1.4693,Test RMSE: 1.7261\n",
            "Epoch: 321, Loss: 190038.4062, Train RMSE: 1.4691,Test RMSE: 1.7256\n",
            "Epoch: 322, Loss: 189953.5312, Train RMSE: 1.4688,Test RMSE: 1.7251\n",
            "Epoch: 323, Loss: 189869.5312, Train RMSE: 1.4686,Test RMSE: 1.7245\n",
            "Epoch: 324, Loss: 189786.4062, Train RMSE: 1.4683,Test RMSE: 1.7240\n",
            "Epoch: 325, Loss: 189704.1250, Train RMSE: 1.4681,Test RMSE: 1.7235\n",
            "Epoch: 326, Loss: 189622.7188, Train RMSE: 1.4678,Test RMSE: 1.7230\n",
            "Epoch: 327, Loss: 189542.1562, Train RMSE: 1.4676,Test RMSE: 1.7225\n",
            "Epoch: 328, Loss: 189462.4062, Train RMSE: 1.4673,Test RMSE: 1.7220\n",
            "Epoch: 329, Loss: 189383.4844, Train RMSE: 1.4671,Test RMSE: 1.7215\n",
            "Epoch: 330, Loss: 189305.3750, Train RMSE: 1.4668,Test RMSE: 1.7210\n",
            "Epoch: 331, Loss: 189228.0625, Train RMSE: 1.4666,Test RMSE: 1.7205\n",
            "Epoch: 332, Loss: 189151.5469, Train RMSE: 1.4663,Test RMSE: 1.7200\n",
            "Epoch: 333, Loss: 189075.8125, Train RMSE: 1.4661,Test RMSE: 1.7195\n",
            "Epoch: 334, Loss: 189000.8438, Train RMSE: 1.4658,Test RMSE: 1.7191\n",
            "Epoch: 335, Loss: 188926.6406, Train RMSE: 1.4656,Test RMSE: 1.7186\n",
            "Epoch: 336, Loss: 188853.2031, Train RMSE: 1.4654,Test RMSE: 1.7181\n",
            "Epoch: 337, Loss: 188780.5000, Train RMSE: 1.4651,Test RMSE: 1.7177\n",
            "Epoch: 338, Loss: 188708.5312, Train RMSE: 1.4649,Test RMSE: 1.7172\n",
            "Epoch: 339, Loss: 188637.3125, Train RMSE: 1.4646,Test RMSE: 1.7167\n",
            "Epoch: 340, Loss: 188566.7812, Train RMSE: 1.4644,Test RMSE: 1.7163\n",
            "Epoch: 341, Loss: 188497.0000, Train RMSE: 1.4642,Test RMSE: 1.7159\n",
            "Epoch: 342, Loss: 188427.8906, Train RMSE: 1.4639,Test RMSE: 1.7154\n",
            "Epoch: 343, Loss: 188359.4844, Train RMSE: 1.4637,Test RMSE: 1.7150\n",
            "Epoch: 344, Loss: 188291.7812, Train RMSE: 1.4634,Test RMSE: 1.7145\n",
            "Epoch: 345, Loss: 188224.7500, Train RMSE: 1.4632,Test RMSE: 1.7141\n",
            "Epoch: 346, Loss: 188158.3750, Train RMSE: 1.4630,Test RMSE: 1.7137\n",
            "Epoch: 347, Loss: 188092.6875, Train RMSE: 1.4627,Test RMSE: 1.7133\n",
            "Epoch: 348, Loss: 188027.6250, Train RMSE: 1.4625,Test RMSE: 1.7128\n",
            "Epoch: 349, Loss: 187963.2344, Train RMSE: 1.4623,Test RMSE: 1.7124\n",
            "Epoch: 350, Loss: 187899.4688, Train RMSE: 1.4620,Test RMSE: 1.7120\n",
            "Epoch: 351, Loss: 187836.3594, Train RMSE: 1.4618,Test RMSE: 1.7116\n",
            "Epoch: 352, Loss: 187773.8750, Train RMSE: 1.4616,Test RMSE: 1.7112\n",
            "Epoch: 353, Loss: 187712.0000, Train RMSE: 1.4613,Test RMSE: 1.7108\n",
            "Epoch: 354, Loss: 187650.7500, Train RMSE: 1.4611,Test RMSE: 1.7104\n",
            "Epoch: 355, Loss: 187590.1250, Train RMSE: 1.4609,Test RMSE: 1.7100\n",
            "Epoch: 356, Loss: 187530.0625, Train RMSE: 1.4606,Test RMSE: 1.7096\n",
            "Epoch: 357, Loss: 187470.5938, Train RMSE: 1.4604,Test RMSE: 1.7092\n",
            "Epoch: 358, Loss: 187411.7344, Train RMSE: 1.4602,Test RMSE: 1.7088\n",
            "Epoch: 359, Loss: 187353.4375, Train RMSE: 1.4600,Test RMSE: 1.7084\n",
            "Epoch: 360, Loss: 187295.7344, Train RMSE: 1.4597,Test RMSE: 1.7080\n",
            "Epoch: 361, Loss: 187238.5938, Train RMSE: 1.4595,Test RMSE: 1.7077\n",
            "Epoch: 362, Loss: 187182.0000, Train RMSE: 1.4593,Test RMSE: 1.7073\n",
            "Epoch: 363, Loss: 187125.9844, Train RMSE: 1.4591,Test RMSE: 1.7069\n",
            "Epoch: 364, Loss: 187070.5156, Train RMSE: 1.4588,Test RMSE: 1.7065\n",
            "Epoch: 365, Loss: 187015.5625, Train RMSE: 1.4586,Test RMSE: 1.7062\n",
            "Epoch: 366, Loss: 186961.1719, Train RMSE: 1.4584,Test RMSE: 1.7058\n",
            "Epoch: 367, Loss: 186907.3125, Train RMSE: 1.4582,Test RMSE: 1.7055\n",
            "Epoch: 368, Loss: 186853.9688, Train RMSE: 1.4579,Test RMSE: 1.7051\n",
            "Epoch: 369, Loss: 186801.1562, Train RMSE: 1.4577,Test RMSE: 1.7047\n",
            "Epoch: 370, Loss: 186748.8594, Train RMSE: 1.4575,Test RMSE: 1.7044\n",
            "Epoch: 371, Loss: 186697.0625, Train RMSE: 1.4573,Test RMSE: 1.7040\n",
            "Epoch: 372, Loss: 186645.7812, Train RMSE: 1.4571,Test RMSE: 1.7037\n",
            "Epoch: 373, Loss: 186594.9844, Train RMSE: 1.4568,Test RMSE: 1.7034\n",
            "Epoch: 374, Loss: 186544.6875, Train RMSE: 1.4566,Test RMSE: 1.7030\n",
            "Epoch: 375, Loss: 186494.8750, Train RMSE: 1.4564,Test RMSE: 1.7027\n",
            "Epoch: 376, Loss: 186445.5625, Train RMSE: 1.4562,Test RMSE: 1.7023\n",
            "Epoch: 377, Loss: 186396.7031, Train RMSE: 1.4560,Test RMSE: 1.7020\n",
            "Epoch: 378, Loss: 186348.3125, Train RMSE: 1.4558,Test RMSE: 1.7017\n",
            "Epoch: 379, Loss: 186300.4219, Train RMSE: 1.4556,Test RMSE: 1.7014\n",
            "Epoch: 380, Loss: 186252.9688, Train RMSE: 1.4553,Test RMSE: 1.7010\n",
            "Epoch: 381, Loss: 186205.9688, Train RMSE: 1.4551,Test RMSE: 1.7007\n",
            "Epoch: 382, Loss: 186159.4531, Train RMSE: 1.4549,Test RMSE: 1.7004\n",
            "Epoch: 383, Loss: 186113.3594, Train RMSE: 1.4547,Test RMSE: 1.7001\n",
            "Epoch: 384, Loss: 186067.7031, Train RMSE: 1.4545,Test RMSE: 1.6998\n",
            "Epoch: 385, Loss: 186022.5000, Train RMSE: 1.4543,Test RMSE: 1.6995\n",
            "Epoch: 386, Loss: 185977.7344, Train RMSE: 1.4541,Test RMSE: 1.6992\n",
            "Epoch: 387, Loss: 185933.3906, Train RMSE: 1.4539,Test RMSE: 1.6988\n",
            "Epoch: 388, Loss: 185889.4688, Train RMSE: 1.4537,Test RMSE: 1.6985\n",
            "Epoch: 389, Loss: 185845.9688, Train RMSE: 1.4535,Test RMSE: 1.6982\n",
            "Epoch: 390, Loss: 185802.8906, Train RMSE: 1.4533,Test RMSE: 1.6979\n",
            "Epoch: 391, Loss: 185760.2188, Train RMSE: 1.4531,Test RMSE: 1.6977\n",
            "Epoch: 392, Loss: 185717.9531, Train RMSE: 1.4529,Test RMSE: 1.6974\n",
            "Epoch: 393, Loss: 185676.0938, Train RMSE: 1.4527,Test RMSE: 1.6971\n",
            "Epoch: 394, Loss: 185634.6250, Train RMSE: 1.4525,Test RMSE: 1.6968\n",
            "Epoch: 395, Loss: 185593.5625, Train RMSE: 1.4523,Test RMSE: 1.6965\n",
            "Epoch: 396, Loss: 185552.8906, Train RMSE: 1.4521,Test RMSE: 1.6962\n",
            "Epoch: 397, Loss: 185512.5938, Train RMSE: 1.4519,Test RMSE: 1.6959\n",
            "Epoch: 398, Loss: 185472.6875, Train RMSE: 1.4517,Test RMSE: 1.6957\n",
            "Epoch: 399, Loss: 185433.1562, Train RMSE: 1.4515,Test RMSE: 1.6954\n",
            "Epoch: 400, Loss: 185394.0000, Train RMSE: 1.4513,Test RMSE: 1.6951\n",
            "Epoch: 401, Loss: 185355.2188, Train RMSE: 1.4511,Test RMSE: 1.6948\n",
            "Epoch: 402, Loss: 185316.8125, Train RMSE: 1.4509,Test RMSE: 1.6946\n",
            "Epoch: 403, Loss: 185278.7188, Train RMSE: 1.4507,Test RMSE: 1.6943\n",
            "Epoch: 404, Loss: 185241.0312, Train RMSE: 1.4505,Test RMSE: 1.6940\n",
            "Epoch: 405, Loss: 185203.7031, Train RMSE: 1.4503,Test RMSE: 1.6938\n",
            "Epoch: 406, Loss: 185166.7031, Train RMSE: 1.4501,Test RMSE: 1.6935\n",
            "Epoch: 407, Loss: 185130.0625, Train RMSE: 1.4499,Test RMSE: 1.6933\n",
            "Epoch: 408, Loss: 185093.7656, Train RMSE: 1.4497,Test RMSE: 1.6930\n",
            "Epoch: 409, Loss: 185057.7969, Train RMSE: 1.4495,Test RMSE: 1.6927\n",
            "Epoch: 410, Loss: 185022.1875, Train RMSE: 1.4493,Test RMSE: 1.6925\n",
            "Epoch: 411, Loss: 184986.8750, Train RMSE: 1.4492,Test RMSE: 1.6922\n",
            "Epoch: 412, Loss: 184951.9219, Train RMSE: 1.4490,Test RMSE: 1.6920\n",
            "Epoch: 413, Loss: 184917.2969, Train RMSE: 1.4488,Test RMSE: 1.6917\n",
            "Epoch: 414, Loss: 184882.9688, Train RMSE: 1.4486,Test RMSE: 1.6915\n",
            "Epoch: 415, Loss: 184848.9844, Train RMSE: 1.4484,Test RMSE: 1.6913\n",
            "Epoch: 416, Loss: 184815.3125, Train RMSE: 1.4482,Test RMSE: 1.6910\n",
            "Epoch: 417, Loss: 184781.9531, Train RMSE: 1.4480,Test RMSE: 1.6908\n",
            "Epoch: 418, Loss: 184748.9062, Train RMSE: 1.4479,Test RMSE: 1.6905\n",
            "Epoch: 419, Loss: 184716.1562, Train RMSE: 1.4477,Test RMSE: 1.6903\n",
            "Epoch: 420, Loss: 184683.7188, Train RMSE: 1.4475,Test RMSE: 1.6901\n",
            "Epoch: 421, Loss: 184651.5625, Train RMSE: 1.4473,Test RMSE: 1.6898\n",
            "Epoch: 422, Loss: 184619.7188, Train RMSE: 1.4471,Test RMSE: 1.6896\n",
            "Epoch: 423, Loss: 184588.1875, Train RMSE: 1.4470,Test RMSE: 1.6894\n",
            "Epoch: 424, Loss: 184556.9062, Train RMSE: 1.4468,Test RMSE: 1.6892\n",
            "Epoch: 425, Loss: 184525.9375, Train RMSE: 1.4466,Test RMSE: 1.6889\n",
            "Epoch: 426, Loss: 184495.2500, Train RMSE: 1.4464,Test RMSE: 1.6887\n",
            "Epoch: 427, Loss: 184464.8438, Train RMSE: 1.4462,Test RMSE: 1.6885\n",
            "Epoch: 428, Loss: 184434.7188, Train RMSE: 1.4461,Test RMSE: 1.6883\n",
            "Epoch: 429, Loss: 184404.8594, Train RMSE: 1.4459,Test RMSE: 1.6881\n",
            "Epoch: 430, Loss: 184375.2812, Train RMSE: 1.4457,Test RMSE: 1.6879\n",
            "Epoch: 431, Loss: 184345.9688, Train RMSE: 1.4456,Test RMSE: 1.6876\n",
            "Epoch: 432, Loss: 184316.9375, Train RMSE: 1.4454,Test RMSE: 1.6874\n",
            "Epoch: 433, Loss: 184288.1562, Train RMSE: 1.4452,Test RMSE: 1.6872\n",
            "Epoch: 434, Loss: 184259.6562, Train RMSE: 1.4450,Test RMSE: 1.6870\n",
            "Epoch: 435, Loss: 184231.3906, Train RMSE: 1.4449,Test RMSE: 1.6868\n",
            "Epoch: 436, Loss: 184203.3906, Train RMSE: 1.4447,Test RMSE: 1.6866\n",
            "Epoch: 437, Loss: 184175.6406, Train RMSE: 1.4445,Test RMSE: 1.6864\n",
            "Epoch: 438, Loss: 184148.1562, Train RMSE: 1.4444,Test RMSE: 1.6862\n",
            "Epoch: 439, Loss: 184120.9062, Train RMSE: 1.4442,Test RMSE: 1.6860\n",
            "Epoch: 440, Loss: 184093.8906, Train RMSE: 1.4440,Test RMSE: 1.6858\n",
            "Epoch: 441, Loss: 184067.1562, Train RMSE: 1.4439,Test RMSE: 1.6856\n",
            "Epoch: 442, Loss: 184040.6250, Train RMSE: 1.4437,Test RMSE: 1.6854\n",
            "Epoch: 443, Loss: 184014.3594, Train RMSE: 1.4435,Test RMSE: 1.6852\n",
            "Epoch: 444, Loss: 183988.3125, Train RMSE: 1.4434,Test RMSE: 1.6850\n",
            "Epoch: 445, Loss: 183962.5000, Train RMSE: 1.4432,Test RMSE: 1.6848\n",
            "Epoch: 446, Loss: 183936.9219, Train RMSE: 1.4430,Test RMSE: 1.6846\n",
            "Epoch: 447, Loss: 183911.5781, Train RMSE: 1.4429,Test RMSE: 1.6845\n",
            "Epoch: 448, Loss: 183886.4531, Train RMSE: 1.4427,Test RMSE: 1.6843\n",
            "Epoch: 449, Loss: 183861.5625, Train RMSE: 1.4425,Test RMSE: 1.6841\n",
            "Epoch: 450, Loss: 183836.8750, Train RMSE: 1.4424,Test RMSE: 1.6839\n",
            "Epoch: 451, Loss: 183812.4062, Train RMSE: 1.4422,Test RMSE: 1.6837\n",
            "Epoch: 452, Loss: 183788.1875, Train RMSE: 1.4421,Test RMSE: 1.6835\n",
            "Epoch: 453, Loss: 183764.1562, Train RMSE: 1.4419,Test RMSE: 1.6834\n",
            "Epoch: 454, Loss: 183740.3438, Train RMSE: 1.4417,Test RMSE: 1.6832\n",
            "Epoch: 455, Loss: 183716.7500, Train RMSE: 1.4416,Test RMSE: 1.6830\n",
            "Epoch: 456, Loss: 183693.3438, Train RMSE: 1.4414,Test RMSE: 1.6828\n",
            "Epoch: 457, Loss: 183670.1406, Train RMSE: 1.4413,Test RMSE: 1.6827\n",
            "Epoch: 458, Loss: 183647.1562, Train RMSE: 1.4411,Test RMSE: 1.6825\n",
            "Epoch: 459, Loss: 183624.3750, Train RMSE: 1.4410,Test RMSE: 1.6823\n",
            "Epoch: 460, Loss: 183601.7812, Train RMSE: 1.4408,Test RMSE: 1.6821\n",
            "Epoch: 461, Loss: 183579.4062, Train RMSE: 1.4407,Test RMSE: 1.6820\n",
            "Epoch: 462, Loss: 183557.2188, Train RMSE: 1.4405,Test RMSE: 1.6818\n",
            "Epoch: 463, Loss: 183535.2188, Train RMSE: 1.4403,Test RMSE: 1.6816\n",
            "Epoch: 464, Loss: 183513.4062, Train RMSE: 1.4402,Test RMSE: 1.6815\n",
            "Epoch: 465, Loss: 183491.7969, Train RMSE: 1.4400,Test RMSE: 1.6813\n",
            "Epoch: 466, Loss: 183470.3594, Train RMSE: 1.4399,Test RMSE: 1.6812\n",
            "Epoch: 467, Loss: 183449.1094, Train RMSE: 1.4397,Test RMSE: 1.6810\n",
            "Epoch: 468, Loss: 183428.0469, Train RMSE: 1.4396,Test RMSE: 1.6808\n",
            "Epoch: 469, Loss: 183407.1719, Train RMSE: 1.4394,Test RMSE: 1.6807\n",
            "Epoch: 470, Loss: 183386.4688, Train RMSE: 1.4393,Test RMSE: 1.6805\n",
            "Epoch: 471, Loss: 183365.9531, Train RMSE: 1.4391,Test RMSE: 1.6804\n",
            "Epoch: 472, Loss: 183345.6094, Train RMSE: 1.4390,Test RMSE: 1.6802\n",
            "Epoch: 473, Loss: 183325.4375, Train RMSE: 1.4388,Test RMSE: 1.6801\n",
            "Epoch: 474, Loss: 183305.4375, Train RMSE: 1.4387,Test RMSE: 1.6799\n",
            "Epoch: 475, Loss: 183285.6250, Train RMSE: 1.4385,Test RMSE: 1.6798\n",
            "Epoch: 476, Loss: 183265.9531, Train RMSE: 1.4384,Test RMSE: 1.6796\n",
            "Epoch: 477, Loss: 183246.4688, Train RMSE: 1.4382,Test RMSE: 1.6795\n",
            "Epoch: 478, Loss: 183227.1406, Train RMSE: 1.4381,Test RMSE: 1.6793\n",
            "Epoch: 479, Loss: 183207.9844, Train RMSE: 1.4380,Test RMSE: 1.6792\n",
            "Epoch: 480, Loss: 183188.9688, Train RMSE: 1.4378,Test RMSE: 1.6790\n",
            "Epoch: 481, Loss: 183170.1406, Train RMSE: 1.4377,Test RMSE: 1.6789\n",
            "Epoch: 482, Loss: 183151.4688, Train RMSE: 1.4375,Test RMSE: 1.6787\n",
            "Epoch: 483, Loss: 183132.9375, Train RMSE: 1.4374,Test RMSE: 1.6786\n",
            "Epoch: 484, Loss: 183114.5781, Train RMSE: 1.4372,Test RMSE: 1.6785\n",
            "Epoch: 485, Loss: 183096.3594, Train RMSE: 1.4371,Test RMSE: 1.6783\n",
            "Epoch: 486, Loss: 183078.3125, Train RMSE: 1.4369,Test RMSE: 1.6782\n",
            "Epoch: 487, Loss: 183060.4062, Train RMSE: 1.4368,Test RMSE: 1.6780\n",
            "Epoch: 488, Loss: 183042.6406, Train RMSE: 1.4367,Test RMSE: 1.6779\n",
            "Epoch: 489, Loss: 183025.0312, Train RMSE: 1.4365,Test RMSE: 1.6778\n",
            "Epoch: 490, Loss: 183007.5781, Train RMSE: 1.4364,Test RMSE: 1.6776\n",
            "Epoch: 491, Loss: 182990.2500, Train RMSE: 1.4362,Test RMSE: 1.6775\n",
            "Epoch: 492, Loss: 182973.0625, Train RMSE: 1.4361,Test RMSE: 1.6774\n",
            "Epoch: 493, Loss: 182956.0312, Train RMSE: 1.4360,Test RMSE: 1.6772\n",
            "Epoch: 494, Loss: 182939.1406, Train RMSE: 1.4358,Test RMSE: 1.6771\n",
            "Epoch: 495, Loss: 182922.3906, Train RMSE: 1.4357,Test RMSE: 1.6770\n",
            "Epoch: 496, Loss: 182905.7812, Train RMSE: 1.4355,Test RMSE: 1.6768\n",
            "Epoch: 497, Loss: 182889.2969, Train RMSE: 1.4354,Test RMSE: 1.6767\n",
            "Epoch: 498, Loss: 182872.9688, Train RMSE: 1.4353,Test RMSE: 1.6766\n",
            "Epoch: 499, Loss: 182856.7500, Train RMSE: 1.4351,Test RMSE: 1.6765\n",
            "Epoch: 500, Loss: 182840.6719, Train RMSE: 1.4350,Test RMSE: 1.6763\n",
            "Epoch: 501, Loss: 182824.7188, Train RMSE: 1.4348,Test RMSE: 1.6762\n",
            "Epoch: 502, Loss: 182808.9062, Train RMSE: 1.4347,Test RMSE: 1.6761\n",
            "Epoch: 503, Loss: 182793.2188, Train RMSE: 1.4346,Test RMSE: 1.6760\n",
            "Epoch: 504, Loss: 182777.6562, Train RMSE: 1.4344,Test RMSE: 1.6759\n",
            "Epoch: 505, Loss: 182762.2188, Train RMSE: 1.4343,Test RMSE: 1.6757\n",
            "Epoch: 506, Loss: 182746.9062, Train RMSE: 1.4342,Test RMSE: 1.6756\n",
            "Epoch: 507, Loss: 182731.7188, Train RMSE: 1.4340,Test RMSE: 1.6755\n",
            "Epoch: 508, Loss: 182716.6562, Train RMSE: 1.4339,Test RMSE: 1.6754\n",
            "Epoch: 509, Loss: 182701.7188, Train RMSE: 1.4337,Test RMSE: 1.6753\n",
            "Epoch: 510, Loss: 182686.8906, Train RMSE: 1.4336,Test RMSE: 1.6751\n",
            "Epoch: 511, Loss: 182672.1875, Train RMSE: 1.4335,Test RMSE: 1.6750\n",
            "Epoch: 512, Loss: 182657.5938, Train RMSE: 1.4333,Test RMSE: 1.6749\n",
            "Epoch: 513, Loss: 182643.1250, Train RMSE: 1.4332,Test RMSE: 1.6748\n",
            "Epoch: 514, Loss: 182628.7656, Train RMSE: 1.4331,Test RMSE: 1.6747\n",
            "Epoch: 515, Loss: 182614.5312, Train RMSE: 1.4329,Test RMSE: 1.6746\n",
            "Epoch: 516, Loss: 182600.3906, Train RMSE: 1.4328,Test RMSE: 1.6745\n",
            "Epoch: 517, Loss: 182586.3750, Train RMSE: 1.4327,Test RMSE: 1.6743\n",
            "Epoch: 518, Loss: 182572.4531, Train RMSE: 1.4325,Test RMSE: 1.6742\n",
            "Epoch: 519, Loss: 182558.6719, Train RMSE: 1.4324,Test RMSE: 1.6741\n",
            "Epoch: 520, Loss: 182544.9688, Train RMSE: 1.4323,Test RMSE: 1.6740\n",
            "Epoch: 521, Loss: 182531.3906, Train RMSE: 1.4321,Test RMSE: 1.6739\n",
            "Epoch: 522, Loss: 182517.9062, Train RMSE: 1.4320,Test RMSE: 1.6738\n",
            "Epoch: 523, Loss: 182504.5469, Train RMSE: 1.4319,Test RMSE: 1.6737\n",
            "Epoch: 524, Loss: 182491.2812, Train RMSE: 1.4317,Test RMSE: 1.6736\n",
            "Epoch: 525, Loss: 182478.1094, Train RMSE: 1.4316,Test RMSE: 1.6735\n",
            "Epoch: 526, Loss: 182465.0469, Train RMSE: 1.4315,Test RMSE: 1.6734\n",
            "Epoch: 527, Loss: 182452.0781, Train RMSE: 1.4314,Test RMSE: 1.6733\n",
            "Epoch: 528, Loss: 182439.2344, Train RMSE: 1.4312,Test RMSE: 1.6732\n",
            "Epoch: 529, Loss: 182426.4531, Train RMSE: 1.4311,Test RMSE: 1.6731\n",
            "Epoch: 530, Loss: 182413.7969, Train RMSE: 1.4310,Test RMSE: 1.6730\n",
            "Epoch: 531, Loss: 182401.2344, Train RMSE: 1.4308,Test RMSE: 1.6729\n",
            "Epoch: 532, Loss: 182388.7656, Train RMSE: 1.4307,Test RMSE: 1.6728\n",
            "Epoch: 533, Loss: 182376.3906, Train RMSE: 1.4306,Test RMSE: 1.6727\n",
            "Epoch: 534, Loss: 182364.1094, Train RMSE: 1.4304,Test RMSE: 1.6726\n",
            "Epoch: 535, Loss: 182351.9375, Train RMSE: 1.4303,Test RMSE: 1.6725\n",
            "Epoch: 536, Loss: 182339.8281, Train RMSE: 1.4302,Test RMSE: 1.6724\n",
            "Epoch: 537, Loss: 182327.8281, Train RMSE: 1.4301,Test RMSE: 1.6723\n",
            "Epoch: 538, Loss: 182315.9219, Train RMSE: 1.4299,Test RMSE: 1.6722\n",
            "Epoch: 539, Loss: 182304.0938, Train RMSE: 1.4298,Test RMSE: 1.6721\n",
            "Epoch: 540, Loss: 182292.3750, Train RMSE: 1.4297,Test RMSE: 1.6720\n",
            "Epoch: 541, Loss: 182280.7344, Train RMSE: 1.4295,Test RMSE: 1.6719\n",
            "Epoch: 542, Loss: 182269.1719, Train RMSE: 1.4294,Test RMSE: 1.6718\n",
            "Epoch: 543, Loss: 182257.7031, Train RMSE: 1.4293,Test RMSE: 1.6717\n",
            "Epoch: 544, Loss: 182246.3125, Train RMSE: 1.4292,Test RMSE: 1.6716\n",
            "Epoch: 545, Loss: 182235.0312, Train RMSE: 1.4290,Test RMSE: 1.6715\n",
            "Epoch: 546, Loss: 182223.8125, Train RMSE: 1.4289,Test RMSE: 1.6714\n",
            "Epoch: 547, Loss: 182212.6875, Train RMSE: 1.4288,Test RMSE: 1.6714\n",
            "Epoch: 548, Loss: 182201.6250, Train RMSE: 1.4287,Test RMSE: 1.6713\n",
            "Epoch: 549, Loss: 182190.6719, Train RMSE: 1.4285,Test RMSE: 1.6712\n",
            "Epoch: 550, Loss: 182179.7812, Train RMSE: 1.4284,Test RMSE: 1.6711\n",
            "Epoch: 551, Loss: 182168.9688, Train RMSE: 1.4283,Test RMSE: 1.6710\n",
            "Epoch: 552, Loss: 182158.2656, Train RMSE: 1.4281,Test RMSE: 1.6709\n",
            "Epoch: 553, Loss: 182147.6094, Train RMSE: 1.4280,Test RMSE: 1.6708\n",
            "Epoch: 554, Loss: 182137.0469, Train RMSE: 1.4279,Test RMSE: 1.6707\n",
            "Epoch: 555, Loss: 182126.5625, Train RMSE: 1.4278,Test RMSE: 1.6707\n",
            "Epoch: 556, Loss: 182116.1406, Train RMSE: 1.4276,Test RMSE: 1.6706\n",
            "Epoch: 557, Loss: 182105.7969, Train RMSE: 1.4275,Test RMSE: 1.6705\n",
            "Epoch: 558, Loss: 182095.5312, Train RMSE: 1.4274,Test RMSE: 1.6704\n",
            "Epoch: 559, Loss: 182085.3594, Train RMSE: 1.4273,Test RMSE: 1.6703\n",
            "Epoch: 560, Loss: 182075.2500, Train RMSE: 1.4271,Test RMSE: 1.6702\n",
            "Epoch: 561, Loss: 182065.2031, Train RMSE: 1.4270,Test RMSE: 1.6701\n",
            "Epoch: 562, Loss: 182055.2344, Train RMSE: 1.4269,Test RMSE: 1.6701\n",
            "Epoch: 563, Loss: 182045.3438, Train RMSE: 1.4268,Test RMSE: 1.6700\n",
            "Epoch: 564, Loss: 182035.5000, Train RMSE: 1.4266,Test RMSE: 1.6699\n",
            "Epoch: 565, Loss: 182025.7500, Train RMSE: 1.4265,Test RMSE: 1.6698\n",
            "Epoch: 566, Loss: 182016.0625, Train RMSE: 1.4264,Test RMSE: 1.6697\n",
            "Epoch: 567, Loss: 182006.4531, Train RMSE: 1.4263,Test RMSE: 1.6697\n",
            "Epoch: 568, Loss: 181996.9062, Train RMSE: 1.4262,Test RMSE: 1.6696\n",
            "Epoch: 569, Loss: 181987.4219, Train RMSE: 1.4260,Test RMSE: 1.6695\n",
            "Epoch: 570, Loss: 181978.0000, Train RMSE: 1.4259,Test RMSE: 1.6694\n",
            "Epoch: 571, Loss: 181968.6562, Train RMSE: 1.4258,Test RMSE: 1.6693\n",
            "Epoch: 572, Loss: 181959.3906, Train RMSE: 1.4257,Test RMSE: 1.6693\n",
            "Epoch: 573, Loss: 181950.1719, Train RMSE: 1.4255,Test RMSE: 1.6692\n",
            "Epoch: 574, Loss: 181941.0312, Train RMSE: 1.4254,Test RMSE: 1.6691\n",
            "Epoch: 575, Loss: 181931.9375, Train RMSE: 1.4253,Test RMSE: 1.6690\n",
            "Epoch: 576, Loss: 181922.9062, Train RMSE: 1.4252,Test RMSE: 1.6690\n",
            "Epoch: 577, Loss: 181913.9531, Train RMSE: 1.4250,Test RMSE: 1.6689\n",
            "Epoch: 578, Loss: 181905.0625, Train RMSE: 1.4249,Test RMSE: 1.6688\n",
            "Epoch: 579, Loss: 181896.2344, Train RMSE: 1.4248,Test RMSE: 1.6687\n",
            "Epoch: 580, Loss: 181887.4688, Train RMSE: 1.4247,Test RMSE: 1.6687\n",
            "Epoch: 581, Loss: 181878.7500, Train RMSE: 1.4246,Test RMSE: 1.6686\n",
            "Epoch: 582, Loss: 181870.0938, Train RMSE: 1.4244,Test RMSE: 1.6685\n",
            "Epoch: 583, Loss: 181861.5000, Train RMSE: 1.4243,Test RMSE: 1.6685\n",
            "Epoch: 584, Loss: 181852.9844, Train RMSE: 1.4242,Test RMSE: 1.6684\n",
            "Epoch: 585, Loss: 181844.5000, Train RMSE: 1.4241,Test RMSE: 1.6683\n",
            "Epoch: 586, Loss: 181836.0938, Train RMSE: 1.4240,Test RMSE: 1.6682\n",
            "Epoch: 587, Loss: 181827.7188, Train RMSE: 1.4238,Test RMSE: 1.6682\n",
            "Epoch: 588, Loss: 181819.4219, Train RMSE: 1.4237,Test RMSE: 1.6681\n",
            "Epoch: 589, Loss: 181811.1875, Train RMSE: 1.4236,Test RMSE: 1.6680\n",
            "Epoch: 590, Loss: 181803.0000, Train RMSE: 1.4235,Test RMSE: 1.6680\n",
            "Epoch: 591, Loss: 181794.8750, Train RMSE: 1.4234,Test RMSE: 1.6679\n",
            "Epoch: 592, Loss: 181786.7812, Train RMSE: 1.4232,Test RMSE: 1.6678\n",
            "Epoch: 593, Loss: 181778.7656, Train RMSE: 1.4231,Test RMSE: 1.6678\n",
            "Epoch: 594, Loss: 181770.7969, Train RMSE: 1.4230,Test RMSE: 1.6677\n",
            "Epoch: 595, Loss: 181762.8750, Train RMSE: 1.4229,Test RMSE: 1.6676\n",
            "Epoch: 596, Loss: 181755.0312, Train RMSE: 1.4228,Test RMSE: 1.6676\n",
            "Epoch: 597, Loss: 181747.2188, Train RMSE: 1.4226,Test RMSE: 1.6675\n",
            "Epoch: 598, Loss: 181739.4531, Train RMSE: 1.4225,Test RMSE: 1.6674\n",
            "Epoch: 599, Loss: 181731.7500, Train RMSE: 1.4224,Test RMSE: 1.6674\n",
            "Epoch: 600, Loss: 181724.0938, Train RMSE: 1.4223,Test RMSE: 1.6673\n",
            "Epoch: 601, Loss: 181716.5000, Train RMSE: 1.4222,Test RMSE: 1.6672\n",
            "Epoch: 602, Loss: 181708.9531, Train RMSE: 1.4220,Test RMSE: 1.6672\n",
            "Epoch: 603, Loss: 181701.4375, Train RMSE: 1.4219,Test RMSE: 1.6671\n",
            "Epoch: 604, Loss: 181694.0000, Train RMSE: 1.4218,Test RMSE: 1.6670\n",
            "Epoch: 605, Loss: 181686.5938, Train RMSE: 1.4217,Test RMSE: 1.6670\n",
            "Epoch: 606, Loss: 181679.2500, Train RMSE: 1.4216,Test RMSE: 1.6669\n",
            "Epoch: 607, Loss: 181671.9375, Train RMSE: 1.4214,Test RMSE: 1.6668\n",
            "Epoch: 608, Loss: 181664.6875, Train RMSE: 1.4213,Test RMSE: 1.6668\n",
            "Epoch: 609, Loss: 181657.4688, Train RMSE: 1.4212,Test RMSE: 1.6667\n",
            "Epoch: 610, Loss: 181650.3125, Train RMSE: 1.4211,Test RMSE: 1.6667\n",
            "Epoch: 611, Loss: 181643.2031, Train RMSE: 1.4210,Test RMSE: 1.6666\n",
            "Epoch: 612, Loss: 181636.1250, Train RMSE: 1.4209,Test RMSE: 1.6665\n",
            "Epoch: 613, Loss: 181629.1094, Train RMSE: 1.4207,Test RMSE: 1.6665\n",
            "Epoch: 614, Loss: 181622.1250, Train RMSE: 1.4206,Test RMSE: 1.6664\n",
            "Epoch: 615, Loss: 181615.1875, Train RMSE: 1.4205,Test RMSE: 1.6663\n",
            "Epoch: 616, Loss: 181608.3125, Train RMSE: 1.4204,Test RMSE: 1.6663\n",
            "Epoch: 617, Loss: 181601.4688, Train RMSE: 1.4203,Test RMSE: 1.6662\n",
            "Epoch: 618, Loss: 181594.6719, Train RMSE: 1.4202,Test RMSE: 1.6662\n",
            "Epoch: 619, Loss: 181587.9062, Train RMSE: 1.4200,Test RMSE: 1.6661\n",
            "Epoch: 620, Loss: 181581.2031, Train RMSE: 1.4199,Test RMSE: 1.6661\n",
            "Epoch: 621, Loss: 181574.5312, Train RMSE: 1.4198,Test RMSE: 1.6660\n",
            "Epoch: 622, Loss: 181567.9062, Train RMSE: 1.4197,Test RMSE: 1.6659\n",
            "Epoch: 623, Loss: 181561.3281, Train RMSE: 1.4196,Test RMSE: 1.6659\n",
            "Epoch: 624, Loss: 181554.7969, Train RMSE: 1.4195,Test RMSE: 1.6658\n",
            "Epoch: 625, Loss: 181548.2812, Train RMSE: 1.4193,Test RMSE: 1.6658\n",
            "Epoch: 626, Loss: 181541.8125, Train RMSE: 1.4192,Test RMSE: 1.6657\n",
            "Epoch: 627, Loss: 181535.4062, Train RMSE: 1.4191,Test RMSE: 1.6657\n",
            "Epoch: 628, Loss: 181529.0312, Train RMSE: 1.4190,Test RMSE: 1.6656\n",
            "Epoch: 629, Loss: 181522.6875, Train RMSE: 1.4189,Test RMSE: 1.6655\n",
            "Epoch: 630, Loss: 181516.4062, Train RMSE: 1.4188,Test RMSE: 1.6655\n",
            "Epoch: 631, Loss: 181510.1406, Train RMSE: 1.4187,Test RMSE: 1.6654\n",
            "Epoch: 632, Loss: 181503.9062, Train RMSE: 1.4185,Test RMSE: 1.6654\n",
            "Epoch: 633, Loss: 181497.7344, Train RMSE: 1.4184,Test RMSE: 1.6653\n",
            "Epoch: 634, Loss: 181491.5938, Train RMSE: 1.4183,Test RMSE: 1.6653\n",
            "Epoch: 635, Loss: 181485.5000, Train RMSE: 1.4182,Test RMSE: 1.6652\n",
            "Epoch: 636, Loss: 181479.4219, Train RMSE: 1.4181,Test RMSE: 1.6652\n",
            "Epoch: 637, Loss: 181473.4062, Train RMSE: 1.4180,Test RMSE: 1.6651\n",
            "Epoch: 638, Loss: 181467.4219, Train RMSE: 1.4179,Test RMSE: 1.6651\n",
            "Epoch: 639, Loss: 181461.4688, Train RMSE: 1.4177,Test RMSE: 1.6650\n",
            "Epoch: 640, Loss: 181455.5312, Train RMSE: 1.4176,Test RMSE: 1.6649\n",
            "Epoch: 641, Loss: 181449.6719, Train RMSE: 1.4175,Test RMSE: 1.6649\n",
            "Epoch: 642, Loss: 181443.8281, Train RMSE: 1.4174,Test RMSE: 1.6648\n",
            "Epoch: 643, Loss: 181438.0156, Train RMSE: 1.4173,Test RMSE: 1.6648\n",
            "Epoch: 644, Loss: 181432.2500, Train RMSE: 1.4172,Test RMSE: 1.6647\n",
            "Epoch: 645, Loss: 181426.5000, Train RMSE: 1.4171,Test RMSE: 1.6647\n",
            "Epoch: 646, Loss: 181420.8125, Train RMSE: 1.4169,Test RMSE: 1.6646\n",
            "Epoch: 647, Loss: 181415.1406, Train RMSE: 1.4168,Test RMSE: 1.6646\n",
            "Epoch: 648, Loss: 181409.5000, Train RMSE: 1.4167,Test RMSE: 1.6645\n",
            "Epoch: 649, Loss: 181403.9062, Train RMSE: 1.4166,Test RMSE: 1.6645\n",
            "Epoch: 650, Loss: 181398.3438, Train RMSE: 1.4165,Test RMSE: 1.6644\n",
            "Epoch: 651, Loss: 181392.8125, Train RMSE: 1.4164,Test RMSE: 1.6644\n",
            "Epoch: 652, Loss: 181387.3125, Train RMSE: 1.4163,Test RMSE: 1.6643\n",
            "Epoch: 653, Loss: 181381.8438, Train RMSE: 1.4162,Test RMSE: 1.6643\n",
            "Epoch: 654, Loss: 181376.4062, Train RMSE: 1.4160,Test RMSE: 1.6642\n",
            "Epoch: 655, Loss: 181371.0156, Train RMSE: 1.4159,Test RMSE: 1.6642\n",
            "Epoch: 656, Loss: 181365.6562, Train RMSE: 1.4158,Test RMSE: 1.6641\n",
            "Epoch: 657, Loss: 181360.3281, Train RMSE: 1.4157,Test RMSE: 1.6641\n",
            "Epoch: 658, Loss: 181355.0156, Train RMSE: 1.4156,Test RMSE: 1.6640\n",
            "Epoch: 659, Loss: 181349.7500, Train RMSE: 1.4155,Test RMSE: 1.6640\n",
            "Epoch: 660, Loss: 181344.5000, Train RMSE: 1.4154,Test RMSE: 1.6640\n",
            "Epoch: 661, Loss: 181339.2812, Train RMSE: 1.4153,Test RMSE: 1.6639\n",
            "Epoch: 662, Loss: 181334.1250, Train RMSE: 1.4152,Test RMSE: 1.6639\n",
            "Epoch: 663, Loss: 181328.9688, Train RMSE: 1.4151,Test RMSE: 1.6638\n",
            "Epoch: 664, Loss: 181323.8438, Train RMSE: 1.4149,Test RMSE: 1.6638\n",
            "Epoch: 665, Loss: 181318.7656, Train RMSE: 1.4148,Test RMSE: 1.6637\n",
            "Epoch: 666, Loss: 181313.7188, Train RMSE: 1.4147,Test RMSE: 1.6637\n",
            "Epoch: 667, Loss: 181308.6875, Train RMSE: 1.4146,Test RMSE: 1.6636\n",
            "Epoch: 668, Loss: 181303.6875, Train RMSE: 1.4145,Test RMSE: 1.6636\n",
            "Epoch: 669, Loss: 181298.7188, Train RMSE: 1.4144,Test RMSE: 1.6635\n",
            "Epoch: 670, Loss: 181293.7812, Train RMSE: 1.4143,Test RMSE: 1.6635\n",
            "Epoch: 671, Loss: 181288.8750, Train RMSE: 1.4142,Test RMSE: 1.6635\n",
            "Epoch: 672, Loss: 181284.0000, Train RMSE: 1.4141,Test RMSE: 1.6634\n",
            "Epoch: 673, Loss: 181279.1406, Train RMSE: 1.4140,Test RMSE: 1.6634\n",
            "Epoch: 674, Loss: 181274.3125, Train RMSE: 1.4139,Test RMSE: 1.6633\n",
            "Epoch: 675, Loss: 181269.5312, Train RMSE: 1.4137,Test RMSE: 1.6633\n",
            "Epoch: 676, Loss: 181264.7500, Train RMSE: 1.4136,Test RMSE: 1.6632\n",
            "Epoch: 677, Loss: 181260.0156, Train RMSE: 1.4135,Test RMSE: 1.6632\n",
            "Epoch: 678, Loss: 181255.2969, Train RMSE: 1.4134,Test RMSE: 1.6631\n",
            "Epoch: 679, Loss: 181250.6250, Train RMSE: 1.4133,Test RMSE: 1.6631\n",
            "Epoch: 680, Loss: 181245.9531, Train RMSE: 1.4132,Test RMSE: 1.6631\n",
            "Epoch: 681, Loss: 181241.3125, Train RMSE: 1.4131,Test RMSE: 1.6630\n",
            "Epoch: 682, Loss: 181236.7188, Train RMSE: 1.4130,Test RMSE: 1.6630\n",
            "Epoch: 683, Loss: 181232.1406, Train RMSE: 1.4129,Test RMSE: 1.6629\n",
            "Epoch: 684, Loss: 181227.5938, Train RMSE: 1.4128,Test RMSE: 1.6629\n",
            "Epoch: 685, Loss: 181223.0469, Train RMSE: 1.4127,Test RMSE: 1.6629\n",
            "Epoch: 686, Loss: 181218.5469, Train RMSE: 1.4126,Test RMSE: 1.6628\n",
            "Epoch: 687, Loss: 181214.0625, Train RMSE: 1.4125,Test RMSE: 1.6628\n",
            "Epoch: 688, Loss: 181209.6250, Train RMSE: 1.4124,Test RMSE: 1.6627\n",
            "Epoch: 689, Loss: 181205.2031, Train RMSE: 1.4122,Test RMSE: 1.6627\n",
            "Epoch: 690, Loss: 181200.7969, Train RMSE: 1.4121,Test RMSE: 1.6626\n",
            "Epoch: 691, Loss: 181196.4219, Train RMSE: 1.4120,Test RMSE: 1.6626\n",
            "Epoch: 692, Loss: 181192.0625, Train RMSE: 1.4119,Test RMSE: 1.6626\n",
            "Epoch: 693, Loss: 181187.7344, Train RMSE: 1.4118,Test RMSE: 1.6625\n",
            "Epoch: 694, Loss: 181183.4375, Train RMSE: 1.4117,Test RMSE: 1.6625\n",
            "Epoch: 695, Loss: 181179.1562, Train RMSE: 1.4116,Test RMSE: 1.6624\n",
            "Epoch: 696, Loss: 181174.9062, Train RMSE: 1.4115,Test RMSE: 1.6624\n",
            "Epoch: 697, Loss: 181170.6719, Train RMSE: 1.4114,Test RMSE: 1.6624\n",
            "Epoch: 698, Loss: 181166.4688, Train RMSE: 1.4113,Test RMSE: 1.6623\n",
            "Epoch: 699, Loss: 181162.2969, Train RMSE: 1.4112,Test RMSE: 1.6623\n",
            "Epoch: 700, Loss: 181158.1250, Train RMSE: 1.4111,Test RMSE: 1.6623\n",
            "Epoch: 701, Loss: 181154.0000, Train RMSE: 1.4110,Test RMSE: 1.6622\n",
            "Epoch: 702, Loss: 181149.8750, Train RMSE: 1.4109,Test RMSE: 1.6622\n",
            "Epoch: 703, Loss: 181145.7812, Train RMSE: 1.4108,Test RMSE: 1.6621\n",
            "Epoch: 704, Loss: 181141.7188, Train RMSE: 1.4107,Test RMSE: 1.6621\n",
            "Epoch: 705, Loss: 181137.6719, Train RMSE: 1.4106,Test RMSE: 1.6621\n",
            "Epoch: 706, Loss: 181133.6562, Train RMSE: 1.4105,Test RMSE: 1.6620\n",
            "Epoch: 707, Loss: 181129.6562, Train RMSE: 1.4104,Test RMSE: 1.6620\n",
            "Epoch: 708, Loss: 181125.6719, Train RMSE: 1.4103,Test RMSE: 1.6620\n",
            "Epoch: 709, Loss: 181121.7188, Train RMSE: 1.4102,Test RMSE: 1.6619\n",
            "Epoch: 710, Loss: 181117.7812, Train RMSE: 1.4101,Test RMSE: 1.6619\n",
            "Epoch: 711, Loss: 181113.8750, Train RMSE: 1.4100,Test RMSE: 1.6618\n",
            "Epoch: 712, Loss: 181109.9688, Train RMSE: 1.4099,Test RMSE: 1.6618\n",
            "Epoch: 713, Loss: 181106.1094, Train RMSE: 1.4098,Test RMSE: 1.6618\n",
            "Epoch: 714, Loss: 181102.2656, Train RMSE: 1.4097,Test RMSE: 1.6617\n",
            "Epoch: 715, Loss: 181098.4219, Train RMSE: 1.4096,Test RMSE: 1.6617\n",
            "Epoch: 716, Loss: 181094.6094, Train RMSE: 1.4095,Test RMSE: 1.6617\n",
            "Epoch: 717, Loss: 181090.8281, Train RMSE: 1.4094,Test RMSE: 1.6616\n",
            "Epoch: 718, Loss: 181087.0625, Train RMSE: 1.4093,Test RMSE: 1.6616\n",
            "Epoch: 719, Loss: 181083.3125, Train RMSE: 1.4092,Test RMSE: 1.6616\n",
            "Epoch: 720, Loss: 181079.5781, Train RMSE: 1.4090,Test RMSE: 1.6615\n",
            "Epoch: 721, Loss: 181075.8750, Train RMSE: 1.4089,Test RMSE: 1.6615\n",
            "Epoch: 722, Loss: 181072.2031, Train RMSE: 1.4088,Test RMSE: 1.6615\n",
            "Epoch: 723, Loss: 181068.5312, Train RMSE: 1.4087,Test RMSE: 1.6614\n",
            "Epoch: 724, Loss: 181064.8906, Train RMSE: 1.4087,Test RMSE: 1.6614\n",
            "Epoch: 725, Loss: 181061.2500, Train RMSE: 1.4086,Test RMSE: 1.6614\n",
            "Epoch: 726, Loss: 181057.6406, Train RMSE: 1.4085,Test RMSE: 1.6613\n",
            "Epoch: 727, Loss: 181054.0625, Train RMSE: 1.4084,Test RMSE: 1.6613\n",
            "Epoch: 728, Loss: 181050.5000, Train RMSE: 1.4083,Test RMSE: 1.6613\n",
            "Epoch: 729, Loss: 181046.9531, Train RMSE: 1.4082,Test RMSE: 1.6612\n",
            "Epoch: 730, Loss: 181043.4062, Train RMSE: 1.4081,Test RMSE: 1.6612\n",
            "Epoch: 731, Loss: 181039.9062, Train RMSE: 1.4080,Test RMSE: 1.6612\n",
            "Epoch: 732, Loss: 181036.4062, Train RMSE: 1.4079,Test RMSE: 1.6611\n",
            "Epoch: 733, Loss: 181032.9375, Train RMSE: 1.4078,Test RMSE: 1.6611\n",
            "Epoch: 734, Loss: 181029.4688, Train RMSE: 1.4077,Test RMSE: 1.6611\n",
            "Epoch: 735, Loss: 181026.0312, Train RMSE: 1.4076,Test RMSE: 1.6610\n",
            "Epoch: 736, Loss: 181022.6250, Train RMSE: 1.4075,Test RMSE: 1.6610\n",
            "Epoch: 737, Loss: 181019.2188, Train RMSE: 1.4074,Test RMSE: 1.6610\n",
            "Epoch: 738, Loss: 181015.8281, Train RMSE: 1.4073,Test RMSE: 1.6609\n",
            "Epoch: 739, Loss: 181012.4531, Train RMSE: 1.4072,Test RMSE: 1.6609\n",
            "Epoch: 740, Loss: 181009.1094, Train RMSE: 1.4071,Test RMSE: 1.6609\n",
            "Epoch: 741, Loss: 181005.7812, Train RMSE: 1.4070,Test RMSE: 1.6608\n",
            "Epoch: 742, Loss: 181002.4688, Train RMSE: 1.4069,Test RMSE: 1.6608\n",
            "Epoch: 743, Loss: 180999.1719, Train RMSE: 1.4068,Test RMSE: 1.6608\n",
            "Epoch: 744, Loss: 180995.9062, Train RMSE: 1.4067,Test RMSE: 1.6608\n",
            "Epoch: 745, Loss: 180992.6406, Train RMSE: 1.4066,Test RMSE: 1.6607\n",
            "Epoch: 746, Loss: 180989.3906, Train RMSE: 1.4065,Test RMSE: 1.6607\n",
            "Epoch: 747, Loss: 180986.1719, Train RMSE: 1.4064,Test RMSE: 1.6607\n",
            "Epoch: 748, Loss: 180982.9531, Train RMSE: 1.4063,Test RMSE: 1.6606\n",
            "Epoch: 749, Loss: 180979.7500, Train RMSE: 1.4062,Test RMSE: 1.6606\n",
            "Epoch: 750, Loss: 180976.5781, Train RMSE: 1.4061,Test RMSE: 1.6606\n",
            "Epoch: 751, Loss: 180973.4062, Train RMSE: 1.4060,Test RMSE: 1.6605\n",
            "Epoch: 752, Loss: 180970.2812, Train RMSE: 1.4059,Test RMSE: 1.6605\n",
            "Epoch: 753, Loss: 180967.1562, Train RMSE: 1.4058,Test RMSE: 1.6605\n",
            "Epoch: 754, Loss: 180964.0469, Train RMSE: 1.4058,Test RMSE: 1.6605\n",
            "Epoch: 755, Loss: 180960.9375, Train RMSE: 1.4057,Test RMSE: 1.6604\n",
            "Epoch: 756, Loss: 180957.8750, Train RMSE: 1.4056,Test RMSE: 1.6604\n",
            "Epoch: 757, Loss: 180954.7969, Train RMSE: 1.4055,Test RMSE: 1.6604\n",
            "Epoch: 758, Loss: 180951.7500, Train RMSE: 1.4054,Test RMSE: 1.6603\n",
            "Epoch: 759, Loss: 180948.7188, Train RMSE: 1.4053,Test RMSE: 1.6603\n",
            "Epoch: 760, Loss: 180945.7031, Train RMSE: 1.4052,Test RMSE: 1.6603\n",
            "Epoch: 761, Loss: 180942.7031, Train RMSE: 1.4051,Test RMSE: 1.6603\n",
            "Epoch: 762, Loss: 180939.7188, Train RMSE: 1.4050,Test RMSE: 1.6602\n",
            "Epoch: 763, Loss: 180936.7500, Train RMSE: 1.4049,Test RMSE: 1.6602\n",
            "Epoch: 764, Loss: 180933.7812, Train RMSE: 1.4048,Test RMSE: 1.6602\n",
            "Epoch: 765, Loss: 180930.8594, Train RMSE: 1.4047,Test RMSE: 1.6601\n",
            "Epoch: 766, Loss: 180927.9219, Train RMSE: 1.4046,Test RMSE: 1.6601\n",
            "Epoch: 767, Loss: 180925.0156, Train RMSE: 1.4046,Test RMSE: 1.6601\n",
            "Epoch: 768, Loss: 180922.1250, Train RMSE: 1.4045,Test RMSE: 1.6601\n",
            "Epoch: 769, Loss: 180919.2344, Train RMSE: 1.4044,Test RMSE: 1.6600\n",
            "Epoch: 770, Loss: 180916.3594, Train RMSE: 1.4043,Test RMSE: 1.6600\n",
            "Epoch: 771, Loss: 180913.5312, Train RMSE: 1.4042,Test RMSE: 1.6600\n",
            "Epoch: 772, Loss: 180910.6875, Train RMSE: 1.4041,Test RMSE: 1.6600\n",
            "Epoch: 773, Loss: 180907.8750, Train RMSE: 1.4040,Test RMSE: 1.6599\n",
            "Epoch: 774, Loss: 180905.0469, Train RMSE: 1.4039,Test RMSE: 1.6599\n",
            "Epoch: 775, Loss: 180902.2656, Train RMSE: 1.4038,Test RMSE: 1.6599\n",
            "Epoch: 776, Loss: 180899.4688, Train RMSE: 1.4037,Test RMSE: 1.6599\n",
            "Epoch: 777, Loss: 180896.7188, Train RMSE: 1.4037,Test RMSE: 1.6598\n",
            "Epoch: 778, Loss: 180893.9531, Train RMSE: 1.4036,Test RMSE: 1.6598\n",
            "Epoch: 779, Loss: 180891.2188, Train RMSE: 1.4035,Test RMSE: 1.6598\n",
            "Epoch: 780, Loss: 180888.5000, Train RMSE: 1.4034,Test RMSE: 1.6598\n",
            "Epoch: 781, Loss: 180885.7969, Train RMSE: 1.4033,Test RMSE: 1.6597\n",
            "Epoch: 782, Loss: 180883.0938, Train RMSE: 1.4032,Test RMSE: 1.6597\n",
            "Epoch: 783, Loss: 180880.4062, Train RMSE: 1.4031,Test RMSE: 1.6597\n",
            "Epoch: 784, Loss: 180877.7344, Train RMSE: 1.4030,Test RMSE: 1.6597\n",
            "Epoch: 785, Loss: 180875.0781, Train RMSE: 1.4029,Test RMSE: 1.6596\n",
            "Epoch: 786, Loss: 180872.4219, Train RMSE: 1.4029,Test RMSE: 1.6596\n",
            "Epoch: 787, Loss: 180869.8125, Train RMSE: 1.4028,Test RMSE: 1.6596\n",
            "Epoch: 788, Loss: 180867.1875, Train RMSE: 1.4027,Test RMSE: 1.6596\n",
            "Epoch: 789, Loss: 180864.5781, Train RMSE: 1.4026,Test RMSE: 1.6595\n",
            "Epoch: 790, Loss: 180861.9844, Train RMSE: 1.4025,Test RMSE: 1.6595\n",
            "Epoch: 791, Loss: 180859.4219, Train RMSE: 1.4024,Test RMSE: 1.6595\n",
            "Epoch: 792, Loss: 180856.8438, Train RMSE: 1.4023,Test RMSE: 1.6595\n",
            "Epoch: 793, Loss: 180854.2969, Train RMSE: 1.4023,Test RMSE: 1.6594\n",
            "Epoch: 794, Loss: 180851.7500, Train RMSE: 1.4022,Test RMSE: 1.6594\n",
            "Epoch: 795, Loss: 180849.2344, Train RMSE: 1.4021,Test RMSE: 1.6594\n",
            "Epoch: 796, Loss: 180846.7188, Train RMSE: 1.4020,Test RMSE: 1.6594\n",
            "Epoch: 797, Loss: 180844.2188, Train RMSE: 1.4019,Test RMSE: 1.6594\n",
            "Epoch: 798, Loss: 180841.7188, Train RMSE: 1.4018,Test RMSE: 1.6593\n",
            "Epoch: 799, Loss: 180839.2500, Train RMSE: 1.4017,Test RMSE: 1.6593\n",
            "Epoch: 800, Loss: 180836.7812, Train RMSE: 1.4017,Test RMSE: 1.6593\n",
            "Epoch: 801, Loss: 180834.3281, Train RMSE: 1.4016,Test RMSE: 1.6593\n",
            "Epoch: 802, Loss: 180831.8750, Train RMSE: 1.4015,Test RMSE: 1.6592\n",
            "Epoch: 803, Loss: 180829.4531, Train RMSE: 1.4014,Test RMSE: 1.6592\n",
            "Epoch: 804, Loss: 180827.0312, Train RMSE: 1.4013,Test RMSE: 1.6592\n",
            "Epoch: 805, Loss: 180824.6250, Train RMSE: 1.4012,Test RMSE: 1.6592\n",
            "Epoch: 806, Loss: 180822.2500, Train RMSE: 1.4012,Test RMSE: 1.6592\n",
            "Epoch: 807, Loss: 180819.8438, Train RMSE: 1.4011,Test RMSE: 1.6591\n",
            "Epoch: 808, Loss: 180817.4688, Train RMSE: 1.4010,Test RMSE: 1.6591\n",
            "Epoch: 809, Loss: 180815.1250, Train RMSE: 1.4009,Test RMSE: 1.6591\n",
            "Epoch: 810, Loss: 180812.7656, Train RMSE: 1.4008,Test RMSE: 1.6591\n",
            "Epoch: 811, Loss: 180810.4375, Train RMSE: 1.4007,Test RMSE: 1.6590\n",
            "Epoch: 812, Loss: 180808.1250, Train RMSE: 1.4007,Test RMSE: 1.6590\n",
            "Epoch: 813, Loss: 180805.7969, Train RMSE: 1.4006,Test RMSE: 1.6590\n",
            "Epoch: 814, Loss: 180803.5000, Train RMSE: 1.4005,Test RMSE: 1.6590\n",
            "Epoch: 815, Loss: 180801.2031, Train RMSE: 1.4004,Test RMSE: 1.6590\n",
            "Epoch: 816, Loss: 180798.9219, Train RMSE: 1.4003,Test RMSE: 1.6589\n",
            "Epoch: 817, Loss: 180796.6719, Train RMSE: 1.4003,Test RMSE: 1.6589\n",
            "Epoch: 818, Loss: 180794.4062, Train RMSE: 1.4002,Test RMSE: 1.6589\n",
            "Epoch: 819, Loss: 180792.1562, Train RMSE: 1.4001,Test RMSE: 1.6589\n",
            "Epoch: 820, Loss: 180789.9219, Train RMSE: 1.4000,Test RMSE: 1.6589\n",
            "Epoch: 821, Loss: 180787.6875, Train RMSE: 1.3999,Test RMSE: 1.6588\n",
            "Epoch: 822, Loss: 180785.4688, Train RMSE: 1.3999,Test RMSE: 1.6588\n",
            "Epoch: 823, Loss: 180783.2812, Train RMSE: 1.3998,Test RMSE: 1.6588\n",
            "Epoch: 824, Loss: 180781.0938, Train RMSE: 1.3997,Test RMSE: 1.6588\n",
            "Epoch: 825, Loss: 180778.9062, Train RMSE: 1.3996,Test RMSE: 1.6588\n",
            "Epoch: 826, Loss: 180776.7188, Train RMSE: 1.3995,Test RMSE: 1.6587\n",
            "Epoch: 827, Loss: 180774.5625, Train RMSE: 1.3995,Test RMSE: 1.6587\n",
            "Epoch: 828, Loss: 180772.4062, Train RMSE: 1.3994,Test RMSE: 1.6587\n",
            "Epoch: 829, Loss: 180770.2812, Train RMSE: 1.3993,Test RMSE: 1.6587\n",
            "Epoch: 830, Loss: 180768.1406, Train RMSE: 1.3992,Test RMSE: 1.6587\n",
            "Epoch: 831, Loss: 180766.0312, Train RMSE: 1.3992,Test RMSE: 1.6586\n",
            "Epoch: 832, Loss: 180763.9062, Train RMSE: 1.3991,Test RMSE: 1.6586\n",
            "Epoch: 833, Loss: 180761.8125, Train RMSE: 1.3990,Test RMSE: 1.6586\n",
            "Epoch: 834, Loss: 180759.7188, Train RMSE: 1.3989,Test RMSE: 1.6586\n",
            "Epoch: 835, Loss: 180757.6406, Train RMSE: 1.3988,Test RMSE: 1.6586\n",
            "Epoch: 836, Loss: 180755.5781, Train RMSE: 1.3988,Test RMSE: 1.6586\n",
            "Epoch: 837, Loss: 180753.5000, Train RMSE: 1.3987,Test RMSE: 1.6585\n",
            "Epoch: 838, Loss: 180751.4688, Train RMSE: 1.3986,Test RMSE: 1.6585\n",
            "Epoch: 839, Loss: 180749.4062, Train RMSE: 1.3985,Test RMSE: 1.6585\n",
            "Epoch: 840, Loss: 180747.3906, Train RMSE: 1.3985,Test RMSE: 1.6585\n",
            "Epoch: 841, Loss: 180745.3750, Train RMSE: 1.3984,Test RMSE: 1.6585\n",
            "Epoch: 842, Loss: 180743.3438, Train RMSE: 1.3983,Test RMSE: 1.6584\n",
            "Epoch: 843, Loss: 180741.3438, Train RMSE: 1.3982,Test RMSE: 1.6584\n",
            "Epoch: 844, Loss: 180739.3594, Train RMSE: 1.3982,Test RMSE: 1.6584\n",
            "Epoch: 845, Loss: 180737.3750, Train RMSE: 1.3981,Test RMSE: 1.6584\n",
            "Epoch: 846, Loss: 180735.4062, Train RMSE: 1.3980,Test RMSE: 1.6584\n",
            "Epoch: 847, Loss: 180733.4375, Train RMSE: 1.3979,Test RMSE: 1.6584\n",
            "Epoch: 848, Loss: 180731.4844, Train RMSE: 1.3979,Test RMSE: 1.6583\n",
            "Epoch: 849, Loss: 180729.5312, Train RMSE: 1.3978,Test RMSE: 1.6583\n",
            "Epoch: 850, Loss: 180727.5938, Train RMSE: 1.3977,Test RMSE: 1.6583\n",
            "Epoch: 851, Loss: 180725.6562, Train RMSE: 1.3976,Test RMSE: 1.6583\n",
            "Epoch: 852, Loss: 180723.7500, Train RMSE: 1.3976,Test RMSE: 1.6583\n",
            "Epoch: 853, Loss: 180721.8438, Train RMSE: 1.3975,Test RMSE: 1.6583\n",
            "Epoch: 854, Loss: 180719.9375, Train RMSE: 1.3974,Test RMSE: 1.6582\n",
            "Epoch: 855, Loss: 180718.0625, Train RMSE: 1.3973,Test RMSE: 1.6582\n",
            "Epoch: 856, Loss: 180716.1719, Train RMSE: 1.3973,Test RMSE: 1.6582\n",
            "Epoch: 857, Loss: 180714.2812, Train RMSE: 1.3972,Test RMSE: 1.6582\n",
            "Epoch: 858, Loss: 180712.4375, Train RMSE: 1.3971,Test RMSE: 1.6582\n",
            "Epoch: 859, Loss: 180710.5781, Train RMSE: 1.3971,Test RMSE: 1.6582\n",
            "Epoch: 860, Loss: 180708.7344, Train RMSE: 1.3970,Test RMSE: 1.6582\n",
            "Epoch: 861, Loss: 180706.8750, Train RMSE: 1.3969,Test RMSE: 1.6581\n",
            "Epoch: 862, Loss: 180705.0469, Train RMSE: 1.3968,Test RMSE: 1.6581\n",
            "Epoch: 863, Loss: 180703.2344, Train RMSE: 1.3968,Test RMSE: 1.6581\n",
            "Epoch: 864, Loss: 180701.4219, Train RMSE: 1.3967,Test RMSE: 1.6581\n",
            "Epoch: 865, Loss: 180699.6094, Train RMSE: 1.3966,Test RMSE: 1.6581\n",
            "Epoch: 866, Loss: 180697.8125, Train RMSE: 1.3966,Test RMSE: 1.6581\n",
            "Epoch: 867, Loss: 180696.0312, Train RMSE: 1.3965,Test RMSE: 1.6580\n",
            "Epoch: 868, Loss: 180694.2500, Train RMSE: 1.3964,Test RMSE: 1.6580\n",
            "Epoch: 869, Loss: 180692.4688, Train RMSE: 1.3963,Test RMSE: 1.6580\n",
            "Epoch: 870, Loss: 180690.7031, Train RMSE: 1.3963,Test RMSE: 1.6580\n",
            "Epoch: 871, Loss: 180688.9531, Train RMSE: 1.3962,Test RMSE: 1.6580\n",
            "Epoch: 872, Loss: 180687.1875, Train RMSE: 1.3961,Test RMSE: 1.6580\n",
            "Epoch: 873, Loss: 180685.4688, Train RMSE: 1.3961,Test RMSE: 1.6580\n",
            "Epoch: 874, Loss: 180683.7344, Train RMSE: 1.3960,Test RMSE: 1.6579\n",
            "Epoch: 875, Loss: 180682.0156, Train RMSE: 1.3959,Test RMSE: 1.6579\n",
            "Epoch: 876, Loss: 180680.2969, Train RMSE: 1.3959,Test RMSE: 1.6579\n",
            "Epoch: 877, Loss: 180678.5938, Train RMSE: 1.3958,Test RMSE: 1.6579\n",
            "Epoch: 878, Loss: 180676.8906, Train RMSE: 1.3957,Test RMSE: 1.6579\n",
            "Epoch: 879, Loss: 180675.1875, Train RMSE: 1.3956,Test RMSE: 1.6579\n",
            "Epoch: 880, Loss: 180673.5156, Train RMSE: 1.3956,Test RMSE: 1.6579\n",
            "Epoch: 881, Loss: 180671.8438, Train RMSE: 1.3955,Test RMSE: 1.6578\n",
            "Epoch: 882, Loss: 180670.1562, Train RMSE: 1.3954,Test RMSE: 1.6578\n",
            "Epoch: 883, Loss: 180668.5000, Train RMSE: 1.3954,Test RMSE: 1.6578\n",
            "Epoch: 884, Loss: 180666.8438, Train RMSE: 1.3953,Test RMSE: 1.6578\n",
            "Epoch: 885, Loss: 180665.2031, Train RMSE: 1.3952,Test RMSE: 1.6578\n",
            "Epoch: 886, Loss: 180663.5625, Train RMSE: 1.3952,Test RMSE: 1.6578\n",
            "Epoch: 887, Loss: 180661.9375, Train RMSE: 1.3951,Test RMSE: 1.6578\n",
            "Epoch: 888, Loss: 180660.3125, Train RMSE: 1.3950,Test RMSE: 1.6578\n",
            "Epoch: 889, Loss: 180658.7031, Train RMSE: 1.3950,Test RMSE: 1.6577\n",
            "Epoch: 890, Loss: 180657.0938, Train RMSE: 1.3949,Test RMSE: 1.6577\n",
            "Epoch: 891, Loss: 180655.4844, Train RMSE: 1.3948,Test RMSE: 1.6577\n",
            "Epoch: 892, Loss: 180653.8906, Train RMSE: 1.3948,Test RMSE: 1.6577\n",
            "Epoch: 893, Loss: 180652.2969, Train RMSE: 1.3947,Test RMSE: 1.6577\n",
            "Epoch: 894, Loss: 180650.7188, Train RMSE: 1.3946,Test RMSE: 1.6577\n",
            "Epoch: 895, Loss: 180649.1562, Train RMSE: 1.3946,Test RMSE: 1.6577\n",
            "Epoch: 896, Loss: 180647.5938, Train RMSE: 1.3945,Test RMSE: 1.6576\n",
            "Epoch: 897, Loss: 180646.0312, Train RMSE: 1.3945,Test RMSE: 1.6576\n",
            "Epoch: 898, Loss: 180644.4688, Train RMSE: 1.3944,Test RMSE: 1.6576\n",
            "Epoch: 899, Loss: 180642.9219, Train RMSE: 1.3943,Test RMSE: 1.6576\n",
            "Epoch: 900, Loss: 180641.3906, Train RMSE: 1.3943,Test RMSE: 1.6576\n",
            "Epoch: 901, Loss: 180639.8750, Train RMSE: 1.3942,Test RMSE: 1.6576\n",
            "Epoch: 902, Loss: 180638.3438, Train RMSE: 1.3941,Test RMSE: 1.6576\n",
            "Epoch: 903, Loss: 180636.8125, Train RMSE: 1.3941,Test RMSE: 1.6576\n",
            "Epoch: 904, Loss: 180635.3125, Train RMSE: 1.3940,Test RMSE: 1.6576\n",
            "Epoch: 905, Loss: 180633.7969, Train RMSE: 1.3939,Test RMSE: 1.6575\n",
            "Epoch: 906, Loss: 180632.2969, Train RMSE: 1.3939,Test RMSE: 1.6575\n",
            "Epoch: 907, Loss: 180630.8125, Train RMSE: 1.3938,Test RMSE: 1.6575\n",
            "Epoch: 908, Loss: 180629.3281, Train RMSE: 1.3938,Test RMSE: 1.6575\n",
            "Epoch: 909, Loss: 180627.8438, Train RMSE: 1.3937,Test RMSE: 1.6575\n",
            "Epoch: 910, Loss: 180626.3906, Train RMSE: 1.3936,Test RMSE: 1.6575\n",
            "Epoch: 911, Loss: 180624.9219, Train RMSE: 1.3936,Test RMSE: 1.6575\n",
            "Epoch: 912, Loss: 180623.4688, Train RMSE: 1.3935,Test RMSE: 1.6575\n",
            "Epoch: 913, Loss: 180622.0156, Train RMSE: 1.3934,Test RMSE: 1.6574\n",
            "Epoch: 914, Loss: 180620.5625, Train RMSE: 1.3934,Test RMSE: 1.6574\n",
            "Epoch: 915, Loss: 180619.1250, Train RMSE: 1.3933,Test RMSE: 1.6574\n",
            "Epoch: 916, Loss: 180617.7031, Train RMSE: 1.3933,Test RMSE: 1.6574\n",
            "Epoch: 917, Loss: 180616.2812, Train RMSE: 1.3932,Test RMSE: 1.6574\n",
            "Epoch: 918, Loss: 180614.8750, Train RMSE: 1.3931,Test RMSE: 1.6574\n",
            "Epoch: 919, Loss: 180613.4531, Train RMSE: 1.3931,Test RMSE: 1.6574\n",
            "Epoch: 920, Loss: 180612.0469, Train RMSE: 1.3930,Test RMSE: 1.6574\n",
            "Epoch: 921, Loss: 180610.6562, Train RMSE: 1.3930,Test RMSE: 1.6574\n",
            "Epoch: 922, Loss: 180609.2500, Train RMSE: 1.3929,Test RMSE: 1.6574\n",
            "Epoch: 923, Loss: 180607.8594, Train RMSE: 1.3928,Test RMSE: 1.6573\n",
            "Epoch: 924, Loss: 180606.4688, Train RMSE: 1.3928,Test RMSE: 1.6573\n",
            "Epoch: 925, Loss: 180605.0938, Train RMSE: 1.3927,Test RMSE: 1.6573\n",
            "Epoch: 926, Loss: 180603.7344, Train RMSE: 1.3927,Test RMSE: 1.6573\n",
            "Epoch: 927, Loss: 180602.3750, Train RMSE: 1.3926,Test RMSE: 1.6573\n",
            "Epoch: 928, Loss: 180601.0156, Train RMSE: 1.3925,Test RMSE: 1.6573\n",
            "Epoch: 929, Loss: 180599.6562, Train RMSE: 1.3925,Test RMSE: 1.6573\n",
            "Epoch: 930, Loss: 180598.3125, Train RMSE: 1.3924,Test RMSE: 1.6573\n",
            "Epoch: 931, Loss: 180596.9844, Train RMSE: 1.3924,Test RMSE: 1.6573\n",
            "Epoch: 932, Loss: 180595.6406, Train RMSE: 1.3923,Test RMSE: 1.6573\n",
            "Epoch: 933, Loss: 180594.3125, Train RMSE: 1.3922,Test RMSE: 1.6572\n",
            "Epoch: 934, Loss: 180593.0000, Train RMSE: 1.3922,Test RMSE: 1.6572\n",
            "Epoch: 935, Loss: 180591.6875, Train RMSE: 1.3921,Test RMSE: 1.6572\n",
            "Epoch: 936, Loss: 180590.3750, Train RMSE: 1.3921,Test RMSE: 1.6572\n",
            "Epoch: 937, Loss: 180589.0625, Train RMSE: 1.3920,Test RMSE: 1.6572\n",
            "Epoch: 938, Loss: 180587.7656, Train RMSE: 1.3920,Test RMSE: 1.6572\n",
            "Epoch: 939, Loss: 180586.4531, Train RMSE: 1.3919,Test RMSE: 1.6572\n",
            "Epoch: 940, Loss: 180585.1875, Train RMSE: 1.3918,Test RMSE: 1.6572\n",
            "Epoch: 941, Loss: 180583.8906, Train RMSE: 1.3918,Test RMSE: 1.6572\n",
            "Epoch: 942, Loss: 180582.6094, Train RMSE: 1.3917,Test RMSE: 1.6572\n",
            "Epoch: 943, Loss: 180581.3438, Train RMSE: 1.3917,Test RMSE: 1.6572\n",
            "Epoch: 944, Loss: 180580.0781, Train RMSE: 1.3916,Test RMSE: 1.6571\n",
            "Epoch: 945, Loss: 180578.8281, Train RMSE: 1.3916,Test RMSE: 1.6571\n",
            "Epoch: 946, Loss: 180577.5625, Train RMSE: 1.3915,Test RMSE: 1.6571\n",
            "Epoch: 947, Loss: 180576.3125, Train RMSE: 1.3914,Test RMSE: 1.6571\n",
            "Epoch: 948, Loss: 180575.0625, Train RMSE: 1.3914,Test RMSE: 1.6571\n",
            "Epoch: 949, Loss: 180573.8438, Train RMSE: 1.3913,Test RMSE: 1.6571\n",
            "Epoch: 950, Loss: 180572.5938, Train RMSE: 1.3913,Test RMSE: 1.6571\n",
            "Epoch: 951, Loss: 180571.3594, Train RMSE: 1.3912,Test RMSE: 1.6571\n",
            "Epoch: 952, Loss: 180570.1562, Train RMSE: 1.3912,Test RMSE: 1.6571\n",
            "Epoch: 953, Loss: 180568.9219, Train RMSE: 1.3911,Test RMSE: 1.6571\n",
            "Epoch: 954, Loss: 180567.7188, Train RMSE: 1.3911,Test RMSE: 1.6571\n",
            "Epoch: 955, Loss: 180566.5156, Train RMSE: 1.3910,Test RMSE: 1.6571\n",
            "Epoch: 956, Loss: 180565.3125, Train RMSE: 1.3910,Test RMSE: 1.6570\n",
            "Epoch: 957, Loss: 180564.1094, Train RMSE: 1.3909,Test RMSE: 1.6570\n",
            "Epoch: 958, Loss: 180562.9062, Train RMSE: 1.3908,Test RMSE: 1.6570\n",
            "Epoch: 959, Loss: 180561.7344, Train RMSE: 1.3908,Test RMSE: 1.6570\n",
            "Epoch: 960, Loss: 180560.5469, Train RMSE: 1.3907,Test RMSE: 1.6570\n",
            "Epoch: 961, Loss: 180559.3750, Train RMSE: 1.3907,Test RMSE: 1.6570\n",
            "Epoch: 962, Loss: 180558.1875, Train RMSE: 1.3906,Test RMSE: 1.6570\n",
            "Epoch: 963, Loss: 180557.0156, Train RMSE: 1.3906,Test RMSE: 1.6570\n",
            "Epoch: 964, Loss: 180555.8750, Train RMSE: 1.3905,Test RMSE: 1.6570\n",
            "Epoch: 965, Loss: 180554.7188, Train RMSE: 1.3905,Test RMSE: 1.6570\n",
            "Epoch: 966, Loss: 180553.5625, Train RMSE: 1.3904,Test RMSE: 1.6570\n",
            "Epoch: 967, Loss: 180552.4219, Train RMSE: 1.3904,Test RMSE: 1.6570\n",
            "Epoch: 968, Loss: 180551.2656, Train RMSE: 1.3903,Test RMSE: 1.6570\n",
            "Epoch: 969, Loss: 180550.1250, Train RMSE: 1.3903,Test RMSE: 1.6569\n",
            "Epoch: 970, Loss: 180549.0000, Train RMSE: 1.3902,Test RMSE: 1.6569\n",
            "Epoch: 971, Loss: 180547.8750, Train RMSE: 1.3902,Test RMSE: 1.6569\n",
            "Epoch: 972, Loss: 180546.7344, Train RMSE: 1.3901,Test RMSE: 1.6569\n",
            "Epoch: 973, Loss: 180545.6250, Train RMSE: 1.3901,Test RMSE: 1.6569\n",
            "Epoch: 974, Loss: 180544.5000, Train RMSE: 1.3900,Test RMSE: 1.6569\n",
            "Epoch: 975, Loss: 180543.4062, Train RMSE: 1.3899,Test RMSE: 1.6569\n",
            "Epoch: 976, Loss: 180542.3125, Train RMSE: 1.3899,Test RMSE: 1.6569\n",
            "Epoch: 977, Loss: 180541.1875, Train RMSE: 1.3898,Test RMSE: 1.6569\n",
            "Epoch: 978, Loss: 180540.0938, Train RMSE: 1.3898,Test RMSE: 1.6569\n",
            "Epoch: 979, Loss: 180539.0000, Train RMSE: 1.3897,Test RMSE: 1.6569\n",
            "Epoch: 980, Loss: 180537.9219, Train RMSE: 1.3897,Test RMSE: 1.6569\n",
            "Epoch: 981, Loss: 180536.8438, Train RMSE: 1.3896,Test RMSE: 1.6569\n",
            "Epoch: 982, Loss: 180535.7656, Train RMSE: 1.3896,Test RMSE: 1.6569\n",
            "Epoch: 983, Loss: 180534.6875, Train RMSE: 1.3895,Test RMSE: 1.6568\n",
            "Epoch: 984, Loss: 180533.6250, Train RMSE: 1.3895,Test RMSE: 1.6568\n",
            "Epoch: 985, Loss: 180532.5625, Train RMSE: 1.3894,Test RMSE: 1.6568\n",
            "Epoch: 986, Loss: 180531.5000, Train RMSE: 1.3894,Test RMSE: 1.6568\n",
            "Epoch: 987, Loss: 180530.4375, Train RMSE: 1.3893,Test RMSE: 1.6568\n",
            "Epoch: 988, Loss: 180529.3906, Train RMSE: 1.3893,Test RMSE: 1.6568\n",
            "Epoch: 989, Loss: 180528.3438, Train RMSE: 1.3892,Test RMSE: 1.6568\n",
            "Epoch: 990, Loss: 180527.2969, Train RMSE: 1.3892,Test RMSE: 1.6568\n",
            "Epoch: 991, Loss: 180526.2500, Train RMSE: 1.3891,Test RMSE: 1.6568\n",
            "Epoch: 992, Loss: 180525.2188, Train RMSE: 1.3891,Test RMSE: 1.6568\n",
            "Epoch: 993, Loss: 180524.2031, Train RMSE: 1.3890,Test RMSE: 1.6568\n",
            "Epoch: 994, Loss: 180523.1719, Train RMSE: 1.3890,Test RMSE: 1.6568\n",
            "Epoch: 995, Loss: 180522.1406, Train RMSE: 1.3890,Test RMSE: 1.6568\n",
            "Epoch: 996, Loss: 180521.1250, Train RMSE: 1.3889,Test RMSE: 1.6568\n",
            "Epoch: 997, Loss: 180520.1094, Train RMSE: 1.3889,Test RMSE: 1.6568\n",
            "Epoch: 998, Loss: 180519.0938, Train RMSE: 1.3888,Test RMSE: 1.6568\n",
            "Epoch: 999, Loss: 180518.0938, Train RMSE: 1.3888,Test RMSE: 1.6567\n"
          ]
        }
      ]
    },
    {
      "cell_type": "code",
      "source": [
        "# Plot the loss function\n",
        "fig, ax = plt.subplots()\n",
        "ax.plot(list(range(0,len(ran_loss_time_series))), ran_loss_time_series)\n",
        "ax.set(xlabel='epoch', ylabel='loss',title='Loss per epoch')\n",
        "ax.grid()\n",
        "plt.show()"
      ],
      "metadata": {
        "colab": {
          "base_uri": "https://localhost:8080/",
          "height": 472
        },
        "outputId": "19c5d886-1a1d-4047-fa3b-460a7f01d43e",
        "id": "4_QqhVF9TQCM"
      },
      "execution_count": null,
      "outputs": [
        {
          "output_type": "display_data",
          "data": {
            "text/plain": [
              "<Figure size 640x480 with 1 Axes>"
            ],
            "image/png": "[encoded data removed]"
          },
          "metadata": {}
        }
      ]
    },
    {
      "cell_type": "code",
      "source": [
        "# Plot the train root mean square error\n",
        "fig, ax = plt.subplots()\n",
        "ax.plot(list(range(0,len(ran_train_rmse_time_series))), ran_train_rmse_time_series)\n",
        "\n",
        "ax.set(xlabel='epoch', ylabel='rmse',\n",
        "       title='Train rmse per epoch')\n",
        "ax.grid()\n",
        "\n",
        "\n",
        "plt.show()"
      ],
      "metadata": {
        "colab": {
          "base_uri": "https://localhost:8080/",
          "height": 472
        },
        "outputId": "775821d6-d852-4797-a0bf-3a67a0ff29f8",
        "id": "ceqCN_yITQCN"
      },
      "execution_count": null,
      "outputs": [
        {
          "output_type": "display_data",
          "data": {
            "text/plain": [
              "<Figure size 640x480 with 1 Axes>"
            ],
            "image/png": "[encoded data removed]"
          },
          "metadata": {}
        }
      ]
    },
    {
      "cell_type": "code",
      "source": [
        "# Plot the test root mean square error\n",
        "fig, ax = plt.subplots()\n",
        "ax.plot(list(range(0,len(ran_test_rmse_time_series))), ran_test_rmse_time_series)\n",
        "\n",
        "ax.set(xlabel='epoch', ylabel='rmse',\n",
        "       title='Test rms vs epochs')\n",
        "ax.grid()\n",
        "\n",
        "\n",
        "plt.show()"
      ],
      "metadata": {
        "colab": {
          "base_uri": "https://localhost:8080/",
          "height": 472
        },
        "outputId": "a0f4cd35-e0b2-4eb9-99cf-a5174ba4790e",
        "id": "mwSyzEHNTQCN"
      },
      "execution_count": null,
      "outputs": [
        {
          "output_type": "display_data",
          "data": {
            "text/plain": [
              "<Figure size 640x480 with 1 Axes>"
            ],
            "image/png": "[encoded data removed]"
          },
          "metadata": {}
        }
      ]
    },
    {
      "cell_type": "code",
      "source": [
        "print(f'After {epoch+1:03d} epochs, for the NN with random values initialization  the final loss  is: {loss:.4f}, the final train RMSE is: {train_rmse:.4f}, the final test RMSE is: {test_rmse:.4f} ')"
      ],
      "metadata": {
        "colab": {
          "base_uri": "https://localhost:8080/"
        },
        "outputId": "1c9b6313-11ee-4752-8be9-992eae121ebc",
        "id": "5o4ZHbPK1waX"
      },
      "execution_count": null,
      "outputs": [
        {
          "output_type": "stream",
          "name": "stdout",
          "text": [
            "After 1000 epochs, for the NN with random values initialization  the final loss  is: 180518.0938, the final train RMSE is: 1.3888, the final test RMSE is: 1.6567 \n"
          ]
        }
      ]
    },
    {
      "cell_type": "markdown",
      "source": [
        "#### Analyzing the model's results"
      ],
      "metadata": {
        "id": "ar3njMeHrP3z"
      }
    },
    {
      "cell_type": "code",
      "source": [
        "# estimate the test rating values\n",
        "model.eval()\n",
        "pred,_,_ = model(rows=test_rows,cols=test_cols)\n",
        "pred = pred.clamp(1,10)\n",
        "true_values =interaction_matrix.values[test_rows,test_cols]"
      ],
      "metadata": {
        "id": "B_3h6jjlrWKG"
      },
      "execution_count": null,
      "outputs": []
    },
    {
      "cell_type": "code",
      "source": [
        "# create a dictionary with key:userId and values: estimate rating and true rating\n",
        "predicted_rating={}\n",
        "for i , j, k  in zip(test_rows, true_values,pred):\n",
        "  i= int(i) # userId\n",
        "  j=float(j) #rating true\n",
        "  k=int(round(float(k),0))# predicted rating 2\n",
        "  userid=i\n",
        "  if userid in predicted_rating.keys():\n",
        "    predicted_rating[userid].append([k,j])\n",
        "  else:\n",
        "    predicted_rating[userid]=[[k,j]]"
      ],
      "metadata": {
        "id": "qd3SEYvQu9N0"
      },
      "execution_count": null,
      "outputs": []
    },
    {
      "cell_type": "code",
      "source": [
        "#user 0 prediction vs actual rating\n",
        "histo_test=[]\n",
        "histo2_test=[]\n",
        "for i in predicted_rating[0]:  \n",
        "  histo_test.append(i[0])\n",
        "  histo2_test.append(i[1])\n",
        "\n",
        "count_test_pred=Counter(histo_test)\n",
        "count_test_true=Counter(histo2_test)\n",
        "\n",
        "keys_test_pred = count_test_pred.keys()\n",
        "values_test_pred = count_test_pred.values()\n",
        "\n",
        "keys_test_true = count_test_true.keys()\n",
        "values_test_true = count_test_true.values()\n",
        "\n",
        "plt.bar(keys_test_pred, values_test_pred,label='pred')\n",
        "plt.bar(keys_test_true, values_test_true,alpha=0.5,label='true')\n",
        "plt.legend(loc='upper right')"
      ],
      "metadata": {
        "id": "b3KtHxxtu9N0",
        "colab": {
          "base_uri": "https://localhost:8080/",
          "height": 448
        },
        "outputId": "ebbd37ad-f548-4d3e-f6ce-e062b29819b6"
      },
      "execution_count": null,
      "outputs": [
        {
          "output_type": "execute_result",
          "data": {
            "text/plain": [
              "<matplotlib.legend.Legend at 0x7f87624ebe50>"
            ]
          },
          "metadata": {},
          "execution_count": 70
        },
        {
          "output_type": "display_data",
          "data": {
            "text/plain": [
              "<Figure size 640x480 with 1 Axes>"
            ],
            "image/png": "[encoded data removed]"
          },
          "metadata": {}
        }
      ]
    },
    {
      "cell_type": "code",
      "source": [
        "# find the goodness of the model's predictions\n",
        "count=[]\n",
        "count_value=0\n",
        "true_val= []\n",
        "pred_val= []\n",
        "for key, value in predicted_rating.items():\n",
        "  count_value=0\n",
        "  lenn=len(value)\n",
        "  for i in value:\n",
        "    if lenn >= 1:\n",
        "      pred_val.append(i[0])\n",
        "      true_val.append(i[1])\n"
      ],
      "metadata": {
        "id": "vNsD5qdou9N1"
      },
      "execution_count": null,
      "outputs": []
    },
    {
      "cell_type": "code",
      "source": [
        "# display the predictions vs true values for a visualization of the goodness of the model\n",
        "\n",
        "confusion_matrix = metrics.confusion_matrix(true_val, pred_val)\n",
        "cm_display = metrics.ConfusionMatrixDisplay(confusion_matrix = confusion_matrix, display_labels = [1,2,3,4,5,6,7,8,9,10]) \n",
        "cm_display.plot()\n",
        "plt.show()"
      ],
      "metadata": {
        "colab": {
          "base_uri": "https://localhost:8080/",
          "height": 449
        },
        "outputId": "d5c77f74-a9fb-4e9d-f789-1659c416e0dc",
        "id": "f7pvleSHu9N1"
      },
      "execution_count": null,
      "outputs": [
        {
          "output_type": "display_data",
          "data": {
            "text/plain": [
              "<Figure size 640x480 with 2 Axes>"
            ],
            "image/png": "[encoded data removed]"
          },
          "metadata": {}
        }
      ]
    },
    {
      "cell_type": "markdown",
      "source": [
        "#### Recommendation"
      ],
      "metadata": {
        "id": "Z4iKmf3WrXl4"
      }
    },
    {
      "cell_type": "code",
      "source": [
        "# find the coordinates of the non rated movies by users\n",
        "coordinate_blank=np.argwhere(interaction_matrix.values==0)\n",
        "coordinate_blank=np.transpose(coordinate_blank)\n",
        "row_fill=coordinate_blank[0]\n",
        "col_fill=coordinate_blank[1]"
      ],
      "metadata": {
        "id": "dl6dKC-orab3"
      },
      "execution_count": null,
      "outputs": []
    },
    {
      "cell_type": "code",
      "source": [
        "# predict the ratings\n",
        "model.eval()\n",
        "pred,_,_ = model(rows=row_fill,cols=col_fill)"
      ],
      "metadata": {
        "id": "rCFs9S02ralD"
      },
      "execution_count": null,
      "outputs": []
    },
    {
      "cell_type": "code",
      "source": [
        "# create a dictionary with key:userId and values: estimate rating and movieId\n",
        "predicted_rating={}\n",
        "for i , j, k  in zip(row_fill,col_fill,pred):\n",
        "  userid= int(i)  # userId\n",
        "  movieid=movies.title[movies.movieId==j].values[0]\n",
        "  #movieid= movies.title[movies['movieId']==movieID].values[0] #movieId\n",
        "  k=round(float(k),2)# predicted rating\n",
        "  if userid in predicted_rating.keys():\n",
        "    predicted_rating[userid].append([k,movieid])\n",
        "  else:\n",
        "    predicted_rating[userid]=[[k,movieid]]"
      ],
      "metadata": {
        "id": "1w5cdQAVuN1g"
      },
      "execution_count": null,
      "outputs": []
    },
    {
      "cell_type": "code",
      "source": [
        "# sorting the estimate rating for the recommendation\n",
        "for key, value in predicted_rating.items():\n",
        "  predicted_rating[key]= sorted(predicted_rating[key], key=itemgetter(0),reverse=True)"
      ],
      "metadata": {
        "id": "pnwnhTspuN3t"
      },
      "execution_count": null,
      "outputs": []
    },
    {
      "cell_type": "code",
      "source": [
        "# function to find the movies to recommend to the user\n",
        "'''\n",
        "The function parameters are: userid -> is the user Id \n",
        "                             num_movie -> number of movies to recommend\n",
        "The function retur the first k number of recommended movies\n",
        "'''\n",
        "\n",
        "def rand_matrix_fact_recsys(userid,num_movie):\n",
        "  return predicted_rating[userid][0:num_movie]"
      ],
      "metadata": {
        "id": "-CYqoUvn_61z"
      },
      "execution_count": null,
      "outputs": []
    },
    {
      "cell_type": "code",
      "source": [
        "rand_matrix_fact_recsys(0,10)"
      ],
      "metadata": {
        "colab": {
          "base_uri": "https://localhost:8080/"
        },
        "id": "C78_EguQIRxj",
        "outputId": "44294679-20f2-4a46-b348-a4c926c2c3e5"
      },
      "execution_count": null,
      "outputs": [
        {
          "output_type": "execute_result",
          "data": {
            "text/plain": [
              "[[10.15, 'Shawshank Redemption, The (1994)'],\n",
              " [10.01, 'Casablanca (1942)'],\n",
              " [10.01, 'Boondock Saints, The (2000)'],\n",
              " [9.83, 'Argo (2012)'],\n",
              " [9.8, 'Grand Day Out with Wallace and Gromit, A (1989)'],\n",
              " [9.73, 'For a Few Dollars More (Per qualche dollaro in più) (1965)'],\n",
              " [9.72, 'Departed, The (2006)'],\n",
              " [9.71, 'Godfather, The (1972)'],\n",
              " [9.65, 'Apartment, The (1960)'],\n",
              " [9.63, 'Gosford Park (2001)']]"
            ]
          },
          "metadata": {},
          "execution_count": 79
        }
      ]
    },
    {
      "cell_type": "markdown",
      "source": [
        "### Graph neural network recommender systems"
      ],
      "metadata": {
        "id": "QNnNuCHF8BDp"
      }
    },
    {
      "cell_type": "markdown",
      "source": [
        "### GAT layer"
      ],
      "metadata": {
        "id": "0c9rjEaU8WK5"
      }
    },
    {
      "cell_type": "code",
      "source": [
        "class GNNEncoder(torch.nn.Module):\n",
        "    def __init__(self, hidden_channels, out_channels):\n",
        "        super().__init__()\n",
        "        self.conv1 = GATConv((-1, -1), hidden_channels,add_self_loops=False)\n",
        "        self.conv2 = GATConv((-1, -1), out_channels,add_self_loops=False)\n",
        "\n",
        "    def forward(self, x, edge_index):\n",
        "        x = self.conv1(x, edge_index).relu()\n",
        "        x = self.conv2(x, edge_index)\n",
        "        \n",
        "            \n",
        "        return x    "
      ],
      "metadata": {
        "id": "irUTYyeN6Ovu"
      },
      "execution_count": null,
      "outputs": []
    },
    {
      "cell_type": "code",
      "source": [
        "class Model(torch.nn.Module):\n",
        "    def __init__(self, hidden_channels):\n",
        "        super().__init__()\n",
        "        self.encoder = GNNEncoder( hidden_channels,hidden_channels)\n",
        "        self.encoder = to_hetero(self.encoder, data.metadata(), aggr='sum') \n",
        "        self.decoder = EdgeDecoder(hidden_channels)\n",
        "\n",
        "    def forward(self, x_dict, edge_index_dict, edge_label_index):\n",
        "        z_dict = self.encoder(x_dict, edge_index_dict)\n",
        "        \n",
        "\n",
        "        return self.decoder(z_dict, edge_label_index)"
      ],
      "metadata": {
        "id": "1wPa2Sph6RiO"
      },
      "execution_count": null,
      "outputs": []
    },
    {
      "cell_type": "code",
      "source": [
        "class EdgeDecoder(torch.nn.Module):\n",
        "    def __init__(self, hidden_channels):\n",
        "        super().__init__()\n",
        "\n",
        "    def forward(self, z_dict, edge_label_index): # apply matrix factorization \n",
        "        row, col = edge_label_index\n",
        "        z=torch.matmul( z_dict['user'], z_dict['movie'].t()).relu()\n",
        "        z= z[row, col]\n",
        "\n",
        "        \n",
        "        return z.view(-1),z_dict['user'][row], z_dict['movie'][col]"
      ],
      "metadata": {
        "id": "Wh-PufqJ6TvH"
      },
      "execution_count": null,
      "outputs": []
    },
    {
      "cell_type": "code",
      "source": [
        "model = Model(hidden_channels=16)\n",
        "\n",
        "# Generating the layer-0 (input layer) for the embedding of the nodes\n",
        "with torch.no_grad():\n",
        "    model.encoder(train_data.x_dict, train_data.edge_index_dict)\n",
        "\n",
        "optimizer = torch.optim.Adam(model.parameters(), lr=0.01)"
      ],
      "metadata": {
        "id": "r5ObqUqY6WF3"
      },
      "execution_count": null,
      "outputs": []
    },
    {
      "cell_type": "code",
      "source": [
        "# definig the loss function \n",
        "\n",
        "def weighted_mse_loss(pred, target,user_emb, movie_emb, lambda_u=0.3,lambda_v=0.3):\n",
        "  ssr= (pred - target.to(pred.dtype)).pow(2).sum()\n",
        "  u_regularization = lambda_u * torch.sum(torch.pow(user_emb.norm(dim=1),2))\n",
        "  v_regularization = lambda_v * torch.sum(torch.pow(movie_emb.norm(dim=1),2))\n",
        "\n",
        "  return (ssr+u_regularization+v_regularization)/2"
      ],
      "metadata": {
        "id": "RAcy6uLm6K3m"
      },
      "execution_count": null,
      "outputs": []
    },
    {
      "cell_type": "code",
      "source": [
        "# defining the train function\n",
        "def train():\n",
        "    model.train()\n",
        "    optimizer.zero_grad()\n",
        "    pred,user_emb,movie_emb = model(train_data.x_dict, train_data.edge_index_dict,\n",
        "                 train_data['user', 'movie'].edge_label_index)\n",
        "    target = train_data['user', 'movie'].edge_label\n",
        "    loss = weighted_mse_loss(pred, target,user_emb=user_emb, movie_emb=movie_emb)\n",
        "    loss.backward()\n",
        "    optimizer.step()\n",
        "    return float(loss)\n"
      ],
      "metadata": {
        "id": "L4fCJodL6YDW"
      },
      "execution_count": null,
      "outputs": []
    },
    {
      "cell_type": "code",
      "source": [
        "# defining the test function to evaluate the mean square error\n",
        "@torch.no_grad()\n",
        "def test(data):\n",
        "    model.eval()\n",
        "    pred,_,_ = model(data.x_dict, data.edge_index_dict,\n",
        "                 data['user', 'movie'].edge_label_index)\n",
        "    pred = pred.clamp(min=1, max=10)\n",
        "    target = data['user', 'movie'].edge_label.float()\n",
        "    rmse = F.mse_loss(pred, target).sqrt()\n",
        "    return float(rmse)"
      ],
      "metadata": {
        "id": "Q1higYRU6bau"
      },
      "execution_count": null,
      "outputs": []
    },
    {
      "cell_type": "code",
      "source": [
        "gat_loss_time_series=[]\n",
        "gat_train_rmse_time_series=[]\n",
        "gat_test_rmse_time_series=[]"
      ],
      "metadata": {
        "id": "IywCEeB7EUPX"
      },
      "execution_count": null,
      "outputs": []
    },
    {
      "cell_type": "code",
      "source": [
        "# run the model \n",
        "for epoch in range(1,1000):\n",
        "    loss = train()\n",
        "    train_rmse = test(train_data)\n",
        "    test_rmse = test(test_data)\n",
        "\n",
        "    gat_loss_time_series.append(loss)\n",
        "    gat_train_rmse_time_series.append(train_rmse)\n",
        "    gat_test_rmse_time_series.append(test_rmse)\n",
        "\n",
        "    #print(f'Epoch: {epoch:03d}, Loss: {loss:.4f}, Train RMSE: {train_rmse:.4f},Test RMSE: {test_rmse:.4f}') "
      ],
      "metadata": {
        "id": "EfaAsnwZfkOr"
      },
      "execution_count": null,
      "outputs": []
    },
    {
      "cell_type": "code",
      "source": [
        "# Plot the loss function\n",
        "fig, ax = plt.subplots()\n",
        "ax.plot(list(range(0,len(gat_loss_time_series))), gat_loss_time_series)\n",
        "ax.set(xlabel='epoch', ylabel='loss',title='Loss per epoch')\n",
        "ax.grid()\n",
        "plt.show()"
      ],
      "metadata": {
        "colab": {
          "base_uri": "https://localhost:8080/",
          "height": 472
        },
        "outputId": "7d72b325-099e-4aae-c165-f750a7f55741",
        "id": "CNyvSyoMIv99"
      },
      "execution_count": null,
      "outputs": [
        {
          "output_type": "display_data",
          "data": {
            "text/plain": [
              "<Figure size 640x480 with 1 Axes>"
            ],
            "image/png": "[encoded data removed]"
          },
          "metadata": {}
        }
      ]
    },
    {
      "cell_type": "code",
      "source": [
        "# Plot the train root mean square error\n",
        "fig, ax = plt.subplots()\n",
        "ax.plot(list(range(0,len(gat_train_rmse_time_series))), gat_train_rmse_time_series)\n",
        "\n",
        "ax.set(xlabel='epoch', ylabel='rmse',\n",
        "       title='Train rmse per epoch')\n",
        "ax.grid()\n",
        "\n",
        "\n",
        "plt.show()"
      ],
      "metadata": {
        "colab": {
          "base_uri": "https://localhost:8080/",
          "height": 472
        },
        "outputId": "b2298eb7-2529-4ff0-db7b-56695acdd915",
        "id": "gi5Joz24Iv9-"
      },
      "execution_count": null,
      "outputs": [
        {
          "output_type": "display_data",
          "data": {
            "text/plain": [
              "<Figure size 640x480 with 1 Axes>"
            ],
            "image/png": "[encoded data removed]"
          },
          "metadata": {}
        }
      ]
    },
    {
      "cell_type": "code",
      "source": [
        "# Plot the test root mean square error\n",
        "fig, ax = plt.subplots()\n",
        "ax.plot(list(range(0,len(gat_test_rmse_time_series))), gat_test_rmse_time_series)\n",
        "\n",
        "ax.set(xlabel='epoch', ylabel='rmse',\n",
        "       title='Test rms vs epochs')\n",
        "ax.grid()\n",
        "\n",
        "\n",
        "plt.show()"
      ],
      "metadata": {
        "colab": {
          "base_uri": "https://localhost:8080/",
          "height": 472
        },
        "outputId": "05371e94-de98-499d-e159-68e7ebbb59a1",
        "id": "sEMuI0_xIv9-"
      },
      "execution_count": null,
      "outputs": [
        {
          "output_type": "display_data",
          "data": {
            "text/plain": [
              "<Figure size 640x480 with 1 Axes>"
            ],
            "image/png": "[encoded data removed]"
          },
          "metadata": {}
        }
      ]
    },
    {
      "cell_type": "code",
      "source": [
        "print(f'After {epoch+1:04d},for the GNN with GAT layer the final loss is: {loss:.4f}, the final train RMSE is: {train_rmse:.4f}, the final test RMSE is: {test_rmse:.4f} ')"
      ],
      "metadata": {
        "colab": {
          "base_uri": "https://localhost:8080/"
        },
        "outputId": "3f7d4422-13bb-44f1-b2a7-c11b862306f6",
        "id": "LEPzj3Ei1oCt"
      },
      "execution_count": null,
      "outputs": [
        {
          "output_type": "stream",
          "name": "stdout",
          "text": [
            "After 1000,for the GNN with GAT layer the final loss is: 193285.3438, the final train RMSE is: 1.7305, the final test RMSE is: 1.7482 \n"
          ]
        }
      ]
    },
    {
      "cell_type": "markdown",
      "source": [
        "##### Analyzing the model's results"
      ],
      "metadata": {
        "id": "660AwrNFXG9r"
      }
    },
    {
      "cell_type": "code",
      "source": [
        "# estimate the test rating values\n",
        "\n",
        "model.eval()\n",
        "pred,_,_ = model(test_data.x_dict, test_data.edge_index_dict,\n",
        "                 test_data['user', 'movie'].edge_label_index)\n",
        "pred = pred.clamp(1,10)"
      ],
      "metadata": {
        "id": "VpNpdt7cXU98"
      },
      "execution_count": null,
      "outputs": []
    },
    {
      "cell_type": "code",
      "source": [
        "# create a dictionary with key:userId and values: estimate rating and true rating\n",
        "\n",
        "predicted_rating={}\n",
        "\n",
        "for i , j, k  in zip(test_data['user', 'rates', 'movie'].edge_label_index[0],test_data['user', 'rates', 'movie'].edge_label,pred): # per nome film test_data['user', 'rates', 'movie'].edge_index[1]\n",
        "  userid= int(i) # userId\n",
        "  j=float(j) #rating true\n",
        "  k=int(round(float(k),0))# predicted rating \n",
        "  #userid=list(user_mapping.keys())[list(user_mapping.values()).index(i)]\n",
        "  if userid in predicted_rating.keys():\n",
        "    predicted_rating[userid].append([k,j])\n",
        "  else:\n",
        "    predicted_rating[userid]=[[k,j]]"
      ],
      "metadata": {
        "id": "iZ0tk7IRXU98"
      },
      "execution_count": null,
      "outputs": []
    },
    {
      "cell_type": "code",
      "source": [
        "#user 0 prediction vs actual rating\n",
        "histo_test=[]\n",
        "histo2_test=[]\n",
        "for i in predicted_rating[0]:  #192\n",
        "  histo_test.append(i[0])\n",
        "  histo2_test.append(i[1])\n",
        "\n",
        "count_test_pred=Counter(histo_test)\n",
        "count_test_true=Counter(histo2_test)\n",
        "\n",
        "keys_test_pred = count_test_pred.keys()\n",
        "values_test_pred = count_test_pred.values()\n",
        "\n",
        "keys_test_true = count_test_true.keys()\n",
        "values_test_true = count_test_true.values()\n",
        "\n",
        "plt.bar(keys_test_pred, values_test_pred,label='pred')\n",
        "plt.bar(keys_test_true, values_test_true,alpha=0.5,label='true')\n",
        "plt.legend(loc='upper right')\n"
      ],
      "metadata": {
        "id": "Qhfx6l4ZXU99",
        "colab": {
          "base_uri": "https://localhost:8080/",
          "height": 448
        },
        "outputId": "9b5c9e81-cd8e-4eb5-c458-39d91b242916"
      },
      "execution_count": null,
      "outputs": [
        {
          "output_type": "execute_result",
          "data": {
            "text/plain": [
              "<matplotlib.legend.Legend at 0x7f87623a3ca0>"
            ]
          },
          "metadata": {},
          "execution_count": 95
        },
        {
          "output_type": "display_data",
          "data": {
            "text/plain": [
              "<Figure size 640x480 with 1 Axes>"
            ],
            "image/png": "[encoded data removed]"
          },
          "metadata": {}
        }
      ]
    },
    {
      "cell_type": "code",
      "source": [
        "# find the goodness of the predictions\n",
        "count=[]\n",
        "count_value=0\n",
        "true_val= []\n",
        "pred_val= []\n",
        "for key, value in predicted_rating.items():\n",
        "  count_value=0\n",
        "  lenn=len(value)\n",
        "  for i in value:\n",
        "    if lenn >= 1:\n",
        "      pred_val.append(i[0])\n",
        "      true_val.append(i[1])\n"
      ],
      "metadata": {
        "id": "_X1mT2EeXU99"
      },
      "execution_count": null,
      "outputs": []
    },
    {
      "cell_type": "code",
      "source": [
        "# display the predictions vs true values for a visualization of the goodness of the model\n",
        "confusion_matrix = metrics.confusion_matrix(true_val, pred_val)\n",
        "cm_display = metrics.ConfusionMatrixDisplay(confusion_matrix = confusion_matrix, display_labels = [1,2,3,4,5,6,7,8,9,10]) \n",
        "cm_display.plot()\n",
        "plt.show()"
      ],
      "metadata": {
        "colab": {
          "base_uri": "https://localhost:8080/",
          "height": 449
        },
        "outputId": "8126b742-0f93-466f-e486-151bae1e084f",
        "id": "XKkQQWSHXU99"
      },
      "execution_count": null,
      "outputs": [
        {
          "output_type": "display_data",
          "data": {
            "text/plain": [
              "<Figure size 640x480 with 2 Axes>"
            ],
            "image/png": "[encoded data removed]"
          },
          "metadata": {}
        }
      ]
    },
    {
      "cell_type": "markdown",
      "source": [
        "##### Recommendation"
      ],
      "metadata": {
        "id": "CCcA3EfhXZOL"
      }
    },
    {
      "cell_type": "code",
      "source": [
        "# find the coordinates of the non rated movies by users\n",
        "interaction_matrix = pd.pivot_table( data=ratings,index=['userId'], columns=['movieId'],values= 'rating' ) \n",
        "coordinate_blank=np.argwhere(np.isnan(interaction_matrix.to_numpy()))\n",
        "coordinate_blank=np.transpose(coordinate_blank)"
      ],
      "metadata": {
        "id": "dIE0rJ7krG4_"
      },
      "execution_count": null,
      "outputs": []
    },
    {
      "cell_type": "code",
      "source": [
        "%%capture\n",
        "# create the graph of the non connected edges\n",
        "fill_data = HeteroData()\n",
        "\n",
        "fill_data['movie'].num_nodes = len(movie_mapping)\n",
        "fill_data['user'].num_nodes = len(user_mapping)\n",
        "\n",
        "\n",
        "fill_data['movie'].x = torch.cat([emb, genres], dim=-1)\n",
        "fill_data['user'].x = torch.eye(fill_data['user'].num_nodes)\n",
        "\n",
        "\n",
        "src = coordinate_blank[0]\n",
        "dst = coordinate_blank[1]\n",
        "\n",
        "edge=[]\n",
        "for i in list(range(0,len(src))):\n",
        "  edge.append( [src[i],dst[i]])\n",
        "\n",
        "edge_index= torch.tensor(edge)\n",
        "edge_index=edge_index.t().contiguous()\n",
        "\n",
        "fill_data['user', 'rates', 'movie'].edge_index = edge_index\n",
        "rating = torch.zeros(len(coordinate_blank[0])).to(torch.long)\n",
        "\n",
        "fill_data['user', 'rates', 'movie'].edge_label = rating\n",
        "\n",
        "fill_data = T.ToUndirected()(fill_data)\n",
        "del fill_data['movie', 'rev_rates', 'user'].edge_label  # Remove \"reverse\" label.\n",
        "\n",
        "fill_data, fill_val_data, fill_test_data = T.RandomLinkSplit(\n",
        "    num_val=0.0,\n",
        "    num_test=0.0,\n",
        "    neg_sampling_ratio=0.0,\n",
        "    edge_types=[('user', 'rates', 'movie')],\n",
        "    rev_edge_types=[('movie', 'rev_rates', 'user')],\n",
        ")(fill_data)"
      ],
      "metadata": {
        "id": "W91jyffVrG4_"
      },
      "execution_count": null,
      "outputs": []
    },
    {
      "cell_type": "code",
      "source": [
        "# function to find the estimate of the rating\n",
        "def fill_blank_space(data):\n",
        "    model.eval()\n",
        "    pred = model(data.x_dict, data.edge_index_dict,data['user', 'movie'].edge_label_index)\n",
        "    return pred"
      ],
      "metadata": {
        "id": "7kA21zOnrG5A"
      },
      "execution_count": null,
      "outputs": []
    },
    {
      "cell_type": "code",
      "source": [
        "# actual estimation of the ratings\n",
        "fill_data['user', 'rates', 'movie'].edge_label,_,_ = fill_blank_space(fill_data)"
      ],
      "metadata": {
        "id": "GQ9phUyurG5A"
      },
      "execution_count": null,
      "outputs": []
    },
    {
      "cell_type": "code",
      "source": [
        "# create a dictionary with key:userId and values: estimate rating and movieId\n",
        "predicted_rating ={}\n",
        "for i , j, k  in zip(fill_data['user', 'rates', 'movie'].edge_label_index[0],fill_data['user', 'rates', 'movie'].edge_label_index[1],fill_data['user', 'rates', 'movie'].edge_label):\n",
        "  userid= int(i)  # userId\n",
        "  movieid=int(j)\n",
        "  movieid= movies.title[movies['movieId']==movieid].values[0] #movieId\n",
        "  k=round(float(k),2)# predicted rating\n",
        "  if userid in predicted_rating.keys():\n",
        "    predicted_rating[userid].append([k,movieid])\n",
        "  else:\n",
        "    predicted_rating[userid]=[[k,movieid]]\n"
      ],
      "metadata": {
        "id": "X_9VCZT-rG5A"
      },
      "execution_count": null,
      "outputs": []
    },
    {
      "cell_type": "code",
      "source": [
        "# sorting the estimate rating for the recommendation\n",
        "for key, value in predicted_rating.items():\n",
        "  predicted_rating[key]= sorted(predicted_rating[key], key=itemgetter(0),reverse=True)"
      ],
      "metadata": {
        "id": "sI5K8m9qM9nd"
      },
      "execution_count": null,
      "outputs": []
    },
    {
      "cell_type": "code",
      "source": [
        "# function to find the movies to recommend to the user\n",
        "'''\n",
        "The function parameters are: userid -> is the user Id \n",
        "                             num_movie -> number of movies to recommend\n",
        "'''\n",
        "\n",
        "def rand_matrix_fact_recsys(userid,num_movie):\n",
        "  return predicted_rating[userid][0:num_movie]"
      ],
      "metadata": {
        "id": "vmFx67kMM9nd"
      },
      "execution_count": null,
      "outputs": []
    },
    {
      "cell_type": "code",
      "source": [
        "rand_matrix_fact_recsys(0,10)"
      ],
      "metadata": {
        "colab": {
          "base_uri": "https://localhost:8080/"
        },
        "outputId": "56d9c863-ccf7-44ef-9ea2-c4366c6415a0",
        "id": "zdxqUx4ZM9nd"
      },
      "execution_count": null,
      "outputs": [
        {
          "output_type": "execute_result",
          "data": {
            "text/plain": [
              "[[6.11, 'Bruce Almighty (2003)'],\n",
              " [6.07, 'Dirty Dancing (1987)'],\n",
              " [6.06, 'Hitch (2005)'],\n",
              " [6.06, 'Men in Black II (a.k.a. MIIB) (a.k.a. MIB 2) (2002)'],\n",
              " [6.06, 'Rain Man (1988)'],\n",
              " [6.05, 'Finding Nemo (2003)'],\n",
              " [6.05, \"Charlie's Angels (2000)\"],\n",
              " [6.05, 'Rocky IV (1985)'],\n",
              " [6.05, 'Planet of the Apes (2001)'],\n",
              " [6.05, 'Madagascar (2005)']]"
            ]
          },
          "metadata": {},
          "execution_count": 106
        }
      ]
    },
    {
      "cell_type": "markdown",
      "source": [
        "### GraphSAGE layer"
      ],
      "metadata": {
        "id": "7WUp0gKG8b8g"
      }
    },
    {
      "cell_type": "code",
      "source": [
        "class GNNEncoder(torch.nn.Module):\n",
        "    def __init__(self, hidden_channels, out_channels):\n",
        "        super().__init__()\n",
        "        self.conv1 = SAGEConv((-1, -1), hidden_channels)\n",
        "        self.conv2 = SAGEConv((-1, -1), out_channels)\n",
        "\n",
        "    def forward(self, x, edge_index):\n",
        "        x = self.conv1(x, edge_index).relu()\n",
        "        x = self.conv2(x, edge_index)\n",
        "        \n",
        "            \n",
        "        return x   "
      ],
      "metadata": {
        "id": "cyJR0e5h8cBw"
      },
      "execution_count": null,
      "outputs": []
    },
    {
      "cell_type": "code",
      "source": [
        "class Model(torch.nn.Module):\n",
        "    def __init__(self, hidden_channels):\n",
        "        super().__init__()\n",
        "        self.encoder = GNNEncoder( hidden_channels,hidden_channels)\n",
        "        self.encoder = to_hetero(self.encoder, data.metadata(), aggr='sum') #sum\n",
        "        self.decoder = EdgeDecoder(hidden_channels)\n",
        "\n",
        "    def forward(self, x_dict, edge_index_dict, edge_label_index):\n",
        "        z_dict = self.encoder(x_dict, edge_index_dict)\n",
        "\n",
        "        \n",
        "        return self.decoder(z_dict, edge_label_index)"
      ],
      "metadata": {
        "id": "sifD3c2U8BfR"
      },
      "execution_count": null,
      "outputs": []
    },
    {
      "cell_type": "code",
      "source": [
        "class EdgeDecoder(torch.nn.Module):\n",
        "    def __init__(self, hidden_channels):\n",
        "        super().__init__()\n",
        "\n",
        "\n",
        "    def forward(self, z_dict, edge_label_index):\n",
        "        row, col = edge_label_index\n",
        "        z=torch.matmul( z_dict['user'], z_dict['movie'].t()).relu()\n",
        "        z= z[row, col]\n",
        "        \n",
        "\n",
        "        return z.view(-1),z_dict['user'][row], z_dict['movie'][col]"
      ],
      "metadata": {
        "id": "94TKxM4Q65jv"
      },
      "execution_count": null,
      "outputs": []
    },
    {
      "cell_type": "code",
      "source": [
        "model = Model(hidden_channels=16)\n",
        "\n",
        "# Generating the layer-0 (input layer) for the embedding of the nodes\n",
        "with torch.no_grad():\n",
        "    model.encoder(train_data.x_dict, train_data.edge_index_dict)\n",
        "\n",
        "optimizer = torch.optim.Adam(model.parameters(), lr=0.01)\n",
        "#optimizer = torch.optim.Adam(model.parameters(), lr=0.01,weight_decay=1e-5)"
      ],
      "metadata": {
        "id": "MJRRKOME65l9"
      },
      "execution_count": null,
      "outputs": []
    },
    {
      "cell_type": "code",
      "source": [
        "\n",
        "def weighted_mse_loss(pred, target,user_emb, movie_emb, lambda_u=0.3,lambda_v=0.3):\n",
        "  ssr= (pred - target.to(pred.dtype)).pow(2).sum()\n",
        "  user_constr= lambda_u * torch.sum(torch.pow(user_emb.norm(dim=1),2))\n",
        "  movie_constr= lambda_v * torch.sum(torch.pow(movie_emb.norm(dim=1),2))\n",
        "\n",
        "  return (ssr+user_constr+movie_constr)/2"
      ],
      "metadata": {
        "id": "2QaS3aZPWpOq"
      },
      "execution_count": null,
      "outputs": []
    },
    {
      "cell_type": "code",
      "source": [
        "def train():\n",
        "    model.train()\n",
        "    optimizer.zero_grad()\n",
        "    pred,user_emb,movie_emb = model(train_data.x_dict, train_data.edge_index_dict,\n",
        "                 train_data['user', 'movie'].edge_label_index)\n",
        "    target = train_data['user', 'movie'].edge_label\n",
        "    loss = weighted_mse_loss(pred, target,user_emb=user_emb, movie_emb=movie_emb)\n",
        "    loss.backward()\n",
        "    optimizer.step()\n",
        "    return float(loss)\n"
      ],
      "metadata": {
        "id": "oja1qfsunR1F"
      },
      "execution_count": null,
      "outputs": []
    },
    {
      "cell_type": "code",
      "source": [
        "@torch.no_grad()\n",
        "def test(data):\n",
        "    model.eval()\n",
        "    pred,user_emb,movie_emb = model(data.x_dict, data.edge_index_dict,\n",
        "                 data['user', 'movie'].edge_label_index)\n",
        "    pred = pred.clamp(min=1, max=10)\n",
        "    target = data['user', 'movie'].edge_label.float()\n",
        "    rmse = F.mse_loss(pred, target).sqrt()\n",
        "    return float(rmse)"
      ],
      "metadata": {
        "id": "qth2KlVNnR1F"
      },
      "execution_count": null,
      "outputs": []
    },
    {
      "cell_type": "code",
      "source": [
        "sage_loss_time_series=[]\n",
        "sage_train_rmse_time_series=[]\n",
        "sage_test_rmse_time_series=[]"
      ],
      "metadata": {
        "id": "n2ya0dXJGUJf"
      },
      "execution_count": null,
      "outputs": []
    },
    {
      "cell_type": "code",
      "source": [
        "for epoch in range(1,1000):\n",
        "    loss = train()\n",
        "    train_rmse = test(train_data)\n",
        "    test_rmse = test(test_data)\n",
        "\n",
        "    sage_loss_time_series.append(loss)\n",
        "    sage_train_rmse_time_series.append(train_rmse)\n",
        "    sage_test_rmse_time_series.append(test_rmse)\n",
        "\n",
        "    print(f'Epoch: {epoch:03d}, Loss: {loss:.4f}, Train RMSE: {train_rmse:.4f},Test RMSE: {test_rmse:.4f}') \n",
        "          "
      ],
      "metadata": {
        "id": "Gc8Yfs-vnR1G",
        "colab": {
          "base_uri": "https://localhost:8080/"
        },
        "outputId": "c008ba90-3253-4783-e95b-4ed5a419ed5f"
      },
      "execution_count": null,
      "outputs": [
        {
          "output_type": "stream",
          "name": "stdout",
          "text": [
            "Epoch: 001, Loss: 1507055.2500, Train RMSE: 6.5654,Test RMSE: 6.5809\n",
            "Epoch: 002, Loss: 1418608.2500, Train RMSE: 6.5654,Test RMSE: 6.5809\n",
            "Epoch: 003, Loss: 1277850.8750, Train RMSE: 6.1997,Test RMSE: 6.2169\n",
            "Epoch: 004, Loss: 1055068.6250, Train RMSE: 5.0340,Test RMSE: 5.0524\n",
            "Epoch: 005, Loss: 730482.8750, Train RMSE: 3.2241,Test RMSE: 3.2432\n",
            "Epoch: 006, Loss: 372442.4688, Train RMSE: 2.2642,Test RMSE: 2.2597\n",
            "Epoch: 007, Loss: 295809.9688, Train RMSE: 3.3320,Test RMSE: 3.3210\n",
            "Epoch: 008, Loss: 618637.6250, Train RMSE: 3.0912,Test RMSE: 3.0835\n",
            "Epoch: 009, Loss: 462343.5625, Train RMSE: 2.1684,Test RMSE: 2.1662\n",
            "Epoch: 010, Loss: 278016.7500, Train RMSE: 2.2144,Test RMSE: 2.2282\n",
            "Epoch: 011, Loss: 254204.4531, Train RMSE: 2.8200,Test RMSE: 2.8380\n",
            "Epoch: 012, Loss: 315166.2812, Train RMSE: 3.2495,Test RMSE: 3.2681\n",
            "Epoch: 013, Loss: 372949.5000, Train RMSE: 3.4003,Test RMSE: 3.4189\n",
            "Epoch: 014, Loss: 394794.6562, Train RMSE: 3.3072,Test RMSE: 3.3258\n",
            "Epoch: 015, Loss: 378671.9375, Train RMSE: 3.0149,Test RMSE: 3.0333\n",
            "Epoch: 016, Loss: 334534.6875, Train RMSE: 2.5862,Test RMSE: 2.6037\n",
            "Epoch: 017, Loss: 279740.7500, Train RMSE: 2.1590,Test RMSE: 2.1731\n",
            "Epoch: 018, Loss: 238283.3750, Train RMSE: 1.9846,Test RMSE: 1.9909\n",
            "Epoch: 019, Loss: 233253.6094, Train RMSE: 2.1581,Test RMSE: 2.1560\n",
            "Epoch: 020, Loss: 264781.6250, Train RMSE: 2.3539,Test RMSE: 2.3485\n",
            "Epoch: 021, Loss: 294414.4688, Train RMSE: 2.3020,Test RMSE: 2.2974\n",
            "Epoch: 022, Loss: 285311.7188, Train RMSE: 2.0812,Test RMSE: 2.0813\n",
            "Epoch: 023, Loss: 250136.5312, Train RMSE: 1.9521,Test RMSE: 1.9597\n",
            "Epoch: 024, Loss: 224147.3750, Train RMSE: 2.0425,Test RMSE: 2.0561\n",
            "Epoch: 025, Loss: 222390.3750, Train RMSE: 2.2390,Test RMSE: 2.2556\n",
            "Epoch: 026, Loss: 236209.8594, Train RMSE: 2.3941,Test RMSE: 2.4118\n",
            "Epoch: 027, Loss: 250280.1719, Train RMSE: 2.4385,Test RMSE: 2.4565\n",
            "Epoch: 028, Loss: 254472.2344, Train RMSE: 2.3643,Test RMSE: 2.3821\n",
            "Epoch: 029, Loss: 246707.3281, Train RMSE: 2.2038,Test RMSE: 2.2207\n",
            "Epoch: 030, Loss: 231702.9531, Train RMSE: 2.0251,Test RMSE: 2.0400\n",
            "Epoch: 031, Loss: 218194.8438, Train RMSE: 1.9157,Test RMSE: 1.9271\n",
            "Epoch: 032, Loss: 214240.4219, Train RMSE: 1.9148,Test RMSE: 1.9222\n",
            "Epoch: 033, Loss: 220900.3281, Train RMSE: 1.9599,Test RMSE: 1.9648\n",
            "Epoch: 034, Loss: 229636.2500, Train RMSE: 1.9627,Test RMSE: 1.9675\n",
            "Epoch: 035, Loss: 230126.1875, Train RMSE: 1.9144,Test RMSE: 1.9216\n",
            "Epoch: 036, Loss: 221671.4062, Train RMSE: 1.8810,Test RMSE: 1.8917\n",
            "Epoch: 037, Loss: 212573.8750, Train RMSE: 1.9135,Test RMSE: 1.9276\n",
            "Epoch: 038, Loss: 209711.6875, Train RMSE: 1.9922,Test RMSE: 2.0085\n",
            "Epoch: 039, Loss: 212800.4688, Train RMSE: 2.0610,Test RMSE: 2.0782\n",
            "Epoch: 040, Loss: 217034.7812, Train RMSE: 2.0792,Test RMSE: 2.0968\n",
            "Epoch: 041, Loss: 218104.6250, Train RMSE: 2.0395,Test RMSE: 2.0569\n",
            "Epoch: 042, Loss: 214980.5312, Train RMSE: 1.9638,Test RMSE: 1.9805\n",
            "Epoch: 043, Loss: 209908.6406, Train RMSE: 1.8906,Test RMSE: 1.9059\n",
            "Epoch: 044, Loss: 206460.2188, Train RMSE: 1.8511,Test RMSE: 1.8647\n",
            "Epoch: 045, Loss: 206677.2344, Train RMSE: 1.8450,Test RMSE: 1.8572\n",
            "Epoch: 046, Loss: 209189.5625, Train RMSE: 1.8463,Test RMSE: 1.8580\n",
            "Epoch: 047, Loss: 210515.5312, Train RMSE: 1.8388,Test RMSE: 1.8514\n",
            "Epoch: 048, Loss: 208816.7344, Train RMSE: 1.8338,Test RMSE: 1.8480\n",
            "Epoch: 049, Loss: 205678.9688, Train RMSE: 1.8495,Test RMSE: 1.8654\n",
            "Epoch: 050, Loss: 203837.0000, Train RMSE: 1.8843,Test RMSE: 1.9017\n",
            "Epoch: 051, Loss: 204194.2500, Train RMSE: 1.9176,Test RMSE: 1.9358\n",
            "Epoch: 052, Loss: 205467.5156, Train RMSE: 1.9285,Test RMSE: 1.9472\n",
            "Epoch: 053, Loss: 205888.0156, Train RMSE: 1.9109,Test RMSE: 1.9296\n",
            "Epoch: 054, Loss: 204810.3281, Train RMSE: 1.8748,Test RMSE: 1.8932\n",
            "Epoch: 055, Loss: 203038.7031, Train RMSE: 1.8385,Test RMSE: 1.8562\n",
            "Epoch: 056, Loss: 201928.5781, Train RMSE: 1.8154,Test RMSE: 1.8325\n",
            "Epoch: 057, Loss: 202077.3125, Train RMSE: 1.8058,Test RMSE: 1.8225\n",
            "Epoch: 058, Loss: 202767.7500, Train RMSE: 1.8023,Test RMSE: 1.8190\n",
            "Epoch: 059, Loss: 202813.5625, Train RMSE: 1.8018,Test RMSE: 1.8192\n",
            "Epoch: 060, Loss: 201905.8281, Train RMSE: 1.8085,Test RMSE: 1.8269\n",
            "Epoch: 061, Loss: 200828.4219, Train RMSE: 1.8245,Test RMSE: 1.8438\n",
            "Epoch: 062, Loss: 200408.5312, Train RMSE: 1.8432,Test RMSE: 1.8632\n",
            "Epoch: 063, Loss: 200638.2031, Train RMSE: 1.8539,Test RMSE: 1.8743\n",
            "Epoch: 064, Loss: 200869.3594, Train RMSE: 1.8499,Test RMSE: 1.8705\n",
            "Epoch: 065, Loss: 200594.6875, Train RMSE: 1.8333,Test RMSE: 1.8539\n",
            "Epoch: 066, Loss: 199919.5000, Train RMSE: 1.8126,Test RMSE: 1.8330\n",
            "Epoch: 067, Loss: 199358.2031, Train RMSE: 1.7960,Test RMSE: 1.8162\n",
            "Epoch: 068, Loss: 199248.0625, Train RMSE: 1.7865,Test RMSE: 1.8065\n",
            "Epoch: 069, Loss: 199401.4375, Train RMSE: 1.7828,Test RMSE: 1.8030\n",
            "Epoch: 070, Loss: 199372.0000, Train RMSE: 1.7839,Test RMSE: 1.8044\n",
            "Epoch: 071, Loss: 199001.1562, Train RMSE: 1.7899,Test RMSE: 1.8110\n",
            "Epoch: 072, Loss: 198559.7500, Train RMSE: 1.8002,Test RMSE: 1.8217\n",
            "Epoch: 073, Loss: 198359.3281, Train RMSE: 1.8102,Test RMSE: 1.8322\n",
            "Epoch: 074, Loss: 198389.4531, Train RMSE: 1.8146,Test RMSE: 1.8368\n",
            "Epoch: 075, Loss: 198393.7188, Train RMSE: 1.8106,Test RMSE: 1.8329\n",
            "Epoch: 076, Loss: 198201.2500, Train RMSE: 1.8003,Test RMSE: 1.8227\n",
            "Epoch: 077, Loss: 197900.6562, Train RMSE: 1.7885,Test RMSE: 1.8108\n",
            "Epoch: 078, Loss: 197698.3750, Train RMSE: 1.7792,Test RMSE: 1.8015\n",
            "Epoch: 079, Loss: 197663.2812, Train RMSE: 1.7743,Test RMSE: 1.7966\n",
            "Epoch: 080, Loss: 197662.2812, Train RMSE: 1.7734,Test RMSE: 1.7958\n",
            "Epoch: 081, Loss: 197548.6875, Train RMSE: 1.7763,Test RMSE: 1.7990\n",
            "Epoch: 082, Loss: 197344.1406, Train RMSE: 1.7821,Test RMSE: 1.8051\n",
            "Epoch: 083, Loss: 197183.8281, Train RMSE: 1.7886,Test RMSE: 1.8118\n",
            "Epoch: 084, Loss: 197130.3750, Train RMSE: 1.7925,Test RMSE: 1.8159\n",
            "Epoch: 085, Loss: 197111.2969, Train RMSE: 1.7918,Test RMSE: 1.8152\n",
            "Epoch: 086, Loss: 197031.6250, Train RMSE: 1.7866,Test RMSE: 1.8101\n",
            "Epoch: 087, Loss: 196892.4844, Train RMSE: 1.7795,Test RMSE: 1.8030\n",
            "Epoch: 088, Loss: 196773.2188, Train RMSE: 1.7731,Test RMSE: 1.7967\n",
            "Epoch: 089, Loss: 196720.7500, Train RMSE: 1.7693,Test RMSE: 1.7928\n",
            "Epoch: 090, Loss: 196694.6250, Train RMSE: 1.7684,Test RMSE: 1.7920\n",
            "Epoch: 091, Loss: 196631.6094, Train RMSE: 1.7702,Test RMSE: 1.7940\n",
            "Epoch: 092, Loss: 196530.6094, Train RMSE: 1.7739,Test RMSE: 1.7979\n",
            "Epoch: 093, Loss: 196443.5156, Train RMSE: 1.7779,Test RMSE: 1.8019\n",
            "Epoch: 094, Loss: 196398.2500, Train RMSE: 1.7801,Test RMSE: 1.8043\n",
            "Epoch: 095, Loss: 196366.8750, Train RMSE: 1.7794,Test RMSE: 1.8036\n",
            "Epoch: 096, Loss: 196311.4062, Train RMSE: 1.7760,Test RMSE: 1.8003\n",
            "Epoch: 097, Loss: 196234.6719, Train RMSE: 1.7715,Test RMSE: 1.7959\n",
            "Epoch: 098, Loss: 196169.2500, Train RMSE: 1.7676,Test RMSE: 1.7919\n",
            "Epoch: 099, Loss: 196129.6406, Train RMSE: 1.7654,Test RMSE: 1.7897\n",
            "Epoch: 100, Loss: 196095.4062, Train RMSE: 1.7652,Test RMSE: 1.7896\n",
            "Epoch: 101, Loss: 196044.0938, Train RMSE: 1.7667,Test RMSE: 1.7913\n",
            "Epoch: 102, Loss: 195982.0156, Train RMSE: 1.7692,Test RMSE: 1.7938\n",
            "Epoch: 103, Loss: 195930.4688, Train RMSE: 1.7713,Test RMSE: 1.7960\n",
            "Epoch: 104, Loss: 195894.0000, Train RMSE: 1.7719,Test RMSE: 1.7967\n",
            "Epoch: 105, Loss: 195857.0312, Train RMSE: 1.7707,Test RMSE: 1.7955\n",
            "Epoch: 106, Loss: 195808.7031, Train RMSE: 1.7681,Test RMSE: 1.7929\n",
            "Epoch: 107, Loss: 195756.8594, Train RMSE: 1.7652,Test RMSE: 1.7900\n",
            "Epoch: 108, Loss: 195713.7656, Train RMSE: 1.7630,Test RMSE: 1.7878\n",
            "Epoch: 109, Loss: 195678.2500, Train RMSE: 1.7621,Test RMSE: 1.7870\n",
            "Epoch: 110, Loss: 195639.4375, Train RMSE: 1.7626,Test RMSE: 1.7875\n",
            "Epoch: 111, Loss: 195593.7188, Train RMSE: 1.7639,Test RMSE: 1.7888\n",
            "Epoch: 112, Loss: 195548.4844, Train RMSE: 1.7653,Test RMSE: 1.7903\n",
            "Epoch: 113, Loss: 195509.7344, Train RMSE: 1.7660,Test RMSE: 1.7910\n",
            "Epoch: 114, Loss: 195473.5938, Train RMSE: 1.7655,Test RMSE: 1.7905\n",
            "Epoch: 115, Loss: 195433.7188, Train RMSE: 1.7639,Test RMSE: 1.7890\n",
            "Epoch: 116, Loss: 195390.6094, Train RMSE: 1.7619,Test RMSE: 1.7870\n",
            "Epoch: 117, Loss: 195349.8594, Train RMSE: 1.7602,Test RMSE: 1.7853\n",
            "Epoch: 118, Loss: 195313.0156, Train RMSE: 1.7593,Test RMSE: 1.7844\n",
            "Epoch: 119, Loss: 195276.0312, Train RMSE: 1.7593,Test RMSE: 1.7843\n",
            "Epoch: 120, Loss: 195236.1875, Train RMSE: 1.7599,Test RMSE: 1.7850\n",
            "Epoch: 121, Loss: 195195.7812, Train RMSE: 1.7607,Test RMSE: 1.7858\n",
            "Epoch: 122, Loss: 195157.8281, Train RMSE: 1.7611,Test RMSE: 1.7862\n",
            "Epoch: 123, Loss: 195121.5000, Train RMSE: 1.7607,Test RMSE: 1.7859\n",
            "Epoch: 124, Loss: 195083.9688, Train RMSE: 1.7597,Test RMSE: 1.7848\n",
            "Epoch: 125, Loss: 195045.0312, Train RMSE: 1.7583,Test RMSE: 1.7835\n",
            "Epoch: 126, Loss: 195006.8906, Train RMSE: 1.7570,Test RMSE: 1.7822\n",
            "Epoch: 127, Loss: 194970.4531, Train RMSE: 1.7563,Test RMSE: 1.7814\n",
            "Epoch: 128, Loss: 194934.1250, Train RMSE: 1.7561,Test RMSE: 1.7813\n",
            "Epoch: 129, Loss: 194896.6719, Train RMSE: 1.7564,Test RMSE: 1.7816\n",
            "Epoch: 130, Loss: 194859.0625, Train RMSE: 1.7568,Test RMSE: 1.7820\n",
            "Epoch: 131, Loss: 194822.5000, Train RMSE: 1.7569,Test RMSE: 1.7821\n",
            "Epoch: 132, Loss: 194786.6406, Train RMSE: 1.7565,Test RMSE: 1.7817\n",
            "Epoch: 133, Loss: 194750.2656, Train RMSE: 1.7556,Test RMSE: 1.7809\n",
            "Epoch: 134, Loss: 194713.4219, Train RMSE: 1.7546,Test RMSE: 1.7798\n",
            "Epoch: 135, Loss: 194677.0938, Train RMSE: 1.7537,Test RMSE: 1.7789\n",
            "Epoch: 136, Loss: 194641.5000, Train RMSE: 1.7531,Test RMSE: 1.7784\n",
            "Epoch: 137, Loss: 194605.8750, Train RMSE: 1.7530,Test RMSE: 1.7782\n",
            "Epoch: 138, Loss: 194569.8281, Train RMSE: 1.7531,Test RMSE: 1.7783\n",
            "Epoch: 139, Loss: 194533.8906, Train RMSE: 1.7532,Test RMSE: 1.7784\n",
            "Epoch: 140, Loss: 194498.4688, Train RMSE: 1.7530,Test RMSE: 1.7783\n",
            "Epoch: 141, Loss: 194463.2500, Train RMSE: 1.7525,Test RMSE: 1.7778\n",
            "Epoch: 142, Loss: 194427.8125, Train RMSE: 1.7518,Test RMSE: 1.7770\n",
            "Epoch: 143, Loss: 194392.3125, Train RMSE: 1.7510,Test RMSE: 1.7762\n",
            "Epoch: 144, Loss: 194357.1719, Train RMSE: 1.7503,Test RMSE: 1.7756\n",
            "Epoch: 145, Loss: 194322.2969, Train RMSE: 1.7499,Test RMSE: 1.7752\n",
            "Epoch: 146, Loss: 194287.2969, Train RMSE: 1.7498,Test RMSE: 1.7750\n",
            "Epoch: 147, Loss: 194252.2656, Train RMSE: 1.7497,Test RMSE: 1.7750\n",
            "Epoch: 148, Loss: 194217.5156, Train RMSE: 1.7496,Test RMSE: 1.7749\n",
            "Epoch: 149, Loss: 194183.0156, Train RMSE: 1.7493,Test RMSE: 1.7746\n",
            "Epoch: 150, Loss: 194148.5312, Train RMSE: 1.7488,Test RMSE: 1.7740\n",
            "Epoch: 151, Loss: 194113.9844, Train RMSE: 1.7481,Test RMSE: 1.7734\n",
            "Epoch: 152, Loss: 194079.5469, Train RMSE: 1.7475,Test RMSE: 1.7728\n",
            "Epoch: 153, Loss: 194045.2344, Train RMSE: 1.7470,Test RMSE: 1.7723\n",
            "Epoch: 154, Loss: 194011.0469, Train RMSE: 1.7467,Test RMSE: 1.7720\n",
            "Epoch: 155, Loss: 193976.8594, Train RMSE: 1.7465,Test RMSE: 1.7718\n",
            "Epoch: 156, Loss: 193942.6875, Train RMSE: 1.7464,Test RMSE: 1.7717\n",
            "Epoch: 157, Loss: 193908.6562, Train RMSE: 1.7461,Test RMSE: 1.7714\n",
            "Epoch: 158, Loss: 193874.7500, Train RMSE: 1.7457,Test RMSE: 1.7710\n",
            "Epoch: 159, Loss: 193840.8594, Train RMSE: 1.7452,Test RMSE: 1.7704\n",
            "Epoch: 160, Loss: 193807.0000, Train RMSE: 1.7446,Test RMSE: 1.7699\n",
            "Epoch: 161, Loss: 193773.2656, Train RMSE: 1.7441,Test RMSE: 1.7694\n",
            "Epoch: 162, Loss: 193739.6562, Train RMSE: 1.7438,Test RMSE: 1.7690\n",
            "Epoch: 163, Loss: 193706.0312, Train RMSE: 1.7435,Test RMSE: 1.7688\n",
            "Epoch: 164, Loss: 193672.4688, Train RMSE: 1.7433,Test RMSE: 1.7685\n",
            "Epoch: 165, Loss: 193639.0000, Train RMSE: 1.7430,Test RMSE: 1.7683\n",
            "Epoch: 166, Loss: 193605.6719, Train RMSE: 1.7426,Test RMSE: 1.7679\n",
            "Epoch: 167, Loss: 193572.3750, Train RMSE: 1.7422,Test RMSE: 1.7674\n",
            "Epoch: 168, Loss: 193539.1250, Train RMSE: 1.7417,Test RMSE: 1.7669\n",
            "Epoch: 169, Loss: 193505.9219, Train RMSE: 1.7412,Test RMSE: 1.7665\n",
            "Epoch: 170, Loss: 193472.8125, Train RMSE: 1.7408,Test RMSE: 1.7661\n",
            "Epoch: 171, Loss: 193439.7656, Train RMSE: 1.7405,Test RMSE: 1.7658\n",
            "Epoch: 172, Loss: 193406.7812, Train RMSE: 1.7403,Test RMSE: 1.7656\n",
            "Epoch: 173, Loss: 193373.8750, Train RMSE: 1.7400,Test RMSE: 1.7653\n",
            "Epoch: 174, Loss: 193341.1094, Train RMSE: 1.7396,Test RMSE: 1.7649\n",
            "Epoch: 175, Loss: 193308.3906, Train RMSE: 1.7392,Test RMSE: 1.7645\n",
            "Epoch: 176, Loss: 193275.7031, Train RMSE: 1.7387,Test RMSE: 1.7641\n",
            "Epoch: 177, Loss: 193243.0938, Train RMSE: 1.7383,Test RMSE: 1.7636\n",
            "Epoch: 178, Loss: 193210.5469, Train RMSE: 1.7379,Test RMSE: 1.7633\n",
            "Epoch: 179, Loss: 193178.0625, Train RMSE: 1.7376,Test RMSE: 1.7629\n",
            "Epoch: 180, Loss: 193145.6562, Train RMSE: 1.7373,Test RMSE: 1.7627\n",
            "Epoch: 181, Loss: 193113.3750, Train RMSE: 1.7370,Test RMSE: 1.7624\n",
            "Epoch: 182, Loss: 193081.1562, Train RMSE: 1.7367,Test RMSE: 1.7621\n",
            "Epoch: 183, Loss: 193049.0312, Train RMSE: 1.7363,Test RMSE: 1.7617\n",
            "Epoch: 184, Loss: 193016.9688, Train RMSE: 1.7358,Test RMSE: 1.7612\n",
            "Epoch: 185, Loss: 192985.0312, Train RMSE: 1.7354,Test RMSE: 1.7608\n",
            "Epoch: 186, Loss: 192953.1562, Train RMSE: 1.7350,Test RMSE: 1.7605\n",
            "Epoch: 187, Loss: 192921.3438, Train RMSE: 1.7347,Test RMSE: 1.7601\n",
            "Epoch: 188, Loss: 192889.6250, Train RMSE: 1.7344,Test RMSE: 1.7599\n",
            "Epoch: 189, Loss: 192858.0000, Train RMSE: 1.7341,Test RMSE: 1.7596\n",
            "Epoch: 190, Loss: 192826.4062, Train RMSE: 1.7337,Test RMSE: 1.7592\n",
            "Epoch: 191, Loss: 192794.9688, Train RMSE: 1.7334,Test RMSE: 1.7589\n",
            "Epoch: 192, Loss: 192763.6094, Train RMSE: 1.7330,Test RMSE: 1.7585\n",
            "Epoch: 193, Loss: 192732.3438, Train RMSE: 1.7326,Test RMSE: 1.7581\n",
            "Epoch: 194, Loss: 192701.1094, Train RMSE: 1.7322,Test RMSE: 1.7578\n",
            "Epoch: 195, Loss: 192669.9688, Train RMSE: 1.7319,Test RMSE: 1.7574\n",
            "Epoch: 196, Loss: 192638.9062, Train RMSE: 1.7316,Test RMSE: 1.7571\n",
            "Epoch: 197, Loss: 192607.9688, Train RMSE: 1.7312,Test RMSE: 1.7568\n",
            "Epoch: 198, Loss: 192577.1094, Train RMSE: 1.7309,Test RMSE: 1.7565\n",
            "Epoch: 199, Loss: 192546.3281, Train RMSE: 1.7305,Test RMSE: 1.7562\n",
            "Epoch: 200, Loss: 192515.6406, Train RMSE: 1.7302,Test RMSE: 1.7558\n",
            "Epoch: 201, Loss: 192485.0781, Train RMSE: 1.7298,Test RMSE: 1.7555\n",
            "Epoch: 202, Loss: 192454.6250, Train RMSE: 1.7294,Test RMSE: 1.7551\n",
            "Epoch: 203, Loss: 192424.2969, Train RMSE: 1.7291,Test RMSE: 1.7548\n",
            "Epoch: 204, Loss: 192394.0312, Train RMSE: 1.7288,Test RMSE: 1.7545\n",
            "Epoch: 205, Loss: 192363.8281, Train RMSE: 1.7285,Test RMSE: 1.7542\n",
            "Epoch: 206, Loss: 192333.7500, Train RMSE: 1.7281,Test RMSE: 1.7539\n",
            "Epoch: 207, Loss: 192303.7500, Train RMSE: 1.7278,Test RMSE: 1.7536\n",
            "Epoch: 208, Loss: 192273.8438, Train RMSE: 1.7274,Test RMSE: 1.7532\n",
            "Epoch: 209, Loss: 192244.0156, Train RMSE: 1.7270,Test RMSE: 1.7529\n",
            "Epoch: 210, Loss: 192214.2969, Train RMSE: 1.7267,Test RMSE: 1.7526\n",
            "Epoch: 211, Loss: 192184.7188, Train RMSE: 1.7264,Test RMSE: 1.7523\n",
            "Epoch: 212, Loss: 192155.2188, Train RMSE: 1.7261,Test RMSE: 1.7520\n",
            "Epoch: 213, Loss: 192125.8438, Train RMSE: 1.7258,Test RMSE: 1.7517\n",
            "Epoch: 214, Loss: 192096.6094, Train RMSE: 1.7254,Test RMSE: 1.7514\n",
            "Epoch: 215, Loss: 192067.5156, Train RMSE: 1.7250,Test RMSE: 1.7510\n",
            "Epoch: 216, Loss: 192038.4844, Train RMSE: 1.7247,Test RMSE: 1.7507\n",
            "Epoch: 217, Loss: 192009.5938, Train RMSE: 1.7243,Test RMSE: 1.7504\n",
            "Epoch: 218, Loss: 191980.7812, Train RMSE: 1.7240,Test RMSE: 1.7501\n",
            "Epoch: 219, Loss: 191952.0938, Train RMSE: 1.7237,Test RMSE: 1.7498\n",
            "Epoch: 220, Loss: 191923.5312, Train RMSE: 1.7234,Test RMSE: 1.7496\n",
            "Epoch: 221, Loss: 191895.0938, Train RMSE: 1.7231,Test RMSE: 1.7493\n",
            "Epoch: 222, Loss: 191866.7656, Train RMSE: 1.7227,Test RMSE: 1.7489\n",
            "Epoch: 223, Loss: 191838.5781, Train RMSE: 1.7224,Test RMSE: 1.7486\n",
            "Epoch: 224, Loss: 191810.5156, Train RMSE: 1.7221,Test RMSE: 1.7483\n",
            "Epoch: 225, Loss: 191782.5781, Train RMSE: 1.7218,Test RMSE: 1.7480\n",
            "Epoch: 226, Loss: 191754.7656, Train RMSE: 1.7215,Test RMSE: 1.7478\n",
            "Epoch: 227, Loss: 191727.0938, Train RMSE: 1.7212,Test RMSE: 1.7475\n",
            "Epoch: 228, Loss: 191699.5625, Train RMSE: 1.7208,Test RMSE: 1.7472\n",
            "Epoch: 229, Loss: 191672.1719, Train RMSE: 1.7205,Test RMSE: 1.7469\n",
            "Epoch: 230, Loss: 191644.9688, Train RMSE: 1.7202,Test RMSE: 1.7466\n",
            "Epoch: 231, Loss: 191617.9531, Train RMSE: 1.7199,Test RMSE: 1.7463\n",
            "Epoch: 232, Loss: 191591.0312, Train RMSE: 1.7196,Test RMSE: 1.7461\n",
            "Epoch: 233, Loss: 191564.2500, Train RMSE: 1.7193,Test RMSE: 1.7458\n",
            "Epoch: 234, Loss: 191537.6250, Train RMSE: 1.7190,Test RMSE: 1.7455\n",
            "Epoch: 235, Loss: 191511.1406, Train RMSE: 1.7187,Test RMSE: 1.7453\n",
            "Epoch: 236, Loss: 191484.7656, Train RMSE: 1.7184,Test RMSE: 1.7449\n",
            "Epoch: 237, Loss: 191458.5625, Train RMSE: 1.7180,Test RMSE: 1.7446\n",
            "Epoch: 238, Loss: 191432.5469, Train RMSE: 1.7177,Test RMSE: 1.7444\n",
            "Epoch: 239, Loss: 191406.6562, Train RMSE: 1.7174,Test RMSE: 1.7441\n",
            "Epoch: 240, Loss: 191380.9375, Train RMSE: 1.7172,Test RMSE: 1.7439\n",
            "Epoch: 241, Loss: 191355.3750, Train RMSE: 1.7169,Test RMSE: 1.7436\n",
            "Epoch: 242, Loss: 191329.8906, Train RMSE: 1.7166,Test RMSE: 1.7434\n",
            "Epoch: 243, Loss: 191304.6094, Train RMSE: 1.7163,Test RMSE: 1.7431\n",
            "Epoch: 244, Loss: 191279.4688, Train RMSE: 1.7160,Test RMSE: 1.7429\n",
            "Epoch: 245, Loss: 191254.4062, Train RMSE: 1.7157,Test RMSE: 1.7426\n",
            "Epoch: 246, Loss: 191229.5625, Train RMSE: 1.7154,Test RMSE: 1.7423\n",
            "Epoch: 247, Loss: 191204.7812, Train RMSE: 1.7151,Test RMSE: 1.7421\n",
            "Epoch: 248, Loss: 191180.1875, Train RMSE: 1.7148,Test RMSE: 1.7418\n",
            "Epoch: 249, Loss: 191155.7812, Train RMSE: 1.7146,Test RMSE: 1.7416\n",
            "Epoch: 250, Loss: 191131.4688, Train RMSE: 1.7143,Test RMSE: 1.7414\n",
            "Epoch: 251, Loss: 191107.3281, Train RMSE: 1.7140,Test RMSE: 1.7411\n",
            "Epoch: 252, Loss: 191083.3438, Train RMSE: 1.7137,Test RMSE: 1.7409\n",
            "Epoch: 253, Loss: 191059.4688, Train RMSE: 1.7134,Test RMSE: 1.7406\n",
            "Epoch: 254, Loss: 191035.8125, Train RMSE: 1.7132,Test RMSE: 1.7404\n",
            "Epoch: 255, Loss: 191012.2812, Train RMSE: 1.7129,Test RMSE: 1.7402\n",
            "Epoch: 256, Loss: 190988.8906, Train RMSE: 1.7127,Test RMSE: 1.7400\n",
            "Epoch: 257, Loss: 190965.6719, Train RMSE: 1.7124,Test RMSE: 1.7397\n",
            "Epoch: 258, Loss: 190942.6406, Train RMSE: 1.7121,Test RMSE: 1.7395\n",
            "Epoch: 259, Loss: 190919.7344, Train RMSE: 1.7118,Test RMSE: 1.7392\n",
            "Epoch: 260, Loss: 190897.0312, Train RMSE: 1.7115,Test RMSE: 1.7390\n",
            "Epoch: 261, Loss: 190874.4688, Train RMSE: 1.7113,Test RMSE: 1.7388\n",
            "Epoch: 262, Loss: 190852.0312, Train RMSE: 1.7111,Test RMSE: 1.7387\n",
            "Epoch: 263, Loss: 190829.7656, Train RMSE: 1.7108,Test RMSE: 1.7384\n",
            "Epoch: 264, Loss: 190807.6719, Train RMSE: 1.7105,Test RMSE: 1.7382\n",
            "Epoch: 265, Loss: 190785.7031, Train RMSE: 1.7102,Test RMSE: 1.7379\n",
            "Epoch: 266, Loss: 190763.9062, Train RMSE: 1.7100,Test RMSE: 1.7377\n",
            "Epoch: 267, Loss: 190742.2188, Train RMSE: 1.7098,Test RMSE: 1.7375\n",
            "Epoch: 268, Loss: 190720.6406, Train RMSE: 1.7096,Test RMSE: 1.7374\n",
            "Epoch: 269, Loss: 190699.2969, Train RMSE: 1.7093,Test RMSE: 1.7372\n",
            "Epoch: 270, Loss: 190678.1094, Train RMSE: 1.7090,Test RMSE: 1.7369\n",
            "Epoch: 271, Loss: 190657.0469, Train RMSE: 1.7088,Test RMSE: 1.7367\n",
            "Epoch: 272, Loss: 190636.2031, Train RMSE: 1.7085,Test RMSE: 1.7365\n",
            "Epoch: 273, Loss: 190615.5000, Train RMSE: 1.7083,Test RMSE: 1.7363\n",
            "Epoch: 274, Loss: 190594.9375, Train RMSE: 1.7080,Test RMSE: 1.7361\n",
            "Epoch: 275, Loss: 190574.4219, Train RMSE: 1.7078,Test RMSE: 1.7359\n",
            "Epoch: 276, Loss: 190554.0000, Train RMSE: 1.7076,Test RMSE: 1.7357\n",
            "Epoch: 277, Loss: 190533.7031, Train RMSE: 1.7073,Test RMSE: 1.7355\n",
            "Epoch: 278, Loss: 190513.6250, Train RMSE: 1.7071,Test RMSE: 1.7354\n",
            "Epoch: 279, Loss: 190493.7031, Train RMSE: 1.7069,Test RMSE: 1.7352\n",
            "Epoch: 280, Loss: 190473.9062, Train RMSE: 1.7067,Test RMSE: 1.7351\n",
            "Epoch: 281, Loss: 190454.2500, Train RMSE: 1.7065,Test RMSE: 1.7349\n",
            "Epoch: 282, Loss: 190434.7344, Train RMSE: 1.7062,Test RMSE: 1.7346\n",
            "Epoch: 283, Loss: 190415.4219, Train RMSE: 1.7059,Test RMSE: 1.7344\n",
            "Epoch: 284, Loss: 190396.1875, Train RMSE: 1.7057,Test RMSE: 1.7342\n",
            "Epoch: 285, Loss: 190377.0938, Train RMSE: 1.7055,Test RMSE: 1.7341\n",
            "Epoch: 286, Loss: 190358.1719, Train RMSE: 1.7054,Test RMSE: 1.7340\n",
            "Epoch: 287, Loss: 190339.4375, Train RMSE: 1.7052,Test RMSE: 1.7338\n",
            "Epoch: 288, Loss: 190320.7969, Train RMSE: 1.7049,Test RMSE: 1.7336\n",
            "Epoch: 289, Loss: 190302.3125, Train RMSE: 1.7046,Test RMSE: 1.7334\n",
            "Epoch: 290, Loss: 190284.0156, Train RMSE: 1.7044,Test RMSE: 1.7332\n",
            "Epoch: 291, Loss: 190265.8438, Train RMSE: 1.7042,Test RMSE: 1.7331\n",
            "Epoch: 292, Loss: 190247.8125, Train RMSE: 1.7041,Test RMSE: 1.7329\n",
            "Epoch: 293, Loss: 190229.9062, Train RMSE: 1.7038,Test RMSE: 1.7328\n",
            "Epoch: 294, Loss: 190212.1562, Train RMSE: 1.7036,Test RMSE: 1.7326\n",
            "Epoch: 295, Loss: 190194.5781, Train RMSE: 1.7034,Test RMSE: 1.7324\n",
            "Epoch: 296, Loss: 190177.0938, Train RMSE: 1.7032,Test RMSE: 1.7322\n",
            "Epoch: 297, Loss: 190159.7500, Train RMSE: 1.7030,Test RMSE: 1.7321\n",
            "Epoch: 298, Loss: 190142.5000, Train RMSE: 1.7029,Test RMSE: 1.7320\n",
            "Epoch: 299, Loss: 190125.3750, Train RMSE: 1.7027,Test RMSE: 1.7318\n",
            "Epoch: 300, Loss: 190108.3438, Train RMSE: 1.7024,Test RMSE: 1.7316\n",
            "Epoch: 301, Loss: 190091.5000, Train RMSE: 1.7022,Test RMSE: 1.7315\n",
            "Epoch: 302, Loss: 190074.7500, Train RMSE: 1.7020,Test RMSE: 1.7313\n",
            "Epoch: 303, Loss: 190058.1562, Train RMSE: 1.7018,Test RMSE: 1.7312\n",
            "Epoch: 304, Loss: 190041.6250, Train RMSE: 1.7017,Test RMSE: 1.7311\n",
            "Epoch: 305, Loss: 190025.2344, Train RMSE: 1.7015,Test RMSE: 1.7310\n",
            "Epoch: 306, Loss: 190008.9844, Train RMSE: 1.7013,Test RMSE: 1.7308\n",
            "Epoch: 307, Loss: 189992.8281, Train RMSE: 1.7010,Test RMSE: 1.7306\n",
            "Epoch: 308, Loss: 189976.7969, Train RMSE: 1.7009,Test RMSE: 1.7305\n",
            "Epoch: 309, Loss: 189960.9688, Train RMSE: 1.7007,Test RMSE: 1.7304\n",
            "Epoch: 310, Loss: 189945.2188, Train RMSE: 1.7006,Test RMSE: 1.7303\n",
            "Epoch: 311, Loss: 189929.5625, Train RMSE: 1.7004,Test RMSE: 1.7301\n",
            "Epoch: 312, Loss: 189914.0312, Train RMSE: 1.7002,Test RMSE: 1.7300\n",
            "Epoch: 313, Loss: 189898.6562, Train RMSE: 1.7000,Test RMSE: 1.7298\n",
            "Epoch: 314, Loss: 189883.3750, Train RMSE: 1.6997,Test RMSE: 1.7296\n",
            "Epoch: 315, Loss: 189868.2344, Train RMSE: 1.6996,Test RMSE: 1.7295\n",
            "Epoch: 316, Loss: 189853.1562, Train RMSE: 1.6995,Test RMSE: 1.7295\n",
            "Epoch: 317, Loss: 189838.1562, Train RMSE: 1.6994,Test RMSE: 1.7294\n",
            "Epoch: 318, Loss: 189823.2969, Train RMSE: 1.6992,Test RMSE: 1.7292\n",
            "Epoch: 319, Loss: 189808.5312, Train RMSE: 1.6989,Test RMSE: 1.7290\n",
            "Epoch: 320, Loss: 189793.9531, Train RMSE: 1.6987,Test RMSE: 1.7289\n",
            "Epoch: 321, Loss: 189779.4844, Train RMSE: 1.6986,Test RMSE: 1.7288\n",
            "Epoch: 322, Loss: 189765.1250, Train RMSE: 1.6985,Test RMSE: 1.7288\n",
            "Epoch: 323, Loss: 189750.8750, Train RMSE: 1.6984,Test RMSE: 1.7287\n",
            "Epoch: 324, Loss: 189736.7656, Train RMSE: 1.6981,Test RMSE: 1.7285\n",
            "Epoch: 325, Loss: 189722.7344, Train RMSE: 1.6979,Test RMSE: 1.7283\n",
            "Epoch: 326, Loss: 189708.8281, Train RMSE: 1.6977,Test RMSE: 1.7282\n",
            "Epoch: 327, Loss: 189695.0312, Train RMSE: 1.6976,Test RMSE: 1.7281\n",
            "Epoch: 328, Loss: 189681.3125, Train RMSE: 1.6975,Test RMSE: 1.7281\n",
            "Epoch: 329, Loss: 189667.6875, Train RMSE: 1.6974,Test RMSE: 1.7280\n",
            "Epoch: 330, Loss: 189654.2188, Train RMSE: 1.6972,Test RMSE: 1.7278\n",
            "Epoch: 331, Loss: 189640.7812, Train RMSE: 1.6970,Test RMSE: 1.7277\n",
            "Epoch: 332, Loss: 189627.4688, Train RMSE: 1.6968,Test RMSE: 1.7275\n",
            "Epoch: 333, Loss: 189614.2969, Train RMSE: 1.6967,Test RMSE: 1.7275\n",
            "Epoch: 334, Loss: 189601.2812, Train RMSE: 1.6966,Test RMSE: 1.7274\n",
            "Epoch: 335, Loss: 189588.2969, Train RMSE: 1.6965,Test RMSE: 1.7274\n",
            "Epoch: 336, Loss: 189575.3750, Train RMSE: 1.6963,Test RMSE: 1.7272\n",
            "Epoch: 337, Loss: 189562.6094, Train RMSE: 1.6960,Test RMSE: 1.7270\n",
            "Epoch: 338, Loss: 189549.9062, Train RMSE: 1.6959,Test RMSE: 1.7269\n",
            "Epoch: 339, Loss: 189537.3125, Train RMSE: 1.6959,Test RMSE: 1.7269\n",
            "Epoch: 340, Loss: 189524.7656, Train RMSE: 1.6958,Test RMSE: 1.7269\n",
            "Epoch: 341, Loss: 189512.3750, Train RMSE: 1.6956,Test RMSE: 1.7268\n",
            "Epoch: 342, Loss: 189500.0938, Train RMSE: 1.6954,Test RMSE: 1.7266\n",
            "Epoch: 343, Loss: 189487.9062, Train RMSE: 1.6952,Test RMSE: 1.7265\n",
            "Epoch: 344, Loss: 189475.8125, Train RMSE: 1.6952,Test RMSE: 1.7265\n",
            "Epoch: 345, Loss: 189463.7500, Train RMSE: 1.6950,Test RMSE: 1.7264\n",
            "Epoch: 346, Loss: 189451.7969, Train RMSE: 1.6949,Test RMSE: 1.7263\n",
            "Epoch: 347, Loss: 189440.0312, Train RMSE: 1.6947,Test RMSE: 1.7261\n",
            "Epoch: 348, Loss: 189428.3594, Train RMSE: 1.6946,Test RMSE: 1.7261\n",
            "Epoch: 349, Loss: 189416.7344, Train RMSE: 1.6945,Test RMSE: 1.7260\n",
            "Epoch: 350, Loss: 189405.1875, Train RMSE: 1.6943,Test RMSE: 1.7259\n",
            "Epoch: 351, Loss: 189393.7500, Train RMSE: 1.6942,Test RMSE: 1.7259\n",
            "Epoch: 352, Loss: 189382.3750, Train RMSE: 1.6941,Test RMSE: 1.7258\n",
            "Epoch: 353, Loss: 189371.0625, Train RMSE: 1.6939,Test RMSE: 1.7256\n",
            "Epoch: 354, Loss: 189359.8281, Train RMSE: 1.6938,Test RMSE: 1.7256\n",
            "Epoch: 355, Loss: 189348.7188, Train RMSE: 1.6937,Test RMSE: 1.7255\n",
            "Epoch: 356, Loss: 189337.6562, Train RMSE: 1.6936,Test RMSE: 1.7254\n",
            "Epoch: 357, Loss: 189326.6094, Train RMSE: 1.6934,Test RMSE: 1.7253\n",
            "Epoch: 358, Loss: 189315.6562, Train RMSE: 1.6933,Test RMSE: 1.7253\n",
            "Epoch: 359, Loss: 189304.8125, Train RMSE: 1.6932,Test RMSE: 1.7253\n",
            "Epoch: 360, Loss: 189294.0469, Train RMSE: 1.6931,Test RMSE: 1.7251\n",
            "Epoch: 361, Loss: 189283.4219, Train RMSE: 1.6929,Test RMSE: 1.7250\n",
            "Epoch: 362, Loss: 189272.8594, Train RMSE: 1.6928,Test RMSE: 1.7249\n",
            "Epoch: 363, Loss: 189262.3281, Train RMSE: 1.6927,Test RMSE: 1.7250\n",
            "Epoch: 364, Loss: 189251.9062, Train RMSE: 1.6927,Test RMSE: 1.7250\n",
            "Epoch: 365, Loss: 189241.5625, Train RMSE: 1.6925,Test RMSE: 1.7248\n",
            "Epoch: 366, Loss: 189231.2500, Train RMSE: 1.6923,Test RMSE: 1.7246\n",
            "Epoch: 367, Loss: 189221.0000, Train RMSE: 1.6921,Test RMSE: 1.7246\n",
            "Epoch: 368, Loss: 189210.9062, Train RMSE: 1.6922,Test RMSE: 1.7246\n",
            "Epoch: 369, Loss: 189200.8125, Train RMSE: 1.6922,Test RMSE: 1.7247\n",
            "Epoch: 370, Loss: 189190.8438, Train RMSE: 1.6920,Test RMSE: 1.7245\n",
            "Epoch: 371, Loss: 189180.9062, Train RMSE: 1.6917,Test RMSE: 1.7244\n",
            "Epoch: 372, Loss: 189171.0938, Train RMSE: 1.6916,Test RMSE: 1.7243\n",
            "Epoch: 373, Loss: 189161.3438, Train RMSE: 1.6916,Test RMSE: 1.7243\n",
            "Epoch: 374, Loss: 189151.6250, Train RMSE: 1.6915,Test RMSE: 1.7243\n",
            "Epoch: 375, Loss: 189142.0781, Train RMSE: 1.6914,Test RMSE: 1.7242\n",
            "Epoch: 376, Loss: 189132.5156, Train RMSE: 1.6913,Test RMSE: 1.7241\n",
            "Epoch: 377, Loss: 189122.9844, Train RMSE: 1.6912,Test RMSE: 1.7241\n",
            "Epoch: 378, Loss: 189113.5312, Train RMSE: 1.6911,Test RMSE: 1.7240\n",
            "Epoch: 379, Loss: 189104.2031, Train RMSE: 1.6909,Test RMSE: 1.7239\n",
            "Epoch: 380, Loss: 189094.9062, Train RMSE: 1.6907,Test RMSE: 1.7238\n",
            "Epoch: 381, Loss: 189085.6875, Train RMSE: 1.6907,Test RMSE: 1.7238\n",
            "Epoch: 382, Loss: 189076.4375, Train RMSE: 1.6907,Test RMSE: 1.7239\n",
            "Epoch: 383, Loss: 189067.3438, Train RMSE: 1.6906,Test RMSE: 1.7238\n",
            "Epoch: 384, Loss: 189058.2500, Train RMSE: 1.6905,Test RMSE: 1.7237\n",
            "Epoch: 385, Loss: 189049.2344, Train RMSE: 1.6903,Test RMSE: 1.7236\n",
            "Epoch: 386, Loss: 189040.3125, Train RMSE: 1.6901,Test RMSE: 1.7235\n",
            "Epoch: 387, Loss: 189031.4219, Train RMSE: 1.6901,Test RMSE: 1.7235\n",
            "Epoch: 388, Loss: 189022.5312, Train RMSE: 1.6901,Test RMSE: 1.7235\n",
            "Epoch: 389, Loss: 189013.7500, Train RMSE: 1.6900,Test RMSE: 1.7235\n",
            "Epoch: 390, Loss: 189005.0156, Train RMSE: 1.6899,Test RMSE: 1.7234\n",
            "Epoch: 391, Loss: 188996.2656, Train RMSE: 1.6897,Test RMSE: 1.7233\n",
            "Epoch: 392, Loss: 188987.6094, Train RMSE: 1.6896,Test RMSE: 1.7232\n",
            "Epoch: 393, Loss: 188979.0312, Train RMSE: 1.6895,Test RMSE: 1.7232\n",
            "Epoch: 394, Loss: 188970.4219, Train RMSE: 1.6894,Test RMSE: 1.7231\n",
            "Epoch: 395, Loss: 188961.8281, Train RMSE: 1.6893,Test RMSE: 1.7231\n",
            "Epoch: 396, Loss: 188953.3125, Train RMSE: 1.6893,Test RMSE: 1.7231\n",
            "Epoch: 397, Loss: 188944.8906, Train RMSE: 1.6892,Test RMSE: 1.7231\n",
            "Epoch: 398, Loss: 188936.4688, Train RMSE: 1.6891,Test RMSE: 1.7230\n",
            "Epoch: 399, Loss: 188928.0938, Train RMSE: 1.6889,Test RMSE: 1.7228\n",
            "Epoch: 400, Loss: 188919.8594, Train RMSE: 1.6888,Test RMSE: 1.7228\n",
            "Epoch: 401, Loss: 188911.6406, Train RMSE: 1.6888,Test RMSE: 1.7229\n",
            "Epoch: 402, Loss: 188903.5000, Train RMSE: 1.6887,Test RMSE: 1.7228\n",
            "Epoch: 403, Loss: 188895.2812, Train RMSE: 1.6886,Test RMSE: 1.7227\n",
            "Epoch: 404, Loss: 188887.0938, Train RMSE: 1.6885,Test RMSE: 1.7226\n",
            "Epoch: 405, Loss: 188879.0625, Train RMSE: 1.6884,Test RMSE: 1.7226\n",
            "Epoch: 406, Loss: 188871.0781, Train RMSE: 1.6884,Test RMSE: 1.7226\n",
            "Epoch: 407, Loss: 188863.1250, Train RMSE: 1.6883,Test RMSE: 1.7226\n",
            "Epoch: 408, Loss: 188855.1406, Train RMSE: 1.6881,Test RMSE: 1.7225\n",
            "Epoch: 409, Loss: 188847.2812, Train RMSE: 1.6881,Test RMSE: 1.7225\n",
            "Epoch: 410, Loss: 188839.4688, Train RMSE: 1.6881,Test RMSE: 1.7225\n",
            "Epoch: 411, Loss: 188831.7500, Train RMSE: 1.6878,Test RMSE: 1.7223\n",
            "Epoch: 412, Loss: 188823.9219, Train RMSE: 1.6877,Test RMSE: 1.7222\n",
            "Epoch: 413, Loss: 188816.2188, Train RMSE: 1.6877,Test RMSE: 1.7223\n",
            "Epoch: 414, Loss: 188808.5312, Train RMSE: 1.6878,Test RMSE: 1.7224\n",
            "Epoch: 415, Loss: 188800.8906, Train RMSE: 1.6876,Test RMSE: 1.7223\n",
            "Epoch: 416, Loss: 188793.2812, Train RMSE: 1.6874,Test RMSE: 1.7222\n",
            "Epoch: 417, Loss: 188785.6875, Train RMSE: 1.6873,Test RMSE: 1.7221\n",
            "Epoch: 418, Loss: 188778.2031, Train RMSE: 1.6873,Test RMSE: 1.7221\n",
            "Epoch: 419, Loss: 188770.7188, Train RMSE: 1.6873,Test RMSE: 1.7222\n",
            "Epoch: 420, Loss: 188763.2500, Train RMSE: 1.6872,Test RMSE: 1.7221\n",
            "Epoch: 421, Loss: 188755.8750, Train RMSE: 1.6871,Test RMSE: 1.7221\n",
            "Epoch: 422, Loss: 188748.4688, Train RMSE: 1.6869,Test RMSE: 1.7219\n",
            "Epoch: 423, Loss: 188741.1406, Train RMSE: 1.6868,Test RMSE: 1.7219\n",
            "Epoch: 424, Loss: 188733.8594, Train RMSE: 1.6868,Test RMSE: 1.7219\n",
            "Epoch: 425, Loss: 188726.6406, Train RMSE: 1.6868,Test RMSE: 1.7220\n",
            "Epoch: 426, Loss: 188719.4844, Train RMSE: 1.6867,Test RMSE: 1.7219\n",
            "Epoch: 427, Loss: 188712.2344, Train RMSE: 1.6866,Test RMSE: 1.7218\n",
            "Epoch: 428, Loss: 188705.0156, Train RMSE: 1.6865,Test RMSE: 1.7218\n",
            "Epoch: 429, Loss: 188697.9375, Train RMSE: 1.6864,Test RMSE: 1.7217\n",
            "Epoch: 430, Loss: 188690.8281, Train RMSE: 1.6863,Test RMSE: 1.7217\n",
            "Epoch: 431, Loss: 188683.7812, Train RMSE: 1.6863,Test RMSE: 1.7217\n",
            "Epoch: 432, Loss: 188676.6562, Train RMSE: 1.6863,Test RMSE: 1.7217\n",
            "Epoch: 433, Loss: 188669.7500, Train RMSE: 1.6861,Test RMSE: 1.7215\n",
            "Epoch: 434, Loss: 188662.7031, Train RMSE: 1.6859,Test RMSE: 1.7214\n",
            "Epoch: 435, Loss: 188655.6875, Train RMSE: 1.6859,Test RMSE: 1.7215\n",
            "Epoch: 436, Loss: 188648.7188, Train RMSE: 1.6860,Test RMSE: 1.7216\n",
            "Epoch: 437, Loss: 188641.7500, Train RMSE: 1.6859,Test RMSE: 1.7215\n",
            "Epoch: 438, Loss: 188634.8750, Train RMSE: 1.6858,Test RMSE: 1.7215\n",
            "Epoch: 439, Loss: 188627.9844, Train RMSE: 1.6856,Test RMSE: 1.7214\n",
            "Epoch: 440, Loss: 188621.0781, Train RMSE: 1.6855,Test RMSE: 1.7212\n",
            "Epoch: 441, Loss: 188614.2812, Train RMSE: 1.6854,Test RMSE: 1.7213\n",
            "Epoch: 442, Loss: 188607.5469, Train RMSE: 1.6855,Test RMSE: 1.7214\n",
            "Epoch: 443, Loss: 188600.7812, Train RMSE: 1.6855,Test RMSE: 1.7214\n",
            "Epoch: 444, Loss: 188594.0625, Train RMSE: 1.6854,Test RMSE: 1.7213\n",
            "Epoch: 445, Loss: 188587.3438, Train RMSE: 1.6851,Test RMSE: 1.7211\n",
            "Epoch: 446, Loss: 188580.6562, Train RMSE: 1.6850,Test RMSE: 1.7210\n",
            "Epoch: 447, Loss: 188574.0312, Train RMSE: 1.6851,Test RMSE: 1.7211\n",
            "Epoch: 448, Loss: 188567.4219, Train RMSE: 1.6852,Test RMSE: 1.7213\n",
            "Epoch: 449, Loss: 188560.8750, Train RMSE: 1.6850,Test RMSE: 1.7212\n",
            "Epoch: 450, Loss: 188554.2656, Train RMSE: 1.6848,Test RMSE: 1.7211\n",
            "Epoch: 451, Loss: 188547.6875, Train RMSE: 1.6847,Test RMSE: 1.7210\n",
            "Epoch: 452, Loss: 188541.1250, Train RMSE: 1.6847,Test RMSE: 1.7210\n",
            "Epoch: 453, Loss: 188534.5781, Train RMSE: 1.6846,Test RMSE: 1.7210\n",
            "Epoch: 454, Loss: 188528.0312, Train RMSE: 1.6846,Test RMSE: 1.7210\n",
            "Epoch: 455, Loss: 188521.6094, Train RMSE: 1.6846,Test RMSE: 1.7210\n",
            "Epoch: 456, Loss: 188515.1719, Train RMSE: 1.6844,Test RMSE: 1.7209\n",
            "Epoch: 457, Loss: 188508.6875, Train RMSE: 1.6844,Test RMSE: 1.7209\n",
            "Epoch: 458, Loss: 188502.3438, Train RMSE: 1.6843,Test RMSE: 1.7209\n",
            "Epoch: 459, Loss: 188495.9531, Train RMSE: 1.6842,Test RMSE: 1.7208\n",
            "Epoch: 460, Loss: 188489.5938, Train RMSE: 1.6841,Test RMSE: 1.7208\n",
            "Epoch: 461, Loss: 188483.3281, Train RMSE: 1.6842,Test RMSE: 1.7209\n",
            "Epoch: 462, Loss: 188477.0625, Train RMSE: 1.6841,Test RMSE: 1.7209\n",
            "Epoch: 463, Loss: 188470.7344, Train RMSE: 1.6839,Test RMSE: 1.7207\n",
            "Epoch: 464, Loss: 188464.4375, Train RMSE: 1.6838,Test RMSE: 1.7206\n",
            "Epoch: 465, Loss: 188458.2969, Train RMSE: 1.6837,Test RMSE: 1.7206\n",
            "Epoch: 466, Loss: 188452.1406, Train RMSE: 1.6838,Test RMSE: 1.7208\n",
            "Epoch: 467, Loss: 188445.9062, Train RMSE: 1.6838,Test RMSE: 1.7208\n",
            "Epoch: 468, Loss: 188439.7969, Train RMSE: 1.6836,Test RMSE: 1.7207\n",
            "Epoch: 469, Loss: 188433.6562, Train RMSE: 1.6835,Test RMSE: 1.7206\n",
            "Epoch: 470, Loss: 188427.5625, Train RMSE: 1.6835,Test RMSE: 1.7206\n",
            "Epoch: 471, Loss: 188421.5469, Train RMSE: 1.6835,Test RMSE: 1.7206\n",
            "Epoch: 472, Loss: 188415.4531, Train RMSE: 1.6834,Test RMSE: 1.7206\n",
            "Epoch: 473, Loss: 188409.4062, Train RMSE: 1.6833,Test RMSE: 1.7205\n",
            "Epoch: 474, Loss: 188403.4688, Train RMSE: 1.6832,Test RMSE: 1.7205\n",
            "Epoch: 475, Loss: 188397.4531, Train RMSE: 1.6832,Test RMSE: 1.7205\n",
            "Epoch: 476, Loss: 188391.5000, Train RMSE: 1.6832,Test RMSE: 1.7206\n",
            "Epoch: 477, Loss: 188385.4531, Train RMSE: 1.6831,Test RMSE: 1.7205\n",
            "Epoch: 478, Loss: 188379.5469, Train RMSE: 1.6828,Test RMSE: 1.7203\n",
            "Epoch: 479, Loss: 188373.6406, Train RMSE: 1.6828,Test RMSE: 1.7203\n",
            "Epoch: 480, Loss: 188367.7344, Train RMSE: 1.6829,Test RMSE: 1.7205\n",
            "Epoch: 481, Loss: 188361.8125, Train RMSE: 1.6830,Test RMSE: 1.7206\n",
            "Epoch: 482, Loss: 188356.0312, Train RMSE: 1.6828,Test RMSE: 1.7204\n",
            "Epoch: 483, Loss: 188350.1875, Train RMSE: 1.6825,Test RMSE: 1.7202\n",
            "Epoch: 484, Loss: 188344.3125, Train RMSE: 1.6825,Test RMSE: 1.7202\n",
            "Epoch: 485, Loss: 188338.4844, Train RMSE: 1.6826,Test RMSE: 1.7204\n",
            "Epoch: 486, Loss: 188332.7500, Train RMSE: 1.6826,Test RMSE: 1.7204\n",
            "Epoch: 487, Loss: 188327.0312, Train RMSE: 1.6824,Test RMSE: 1.7203\n",
            "Epoch: 488, Loss: 188321.2500, Train RMSE: 1.6822,Test RMSE: 1.7201\n",
            "Epoch: 489, Loss: 188315.6250, Train RMSE: 1.6822,Test RMSE: 1.7201\n",
            "Epoch: 490, Loss: 188309.9531, Train RMSE: 1.6823,Test RMSE: 1.7203\n",
            "Epoch: 491, Loss: 188304.2969, Train RMSE: 1.6823,Test RMSE: 1.7203\n",
            "Epoch: 492, Loss: 188298.5938, Train RMSE: 1.6820,Test RMSE: 1.7201\n",
            "Epoch: 493, Loss: 188293.0000, Train RMSE: 1.6820,Test RMSE: 1.7201\n",
            "Epoch: 494, Loss: 188287.3906, Train RMSE: 1.6820,Test RMSE: 1.7201\n",
            "Epoch: 495, Loss: 188281.8438, Train RMSE: 1.6819,Test RMSE: 1.7201\n",
            "Epoch: 496, Loss: 188276.3125, Train RMSE: 1.6819,Test RMSE: 1.7201\n",
            "Epoch: 497, Loss: 188270.7969, Train RMSE: 1.6818,Test RMSE: 1.7200\n",
            "Epoch: 498, Loss: 188265.3125, Train RMSE: 1.6818,Test RMSE: 1.7201\n",
            "Epoch: 499, Loss: 188259.8906, Train RMSE: 1.6817,Test RMSE: 1.7200\n",
            "Epoch: 500, Loss: 188254.3906, Train RMSE: 1.6816,Test RMSE: 1.7200\n",
            "Epoch: 501, Loss: 188248.9844, Train RMSE: 1.6816,Test RMSE: 1.7200\n",
            "Epoch: 502, Loss: 188243.5938, Train RMSE: 1.6815,Test RMSE: 1.7200\n",
            "Epoch: 503, Loss: 188238.2656, Train RMSE: 1.6815,Test RMSE: 1.7200\n",
            "Epoch: 504, Loss: 188232.9688, Train RMSE: 1.6814,Test RMSE: 1.7200\n",
            "Epoch: 505, Loss: 188227.6094, Train RMSE: 1.6813,Test RMSE: 1.7199\n",
            "Epoch: 506, Loss: 188222.2500, Train RMSE: 1.6812,Test RMSE: 1.7199\n",
            "Epoch: 507, Loss: 188216.9844, Train RMSE: 1.6813,Test RMSE: 1.7199\n",
            "Epoch: 508, Loss: 188211.7188, Train RMSE: 1.6812,Test RMSE: 1.7199\n",
            "Epoch: 509, Loss: 188206.4844, Train RMSE: 1.6811,Test RMSE: 1.7198\n",
            "Epoch: 510, Loss: 188201.2344, Train RMSE: 1.6810,Test RMSE: 1.7198\n",
            "Epoch: 511, Loss: 188196.0156, Train RMSE: 1.6811,Test RMSE: 1.7199\n",
            "Epoch: 512, Loss: 188190.8281, Train RMSE: 1.6810,Test RMSE: 1.7199\n",
            "Epoch: 513, Loss: 188185.5781, Train RMSE: 1.6808,Test RMSE: 1.7197\n",
            "Epoch: 514, Loss: 188180.4531, Train RMSE: 1.6808,Test RMSE: 1.7198\n",
            "Epoch: 515, Loss: 188175.2969, Train RMSE: 1.6808,Test RMSE: 1.7198\n",
            "Epoch: 516, Loss: 188170.2500, Train RMSE: 1.6807,Test RMSE: 1.7198\n",
            "Epoch: 517, Loss: 188165.0938, Train RMSE: 1.6806,Test RMSE: 1.7197\n",
            "Epoch: 518, Loss: 188160.0312, Train RMSE: 1.6806,Test RMSE: 1.7197\n",
            "Epoch: 519, Loss: 188155.0156, Train RMSE: 1.6806,Test RMSE: 1.7197\n",
            "Epoch: 520, Loss: 188149.9219, Train RMSE: 1.6806,Test RMSE: 1.7198\n",
            "Epoch: 521, Loss: 188144.9688, Train RMSE: 1.6804,Test RMSE: 1.7196\n",
            "Epoch: 522, Loss: 188139.9062, Train RMSE: 1.6803,Test RMSE: 1.7196\n",
            "Epoch: 523, Loss: 188135.0000, Train RMSE: 1.6804,Test RMSE: 1.7198\n",
            "Epoch: 524, Loss: 188129.9531, Train RMSE: 1.6804,Test RMSE: 1.7198\n",
            "Epoch: 525, Loss: 188125.0000, Train RMSE: 1.6801,Test RMSE: 1.7195\n",
            "Epoch: 526, Loss: 188120.0938, Train RMSE: 1.6801,Test RMSE: 1.7196\n",
            "Epoch: 527, Loss: 188115.1562, Train RMSE: 1.6802,Test RMSE: 1.7196\n",
            "Epoch: 528, Loss: 188110.2969, Train RMSE: 1.6801,Test RMSE: 1.7196\n",
            "Epoch: 529, Loss: 188105.3750, Train RMSE: 1.6799,Test RMSE: 1.7195\n",
            "Epoch: 530, Loss: 188100.6094, Train RMSE: 1.6801,Test RMSE: 1.7197\n",
            "Epoch: 531, Loss: 188095.7500, Train RMSE: 1.6800,Test RMSE: 1.7196\n",
            "Epoch: 532, Loss: 188090.9531, Train RMSE: 1.6798,Test RMSE: 1.7195\n",
            "Epoch: 533, Loss: 188086.0938, Train RMSE: 1.6798,Test RMSE: 1.7195\n",
            "Epoch: 534, Loss: 188081.3125, Train RMSE: 1.6797,Test RMSE: 1.7195\n",
            "Epoch: 535, Loss: 188076.5156, Train RMSE: 1.6797,Test RMSE: 1.7195\n",
            "Epoch: 536, Loss: 188071.7500, Train RMSE: 1.6798,Test RMSE: 1.7196\n",
            "Epoch: 537, Loss: 188067.0469, Train RMSE: 1.6796,Test RMSE: 1.7195\n",
            "Epoch: 538, Loss: 188062.2500, Train RMSE: 1.6795,Test RMSE: 1.7194\n",
            "Epoch: 539, Loss: 188057.5156, Train RMSE: 1.6794,Test RMSE: 1.7194\n",
            "Epoch: 540, Loss: 188052.7812, Train RMSE: 1.6795,Test RMSE: 1.7195\n",
            "Epoch: 541, Loss: 188048.0625, Train RMSE: 1.6795,Test RMSE: 1.7195\n",
            "Epoch: 542, Loss: 188043.4219, Train RMSE: 1.6793,Test RMSE: 1.7194\n",
            "Epoch: 543, Loss: 188038.7656, Train RMSE: 1.6793,Test RMSE: 1.7194\n",
            "Epoch: 544, Loss: 188034.0938, Train RMSE: 1.6792,Test RMSE: 1.7194\n",
            "Epoch: 545, Loss: 188029.4531, Train RMSE: 1.6792,Test RMSE: 1.7194\n",
            "Epoch: 546, Loss: 188024.7969, Train RMSE: 1.6792,Test RMSE: 1.7195\n",
            "Epoch: 547, Loss: 188020.2500, Train RMSE: 1.6791,Test RMSE: 1.7194\n",
            "Epoch: 548, Loss: 188015.6562, Train RMSE: 1.6790,Test RMSE: 1.7194\n",
            "Epoch: 549, Loss: 188011.0469, Train RMSE: 1.6790,Test RMSE: 1.7194\n",
            "Epoch: 550, Loss: 188006.4844, Train RMSE: 1.6789,Test RMSE: 1.7194\n",
            "Epoch: 551, Loss: 188001.9219, Train RMSE: 1.6790,Test RMSE: 1.7195\n",
            "Epoch: 552, Loss: 187997.3438, Train RMSE: 1.6789,Test RMSE: 1.7194\n",
            "Epoch: 553, Loss: 187992.8438, Train RMSE: 1.6787,Test RMSE: 1.7192\n",
            "Epoch: 554, Loss: 187988.3750, Train RMSE: 1.6788,Test RMSE: 1.7193\n",
            "Epoch: 555, Loss: 187983.7812, Train RMSE: 1.6789,Test RMSE: 1.7195\n",
            "Epoch: 556, Loss: 187979.4219, Train RMSE: 1.6787,Test RMSE: 1.7193\n",
            "Epoch: 557, Loss: 187974.8438, Train RMSE: 1.6785,Test RMSE: 1.7192\n",
            "Epoch: 558, Loss: 187970.3594, Train RMSE: 1.6786,Test RMSE: 1.7194\n",
            "Epoch: 559, Loss: 187966.0156, Train RMSE: 1.6786,Test RMSE: 1.7194\n",
            "Epoch: 560, Loss: 187961.5000, Train RMSE: 1.6784,Test RMSE: 1.7192\n",
            "Epoch: 561, Loss: 187957.0781, Train RMSE: 1.6784,Test RMSE: 1.7193\n",
            "Epoch: 562, Loss: 187952.6406, Train RMSE: 1.6785,Test RMSE: 1.7194\n",
            "Epoch: 563, Loss: 187948.2812, Train RMSE: 1.6783,Test RMSE: 1.7193\n",
            "Epoch: 564, Loss: 187943.8438, Train RMSE: 1.6781,Test RMSE: 1.7191\n",
            "Epoch: 565, Loss: 187939.5781, Train RMSE: 1.6783,Test RMSE: 1.7193\n",
            "Epoch: 566, Loss: 187935.1250, Train RMSE: 1.6784,Test RMSE: 1.7195\n",
            "Epoch: 567, Loss: 187930.8281, Train RMSE: 1.6781,Test RMSE: 1.7192\n",
            "Epoch: 568, Loss: 187926.4062, Train RMSE: 1.6781,Test RMSE: 1.7192\n",
            "Epoch: 569, Loss: 187922.0781, Train RMSE: 1.6780,Test RMSE: 1.7192\n",
            "Epoch: 570, Loss: 187917.7500, Train RMSE: 1.6779,Test RMSE: 1.7191\n",
            "Epoch: 571, Loss: 187913.5312, Train RMSE: 1.6782,Test RMSE: 1.7195\n",
            "Epoch: 572, Loss: 187909.2500, Train RMSE: 1.6780,Test RMSE: 1.7194\n",
            "Epoch: 573, Loss: 187904.9531, Train RMSE: 1.6776,Test RMSE: 1.7190\n",
            "Epoch: 574, Loss: 187900.6875, Train RMSE: 1.6777,Test RMSE: 1.7191\n",
            "Epoch: 575, Loss: 187896.4531, Train RMSE: 1.6779,Test RMSE: 1.7193\n",
            "Epoch: 576, Loss: 187892.2188, Train RMSE: 1.6777,Test RMSE: 1.7192\n",
            "Epoch: 577, Loss: 187888.0625, Train RMSE: 1.6778,Test RMSE: 1.7193\n",
            "Epoch: 578, Loss: 187883.7188, Train RMSE: 1.6778,Test RMSE: 1.7193\n",
            "Epoch: 579, Loss: 187879.7188, Train RMSE: 1.6774,Test RMSE: 1.7190\n",
            "Epoch: 580, Loss: 187875.5000, Train RMSE: 1.6773,Test RMSE: 1.7190\n",
            "Epoch: 581, Loss: 187871.3594, Train RMSE: 1.6777,Test RMSE: 1.7193\n",
            "Epoch: 582, Loss: 187867.0625, Train RMSE: 1.6778,Test RMSE: 1.7195\n",
            "Epoch: 583, Loss: 187863.0000, Train RMSE: 1.6774,Test RMSE: 1.7191\n",
            "Epoch: 584, Loss: 187858.8281, Train RMSE: 1.6771,Test RMSE: 1.7190\n",
            "Epoch: 585, Loss: 187854.7188, Train RMSE: 1.6773,Test RMSE: 1.7192\n",
            "Epoch: 586, Loss: 187850.5938, Train RMSE: 1.6774,Test RMSE: 1.7193\n",
            "Epoch: 587, Loss: 187846.5000, Train RMSE: 1.6772,Test RMSE: 1.7192\n",
            "Epoch: 588, Loss: 187842.5312, Train RMSE: 1.6772,Test RMSE: 1.7192\n",
            "Epoch: 589, Loss: 187838.4219, Train RMSE: 1.6772,Test RMSE: 1.7192\n",
            "Epoch: 590, Loss: 187834.2969, Train RMSE: 1.6770,Test RMSE: 1.7191\n",
            "Epoch: 591, Loss: 187830.2031, Train RMSE: 1.6771,Test RMSE: 1.7192\n",
            "Epoch: 592, Loss: 187826.1719, Train RMSE: 1.6770,Test RMSE: 1.7192\n",
            "Epoch: 593, Loss: 187822.1250, Train RMSE: 1.6770,Test RMSE: 1.7191\n",
            "Epoch: 594, Loss: 187818.1094, Train RMSE: 1.6770,Test RMSE: 1.7192\n",
            "Epoch: 595, Loss: 187814.0781, Train RMSE: 1.6769,Test RMSE: 1.7191\n",
            "Epoch: 596, Loss: 187810.0312, Train RMSE: 1.6768,Test RMSE: 1.7190\n",
            "Epoch: 597, Loss: 187806.0625, Train RMSE: 1.6767,Test RMSE: 1.7190\n",
            "Epoch: 598, Loss: 187802.1406, Train RMSE: 1.6769,Test RMSE: 1.7193\n",
            "Epoch: 599, Loss: 187798.1719, Train RMSE: 1.6767,Test RMSE: 1.7191\n",
            "Epoch: 600, Loss: 187794.1250, Train RMSE: 1.6767,Test RMSE: 1.7191\n",
            "Epoch: 601, Loss: 187790.2344, Train RMSE: 1.6766,Test RMSE: 1.7191\n",
            "Epoch: 602, Loss: 187786.2500, Train RMSE: 1.6765,Test RMSE: 1.7190\n",
            "Epoch: 603, Loss: 187782.3438, Train RMSE: 1.6767,Test RMSE: 1.7192\n",
            "Epoch: 604, Loss: 187778.4688, Train RMSE: 1.6765,Test RMSE: 1.7191\n",
            "Epoch: 605, Loss: 187774.4531, Train RMSE: 1.6764,Test RMSE: 1.7190\n",
            "Epoch: 606, Loss: 187770.6250, Train RMSE: 1.6765,Test RMSE: 1.7192\n",
            "Epoch: 607, Loss: 187766.7969, Train RMSE: 1.6764,Test RMSE: 1.7191\n",
            "Epoch: 608, Loss: 187762.8594, Train RMSE: 1.6763,Test RMSE: 1.7190\n",
            "Epoch: 609, Loss: 187758.9688, Train RMSE: 1.6764,Test RMSE: 1.7191\n",
            "Epoch: 610, Loss: 187755.0938, Train RMSE: 1.6762,Test RMSE: 1.7191\n",
            "Epoch: 611, Loss: 187751.2656, Train RMSE: 1.6762,Test RMSE: 1.7191\n",
            "Epoch: 612, Loss: 187747.4219, Train RMSE: 1.6762,Test RMSE: 1.7191\n",
            "Epoch: 613, Loss: 187743.5625, Train RMSE: 1.6761,Test RMSE: 1.7191\n",
            "Epoch: 614, Loss: 187739.7812, Train RMSE: 1.6760,Test RMSE: 1.7190\n",
            "Epoch: 615, Loss: 187735.9844, Train RMSE: 1.6762,Test RMSE: 1.7192\n",
            "Epoch: 616, Loss: 187732.2031, Train RMSE: 1.6760,Test RMSE: 1.7191\n",
            "Epoch: 617, Loss: 187728.2500, Train RMSE: 1.6759,Test RMSE: 1.7190\n",
            "Epoch: 618, Loss: 187724.5469, Train RMSE: 1.6759,Test RMSE: 1.7191\n",
            "Epoch: 619, Loss: 187720.6719, Train RMSE: 1.6760,Test RMSE: 1.7192\n",
            "Epoch: 620, Loss: 187716.9062, Train RMSE: 1.6758,Test RMSE: 1.7190\n",
            "Epoch: 621, Loss: 187713.1562, Train RMSE: 1.6757,Test RMSE: 1.7190\n",
            "Epoch: 622, Loss: 187709.3125, Train RMSE: 1.6759,Test RMSE: 1.7192\n",
            "Epoch: 623, Loss: 187705.6250, Train RMSE: 1.6757,Test RMSE: 1.7191\n",
            "Epoch: 624, Loss: 187701.6875, Train RMSE: 1.6755,Test RMSE: 1.7189\n",
            "Epoch: 625, Loss: 187698.1094, Train RMSE: 1.6757,Test RMSE: 1.7191\n",
            "Epoch: 626, Loss: 187694.2344, Train RMSE: 1.6759,Test RMSE: 1.7193\n",
            "Epoch: 627, Loss: 187690.6250, Train RMSE: 1.6754,Test RMSE: 1.7189\n",
            "Epoch: 628, Loss: 187686.7031, Train RMSE: 1.6752,Test RMSE: 1.7187\n",
            "Epoch: 629, Loss: 187683.1094, Train RMSE: 1.6757,Test RMSE: 1.7192\n",
            "Epoch: 630, Loss: 187679.1875, Train RMSE: 1.6758,Test RMSE: 1.7194\n",
            "Epoch: 631, Loss: 187675.6250, Train RMSE: 1.6752,Test RMSE: 1.7188\n",
            "Epoch: 632, Loss: 187671.7656, Train RMSE: 1.6751,Test RMSE: 1.7188\n",
            "Epoch: 633, Loss: 187668.0781, Train RMSE: 1.6756,Test RMSE: 1.7193\n",
            "Epoch: 634, Loss: 187664.4219, Train RMSE: 1.6754,Test RMSE: 1.7192\n",
            "Epoch: 635, Loss: 187660.6562, Train RMSE: 1.6750,Test RMSE: 1.7188\n",
            "Epoch: 636, Loss: 187656.9688, Train RMSE: 1.6751,Test RMSE: 1.7190\n",
            "Epoch: 637, Loss: 187653.2344, Train RMSE: 1.6754,Test RMSE: 1.7193\n",
            "Epoch: 638, Loss: 187649.5938, Train RMSE: 1.6751,Test RMSE: 1.7190\n",
            "Epoch: 639, Loss: 187645.7812, Train RMSE: 1.6749,Test RMSE: 1.7188\n",
            "Epoch: 640, Loss: 187642.1094, Train RMSE: 1.6750,Test RMSE: 1.7190\n",
            "Epoch: 641, Loss: 187638.4062, Train RMSE: 1.6751,Test RMSE: 1.7191\n",
            "Epoch: 642, Loss: 187634.7500, Train RMSE: 1.6749,Test RMSE: 1.7189\n",
            "Epoch: 643, Loss: 187631.0625, Train RMSE: 1.6750,Test RMSE: 1.7190\n",
            "Epoch: 644, Loss: 187627.3906, Train RMSE: 1.6750,Test RMSE: 1.7191\n",
            "Epoch: 645, Loss: 187623.8594, Train RMSE: 1.6747,Test RMSE: 1.7189\n",
            "Epoch: 646, Loss: 187620.2500, Train RMSE: 1.6747,Test RMSE: 1.7189\n",
            "Epoch: 647, Loss: 187616.5000, Train RMSE: 1.6750,Test RMSE: 1.7192\n",
            "Epoch: 648, Loss: 187612.9062, Train RMSE: 1.6747,Test RMSE: 1.7190\n",
            "Epoch: 649, Loss: 187609.2969, Train RMSE: 1.6745,Test RMSE: 1.7188\n",
            "Epoch: 650, Loss: 187605.7344, Train RMSE: 1.6748,Test RMSE: 1.7191\n",
            "Epoch: 651, Loss: 187602.0781, Train RMSE: 1.6747,Test RMSE: 1.7190\n",
            "Epoch: 652, Loss: 187598.4219, Train RMSE: 1.6744,Test RMSE: 1.7188\n",
            "Epoch: 653, Loss: 187594.9375, Train RMSE: 1.6746,Test RMSE: 1.7190\n",
            "Epoch: 654, Loss: 187591.2812, Train RMSE: 1.6746,Test RMSE: 1.7191\n",
            "Epoch: 655, Loss: 187587.7812, Train RMSE: 1.6744,Test RMSE: 1.7189\n",
            "Epoch: 656, Loss: 187584.2344, Train RMSE: 1.6745,Test RMSE: 1.7190\n",
            "Epoch: 657, Loss: 187580.6875, Train RMSE: 1.6744,Test RMSE: 1.7189\n",
            "Epoch: 658, Loss: 187577.0625, Train RMSE: 1.6743,Test RMSE: 1.7189\n",
            "Epoch: 659, Loss: 187573.5938, Train RMSE: 1.6743,Test RMSE: 1.7190\n",
            "Epoch: 660, Loss: 187570.1094, Train RMSE: 1.6743,Test RMSE: 1.7190\n",
            "Epoch: 661, Loss: 187566.5625, Train RMSE: 1.6743,Test RMSE: 1.7190\n",
            "Epoch: 662, Loss: 187563.0312, Train RMSE: 1.6741,Test RMSE: 1.7188\n",
            "Epoch: 663, Loss: 187559.5000, Train RMSE: 1.6741,Test RMSE: 1.7189\n",
            "Epoch: 664, Loss: 187556.0156, Train RMSE: 1.6742,Test RMSE: 1.7190\n",
            "Epoch: 665, Loss: 187552.5000, Train RMSE: 1.6742,Test RMSE: 1.7190\n",
            "Epoch: 666, Loss: 187549.0312, Train RMSE: 1.6740,Test RMSE: 1.7189\n",
            "Epoch: 667, Loss: 187545.4062, Train RMSE: 1.6739,Test RMSE: 1.7189\n",
            "Epoch: 668, Loss: 187541.8594, Train RMSE: 1.6739,Test RMSE: 1.7189\n",
            "Epoch: 669, Loss: 187538.2500, Train RMSE: 1.6740,Test RMSE: 1.7190\n",
            "Epoch: 670, Loss: 187534.7656, Train RMSE: 1.6739,Test RMSE: 1.7190\n",
            "Epoch: 671, Loss: 187531.1250, Train RMSE: 1.6738,Test RMSE: 1.7189\n",
            "Epoch: 672, Loss: 187527.5938, Train RMSE: 1.6737,Test RMSE: 1.7189\n",
            "Epoch: 673, Loss: 187524.0469, Train RMSE: 1.6737,Test RMSE: 1.7189\n",
            "Epoch: 674, Loss: 187520.4531, Train RMSE: 1.6738,Test RMSE: 1.7190\n",
            "Epoch: 675, Loss: 187516.8750, Train RMSE: 1.6738,Test RMSE: 1.7191\n",
            "Epoch: 676, Loss: 187513.3594, Train RMSE: 1.6735,Test RMSE: 1.7188\n",
            "Epoch: 677, Loss: 187509.8594, Train RMSE: 1.6737,Test RMSE: 1.7190\n",
            "Epoch: 678, Loss: 187506.3125, Train RMSE: 1.6737,Test RMSE: 1.7190\n",
            "Epoch: 679, Loss: 187502.7812, Train RMSE: 1.6734,Test RMSE: 1.7189\n",
            "Epoch: 680, Loss: 187499.2344, Train RMSE: 1.6735,Test RMSE: 1.7190\n",
            "Epoch: 681, Loss: 187495.7031, Train RMSE: 1.6736,Test RMSE: 1.7191\n",
            "Epoch: 682, Loss: 187492.2500, Train RMSE: 1.6733,Test RMSE: 1.7189\n",
            "Epoch: 683, Loss: 187488.7812, Train RMSE: 1.6734,Test RMSE: 1.7190\n",
            "Epoch: 684, Loss: 187485.2188, Train RMSE: 1.6734,Test RMSE: 1.7190\n",
            "Epoch: 685, Loss: 187481.7969, Train RMSE: 1.6734,Test RMSE: 1.7190\n",
            "Epoch: 686, Loss: 187478.3125, Train RMSE: 1.6732,Test RMSE: 1.7189\n",
            "Epoch: 687, Loss: 187474.8750, Train RMSE: 1.6733,Test RMSE: 1.7190\n",
            "Epoch: 688, Loss: 187471.4375, Train RMSE: 1.6732,Test RMSE: 1.7190\n",
            "Epoch: 689, Loss: 187467.9688, Train RMSE: 1.6731,Test RMSE: 1.7189\n",
            "Epoch: 690, Loss: 187464.5312, Train RMSE: 1.6731,Test RMSE: 1.7189\n",
            "Epoch: 691, Loss: 187461.1719, Train RMSE: 1.6732,Test RMSE: 1.7191\n",
            "Epoch: 692, Loss: 187457.7656, Train RMSE: 1.6732,Test RMSE: 1.7191\n",
            "Epoch: 693, Loss: 187454.3438, Train RMSE: 1.6729,Test RMSE: 1.7189\n",
            "Epoch: 694, Loss: 187450.9062, Train RMSE: 1.6729,Test RMSE: 1.7189\n",
            "Epoch: 695, Loss: 187447.5000, Train RMSE: 1.6730,Test RMSE: 1.7191\n",
            "Epoch: 696, Loss: 187444.1719, Train RMSE: 1.6728,Test RMSE: 1.7189\n",
            "Epoch: 697, Loss: 187440.7812, Train RMSE: 1.6729,Test RMSE: 1.7190\n",
            "Epoch: 698, Loss: 187437.3594, Train RMSE: 1.6729,Test RMSE: 1.7191\n",
            "Epoch: 699, Loss: 187433.9688, Train RMSE: 1.6727,Test RMSE: 1.7189\n",
            "Epoch: 700, Loss: 187430.6094, Train RMSE: 1.6729,Test RMSE: 1.7191\n",
            "Epoch: 701, Loss: 187427.1562, Train RMSE: 1.6728,Test RMSE: 1.7190\n",
            "Epoch: 702, Loss: 187423.7812, Train RMSE: 1.6724,Test RMSE: 1.7188\n",
            "Epoch: 703, Loss: 187420.6250, Train RMSE: 1.6729,Test RMSE: 1.7193\n",
            "Epoch: 704, Loss: 187417.0469, Train RMSE: 1.6729,Test RMSE: 1.7193\n",
            "Epoch: 705, Loss: 187413.7812, Train RMSE: 1.6722,Test RMSE: 1.7187\n",
            "Epoch: 706, Loss: 187410.3125, Train RMSE: 1.6723,Test RMSE: 1.7188\n",
            "Epoch: 707, Loss: 187406.9531, Train RMSE: 1.6729,Test RMSE: 1.7194\n",
            "Epoch: 708, Loss: 187403.6719, Train RMSE: 1.6726,Test RMSE: 1.7192\n",
            "Epoch: 709, Loss: 187400.1562, Train RMSE: 1.6721,Test RMSE: 1.7188\n",
            "Epoch: 710, Loss: 187396.8594, Train RMSE: 1.6723,Test RMSE: 1.7190\n",
            "Epoch: 711, Loss: 187393.4531, Train RMSE: 1.6724,Test RMSE: 1.7191\n",
            "Epoch: 712, Loss: 187390.1719, Train RMSE: 1.6724,Test RMSE: 1.7192\n",
            "Epoch: 713, Loss: 187386.8906, Train RMSE: 1.6723,Test RMSE: 1.7191\n",
            "Epoch: 714, Loss: 187383.5000, Train RMSE: 1.6722,Test RMSE: 1.7190\n",
            "Epoch: 715, Loss: 187380.1875, Train RMSE: 1.6721,Test RMSE: 1.7190\n",
            "Epoch: 716, Loss: 187377.0000, Train RMSE: 1.6721,Test RMSE: 1.7190\n",
            "Epoch: 717, Loss: 187373.6250, Train RMSE: 1.6722,Test RMSE: 1.7192\n",
            "Epoch: 718, Loss: 187370.3750, Train RMSE: 1.6722,Test RMSE: 1.7192\n",
            "Epoch: 719, Loss: 187367.1875, Train RMSE: 1.6719,Test RMSE: 1.7189\n",
            "Epoch: 720, Loss: 187363.9375, Train RMSE: 1.6720,Test RMSE: 1.7190\n",
            "Epoch: 721, Loss: 187360.6094, Train RMSE: 1.6723,Test RMSE: 1.7193\n",
            "Epoch: 722, Loss: 187357.4219, Train RMSE: 1.6718,Test RMSE: 1.7190\n",
            "Epoch: 723, Loss: 187354.1406, Train RMSE: 1.6717,Test RMSE: 1.7189\n",
            "Epoch: 724, Loss: 187350.8750, Train RMSE: 1.6720,Test RMSE: 1.7192\n",
            "Epoch: 725, Loss: 187347.5938, Train RMSE: 1.6719,Test RMSE: 1.7192\n",
            "Epoch: 726, Loss: 187344.4375, Train RMSE: 1.6719,Test RMSE: 1.7192\n",
            "Epoch: 727, Loss: 187341.1719, Train RMSE: 1.6718,Test RMSE: 1.7191\n",
            "Epoch: 728, Loss: 187337.9219, Train RMSE: 1.6716,Test RMSE: 1.7190\n",
            "Epoch: 729, Loss: 187334.6719, Train RMSE: 1.6717,Test RMSE: 1.7191\n",
            "Epoch: 730, Loss: 187331.4688, Train RMSE: 1.6717,Test RMSE: 1.7192\n",
            "Epoch: 731, Loss: 187328.2812, Train RMSE: 1.6717,Test RMSE: 1.7192\n",
            "Epoch: 732, Loss: 187325.0625, Train RMSE: 1.6716,Test RMSE: 1.7191\n",
            "Epoch: 733, Loss: 187321.8906, Train RMSE: 1.6716,Test RMSE: 1.7192\n",
            "Epoch: 734, Loss: 187318.7969, Train RMSE: 1.6715,Test RMSE: 1.7191\n",
            "Epoch: 735, Loss: 187315.5938, Train RMSE: 1.6715,Test RMSE: 1.7192\n",
            "Epoch: 736, Loss: 187312.4062, Train RMSE: 1.6716,Test RMSE: 1.7193\n",
            "Epoch: 737, Loss: 187309.2500, Train RMSE: 1.6713,Test RMSE: 1.7190\n",
            "Epoch: 738, Loss: 187306.0938, Train RMSE: 1.6712,Test RMSE: 1.7190\n",
            "Epoch: 739, Loss: 187303.0000, Train RMSE: 1.6716,Test RMSE: 1.7193\n",
            "Epoch: 740, Loss: 187299.8750, Train RMSE: 1.6714,Test RMSE: 1.7192\n",
            "Epoch: 741, Loss: 187296.6875, Train RMSE: 1.6712,Test RMSE: 1.7191\n",
            "Epoch: 742, Loss: 187293.6406, Train RMSE: 1.6714,Test RMSE: 1.7193\n",
            "Epoch: 743, Loss: 187290.6406, Train RMSE: 1.6711,Test RMSE: 1.7190\n",
            "Epoch: 744, Loss: 187287.3750, Train RMSE: 1.6710,Test RMSE: 1.7190\n",
            "Epoch: 745, Loss: 187284.4375, Train RMSE: 1.6714,Test RMSE: 1.7194\n",
            "Epoch: 746, Loss: 187281.4062, Train RMSE: 1.6712,Test RMSE: 1.7192\n",
            "Epoch: 747, Loss: 187278.1562, Train RMSE: 1.6709,Test RMSE: 1.7190\n",
            "Epoch: 748, Loss: 187275.1562, Train RMSE: 1.6712,Test RMSE: 1.7193\n",
            "Epoch: 749, Loss: 187272.1875, Train RMSE: 1.6709,Test RMSE: 1.7191\n",
            "Epoch: 750, Loss: 187269.0938, Train RMSE: 1.6708,Test RMSE: 1.7190\n",
            "Epoch: 751, Loss: 187266.1562, Train RMSE: 1.6713,Test RMSE: 1.7194\n",
            "Epoch: 752, Loss: 187263.1562, Train RMSE: 1.6710,Test RMSE: 1.7192\n",
            "Epoch: 753, Loss: 187260.0938, Train RMSE: 1.6705,Test RMSE: 1.7187\n",
            "Epoch: 754, Loss: 187257.1562, Train RMSE: 1.6709,Test RMSE: 1.7192\n",
            "Epoch: 755, Loss: 187254.0625, Train RMSE: 1.6710,Test RMSE: 1.7194\n",
            "Epoch: 756, Loss: 187251.1719, Train RMSE: 1.6708,Test RMSE: 1.7192\n",
            "Epoch: 757, Loss: 187248.1250, Train RMSE: 1.6705,Test RMSE: 1.7190\n",
            "Epoch: 758, Loss: 187245.1250, Train RMSE: 1.6707,Test RMSE: 1.7192\n",
            "Epoch: 759, Loss: 187242.2188, Train RMSE: 1.6708,Test RMSE: 1.7192\n",
            "Epoch: 760, Loss: 187239.1875, Train RMSE: 1.6707,Test RMSE: 1.7192\n",
            "Epoch: 761, Loss: 187236.2656, Train RMSE: 1.6705,Test RMSE: 1.7191\n",
            "Epoch: 762, Loss: 187233.3438, Train RMSE: 1.6707,Test RMSE: 1.7193\n",
            "Epoch: 763, Loss: 187230.5000, Train RMSE: 1.6705,Test RMSE: 1.7191\n",
            "Epoch: 764, Loss: 187227.5469, Train RMSE: 1.6705,Test RMSE: 1.7191\n",
            "Epoch: 765, Loss: 187224.5938, Train RMSE: 1.6705,Test RMSE: 1.7192\n",
            "Epoch: 766, Loss: 187221.7031, Train RMSE: 1.6705,Test RMSE: 1.7192\n",
            "Epoch: 767, Loss: 187218.8281, Train RMSE: 1.6705,Test RMSE: 1.7192\n",
            "Epoch: 768, Loss: 187216.0000, Train RMSE: 1.6703,Test RMSE: 1.7191\n",
            "Epoch: 769, Loss: 187213.0938, Train RMSE: 1.6703,Test RMSE: 1.7191\n",
            "Epoch: 770, Loss: 187210.2344, Train RMSE: 1.6705,Test RMSE: 1.7194\n",
            "Epoch: 771, Loss: 187207.4375, Train RMSE: 1.6703,Test RMSE: 1.7191\n",
            "Epoch: 772, Loss: 187204.5625, Train RMSE: 1.6702,Test RMSE: 1.7191\n",
            "Epoch: 773, Loss: 187201.7812, Train RMSE: 1.6703,Test RMSE: 1.7193\n",
            "Epoch: 774, Loss: 187198.9844, Train RMSE: 1.6701,Test RMSE: 1.7191\n",
            "Epoch: 775, Loss: 187196.1406, Train RMSE: 1.6703,Test RMSE: 1.7193\n",
            "Epoch: 776, Loss: 187193.2812, Train RMSE: 1.6702,Test RMSE: 1.7193\n",
            "Epoch: 777, Loss: 187190.5312, Train RMSE: 1.6700,Test RMSE: 1.7191\n",
            "Epoch: 778, Loss: 187187.7812, Train RMSE: 1.6700,Test RMSE: 1.7192\n",
            "Epoch: 779, Loss: 187185.0000, Train RMSE: 1.6702,Test RMSE: 1.7194\n",
            "Epoch: 780, Loss: 187182.2188, Train RMSE: 1.6700,Test RMSE: 1.7192\n",
            "Epoch: 781, Loss: 187179.4531, Train RMSE: 1.6699,Test RMSE: 1.7192\n",
            "Epoch: 782, Loss: 187176.6875, Train RMSE: 1.6702,Test RMSE: 1.7194\n",
            "Epoch: 783, Loss: 187174.1094, Train RMSE: 1.6696,Test RMSE: 1.7189\n",
            "Epoch: 784, Loss: 187171.3594, Train RMSE: 1.6700,Test RMSE: 1.7193\n",
            "Epoch: 785, Loss: 187168.5000, Train RMSE: 1.6701,Test RMSE: 1.7194\n",
            "Epoch: 786, Loss: 187165.7344, Train RMSE: 1.6697,Test RMSE: 1.7191\n",
            "Epoch: 787, Loss: 187163.0312, Train RMSE: 1.6698,Test RMSE: 1.7192\n",
            "Epoch: 788, Loss: 187160.3438, Train RMSE: 1.6698,Test RMSE: 1.7192\n",
            "Epoch: 789, Loss: 187157.6875, Train RMSE: 1.6696,Test RMSE: 1.7191\n",
            "Epoch: 790, Loss: 187155.0312, Train RMSE: 1.6699,Test RMSE: 1.7194\n",
            "Epoch: 791, Loss: 187152.2812, Train RMSE: 1.6698,Test RMSE: 1.7194\n",
            "Epoch: 792, Loss: 187149.7031, Train RMSE: 1.6694,Test RMSE: 1.7190\n",
            "Epoch: 793, Loss: 187147.0625, Train RMSE: 1.6697,Test RMSE: 1.7193\n",
            "Epoch: 794, Loss: 187144.4062, Train RMSE: 1.6697,Test RMSE: 1.7194\n",
            "Epoch: 795, Loss: 187141.7812, Train RMSE: 1.6694,Test RMSE: 1.7191\n",
            "Epoch: 796, Loss: 187139.2188, Train RMSE: 1.6698,Test RMSE: 1.7195\n",
            "Epoch: 797, Loss: 187136.6875, Train RMSE: 1.6696,Test RMSE: 1.7193\n",
            "Epoch: 798, Loss: 187133.9844, Train RMSE: 1.6692,Test RMSE: 1.7190\n",
            "Epoch: 799, Loss: 187131.5312, Train RMSE: 1.6698,Test RMSE: 1.7196\n",
            "Epoch: 800, Loss: 187128.8906, Train RMSE: 1.6694,Test RMSE: 1.7193\n",
            "Epoch: 801, Loss: 187126.2656, Train RMSE: 1.6693,Test RMSE: 1.7192\n",
            "Epoch: 802, Loss: 187123.7188, Train RMSE: 1.6696,Test RMSE: 1.7195\n",
            "Epoch: 803, Loss: 187121.2031, Train RMSE: 1.6692,Test RMSE: 1.7192\n",
            "Epoch: 804, Loss: 187118.5312, Train RMSE: 1.6691,Test RMSE: 1.7191\n",
            "Epoch: 805, Loss: 187115.9531, Train RMSE: 1.6696,Test RMSE: 1.7196\n",
            "Epoch: 806, Loss: 187113.4375, Train RMSE: 1.6694,Test RMSE: 1.7194\n",
            "Epoch: 807, Loss: 187110.7656, Train RMSE: 1.6690,Test RMSE: 1.7191\n",
            "Epoch: 808, Loss: 187108.2031, Train RMSE: 1.6693,Test RMSE: 1.7194\n",
            "Epoch: 809, Loss: 187105.7500, Train RMSE: 1.6691,Test RMSE: 1.7193\n",
            "Epoch: 810, Loss: 187103.1719, Train RMSE: 1.6691,Test RMSE: 1.7193\n",
            "Epoch: 811, Loss: 187100.7812, Train RMSE: 1.6694,Test RMSE: 1.7195\n",
            "Epoch: 812, Loss: 187098.2031, Train RMSE: 1.6691,Test RMSE: 1.7193\n",
            "Epoch: 813, Loss: 187095.6250, Train RMSE: 1.6687,Test RMSE: 1.7189\n",
            "Epoch: 814, Loss: 187093.2969, Train RMSE: 1.6694,Test RMSE: 1.7196\n",
            "Epoch: 815, Loss: 187090.6406, Train RMSE: 1.6692,Test RMSE: 1.7195\n",
            "Epoch: 816, Loss: 187088.0469, Train RMSE: 1.6688,Test RMSE: 1.7191\n",
            "Epoch: 817, Loss: 187085.6250, Train RMSE: 1.6691,Test RMSE: 1.7194\n",
            "Epoch: 818, Loss: 187083.3438, Train RMSE: 1.6688,Test RMSE: 1.7192\n",
            "Epoch: 819, Loss: 187080.7031, Train RMSE: 1.6687,Test RMSE: 1.7191\n",
            "Epoch: 820, Loss: 187078.3125, Train RMSE: 1.6693,Test RMSE: 1.7197\n",
            "Epoch: 821, Loss: 187075.8906, Train RMSE: 1.6690,Test RMSE: 1.7195\n",
            "Epoch: 822, Loss: 187073.3125, Train RMSE: 1.6684,Test RMSE: 1.7189\n",
            "Epoch: 823, Loss: 187070.9688, Train RMSE: 1.6689,Test RMSE: 1.7195\n",
            "Epoch: 824, Loss: 187068.6562, Train RMSE: 1.6688,Test RMSE: 1.7193\n",
            "Epoch: 825, Loss: 187066.0312, Train RMSE: 1.6686,Test RMSE: 1.7193\n",
            "Epoch: 826, Loss: 187063.7344, Train RMSE: 1.6690,Test RMSE: 1.7196\n",
            "Epoch: 827, Loss: 187061.3125, Train RMSE: 1.6686,Test RMSE: 1.7193\n",
            "Epoch: 828, Loss: 187058.8125, Train RMSE: 1.6684,Test RMSE: 1.7192\n",
            "Epoch: 829, Loss: 187056.5000, Train RMSE: 1.6688,Test RMSE: 1.7196\n",
            "Epoch: 830, Loss: 187054.0625, Train RMSE: 1.6686,Test RMSE: 1.7194\n",
            "Epoch: 831, Loss: 187051.6719, Train RMSE: 1.6686,Test RMSE: 1.7194\n",
            "Epoch: 832, Loss: 187049.1875, Train RMSE: 1.6684,Test RMSE: 1.7192\n",
            "Epoch: 833, Loss: 187046.7031, Train RMSE: 1.6686,Test RMSE: 1.7195\n",
            "Epoch: 834, Loss: 187044.2812, Train RMSE: 1.6685,Test RMSE: 1.7194\n",
            "Epoch: 835, Loss: 187041.7344, Train RMSE: 1.6685,Test RMSE: 1.7194\n",
            "Epoch: 836, Loss: 187039.2812, Train RMSE: 1.6684,Test RMSE: 1.7194\n",
            "Epoch: 837, Loss: 187036.8594, Train RMSE: 1.6684,Test RMSE: 1.7194\n",
            "Epoch: 838, Loss: 187034.4219, Train RMSE: 1.6685,Test RMSE: 1.7195\n",
            "Epoch: 839, Loss: 187032.0625, Train RMSE: 1.6683,Test RMSE: 1.7193\n",
            "Epoch: 840, Loss: 187029.6094, Train RMSE: 1.6684,Test RMSE: 1.7195\n",
            "Epoch: 841, Loss: 187027.3281, Train RMSE: 1.6681,Test RMSE: 1.7192\n",
            "Epoch: 842, Loss: 187024.9375, Train RMSE: 1.6684,Test RMSE: 1.7195\n",
            "Epoch: 843, Loss: 187022.4688, Train RMSE: 1.6685,Test RMSE: 1.7196\n",
            "Epoch: 844, Loss: 187020.1250, Train RMSE: 1.6680,Test RMSE: 1.7191\n",
            "Epoch: 845, Loss: 187017.8438, Train RMSE: 1.6682,Test RMSE: 1.7194\n",
            "Epoch: 846, Loss: 187015.4062, Train RMSE: 1.6683,Test RMSE: 1.7195\n",
            "Epoch: 847, Loss: 187013.0312, Train RMSE: 1.6682,Test RMSE: 1.7194\n",
            "Epoch: 848, Loss: 187010.6406, Train RMSE: 1.6681,Test RMSE: 1.7193\n",
            "Epoch: 849, Loss: 187008.3750, Train RMSE: 1.6681,Test RMSE: 1.7193\n",
            "Epoch: 850, Loss: 187006.0312, Train RMSE: 1.6681,Test RMSE: 1.7194\n",
            "Epoch: 851, Loss: 187003.7500, Train RMSE: 1.6683,Test RMSE: 1.7197\n",
            "Epoch: 852, Loss: 187001.4375, Train RMSE: 1.6678,Test RMSE: 1.7192\n",
            "Epoch: 853, Loss: 186999.0469, Train RMSE: 1.6680,Test RMSE: 1.7194\n",
            "Epoch: 854, Loss: 186996.7812, Train RMSE: 1.6680,Test RMSE: 1.7194\n",
            "Epoch: 855, Loss: 186994.4844, Train RMSE: 1.6679,Test RMSE: 1.7194\n",
            "Epoch: 856, Loss: 186992.2031, Train RMSE: 1.6681,Test RMSE: 1.7195\n",
            "Epoch: 857, Loss: 186989.9375, Train RMSE: 1.6680,Test RMSE: 1.7195\n",
            "Epoch: 858, Loss: 186987.7344, Train RMSE: 1.6676,Test RMSE: 1.7191\n",
            "Epoch: 859, Loss: 186985.5625, Train RMSE: 1.6681,Test RMSE: 1.7197\n",
            "Epoch: 860, Loss: 186983.2969, Train RMSE: 1.6678,Test RMSE: 1.7194\n",
            "Epoch: 861, Loss: 186981.0156, Train RMSE: 1.6677,Test RMSE: 1.7193\n",
            "Epoch: 862, Loss: 186978.8125, Train RMSE: 1.6680,Test RMSE: 1.7196\n",
            "Epoch: 863, Loss: 186976.6875, Train RMSE: 1.6675,Test RMSE: 1.7192\n",
            "Epoch: 864, Loss: 186974.5000, Train RMSE: 1.6678,Test RMSE: 1.7195\n",
            "Epoch: 865, Loss: 186972.2188, Train RMSE: 1.6679,Test RMSE: 1.7196\n",
            "Epoch: 866, Loss: 186970.0156, Train RMSE: 1.6675,Test RMSE: 1.7192\n",
            "Epoch: 867, Loss: 186967.8281, Train RMSE: 1.6676,Test RMSE: 1.7194\n",
            "Epoch: 868, Loss: 186965.6250, Train RMSE: 1.6677,Test RMSE: 1.7195\n",
            "Epoch: 869, Loss: 186963.4531, Train RMSE: 1.6675,Test RMSE: 1.7194\n",
            "Epoch: 870, Loss: 186961.3281, Train RMSE: 1.6677,Test RMSE: 1.7196\n",
            "Epoch: 871, Loss: 186959.1406, Train RMSE: 1.6675,Test RMSE: 1.7194\n",
            "Epoch: 872, Loss: 186957.0781, Train RMSE: 1.6676,Test RMSE: 1.7195\n",
            "Epoch: 873, Loss: 186954.8438, Train RMSE: 1.6675,Test RMSE: 1.7194\n",
            "Epoch: 874, Loss: 186952.6875, Train RMSE: 1.6675,Test RMSE: 1.7195\n",
            "Epoch: 875, Loss: 186950.6406, Train RMSE: 1.6674,Test RMSE: 1.7194\n",
            "Epoch: 876, Loss: 186948.5469, Train RMSE: 1.6676,Test RMSE: 1.7196\n",
            "Epoch: 877, Loss: 186946.3594, Train RMSE: 1.6674,Test RMSE: 1.7195\n",
            "Epoch: 878, Loss: 186944.2969, Train RMSE: 1.6673,Test RMSE: 1.7194\n",
            "Epoch: 879, Loss: 186942.1875, Train RMSE: 1.6675,Test RMSE: 1.7196\n",
            "Epoch: 880, Loss: 186940.0625, Train RMSE: 1.6674,Test RMSE: 1.7195\n",
            "Epoch: 881, Loss: 186938.0156, Train RMSE: 1.6673,Test RMSE: 1.7195\n",
            "Epoch: 882, Loss: 186935.8906, Train RMSE: 1.6673,Test RMSE: 1.7195\n",
            "Epoch: 883, Loss: 186933.8594, Train RMSE: 1.6671,Test RMSE: 1.7193\n",
            "Epoch: 884, Loss: 186931.7656, Train RMSE: 1.6673,Test RMSE: 1.7196\n",
            "Epoch: 885, Loss: 186929.6875, Train RMSE: 1.6674,Test RMSE: 1.7197\n",
            "Epoch: 886, Loss: 186927.6875, Train RMSE: 1.6672,Test RMSE: 1.7195\n",
            "Epoch: 887, Loss: 186925.5625, Train RMSE: 1.6671,Test RMSE: 1.7195\n",
            "Epoch: 888, Loss: 186923.5781, Train RMSE: 1.6670,Test RMSE: 1.7193\n",
            "Epoch: 889, Loss: 186921.6562, Train RMSE: 1.6675,Test RMSE: 1.7198\n",
            "Epoch: 890, Loss: 186919.6719, Train RMSE: 1.6671,Test RMSE: 1.7195\n",
            "Epoch: 891, Loss: 186917.5312, Train RMSE: 1.6671,Test RMSE: 1.7195\n",
            "Epoch: 892, Loss: 186915.4844, Train RMSE: 1.6671,Test RMSE: 1.7195\n",
            "Epoch: 893, Loss: 186913.5469, Train RMSE: 1.6670,Test RMSE: 1.7195\n",
            "Epoch: 894, Loss: 186911.5156, Train RMSE: 1.6671,Test RMSE: 1.7196\n",
            "Epoch: 895, Loss: 186909.5000, Train RMSE: 1.6670,Test RMSE: 1.7195\n",
            "Epoch: 896, Loss: 186907.5000, Train RMSE: 1.6668,Test RMSE: 1.7193\n",
            "Epoch: 897, Loss: 186905.5469, Train RMSE: 1.6673,Test RMSE: 1.7198\n",
            "Epoch: 898, Loss: 186903.6094, Train RMSE: 1.6669,Test RMSE: 1.7195\n",
            "Epoch: 899, Loss: 186901.6094, Train RMSE: 1.6670,Test RMSE: 1.7196\n",
            "Epoch: 900, Loss: 186899.5625, Train RMSE: 1.6668,Test RMSE: 1.7195\n",
            "Epoch: 901, Loss: 186897.5625, Train RMSE: 1.6667,Test RMSE: 1.7194\n",
            "Epoch: 902, Loss: 186895.7656, Train RMSE: 1.6673,Test RMSE: 1.7199\n",
            "Epoch: 903, Loss: 186893.9531, Train RMSE: 1.6666,Test RMSE: 1.7193\n",
            "Epoch: 904, Loss: 186891.8750, Train RMSE: 1.6667,Test RMSE: 1.7195\n",
            "Epoch: 905, Loss: 186890.0312, Train RMSE: 1.6669,Test RMSE: 1.7197\n",
            "Epoch: 906, Loss: 186887.9688, Train RMSE: 1.6667,Test RMSE: 1.7195\n",
            "Epoch: 907, Loss: 186886.1094, Train RMSE: 1.6670,Test RMSE: 1.7198\n",
            "Epoch: 908, Loss: 186884.0469, Train RMSE: 1.6667,Test RMSE: 1.7196\n",
            "Epoch: 909, Loss: 186882.3594, Train RMSE: 1.6663,Test RMSE: 1.7192\n",
            "Epoch: 910, Loss: 186880.3438, Train RMSE: 1.6669,Test RMSE: 1.7198\n",
            "Epoch: 911, Loss: 186878.4062, Train RMSE: 1.6667,Test RMSE: 1.7196\n",
            "Epoch: 912, Loss: 186876.5000, Train RMSE: 1.6667,Test RMSE: 1.7197\n",
            "Epoch: 913, Loss: 186874.5938, Train RMSE: 1.6665,Test RMSE: 1.7195\n",
            "Epoch: 914, Loss: 186872.6719, Train RMSE: 1.6663,Test RMSE: 1.7194\n",
            "Epoch: 915, Loss: 186870.8906, Train RMSE: 1.6670,Test RMSE: 1.7200\n",
            "Epoch: 916, Loss: 186869.0938, Train RMSE: 1.6665,Test RMSE: 1.7196\n",
            "Epoch: 917, Loss: 186866.9688, Train RMSE: 1.6663,Test RMSE: 1.7194\n",
            "Epoch: 918, Loss: 186865.1562, Train RMSE: 1.6667,Test RMSE: 1.7198\n",
            "Epoch: 919, Loss: 186863.4688, Train RMSE: 1.6662,Test RMSE: 1.7194\n",
            "Epoch: 920, Loss: 186861.6406, Train RMSE: 1.6668,Test RMSE: 1.7200\n",
            "Epoch: 921, Loss: 186859.7812, Train RMSE: 1.6665,Test RMSE: 1.7197\n",
            "Epoch: 922, Loss: 186857.7812, Train RMSE: 1.6662,Test RMSE: 1.7195\n",
            "Epoch: 923, Loss: 186855.9844, Train RMSE: 1.6667,Test RMSE: 1.7199\n",
            "Epoch: 924, Loss: 186854.2969, Train RMSE: 1.6662,Test RMSE: 1.7195\n",
            "Epoch: 925, Loss: 186852.4531, Train RMSE: 1.6664,Test RMSE: 1.7197\n",
            "Epoch: 926, Loss: 186850.5000, Train RMSE: 1.6665,Test RMSE: 1.7198\n",
            "Epoch: 927, Loss: 186848.7812, Train RMSE: 1.6661,Test RMSE: 1.7194\n",
            "Epoch: 928, Loss: 186847.0312, Train RMSE: 1.6665,Test RMSE: 1.7199\n",
            "Epoch: 929, Loss: 186845.2188, Train RMSE: 1.6663,Test RMSE: 1.7197\n",
            "Epoch: 930, Loss: 186843.3125, Train RMSE: 1.6662,Test RMSE: 1.7196\n",
            "Epoch: 931, Loss: 186841.5625, Train RMSE: 1.6665,Test RMSE: 1.7199\n",
            "Epoch: 932, Loss: 186839.9062, Train RMSE: 1.6659,Test RMSE: 1.7194\n",
            "Epoch: 933, Loss: 186838.1250, Train RMSE: 1.6664,Test RMSE: 1.7199\n",
            "Epoch: 934, Loss: 186836.2500, Train RMSE: 1.6663,Test RMSE: 1.7198\n",
            "Epoch: 935, Loss: 186834.4688, Train RMSE: 1.6661,Test RMSE: 1.7196\n",
            "Epoch: 936, Loss: 186832.7500, Train RMSE: 1.6662,Test RMSE: 1.7198\n",
            "Epoch: 937, Loss: 186830.9688, Train RMSE: 1.6661,Test RMSE: 1.7197\n",
            "Epoch: 938, Loss: 186829.3125, Train RMSE: 1.6664,Test RMSE: 1.7200\n",
            "Epoch: 939, Loss: 186827.5938, Train RMSE: 1.6658,Test RMSE: 1.7194\n",
            "Epoch: 940, Loss: 186825.8281, Train RMSE: 1.6661,Test RMSE: 1.7198\n",
            "Epoch: 941, Loss: 186824.0000, Train RMSE: 1.6662,Test RMSE: 1.7199\n",
            "Epoch: 942, Loss: 186822.3125, Train RMSE: 1.6659,Test RMSE: 1.7196\n",
            "Epoch: 943, Loss: 186820.6719, Train RMSE: 1.6663,Test RMSE: 1.7200\n",
            "Epoch: 944, Loss: 186818.9062, Train RMSE: 1.6659,Test RMSE: 1.7197\n",
            "Epoch: 945, Loss: 186817.1875, Train RMSE: 1.6657,Test RMSE: 1.7195\n",
            "Epoch: 946, Loss: 186815.5000, Train RMSE: 1.6662,Test RMSE: 1.7200\n",
            "Epoch: 947, Loss: 186813.8594, Train RMSE: 1.6657,Test RMSE: 1.7196\n",
            "Epoch: 948, Loss: 186812.2344, Train RMSE: 1.6661,Test RMSE: 1.7199\n",
            "Epoch: 949, Loss: 186810.4531, Train RMSE: 1.6660,Test RMSE: 1.7199\n",
            "Epoch: 950, Loss: 186808.7500, Train RMSE: 1.6655,Test RMSE: 1.7195\n",
            "Epoch: 951, Loss: 186807.1250, Train RMSE: 1.6661,Test RMSE: 1.7200\n",
            "Epoch: 952, Loss: 186805.4531, Train RMSE: 1.6658,Test RMSE: 1.7197\n",
            "Epoch: 953, Loss: 186803.7500, Train RMSE: 1.6659,Test RMSE: 1.7199\n",
            "Epoch: 954, Loss: 186802.0156, Train RMSE: 1.6660,Test RMSE: 1.7200\n",
            "Epoch: 955, Loss: 186800.3906, Train RMSE: 1.6654,Test RMSE: 1.7194\n",
            "Epoch: 956, Loss: 186798.7188, Train RMSE: 1.6657,Test RMSE: 1.7198\n",
            "Epoch: 957, Loss: 186796.9531, Train RMSE: 1.6662,Test RMSE: 1.7202\n",
            "Epoch: 958, Loss: 186795.6094, Train RMSE: 1.6654,Test RMSE: 1.7195\n",
            "Epoch: 959, Loss: 186793.9219, Train RMSE: 1.6659,Test RMSE: 1.7200\n",
            "Epoch: 960, Loss: 186792.1875, Train RMSE: 1.6657,Test RMSE: 1.7198\n",
            "Epoch: 961, Loss: 186790.4688, Train RMSE: 1.6654,Test RMSE: 1.7196\n",
            "Epoch: 962, Loss: 186788.9062, Train RMSE: 1.6662,Test RMSE: 1.7203\n",
            "Epoch: 963, Loss: 186787.4688, Train RMSE: 1.6653,Test RMSE: 1.7195\n",
            "Epoch: 964, Loss: 186785.7500, Train RMSE: 1.6657,Test RMSE: 1.7199\n",
            "Epoch: 965, Loss: 186784.0156, Train RMSE: 1.6657,Test RMSE: 1.7199\n",
            "Epoch: 966, Loss: 186782.3750, Train RMSE: 1.6654,Test RMSE: 1.7196\n",
            "Epoch: 967, Loss: 186780.8281, Train RMSE: 1.6658,Test RMSE: 1.7201\n",
            "Epoch: 968, Loss: 186779.1406, Train RMSE: 1.6656,Test RMSE: 1.7199\n",
            "Epoch: 969, Loss: 186777.5000, Train RMSE: 1.6653,Test RMSE: 1.7196\n",
            "Epoch: 970, Loss: 186776.0156, Train RMSE: 1.6656,Test RMSE: 1.7200\n",
            "Epoch: 971, Loss: 186774.2812, Train RMSE: 1.6655,Test RMSE: 1.7199\n",
            "Epoch: 972, Loss: 186772.7500, Train RMSE: 1.6655,Test RMSE: 1.7199\n",
            "Epoch: 973, Loss: 186771.1719, Train RMSE: 1.6656,Test RMSE: 1.7200\n",
            "Epoch: 974, Loss: 186769.5938, Train RMSE: 1.6652,Test RMSE: 1.7196\n",
            "Epoch: 975, Loss: 186768.0625, Train RMSE: 1.6656,Test RMSE: 1.7200\n",
            "Epoch: 976, Loss: 186766.3906, Train RMSE: 1.6655,Test RMSE: 1.7200\n",
            "Epoch: 977, Loss: 186764.8750, Train RMSE: 1.6654,Test RMSE: 1.7199\n",
            "Epoch: 978, Loss: 186763.2188, Train RMSE: 1.6654,Test RMSE: 1.7199\n",
            "Epoch: 979, Loss: 186761.5781, Train RMSE: 1.6653,Test RMSE: 1.7198\n",
            "Epoch: 980, Loss: 186760.0625, Train RMSE: 1.6654,Test RMSE: 1.7200\n",
            "Epoch: 981, Loss: 186758.4688, Train RMSE: 1.6653,Test RMSE: 1.7198\n",
            "Epoch: 982, Loss: 186756.9375, Train RMSE: 1.6655,Test RMSE: 1.7201\n",
            "Epoch: 983, Loss: 186755.3594, Train RMSE: 1.6652,Test RMSE: 1.7198\n",
            "Epoch: 984, Loss: 186753.7188, Train RMSE: 1.6651,Test RMSE: 1.7198\n",
            "Epoch: 985, Loss: 186752.1875, Train RMSE: 1.6654,Test RMSE: 1.7201\n",
            "Epoch: 986, Loss: 186750.6875, Train RMSE: 1.6652,Test RMSE: 1.7199\n",
            "Epoch: 987, Loss: 186749.1250, Train RMSE: 1.6653,Test RMSE: 1.7200\n",
            "Epoch: 988, Loss: 186747.5938, Train RMSE: 1.6649,Test RMSE: 1.7197\n",
            "Epoch: 989, Loss: 186746.0938, Train RMSE: 1.6654,Test RMSE: 1.7201\n",
            "Epoch: 990, Loss: 186744.5312, Train RMSE: 1.6652,Test RMSE: 1.7199\n",
            "Epoch: 991, Loss: 186742.9375, Train RMSE: 1.6651,Test RMSE: 1.7199\n",
            "Epoch: 992, Loss: 186741.4688, Train RMSE: 1.6651,Test RMSE: 1.7199\n",
            "Epoch: 993, Loss: 186739.9375, Train RMSE: 1.6652,Test RMSE: 1.7200\n",
            "Epoch: 994, Loss: 186738.4375, Train RMSE: 1.6650,Test RMSE: 1.7199\n",
            "Epoch: 995, Loss: 186736.9062, Train RMSE: 1.6653,Test RMSE: 1.7201\n",
            "Epoch: 996, Loss: 186735.4531, Train RMSE: 1.6648,Test RMSE: 1.7197\n",
            "Epoch: 997, Loss: 186733.9531, Train RMSE: 1.6652,Test RMSE: 1.7201\n",
            "Epoch: 998, Loss: 186732.3906, Train RMSE: 1.6652,Test RMSE: 1.7201\n",
            "Epoch: 999, Loss: 186730.8594, Train RMSE: 1.6645,Test RMSE: 1.7195\n"
          ]
        }
      ]
    },
    {
      "cell_type": "code",
      "source": [
        "# Plot the loss function\n",
        "fig, ax = plt.subplots()\n",
        "ax.plot(list(range(0,len(sage_loss_time_series))), sage_loss_time_series)\n",
        "ax.set(xlabel='epoch', ylabel='loss',title='Loss per epoch')\n",
        "ax.grid()\n",
        "plt.show()"
      ],
      "metadata": {
        "id": "uNeGsMVHNLVU",
        "colab": {
          "base_uri": "https://localhost:8080/",
          "height": 295
        },
        "outputId": "e1feb2ba-c90d-48ac-f3b1-4e059ae16bb8"
      },
      "execution_count": null,
      "outputs": [
        {
          "output_type": "display_data",
          "data": {
            "text/plain": [
              "<Figure size 432x288 with 1 Axes>"
            ],
            "image/png": "[encoded data removed]"
          },
          "metadata": {
            "needs_background": "light"
          }
        }
      ]
    },
    {
      "cell_type": "code",
      "source": [
        "# Plot the train root mean square error\n",
        "fig, ax = plt.subplots()\n",
        "ax.plot(list(range(0,len(sage_train_rmse_time_series))), sage_train_rmse_time_series)\n",
        "\n",
        "ax.set(xlabel='epoch', ylabel='rmse',\n",
        "       title='Train rmse per epoch')\n",
        "ax.grid()\n",
        "\n",
        "\n",
        "plt.show()"
      ],
      "metadata": {
        "id": "yjv3GU8eNLVV",
        "colab": {
          "base_uri": "https://localhost:8080/",
          "height": 295
        },
        "outputId": "dc109fd7-e577-4db3-eabd-53499379c5d0"
      },
      "execution_count": null,
      "outputs": [
        {
          "output_type": "display_data",
          "data": {
            "text/plain": [
              "<Figure size 432x288 with 1 Axes>"
            ],
            "image/png": "[encoded data removed]"
          },
          "metadata": {
            "needs_background": "light"
          }
        }
      ]
    },
    {
      "cell_type": "code",
      "source": [
        "# Plot the test root mean square error\n",
        "fig, ax = plt.subplots()\n",
        "ax.plot(list(range(0,len(sage_test_rmse_time_series))), sage_test_rmse_time_series)\n",
        "\n",
        "ax.set(xlabel='epoch', ylabel='rmse',\n",
        "       title='Test rms vs epochs')\n",
        "ax.grid()\n",
        "\n",
        "\n",
        "plt.show()"
      ],
      "metadata": {
        "id": "df1qW_N2NLVV",
        "colab": {
          "base_uri": "https://localhost:8080/",
          "height": 295
        },
        "outputId": "1ede4721-df92-486c-a509-9de9cc973b22"
      },
      "execution_count": null,
      "outputs": [
        {
          "output_type": "display_data",
          "data": {
            "text/plain": [
              "<Figure size 432x288 with 1 Axes>"
            ],
            "image/png": "[encoded data removed]"
          },
          "metadata": {
            "needs_background": "light"
          }
        }
      ]
    },
    {
      "cell_type": "code",
      "source": [
        "print(f'After {epoch+1:03d}, for the GNN with GraphSAGE layer the final loss is: {loss:.4f}, the final train RMSE is: {train_rmse:.4f}, the final test RMSE is: {test_rmse:.4f} ')"
      ],
      "metadata": {
        "id": "1e0s-6wMNdbT",
        "colab": {
          "base_uri": "https://localhost:8080/"
        },
        "outputId": "d0b251b0-1ea5-4603-8428-a3f6d609cc55"
      },
      "execution_count": null,
      "outputs": [
        {
          "output_type": "stream",
          "name": "stdout",
          "text": [
            "After 1000, for the GNN with GraphSAGE layer the final loss is: 186730.8594, the final train RMSE is: 1.6645, the final test RMSE is: 1.7195 \n"
          ]
        }
      ]
    },
    {
      "cell_type": "markdown",
      "source": [
        "##### Analyzing the model's results"
      ],
      "metadata": {
        "id": "vRVY2M7zNd8H"
      }
    },
    {
      "cell_type": "code",
      "source": [
        "# estimate the test rating values\n",
        "\n",
        "model.eval()\n",
        "pred,_,_ = model(test_data.x_dict, test_data.edge_index_dict,\n",
        "                 test_data['user', 'movie'].edge_label_index)\n",
        "pred = pred.clamp(1,10)"
      ],
      "metadata": {
        "id": "sViFnTopNd8I"
      },
      "execution_count": null,
      "outputs": []
    },
    {
      "cell_type": "code",
      "source": [
        "# create a dictionary with key:userId and values: estimate rating and true rating\n",
        "\n",
        "predicted_rating={}\n",
        "\n",
        "for i , j, k  in zip(test_data['user', 'rates', 'movie'].edge_label_index[0],test_data['user', 'rates', 'movie'].edge_label,pred): # per nome film test_data['user', 'rates', 'movie'].edge_index[1]\n",
        "  userid= int(i) # userId\n",
        "  j=float(j) #rating true\n",
        "  k=int(round(float(k),0))# predicted rating \n",
        "  #userid=list(user_mapping.keys())[list(user_mapping.values()).index(i)]\n",
        "  if userid in predicted_rating.keys():\n",
        "    predicted_rating[userid].append([k,j])\n",
        "  else:\n",
        "    predicted_rating[userid]=[[k,j]]"
      ],
      "metadata": {
        "id": "mIpPLqK1Nd8I"
      },
      "execution_count": null,
      "outputs": []
    },
    {
      "cell_type": "code",
      "source": [
        "#user 0 prediction vs actual rating\n",
        "histo_test=[]\n",
        "histo2_test=[]\n",
        "for i in predicted_rating[0]:  \n",
        "  histo_test.append(i[0])\n",
        "  histo2_test.append(i[1])\n",
        "\n",
        "count_test_pred=Counter(histo_test)\n",
        "count_test_true=Counter(histo2_test)\n",
        "\n",
        "keys_test_pred = count_test_pred.keys()\n",
        "values_test_pred = count_test_pred.values()\n",
        "\n",
        "keys_test_true = count_test_true.keys()\n",
        "values_test_true = count_test_true.values()\n",
        "\n",
        "plt.bar(keys_test_pred, values_test_pred,label='pred')\n",
        "plt.bar(keys_test_true, values_test_true,alpha=0.5,label='true')\n",
        "plt.legend(loc='upper right')\n"
      ],
      "metadata": {
        "id": "Qpxfw-4jNd8I",
        "colab": {
          "base_uri": "https://localhost:8080/",
          "height": 282
        },
        "outputId": "54c7d006-56b2-4b24-be54-3dc57eeab237"
      },
      "execution_count": null,
      "outputs": [
        {
          "output_type": "execute_result",
          "data": {
            "text/plain": [
              "<matplotlib.legend.Legend at 0x7f2ad1ffa6d0>"
            ]
          },
          "metadata": {},
          "execution_count": 28
        },
        {
          "output_type": "display_data",
          "data": {
            "text/plain": [
              "<Figure size 432x288 with 1 Axes>"
            ],
            "image/png": "[encoded data removed]"
          },
          "metadata": {
            "needs_background": "light"
          }
        }
      ]
    },
    {
      "cell_type": "code",
      "source": [
        "# find the goodness of the predictions\n",
        "count=[]\n",
        "count_value=0\n",
        "true_val= []\n",
        "pred_val= []\n",
        "for key, value in predicted_rating.items():\n",
        "  count_value=0\n",
        "  lenn=len(value)\n",
        "  for i in value:\n",
        "    if lenn >= 1:\n",
        "      pred_val.append(i[0])\n",
        "      true_val.append(i[1])"
      ],
      "metadata": {
        "id": "MdNJ9_83Nd8J"
      },
      "execution_count": null,
      "outputs": []
    },
    {
      "cell_type": "code",
      "source": [
        "# display the predictions vs true values for a visualization of the goodness of the model\n",
        "confusion_matrix = metrics.confusion_matrix(true_val, pred_val)\n",
        "cm_display = metrics.ConfusionMatrixDisplay(confusion_matrix = confusion_matrix, display_labels = [1,2,3,4,5,6,7,8,9,10]) \n",
        "cm_display.plot()\n",
        "plt.show()"
      ],
      "metadata": {
        "id": "obDxje2NNd8J",
        "colab": {
          "base_uri": "https://localhost:8080/",
          "height": 281
        },
        "outputId": "5af4386f-0072-4c9c-84be-8f09ae8cad87"
      },
      "execution_count": null,
      "outputs": [
        {
          "output_type": "display_data",
          "data": {
            "text/plain": [
              "<Figure size 432x288 with 2 Axes>"
            ],
            "image/png": "[encoded data removed]"
          },
          "metadata": {
            "needs_background": "light"
          }
        }
      ]
    },
    {
      "cell_type": "markdown",
      "source": [
        "##### Recommendation"
      ],
      "metadata": {
        "id": "g64YllHINd8J"
      }
    },
    {
      "cell_type": "code",
      "source": [
        "# find the coordinates of the non rated movies by users\n",
        "interaction_matrix = pd.pivot_table( data=ratings,index=['userId'], columns=['movieId'],values= 'rating' ) \n",
        "coordinate_blank=np.argwhere(np.isnan(interaction_matrix.to_numpy()))\n",
        "coordinate_blank=np.transpose(coordinate_blank)"
      ],
      "metadata": {
        "id": "R1eIilD8Nd8K"
      },
      "execution_count": null,
      "outputs": []
    },
    {
      "cell_type": "code",
      "source": [
        "%%capture\n",
        "# create the graph of the non connected edges\n",
        "fill_data = HeteroData()\n",
        "\n",
        "fill_data['movie'].num_nodes = len(movie_mapping)\n",
        "fill_data['user'].num_nodes = len(user_mapping)\n",
        "\n",
        "\n",
        "fill_data['movie'].x = torch.cat([emb, genres], dim=-1)\n",
        "fill_data['user'].x = torch.eye(fill_data['user'].num_nodes)\n",
        "\n",
        "\n",
        "src = coordinate_blank[0]\n",
        "dst = coordinate_blank[1]\n",
        "\n",
        "edge=[]\n",
        "for i in list(range(0,len(src))):\n",
        "  edge.append( [src[i],dst[i]])\n",
        "\n",
        "edge_index= torch.tensor(edge)\n",
        "edge_index=edge_index.t().contiguous()\n",
        "\n",
        "fill_data['user', 'rates', 'movie'].edge_index = edge_index\n",
        "rating = torch.zeros(len(coordinate_blank[0])).to(torch.long)\n",
        "\n",
        "fill_data['user', 'rates', 'movie'].edge_label = rating\n",
        "\n",
        "fill_data = T.ToUndirected()(fill_data)\n",
        "del fill_data['movie', 'rev_rates', 'user'].edge_label  # Remove \"reverse\" label.\n",
        "\n",
        "fill_data, fill_val_data, fill_test_data = T.RandomLinkSplit(\n",
        "    num_val=0.0,\n",
        "    num_test=0.0,\n",
        "    neg_sampling_ratio=0.0,\n",
        "    edge_types=[('user', 'rates', 'movie')],\n",
        "    rev_edge_types=[('movie', 'rev_rates', 'user')],\n",
        ")(fill_data)"
      ],
      "metadata": {
        "id": "HdagwiwPNd8K"
      },
      "execution_count": null,
      "outputs": []
    },
    {
      "cell_type": "code",
      "source": [
        "# function to find the estimate of the rating\n",
        "def fill_blank_space(data):\n",
        "    model.eval()\n",
        "    pred = model(data.x_dict, data.edge_index_dict,data['user', 'movie'].edge_label_index)\n",
        "    return pred"
      ],
      "metadata": {
        "id": "sV6WEyPKNd8K"
      },
      "execution_count": null,
      "outputs": []
    },
    {
      "cell_type": "code",
      "source": [
        "fill_data['user', 'rates', 'movie'].edge_label,_,_ = fill_blank_space(fill_data)"
      ],
      "metadata": {
        "id": "LQpWRF7INd8K"
      },
      "execution_count": null,
      "outputs": []
    },
    {
      "cell_type": "code",
      "source": [
        "predicted_rating ={}"
      ],
      "metadata": {
        "id": "mtD2WUDmNd8K"
      },
      "execution_count": null,
      "outputs": []
    },
    {
      "cell_type": "code",
      "source": [
        "# create a dictionary with key:userId and values: estimate rating and movieId\n",
        "\n",
        "for i , j, k  in zip(fill_data['user', 'rates', 'movie'].edge_label_index[0],fill_data['user', 'rates', 'movie'].edge_label_index[1],fill_data['user', 'rates', 'movie'].edge_label):\n",
        "  userid= int(i)  # userId\n",
        "  movieid=int(j)\n",
        "  movieid= movies.title[movies['movieId']==movieid].values[0] #movieId\n",
        "  k=round(float(k),2)# predicted rating\n",
        "  if userid in predicted_rating.keys():\n",
        "    predicted_rating[userid].append([k,movieid])\n",
        "  else:\n",
        "    predicted_rating[userid]=[[k,movieid]]\n"
      ],
      "metadata": {
        "id": "ru9CE2FONd8K"
      },
      "execution_count": null,
      "outputs": []
    },
    {
      "cell_type": "code",
      "source": [
        "# sorting the estimate rating for the recommendation\n",
        "for key, value in predicted_rating.items():\n",
        "  predicted_rating[key]= sorted(predicted_rating[key], key=itemgetter(0),reverse=True)"
      ],
      "metadata": {
        "id": "gJKScWYxNd8L"
      },
      "execution_count": null,
      "outputs": []
    },
    {
      "cell_type": "code",
      "source": [
        "# function to find the movies to recommend to the user\n",
        "'''\n",
        "The function parameters are: userid -> is the user Id \n",
        "                             num_movie -> number of movies to recommend\n",
        "'''\n",
        "\n",
        "def rand_matrix_fact_recsys(userid,num_movie):\n",
        "  return predicted_rating[userid][0:num_movie]"
      ],
      "metadata": {
        "id": "jMk58u8uNd8L"
      },
      "execution_count": null,
      "outputs": []
    },
    {
      "cell_type": "code",
      "source": [
        "rand_matrix_fact_recsys(0,10)"
      ],
      "metadata": {
        "id": "AVAEAMoqNd8L",
        "colab": {
          "base_uri": "https://localhost:8080/"
        },
        "outputId": "4a9bf73f-171b-47f2-dd65-ddd2605151e5"
      },
      "execution_count": null,
      "outputs": [
        {
          "output_type": "execute_result",
          "data": {
            "text/plain": [
              "[[9.77, 'Doctor Zhivago (1965)'],\n",
              " [9.66, 'Some Like It Hot (1959)'],\n",
              " [9.62, 'Roman Holiday (1953)'],\n",
              " [9.61, 'To Catch a Thief (1955)'],\n",
              " [9.6, 'Indian in the Cupboard, The (1995)'],\n",
              " [9.59, 'Seven Samurai (Shichinin no samurai) (1954)'],\n",
              " [9.58, 'On the Waterfront (1954)'],\n",
              " [9.57, 'Mary Poppins (1964)'],\n",
              " [9.56, 'Apartment, The (1960)'],\n",
              " [9.53, 'For a Few Dollars More (Per qualche dollaro in più) (1965)']]"
            ]
          },
          "metadata": {},
          "execution_count": 40
        }
      ]
    }
  ]
}